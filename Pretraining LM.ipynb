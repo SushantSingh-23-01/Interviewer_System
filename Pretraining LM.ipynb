{
  "nbformat": 4,
  "nbformat_minor": 0,
  "metadata": {
    "colab": {
      "provenance": [],
      "gpuType": "T4",
      "toc_visible": true
    },
    "kernelspec": {
      "name": "python3",
      "display_name": "Python 3"
    },
    "language_info": {
      "name": "python"
    },
    "accelerator": "GPU",
    "widgets": {
      "application/vnd.jupyter.widget-state+json": {
        "9709cb601d5549f2972bac0231e16b47": {
          "model_module": "@jupyter-widgets/controls",
          "model_name": "HBoxModel",
          "model_module_version": "1.5.0",
          "state": {
            "_dom_classes": [],
            "_model_module": "@jupyter-widgets/controls",
            "_model_module_version": "1.5.0",
            "_model_name": "HBoxModel",
            "_view_count": null,
            "_view_module": "@jupyter-widgets/controls",
            "_view_module_version": "1.5.0",
            "_view_name": "HBoxView",
            "box_style": "",
            "children": [
              "IPY_MODEL_896ddcfc9f664771bbc9f06664b289ca",
              "IPY_MODEL_2432d8b3dc3a4bc5b3baf8c9bc236359",
              "IPY_MODEL_8d7a13f8562641f8b5bd55f58d980aa8"
            ],
            "layout": "IPY_MODEL_18681d6f1be242d3a7c125a1327867ad"
          }
        },
        "896ddcfc9f664771bbc9f06664b289ca": {
          "model_module": "@jupyter-widgets/controls",
          "model_name": "HTMLModel",
          "model_module_version": "1.5.0",
          "state": {
            "_dom_classes": [],
            "_model_module": "@jupyter-widgets/controls",
            "_model_module_version": "1.5.0",
            "_model_name": "HTMLModel",
            "_view_count": null,
            "_view_module": "@jupyter-widgets/controls",
            "_view_module_version": "1.5.0",
            "_view_name": "HTMLView",
            "description": "",
            "description_tooltip": null,
            "layout": "IPY_MODEL_875a551eb3c3464abf885b6186f6d4d4",
            "placeholder": "​",
            "style": "IPY_MODEL_2037ae8550af479eba1428b421940215",
            "value": "Downloading readme: 100%"
          }
        },
        "2432d8b3dc3a4bc5b3baf8c9bc236359": {
          "model_module": "@jupyter-widgets/controls",
          "model_name": "FloatProgressModel",
          "model_module_version": "1.5.0",
          "state": {
            "_dom_classes": [],
            "_model_module": "@jupyter-widgets/controls",
            "_model_module_version": "1.5.0",
            "_model_name": "FloatProgressModel",
            "_view_count": null,
            "_view_module": "@jupyter-widgets/controls",
            "_view_module_version": "1.5.0",
            "_view_name": "ProgressView",
            "bar_style": "success",
            "description": "",
            "description_tooltip": null,
            "layout": "IPY_MODEL_e7922b20edf349f8b166540191478abf",
            "max": 17005,
            "min": 0,
            "orientation": "horizontal",
            "style": "IPY_MODEL_765da6cab9fb40d19f6f9df7cecc65fb",
            "value": 17005
          }
        },
        "8d7a13f8562641f8b5bd55f58d980aa8": {
          "model_module": "@jupyter-widgets/controls",
          "model_name": "HTMLModel",
          "model_module_version": "1.5.0",
          "state": {
            "_dom_classes": [],
            "_model_module": "@jupyter-widgets/controls",
            "_model_module_version": "1.5.0",
            "_model_name": "HTMLModel",
            "_view_count": null,
            "_view_module": "@jupyter-widgets/controls",
            "_view_module_version": "1.5.0",
            "_view_name": "HTMLView",
            "description": "",
            "description_tooltip": null,
            "layout": "IPY_MODEL_951de2d4136a4fbca28b1a500a3b251e",
            "placeholder": "​",
            "style": "IPY_MODEL_1dceb02dc2124176ab64498a5a53c770",
            "value": " 17.0k/17.0k [00:00&lt;00:00, 979kB/s]"
          }
        },
        "18681d6f1be242d3a7c125a1327867ad": {
          "model_module": "@jupyter-widgets/base",
          "model_name": "LayoutModel",
          "model_module_version": "1.2.0",
          "state": {
            "_model_module": "@jupyter-widgets/base",
            "_model_module_version": "1.2.0",
            "_model_name": "LayoutModel",
            "_view_count": null,
            "_view_module": "@jupyter-widgets/base",
            "_view_module_version": "1.2.0",
            "_view_name": "LayoutView",
            "align_content": null,
            "align_items": null,
            "align_self": null,
            "border": null,
            "bottom": null,
            "display": null,
            "flex": null,
            "flex_flow": null,
            "grid_area": null,
            "grid_auto_columns": null,
            "grid_auto_flow": null,
            "grid_auto_rows": null,
            "grid_column": null,
            "grid_gap": null,
            "grid_row": null,
            "grid_template_areas": null,
            "grid_template_columns": null,
            "grid_template_rows": null,
            "height": null,
            "justify_content": null,
            "justify_items": null,
            "left": null,
            "margin": null,
            "max_height": null,
            "max_width": null,
            "min_height": null,
            "min_width": null,
            "object_fit": null,
            "object_position": null,
            "order": null,
            "overflow": null,
            "overflow_x": null,
            "overflow_y": null,
            "padding": null,
            "right": null,
            "top": null,
            "visibility": null,
            "width": null
          }
        },
        "875a551eb3c3464abf885b6186f6d4d4": {
          "model_module": "@jupyter-widgets/base",
          "model_name": "LayoutModel",
          "model_module_version": "1.2.0",
          "state": {
            "_model_module": "@jupyter-widgets/base",
            "_model_module_version": "1.2.0",
            "_model_name": "LayoutModel",
            "_view_count": null,
            "_view_module": "@jupyter-widgets/base",
            "_view_module_version": "1.2.0",
            "_view_name": "LayoutView",
            "align_content": null,
            "align_items": null,
            "align_self": null,
            "border": null,
            "bottom": null,
            "display": null,
            "flex": null,
            "flex_flow": null,
            "grid_area": null,
            "grid_auto_columns": null,
            "grid_auto_flow": null,
            "grid_auto_rows": null,
            "grid_column": null,
            "grid_gap": null,
            "grid_row": null,
            "grid_template_areas": null,
            "grid_template_columns": null,
            "grid_template_rows": null,
            "height": null,
            "justify_content": null,
            "justify_items": null,
            "left": null,
            "margin": null,
            "max_height": null,
            "max_width": null,
            "min_height": null,
            "min_width": null,
            "object_fit": null,
            "object_position": null,
            "order": null,
            "overflow": null,
            "overflow_x": null,
            "overflow_y": null,
            "padding": null,
            "right": null,
            "top": null,
            "visibility": null,
            "width": null
          }
        },
        "2037ae8550af479eba1428b421940215": {
          "model_module": "@jupyter-widgets/controls",
          "model_name": "DescriptionStyleModel",
          "model_module_version": "1.5.0",
          "state": {
            "_model_module": "@jupyter-widgets/controls",
            "_model_module_version": "1.5.0",
            "_model_name": "DescriptionStyleModel",
            "_view_count": null,
            "_view_module": "@jupyter-widgets/base",
            "_view_module_version": "1.2.0",
            "_view_name": "StyleView",
            "description_width": ""
          }
        },
        "e7922b20edf349f8b166540191478abf": {
          "model_module": "@jupyter-widgets/base",
          "model_name": "LayoutModel",
          "model_module_version": "1.2.0",
          "state": {
            "_model_module": "@jupyter-widgets/base",
            "_model_module_version": "1.2.0",
            "_model_name": "LayoutModel",
            "_view_count": null,
            "_view_module": "@jupyter-widgets/base",
            "_view_module_version": "1.2.0",
            "_view_name": "LayoutView",
            "align_content": null,
            "align_items": null,
            "align_self": null,
            "border": null,
            "bottom": null,
            "display": null,
            "flex": null,
            "flex_flow": null,
            "grid_area": null,
            "grid_auto_columns": null,
            "grid_auto_flow": null,
            "grid_auto_rows": null,
            "grid_column": null,
            "grid_gap": null,
            "grid_row": null,
            "grid_template_areas": null,
            "grid_template_columns": null,
            "grid_template_rows": null,
            "height": null,
            "justify_content": null,
            "justify_items": null,
            "left": null,
            "margin": null,
            "max_height": null,
            "max_width": null,
            "min_height": null,
            "min_width": null,
            "object_fit": null,
            "object_position": null,
            "order": null,
            "overflow": null,
            "overflow_x": null,
            "overflow_y": null,
            "padding": null,
            "right": null,
            "top": null,
            "visibility": null,
            "width": null
          }
        },
        "765da6cab9fb40d19f6f9df7cecc65fb": {
          "model_module": "@jupyter-widgets/controls",
          "model_name": "ProgressStyleModel",
          "model_module_version": "1.5.0",
          "state": {
            "_model_module": "@jupyter-widgets/controls",
            "_model_module_version": "1.5.0",
            "_model_name": "ProgressStyleModel",
            "_view_count": null,
            "_view_module": "@jupyter-widgets/base",
            "_view_module_version": "1.2.0",
            "_view_name": "StyleView",
            "bar_color": null,
            "description_width": ""
          }
        },
        "951de2d4136a4fbca28b1a500a3b251e": {
          "model_module": "@jupyter-widgets/base",
          "model_name": "LayoutModel",
          "model_module_version": "1.2.0",
          "state": {
            "_model_module": "@jupyter-widgets/base",
            "_model_module_version": "1.2.0",
            "_model_name": "LayoutModel",
            "_view_count": null,
            "_view_module": "@jupyter-widgets/base",
            "_view_module_version": "1.2.0",
            "_view_name": "LayoutView",
            "align_content": null,
            "align_items": null,
            "align_self": null,
            "border": null,
            "bottom": null,
            "display": null,
            "flex": null,
            "flex_flow": null,
            "grid_area": null,
            "grid_auto_columns": null,
            "grid_auto_flow": null,
            "grid_auto_rows": null,
            "grid_column": null,
            "grid_gap": null,
            "grid_row": null,
            "grid_template_areas": null,
            "grid_template_columns": null,
            "grid_template_rows": null,
            "height": null,
            "justify_content": null,
            "justify_items": null,
            "left": null,
            "margin": null,
            "max_height": null,
            "max_width": null,
            "min_height": null,
            "min_width": null,
            "object_fit": null,
            "object_position": null,
            "order": null,
            "overflow": null,
            "overflow_x": null,
            "overflow_y": null,
            "padding": null,
            "right": null,
            "top": null,
            "visibility": null,
            "width": null
          }
        },
        "1dceb02dc2124176ab64498a5a53c770": {
          "model_module": "@jupyter-widgets/controls",
          "model_name": "DescriptionStyleModel",
          "model_module_version": "1.5.0",
          "state": {
            "_model_module": "@jupyter-widgets/controls",
            "_model_module_version": "1.5.0",
            "_model_name": "DescriptionStyleModel",
            "_view_count": null,
            "_view_module": "@jupyter-widgets/base",
            "_view_module_version": "1.2.0",
            "_view_name": "StyleView",
            "description_width": ""
          }
        },
        "f33bdb4aad2e4fa4b13ad668b2821997": {
          "model_module": "@jupyter-widgets/controls",
          "model_name": "HBoxModel",
          "model_module_version": "1.5.0",
          "state": {
            "_dom_classes": [],
            "_model_module": "@jupyter-widgets/controls",
            "_model_module_version": "1.5.0",
            "_model_name": "HBoxModel",
            "_view_count": null,
            "_view_module": "@jupyter-widgets/controls",
            "_view_module_version": "1.5.0",
            "_view_name": "HBoxView",
            "box_style": "",
            "children": [
              "IPY_MODEL_e919728ddcac43c38c6f1e82939d78e3",
              "IPY_MODEL_95bce5b4aba449fdacc3f1436c3f0081",
              "IPY_MODEL_31414eddcc4c4893a457931d665cddab"
            ],
            "layout": "IPY_MODEL_32f2f7474ced4aa7a09abc21877ced8a"
          }
        },
        "e919728ddcac43c38c6f1e82939d78e3": {
          "model_module": "@jupyter-widgets/controls",
          "model_name": "HTMLModel",
          "model_module_version": "1.5.0",
          "state": {
            "_dom_classes": [],
            "_model_module": "@jupyter-widgets/controls",
            "_model_module_version": "1.5.0",
            "_model_name": "HTMLModel",
            "_view_count": null,
            "_view_module": "@jupyter-widgets/controls",
            "_view_module_version": "1.5.0",
            "_view_name": "HTMLView",
            "description": "",
            "description_tooltip": null,
            "layout": "IPY_MODEL_ee4135eeb1c74fd7a2d23e9438ac1daa",
            "placeholder": "​",
            "style": "IPY_MODEL_b01691f6a62d44f0a50827f93616a84e",
            "value": "Downloading data: 100%"
          }
        },
        "95bce5b4aba449fdacc3f1436c3f0081": {
          "model_module": "@jupyter-widgets/controls",
          "model_name": "FloatProgressModel",
          "model_module_version": "1.5.0",
          "state": {
            "_dom_classes": [],
            "_model_module": "@jupyter-widgets/controls",
            "_model_module_version": "1.5.0",
            "_model_name": "FloatProgressModel",
            "_view_count": null,
            "_view_module": "@jupyter-widgets/controls",
            "_view_module_version": "1.5.0",
            "_view_name": "ProgressView",
            "bar_style": "success",
            "description": "",
            "description_tooltip": null,
            "layout": "IPY_MODEL_91300f8dce2d4fee964b21f28ee27744",
            "max": 1409098,
            "min": 0,
            "orientation": "horizontal",
            "style": "IPY_MODEL_e79ccd363aad4e399abd0bc7fbcf1205",
            "value": 1409098
          }
        },
        "31414eddcc4c4893a457931d665cddab": {
          "model_module": "@jupyter-widgets/controls",
          "model_name": "HTMLModel",
          "model_module_version": "1.5.0",
          "state": {
            "_dom_classes": [],
            "_model_module": "@jupyter-widgets/controls",
            "_model_module_version": "1.5.0",
            "_model_name": "HTMLModel",
            "_view_count": null,
            "_view_module": "@jupyter-widgets/controls",
            "_view_module_version": "1.5.0",
            "_view_name": "HTMLView",
            "description": "",
            "description_tooltip": null,
            "layout": "IPY_MODEL_45b54a043d81491ab0fc57b51412ac8e",
            "placeholder": "​",
            "style": "IPY_MODEL_87ea72f3d971455d983d671f72f7d765",
            "value": " 1.41M/1.41M [00:00&lt;00:00, 1.56MB/s]"
          }
        },
        "32f2f7474ced4aa7a09abc21877ced8a": {
          "model_module": "@jupyter-widgets/base",
          "model_name": "LayoutModel",
          "model_module_version": "1.2.0",
          "state": {
            "_model_module": "@jupyter-widgets/base",
            "_model_module_version": "1.2.0",
            "_model_name": "LayoutModel",
            "_view_count": null,
            "_view_module": "@jupyter-widgets/base",
            "_view_module_version": "1.2.0",
            "_view_name": "LayoutView",
            "align_content": null,
            "align_items": null,
            "align_self": null,
            "border": null,
            "bottom": null,
            "display": null,
            "flex": null,
            "flex_flow": null,
            "grid_area": null,
            "grid_auto_columns": null,
            "grid_auto_flow": null,
            "grid_auto_rows": null,
            "grid_column": null,
            "grid_gap": null,
            "grid_row": null,
            "grid_template_areas": null,
            "grid_template_columns": null,
            "grid_template_rows": null,
            "height": null,
            "justify_content": null,
            "justify_items": null,
            "left": null,
            "margin": null,
            "max_height": null,
            "max_width": null,
            "min_height": null,
            "min_width": null,
            "object_fit": null,
            "object_position": null,
            "order": null,
            "overflow": null,
            "overflow_x": null,
            "overflow_y": null,
            "padding": null,
            "right": null,
            "top": null,
            "visibility": null,
            "width": null
          }
        },
        "ee4135eeb1c74fd7a2d23e9438ac1daa": {
          "model_module": "@jupyter-widgets/base",
          "model_name": "LayoutModel",
          "model_module_version": "1.2.0",
          "state": {
            "_model_module": "@jupyter-widgets/base",
            "_model_module_version": "1.2.0",
            "_model_name": "LayoutModel",
            "_view_count": null,
            "_view_module": "@jupyter-widgets/base",
            "_view_module_version": "1.2.0",
            "_view_name": "LayoutView",
            "align_content": null,
            "align_items": null,
            "align_self": null,
            "border": null,
            "bottom": null,
            "display": null,
            "flex": null,
            "flex_flow": null,
            "grid_area": null,
            "grid_auto_columns": null,
            "grid_auto_flow": null,
            "grid_auto_rows": null,
            "grid_column": null,
            "grid_gap": null,
            "grid_row": null,
            "grid_template_areas": null,
            "grid_template_columns": null,
            "grid_template_rows": null,
            "height": null,
            "justify_content": null,
            "justify_items": null,
            "left": null,
            "margin": null,
            "max_height": null,
            "max_width": null,
            "min_height": null,
            "min_width": null,
            "object_fit": null,
            "object_position": null,
            "order": null,
            "overflow": null,
            "overflow_x": null,
            "overflow_y": null,
            "padding": null,
            "right": null,
            "top": null,
            "visibility": null,
            "width": null
          }
        },
        "b01691f6a62d44f0a50827f93616a84e": {
          "model_module": "@jupyter-widgets/controls",
          "model_name": "DescriptionStyleModel",
          "model_module_version": "1.5.0",
          "state": {
            "_model_module": "@jupyter-widgets/controls",
            "_model_module_version": "1.5.0",
            "_model_name": "DescriptionStyleModel",
            "_view_count": null,
            "_view_module": "@jupyter-widgets/base",
            "_view_module_version": "1.2.0",
            "_view_name": "StyleView",
            "description_width": ""
          }
        },
        "91300f8dce2d4fee964b21f28ee27744": {
          "model_module": "@jupyter-widgets/base",
          "model_name": "LayoutModel",
          "model_module_version": "1.2.0",
          "state": {
            "_model_module": "@jupyter-widgets/base",
            "_model_module_version": "1.2.0",
            "_model_name": "LayoutModel",
            "_view_count": null,
            "_view_module": "@jupyter-widgets/base",
            "_view_module_version": "1.2.0",
            "_view_name": "LayoutView",
            "align_content": null,
            "align_items": null,
            "align_self": null,
            "border": null,
            "bottom": null,
            "display": null,
            "flex": null,
            "flex_flow": null,
            "grid_area": null,
            "grid_auto_columns": null,
            "grid_auto_flow": null,
            "grid_auto_rows": null,
            "grid_column": null,
            "grid_gap": null,
            "grid_row": null,
            "grid_template_areas": null,
            "grid_template_columns": null,
            "grid_template_rows": null,
            "height": null,
            "justify_content": null,
            "justify_items": null,
            "left": null,
            "margin": null,
            "max_height": null,
            "max_width": null,
            "min_height": null,
            "min_width": null,
            "object_fit": null,
            "object_position": null,
            "order": null,
            "overflow": null,
            "overflow_x": null,
            "overflow_y": null,
            "padding": null,
            "right": null,
            "top": null,
            "visibility": null,
            "width": null
          }
        },
        "e79ccd363aad4e399abd0bc7fbcf1205": {
          "model_module": "@jupyter-widgets/controls",
          "model_name": "ProgressStyleModel",
          "model_module_version": "1.5.0",
          "state": {
            "_model_module": "@jupyter-widgets/controls",
            "_model_module_version": "1.5.0",
            "_model_name": "ProgressStyleModel",
            "_view_count": null,
            "_view_module": "@jupyter-widgets/base",
            "_view_module_version": "1.2.0",
            "_view_name": "StyleView",
            "bar_color": null,
            "description_width": ""
          }
        },
        "45b54a043d81491ab0fc57b51412ac8e": {
          "model_module": "@jupyter-widgets/base",
          "model_name": "LayoutModel",
          "model_module_version": "1.2.0",
          "state": {
            "_model_module": "@jupyter-widgets/base",
            "_model_module_version": "1.2.0",
            "_model_name": "LayoutModel",
            "_view_count": null,
            "_view_module": "@jupyter-widgets/base",
            "_view_module_version": "1.2.0",
            "_view_name": "LayoutView",
            "align_content": null,
            "align_items": null,
            "align_self": null,
            "border": null,
            "bottom": null,
            "display": null,
            "flex": null,
            "flex_flow": null,
            "grid_area": null,
            "grid_auto_columns": null,
            "grid_auto_flow": null,
            "grid_auto_rows": null,
            "grid_column": null,
            "grid_gap": null,
            "grid_row": null,
            "grid_template_areas": null,
            "grid_template_columns": null,
            "grid_template_rows": null,
            "height": null,
            "justify_content": null,
            "justify_items": null,
            "left": null,
            "margin": null,
            "max_height": null,
            "max_width": null,
            "min_height": null,
            "min_width": null,
            "object_fit": null,
            "object_position": null,
            "order": null,
            "overflow": null,
            "overflow_x": null,
            "overflow_y": null,
            "padding": null,
            "right": null,
            "top": null,
            "visibility": null,
            "width": null
          }
        },
        "87ea72f3d971455d983d671f72f7d765": {
          "model_module": "@jupyter-widgets/controls",
          "model_name": "DescriptionStyleModel",
          "model_module_version": "1.5.0",
          "state": {
            "_model_module": "@jupyter-widgets/controls",
            "_model_module_version": "1.5.0",
            "_model_name": "DescriptionStyleModel",
            "_view_count": null,
            "_view_module": "@jupyter-widgets/base",
            "_view_module_version": "1.2.0",
            "_view_name": "StyleView",
            "description_width": ""
          }
        },
        "2d5063ea1a464e84b7c82cdf4e77fc8a": {
          "model_module": "@jupyter-widgets/controls",
          "model_name": "HBoxModel",
          "model_module_version": "1.5.0",
          "state": {
            "_dom_classes": [],
            "_model_module": "@jupyter-widgets/controls",
            "_model_module_version": "1.5.0",
            "_model_name": "HBoxModel",
            "_view_count": null,
            "_view_module": "@jupyter-widgets/controls",
            "_view_module_version": "1.5.0",
            "_view_name": "HBoxView",
            "box_style": "",
            "children": [
              "IPY_MODEL_56c56cb9f8184132bacadeeedf46b31a",
              "IPY_MODEL_4a7b2ee2c9e84af79f09c9477722ddea",
              "IPY_MODEL_f64e7aae231648c48e51ab33af3ad165"
            ],
            "layout": "IPY_MODEL_a1deb15afee541b2a69371f80f6314e5"
          }
        },
        "56c56cb9f8184132bacadeeedf46b31a": {
          "model_module": "@jupyter-widgets/controls",
          "model_name": "HTMLModel",
          "model_module_version": "1.5.0",
          "state": {
            "_dom_classes": [],
            "_model_module": "@jupyter-widgets/controls",
            "_model_module_version": "1.5.0",
            "_model_name": "HTMLModel",
            "_view_count": null,
            "_view_module": "@jupyter-widgets/controls",
            "_view_module_version": "1.5.0",
            "_view_name": "HTMLView",
            "description": "",
            "description_tooltip": null,
            "layout": "IPY_MODEL_1244b2b08f99436a94d3353be35a2c2d",
            "placeholder": "​",
            "style": "IPY_MODEL_e7cddd92b9934bbdafc90dd5de1c1fa6",
            "value": "Generating train split: 100%"
          }
        },
        "4a7b2ee2c9e84af79f09c9477722ddea": {
          "model_module": "@jupyter-widgets/controls",
          "model_name": "FloatProgressModel",
          "model_module_version": "1.5.0",
          "state": {
            "_dom_classes": [],
            "_model_module": "@jupyter-widgets/controls",
            "_model_module_version": "1.5.0",
            "_model_name": "FloatProgressModel",
            "_view_count": null,
            "_view_module": "@jupyter-widgets/controls",
            "_view_module_version": "1.5.0",
            "_view_name": "ProgressView",
            "bar_style": "success",
            "description": "",
            "description_tooltip": null,
            "layout": "IPY_MODEL_ff9d9b45b6fd40eab912b5dc06178618",
            "max": 500,
            "min": 0,
            "orientation": "horizontal",
            "style": "IPY_MODEL_05c8e6abb50744e8adc9287923a5cfb7",
            "value": 500
          }
        },
        "f64e7aae231648c48e51ab33af3ad165": {
          "model_module": "@jupyter-widgets/controls",
          "model_name": "HTMLModel",
          "model_module_version": "1.5.0",
          "state": {
            "_dom_classes": [],
            "_model_module": "@jupyter-widgets/controls",
            "_model_module_version": "1.5.0",
            "_model_name": "HTMLModel",
            "_view_count": null,
            "_view_module": "@jupyter-widgets/controls",
            "_view_module_version": "1.5.0",
            "_view_name": "HTMLView",
            "description": "",
            "description_tooltip": null,
            "layout": "IPY_MODEL_2d7b5918fe4b47a1b764534aec0cd176",
            "placeholder": "​",
            "style": "IPY_MODEL_fee5da39da284cf3a83eb7ff472109ee",
            "value": " 500/500 [00:00&lt;00:00, 6544.09 examples/s]"
          }
        },
        "a1deb15afee541b2a69371f80f6314e5": {
          "model_module": "@jupyter-widgets/base",
          "model_name": "LayoutModel",
          "model_module_version": "1.2.0",
          "state": {
            "_model_module": "@jupyter-widgets/base",
            "_model_module_version": "1.2.0",
            "_model_name": "LayoutModel",
            "_view_count": null,
            "_view_module": "@jupyter-widgets/base",
            "_view_module_version": "1.2.0",
            "_view_name": "LayoutView",
            "align_content": null,
            "align_items": null,
            "align_self": null,
            "border": null,
            "bottom": null,
            "display": null,
            "flex": null,
            "flex_flow": null,
            "grid_area": null,
            "grid_auto_columns": null,
            "grid_auto_flow": null,
            "grid_auto_rows": null,
            "grid_column": null,
            "grid_gap": null,
            "grid_row": null,
            "grid_template_areas": null,
            "grid_template_columns": null,
            "grid_template_rows": null,
            "height": null,
            "justify_content": null,
            "justify_items": null,
            "left": null,
            "margin": null,
            "max_height": null,
            "max_width": null,
            "min_height": null,
            "min_width": null,
            "object_fit": null,
            "object_position": null,
            "order": null,
            "overflow": null,
            "overflow_x": null,
            "overflow_y": null,
            "padding": null,
            "right": null,
            "top": null,
            "visibility": null,
            "width": null
          }
        },
        "1244b2b08f99436a94d3353be35a2c2d": {
          "model_module": "@jupyter-widgets/base",
          "model_name": "LayoutModel",
          "model_module_version": "1.2.0",
          "state": {
            "_model_module": "@jupyter-widgets/base",
            "_model_module_version": "1.2.0",
            "_model_name": "LayoutModel",
            "_view_count": null,
            "_view_module": "@jupyter-widgets/base",
            "_view_module_version": "1.2.0",
            "_view_name": "LayoutView",
            "align_content": null,
            "align_items": null,
            "align_self": null,
            "border": null,
            "bottom": null,
            "display": null,
            "flex": null,
            "flex_flow": null,
            "grid_area": null,
            "grid_auto_columns": null,
            "grid_auto_flow": null,
            "grid_auto_rows": null,
            "grid_column": null,
            "grid_gap": null,
            "grid_row": null,
            "grid_template_areas": null,
            "grid_template_columns": null,
            "grid_template_rows": null,
            "height": null,
            "justify_content": null,
            "justify_items": null,
            "left": null,
            "margin": null,
            "max_height": null,
            "max_width": null,
            "min_height": null,
            "min_width": null,
            "object_fit": null,
            "object_position": null,
            "order": null,
            "overflow": null,
            "overflow_x": null,
            "overflow_y": null,
            "padding": null,
            "right": null,
            "top": null,
            "visibility": null,
            "width": null
          }
        },
        "e7cddd92b9934bbdafc90dd5de1c1fa6": {
          "model_module": "@jupyter-widgets/controls",
          "model_name": "DescriptionStyleModel",
          "model_module_version": "1.5.0",
          "state": {
            "_model_module": "@jupyter-widgets/controls",
            "_model_module_version": "1.5.0",
            "_model_name": "DescriptionStyleModel",
            "_view_count": null,
            "_view_module": "@jupyter-widgets/base",
            "_view_module_version": "1.2.0",
            "_view_name": "StyleView",
            "description_width": ""
          }
        },
        "ff9d9b45b6fd40eab912b5dc06178618": {
          "model_module": "@jupyter-widgets/base",
          "model_name": "LayoutModel",
          "model_module_version": "1.2.0",
          "state": {
            "_model_module": "@jupyter-widgets/base",
            "_model_module_version": "1.2.0",
            "_model_name": "LayoutModel",
            "_view_count": null,
            "_view_module": "@jupyter-widgets/base",
            "_view_module_version": "1.2.0",
            "_view_name": "LayoutView",
            "align_content": null,
            "align_items": null,
            "align_self": null,
            "border": null,
            "bottom": null,
            "display": null,
            "flex": null,
            "flex_flow": null,
            "grid_area": null,
            "grid_auto_columns": null,
            "grid_auto_flow": null,
            "grid_auto_rows": null,
            "grid_column": null,
            "grid_gap": null,
            "grid_row": null,
            "grid_template_areas": null,
            "grid_template_columns": null,
            "grid_template_rows": null,
            "height": null,
            "justify_content": null,
            "justify_items": null,
            "left": null,
            "margin": null,
            "max_height": null,
            "max_width": null,
            "min_height": null,
            "min_width": null,
            "object_fit": null,
            "object_position": null,
            "order": null,
            "overflow": null,
            "overflow_x": null,
            "overflow_y": null,
            "padding": null,
            "right": null,
            "top": null,
            "visibility": null,
            "width": null
          }
        },
        "05c8e6abb50744e8adc9287923a5cfb7": {
          "model_module": "@jupyter-widgets/controls",
          "model_name": "ProgressStyleModel",
          "model_module_version": "1.5.0",
          "state": {
            "_model_module": "@jupyter-widgets/controls",
            "_model_module_version": "1.5.0",
            "_model_name": "ProgressStyleModel",
            "_view_count": null,
            "_view_module": "@jupyter-widgets/base",
            "_view_module_version": "1.2.0",
            "_view_name": "StyleView",
            "bar_color": null,
            "description_width": ""
          }
        },
        "2d7b5918fe4b47a1b764534aec0cd176": {
          "model_module": "@jupyter-widgets/base",
          "model_name": "LayoutModel",
          "model_module_version": "1.2.0",
          "state": {
            "_model_module": "@jupyter-widgets/base",
            "_model_module_version": "1.2.0",
            "_model_name": "LayoutModel",
            "_view_count": null,
            "_view_module": "@jupyter-widgets/base",
            "_view_module_version": "1.2.0",
            "_view_name": "LayoutView",
            "align_content": null,
            "align_items": null,
            "align_self": null,
            "border": null,
            "bottom": null,
            "display": null,
            "flex": null,
            "flex_flow": null,
            "grid_area": null,
            "grid_auto_columns": null,
            "grid_auto_flow": null,
            "grid_auto_rows": null,
            "grid_column": null,
            "grid_gap": null,
            "grid_row": null,
            "grid_template_areas": null,
            "grid_template_columns": null,
            "grid_template_rows": null,
            "height": null,
            "justify_content": null,
            "justify_items": null,
            "left": null,
            "margin": null,
            "max_height": null,
            "max_width": null,
            "min_height": null,
            "min_width": null,
            "object_fit": null,
            "object_position": null,
            "order": null,
            "overflow": null,
            "overflow_x": null,
            "overflow_y": null,
            "padding": null,
            "right": null,
            "top": null,
            "visibility": null,
            "width": null
          }
        },
        "fee5da39da284cf3a83eb7ff472109ee": {
          "model_module": "@jupyter-widgets/controls",
          "model_name": "DescriptionStyleModel",
          "model_module_version": "1.5.0",
          "state": {
            "_model_module": "@jupyter-widgets/controls",
            "_model_module_version": "1.5.0",
            "_model_name": "DescriptionStyleModel",
            "_view_count": null,
            "_view_module": "@jupyter-widgets/base",
            "_view_module_version": "1.2.0",
            "_view_name": "StyleView",
            "description_width": ""
          }
        },
        "102b895706944ec6a2d0571ad8fe921b": {
          "model_module": "@jupyter-widgets/controls",
          "model_name": "HBoxModel",
          "model_module_version": "1.5.0",
          "state": {
            "_dom_classes": [],
            "_model_module": "@jupyter-widgets/controls",
            "_model_module_version": "1.5.0",
            "_model_name": "HBoxModel",
            "_view_count": null,
            "_view_module": "@jupyter-widgets/controls",
            "_view_module_version": "1.5.0",
            "_view_name": "HBoxView",
            "box_style": "",
            "children": [
              "IPY_MODEL_b769cb61c0c1419290c62e63ad915cee",
              "IPY_MODEL_ea983c403afc4aab89c1493b7d00ae1e",
              "IPY_MODEL_c42e4151a1e04544a04ddba90a89958d"
            ],
            "layout": "IPY_MODEL_73aee90df75246f68f9289230b7e21bd"
          }
        },
        "b769cb61c0c1419290c62e63ad915cee": {
          "model_module": "@jupyter-widgets/controls",
          "model_name": "HTMLModel",
          "model_module_version": "1.5.0",
          "state": {
            "_dom_classes": [],
            "_model_module": "@jupyter-widgets/controls",
            "_model_module_version": "1.5.0",
            "_model_name": "HTMLModel",
            "_view_count": null,
            "_view_module": "@jupyter-widgets/controls",
            "_view_module_version": "1.5.0",
            "_view_name": "HTMLView",
            "description": "",
            "description_tooltip": null,
            "layout": "IPY_MODEL_5c86adc525a4414fbe26474917878677",
            "placeholder": "​",
            "style": "IPY_MODEL_ddc33fc848e9490eb24e8f7877923ed9",
            "value": "Downloading readme: 100%"
          }
        },
        "ea983c403afc4aab89c1493b7d00ae1e": {
          "model_module": "@jupyter-widgets/controls",
          "model_name": "FloatProgressModel",
          "model_module_version": "1.5.0",
          "state": {
            "_dom_classes": [],
            "_model_module": "@jupyter-widgets/controls",
            "_model_module_version": "1.5.0",
            "_model_name": "FloatProgressModel",
            "_view_count": null,
            "_view_module": "@jupyter-widgets/controls",
            "_view_module_version": "1.5.0",
            "_view_name": "ProgressView",
            "bar_style": "success",
            "description": "",
            "description_tooltip": null,
            "layout": "IPY_MODEL_fc87d2d91d9a45a8a4d0c91f660357d7",
            "max": 7472,
            "min": 0,
            "orientation": "horizontal",
            "style": "IPY_MODEL_cdf9ac150bf44964839ba4ea537ad944",
            "value": 7472
          }
        },
        "c42e4151a1e04544a04ddba90a89958d": {
          "model_module": "@jupyter-widgets/controls",
          "model_name": "HTMLModel",
          "model_module_version": "1.5.0",
          "state": {
            "_dom_classes": [],
            "_model_module": "@jupyter-widgets/controls",
            "_model_module_version": "1.5.0",
            "_model_name": "HTMLModel",
            "_view_count": null,
            "_view_module": "@jupyter-widgets/controls",
            "_view_module_version": "1.5.0",
            "_view_name": "HTMLView",
            "description": "",
            "description_tooltip": null,
            "layout": "IPY_MODEL_23770cabcf35421895c20ff5142f11c3",
            "placeholder": "​",
            "style": "IPY_MODEL_9f3e590df0c944b799c342f4d27d93d7",
            "value": " 7.47k/7.47k [00:00&lt;00:00, 518kB/s]"
          }
        },
        "73aee90df75246f68f9289230b7e21bd": {
          "model_module": "@jupyter-widgets/base",
          "model_name": "LayoutModel",
          "model_module_version": "1.2.0",
          "state": {
            "_model_module": "@jupyter-widgets/base",
            "_model_module_version": "1.2.0",
            "_model_name": "LayoutModel",
            "_view_count": null,
            "_view_module": "@jupyter-widgets/base",
            "_view_module_version": "1.2.0",
            "_view_name": "LayoutView",
            "align_content": null,
            "align_items": null,
            "align_self": null,
            "border": null,
            "bottom": null,
            "display": null,
            "flex": null,
            "flex_flow": null,
            "grid_area": null,
            "grid_auto_columns": null,
            "grid_auto_flow": null,
            "grid_auto_rows": null,
            "grid_column": null,
            "grid_gap": null,
            "grid_row": null,
            "grid_template_areas": null,
            "grid_template_columns": null,
            "grid_template_rows": null,
            "height": null,
            "justify_content": null,
            "justify_items": null,
            "left": null,
            "margin": null,
            "max_height": null,
            "max_width": null,
            "min_height": null,
            "min_width": null,
            "object_fit": null,
            "object_position": null,
            "order": null,
            "overflow": null,
            "overflow_x": null,
            "overflow_y": null,
            "padding": null,
            "right": null,
            "top": null,
            "visibility": null,
            "width": null
          }
        },
        "5c86adc525a4414fbe26474917878677": {
          "model_module": "@jupyter-widgets/base",
          "model_name": "LayoutModel",
          "model_module_version": "1.2.0",
          "state": {
            "_model_module": "@jupyter-widgets/base",
            "_model_module_version": "1.2.0",
            "_model_name": "LayoutModel",
            "_view_count": null,
            "_view_module": "@jupyter-widgets/base",
            "_view_module_version": "1.2.0",
            "_view_name": "LayoutView",
            "align_content": null,
            "align_items": null,
            "align_self": null,
            "border": null,
            "bottom": null,
            "display": null,
            "flex": null,
            "flex_flow": null,
            "grid_area": null,
            "grid_auto_columns": null,
            "grid_auto_flow": null,
            "grid_auto_rows": null,
            "grid_column": null,
            "grid_gap": null,
            "grid_row": null,
            "grid_template_areas": null,
            "grid_template_columns": null,
            "grid_template_rows": null,
            "height": null,
            "justify_content": null,
            "justify_items": null,
            "left": null,
            "margin": null,
            "max_height": null,
            "max_width": null,
            "min_height": null,
            "min_width": null,
            "object_fit": null,
            "object_position": null,
            "order": null,
            "overflow": null,
            "overflow_x": null,
            "overflow_y": null,
            "padding": null,
            "right": null,
            "top": null,
            "visibility": null,
            "width": null
          }
        },
        "ddc33fc848e9490eb24e8f7877923ed9": {
          "model_module": "@jupyter-widgets/controls",
          "model_name": "DescriptionStyleModel",
          "model_module_version": "1.5.0",
          "state": {
            "_model_module": "@jupyter-widgets/controls",
            "_model_module_version": "1.5.0",
            "_model_name": "DescriptionStyleModel",
            "_view_count": null,
            "_view_module": "@jupyter-widgets/base",
            "_view_module_version": "1.2.0",
            "_view_name": "StyleView",
            "description_width": ""
          }
        },
        "fc87d2d91d9a45a8a4d0c91f660357d7": {
          "model_module": "@jupyter-widgets/base",
          "model_name": "LayoutModel",
          "model_module_version": "1.2.0",
          "state": {
            "_model_module": "@jupyter-widgets/base",
            "_model_module_version": "1.2.0",
            "_model_name": "LayoutModel",
            "_view_count": null,
            "_view_module": "@jupyter-widgets/base",
            "_view_module_version": "1.2.0",
            "_view_name": "LayoutView",
            "align_content": null,
            "align_items": null,
            "align_self": null,
            "border": null,
            "bottom": null,
            "display": null,
            "flex": null,
            "flex_flow": null,
            "grid_area": null,
            "grid_auto_columns": null,
            "grid_auto_flow": null,
            "grid_auto_rows": null,
            "grid_column": null,
            "grid_gap": null,
            "grid_row": null,
            "grid_template_areas": null,
            "grid_template_columns": null,
            "grid_template_rows": null,
            "height": null,
            "justify_content": null,
            "justify_items": null,
            "left": null,
            "margin": null,
            "max_height": null,
            "max_width": null,
            "min_height": null,
            "min_width": null,
            "object_fit": null,
            "object_position": null,
            "order": null,
            "overflow": null,
            "overflow_x": null,
            "overflow_y": null,
            "padding": null,
            "right": null,
            "top": null,
            "visibility": null,
            "width": null
          }
        },
        "cdf9ac150bf44964839ba4ea537ad944": {
          "model_module": "@jupyter-widgets/controls",
          "model_name": "ProgressStyleModel",
          "model_module_version": "1.5.0",
          "state": {
            "_model_module": "@jupyter-widgets/controls",
            "_model_module_version": "1.5.0",
            "_model_name": "ProgressStyleModel",
            "_view_count": null,
            "_view_module": "@jupyter-widgets/base",
            "_view_module_version": "1.2.0",
            "_view_name": "StyleView",
            "bar_color": null,
            "description_width": ""
          }
        },
        "23770cabcf35421895c20ff5142f11c3": {
          "model_module": "@jupyter-widgets/base",
          "model_name": "LayoutModel",
          "model_module_version": "1.2.0",
          "state": {
            "_model_module": "@jupyter-widgets/base",
            "_model_module_version": "1.2.0",
            "_model_name": "LayoutModel",
            "_view_count": null,
            "_view_module": "@jupyter-widgets/base",
            "_view_module_version": "1.2.0",
            "_view_name": "LayoutView",
            "align_content": null,
            "align_items": null,
            "align_self": null,
            "border": null,
            "bottom": null,
            "display": null,
            "flex": null,
            "flex_flow": null,
            "grid_area": null,
            "grid_auto_columns": null,
            "grid_auto_flow": null,
            "grid_auto_rows": null,
            "grid_column": null,
            "grid_gap": null,
            "grid_row": null,
            "grid_template_areas": null,
            "grid_template_columns": null,
            "grid_template_rows": null,
            "height": null,
            "justify_content": null,
            "justify_items": null,
            "left": null,
            "margin": null,
            "max_height": null,
            "max_width": null,
            "min_height": null,
            "min_width": null,
            "object_fit": null,
            "object_position": null,
            "order": null,
            "overflow": null,
            "overflow_x": null,
            "overflow_y": null,
            "padding": null,
            "right": null,
            "top": null,
            "visibility": null,
            "width": null
          }
        },
        "9f3e590df0c944b799c342f4d27d93d7": {
          "model_module": "@jupyter-widgets/controls",
          "model_name": "DescriptionStyleModel",
          "model_module_version": "1.5.0",
          "state": {
            "_model_module": "@jupyter-widgets/controls",
            "_model_module_version": "1.5.0",
            "_model_name": "DescriptionStyleModel",
            "_view_count": null,
            "_view_module": "@jupyter-widgets/base",
            "_view_module_version": "1.2.0",
            "_view_name": "StyleView",
            "description_width": ""
          }
        },
        "70ca91f8ffb34bf9b06478be7f7bec88": {
          "model_module": "@jupyter-widgets/controls",
          "model_name": "HBoxModel",
          "model_module_version": "1.5.0",
          "state": {
            "_dom_classes": [],
            "_model_module": "@jupyter-widgets/controls",
            "_model_module_version": "1.5.0",
            "_model_name": "HBoxModel",
            "_view_count": null,
            "_view_module": "@jupyter-widgets/controls",
            "_view_module_version": "1.5.0",
            "_view_name": "HBoxView",
            "box_style": "",
            "children": [
              "IPY_MODEL_657aab0b50ab4145a305bbcd7a5a8ce9",
              "IPY_MODEL_40f3f6ec15bd4a668e4cb817af60522c",
              "IPY_MODEL_4ccbeaf9998c40439f63c3b4dc324c91"
            ],
            "layout": "IPY_MODEL_4cec43336cb34ae7922b0b27dbf19513"
          }
        },
        "657aab0b50ab4145a305bbcd7a5a8ce9": {
          "model_module": "@jupyter-widgets/controls",
          "model_name": "HTMLModel",
          "model_module_version": "1.5.0",
          "state": {
            "_dom_classes": [],
            "_model_module": "@jupyter-widgets/controls",
            "_model_module_version": "1.5.0",
            "_model_name": "HTMLModel",
            "_view_count": null,
            "_view_module": "@jupyter-widgets/controls",
            "_view_module_version": "1.5.0",
            "_view_name": "HTMLView",
            "description": "",
            "description_tooltip": null,
            "layout": "IPY_MODEL_0f170a2cbc374968897ac2cc3b4ae182",
            "placeholder": "​",
            "style": "IPY_MODEL_9a34cf53586c46948073b6e3a910813d",
            "value": "Downloading data: 100%"
          }
        },
        "40f3f6ec15bd4a668e4cb817af60522c": {
          "model_module": "@jupyter-widgets/controls",
          "model_name": "FloatProgressModel",
          "model_module_version": "1.5.0",
          "state": {
            "_dom_classes": [],
            "_model_module": "@jupyter-widgets/controls",
            "_model_module_version": "1.5.0",
            "_model_name": "FloatProgressModel",
            "_view_count": null,
            "_view_module": "@jupyter-widgets/controls",
            "_view_module_version": "1.5.0",
            "_view_name": "ProgressView",
            "bar_style": "success",
            "description": "",
            "description_tooltip": null,
            "layout": "IPY_MODEL_ed2298c93b38429cbe48b3e12e7d1b06",
            "max": 24246638,
            "min": 0,
            "orientation": "horizontal",
            "style": "IPY_MODEL_68103159e3dc43aea8f0fc708e5ebffd",
            "value": 24246638
          }
        },
        "4ccbeaf9998c40439f63c3b4dc324c91": {
          "model_module": "@jupyter-widgets/controls",
          "model_name": "HTMLModel",
          "model_module_version": "1.5.0",
          "state": {
            "_dom_classes": [],
            "_model_module": "@jupyter-widgets/controls",
            "_model_module_version": "1.5.0",
            "_model_name": "HTMLModel",
            "_view_count": null,
            "_view_module": "@jupyter-widgets/controls",
            "_view_module_version": "1.5.0",
            "_view_name": "HTMLView",
            "description": "",
            "description_tooltip": null,
            "layout": "IPY_MODEL_a27d1f133cb546609bd38625c067469a",
            "placeholder": "​",
            "style": "IPY_MODEL_f682d6d471c14c20a3b066211dc1d5af",
            "value": " 24.2M/24.2M [00:00&lt;00:00, 22.9MB/s]"
          }
        },
        "4cec43336cb34ae7922b0b27dbf19513": {
          "model_module": "@jupyter-widgets/base",
          "model_name": "LayoutModel",
          "model_module_version": "1.2.0",
          "state": {
            "_model_module": "@jupyter-widgets/base",
            "_model_module_version": "1.2.0",
            "_model_name": "LayoutModel",
            "_view_count": null,
            "_view_module": "@jupyter-widgets/base",
            "_view_module_version": "1.2.0",
            "_view_name": "LayoutView",
            "align_content": null,
            "align_items": null,
            "align_self": null,
            "border": null,
            "bottom": null,
            "display": null,
            "flex": null,
            "flex_flow": null,
            "grid_area": null,
            "grid_auto_columns": null,
            "grid_auto_flow": null,
            "grid_auto_rows": null,
            "grid_column": null,
            "grid_gap": null,
            "grid_row": null,
            "grid_template_areas": null,
            "grid_template_columns": null,
            "grid_template_rows": null,
            "height": null,
            "justify_content": null,
            "justify_items": null,
            "left": null,
            "margin": null,
            "max_height": null,
            "max_width": null,
            "min_height": null,
            "min_width": null,
            "object_fit": null,
            "object_position": null,
            "order": null,
            "overflow": null,
            "overflow_x": null,
            "overflow_y": null,
            "padding": null,
            "right": null,
            "top": null,
            "visibility": null,
            "width": null
          }
        },
        "0f170a2cbc374968897ac2cc3b4ae182": {
          "model_module": "@jupyter-widgets/base",
          "model_name": "LayoutModel",
          "model_module_version": "1.2.0",
          "state": {
            "_model_module": "@jupyter-widgets/base",
            "_model_module_version": "1.2.0",
            "_model_name": "LayoutModel",
            "_view_count": null,
            "_view_module": "@jupyter-widgets/base",
            "_view_module_version": "1.2.0",
            "_view_name": "LayoutView",
            "align_content": null,
            "align_items": null,
            "align_self": null,
            "border": null,
            "bottom": null,
            "display": null,
            "flex": null,
            "flex_flow": null,
            "grid_area": null,
            "grid_auto_columns": null,
            "grid_auto_flow": null,
            "grid_auto_rows": null,
            "grid_column": null,
            "grid_gap": null,
            "grid_row": null,
            "grid_template_areas": null,
            "grid_template_columns": null,
            "grid_template_rows": null,
            "height": null,
            "justify_content": null,
            "justify_items": null,
            "left": null,
            "margin": null,
            "max_height": null,
            "max_width": null,
            "min_height": null,
            "min_width": null,
            "object_fit": null,
            "object_position": null,
            "order": null,
            "overflow": null,
            "overflow_x": null,
            "overflow_y": null,
            "padding": null,
            "right": null,
            "top": null,
            "visibility": null,
            "width": null
          }
        },
        "9a34cf53586c46948073b6e3a910813d": {
          "model_module": "@jupyter-widgets/controls",
          "model_name": "DescriptionStyleModel",
          "model_module_version": "1.5.0",
          "state": {
            "_model_module": "@jupyter-widgets/controls",
            "_model_module_version": "1.5.0",
            "_model_name": "DescriptionStyleModel",
            "_view_count": null,
            "_view_module": "@jupyter-widgets/base",
            "_view_module_version": "1.2.0",
            "_view_name": "StyleView",
            "description_width": ""
          }
        },
        "ed2298c93b38429cbe48b3e12e7d1b06": {
          "model_module": "@jupyter-widgets/base",
          "model_name": "LayoutModel",
          "model_module_version": "1.2.0",
          "state": {
            "_model_module": "@jupyter-widgets/base",
            "_model_module_version": "1.2.0",
            "_model_name": "LayoutModel",
            "_view_count": null,
            "_view_module": "@jupyter-widgets/base",
            "_view_module_version": "1.2.0",
            "_view_name": "LayoutView",
            "align_content": null,
            "align_items": null,
            "align_self": null,
            "border": null,
            "bottom": null,
            "display": null,
            "flex": null,
            "flex_flow": null,
            "grid_area": null,
            "grid_auto_columns": null,
            "grid_auto_flow": null,
            "grid_auto_rows": null,
            "grid_column": null,
            "grid_gap": null,
            "grid_row": null,
            "grid_template_areas": null,
            "grid_template_columns": null,
            "grid_template_rows": null,
            "height": null,
            "justify_content": null,
            "justify_items": null,
            "left": null,
            "margin": null,
            "max_height": null,
            "max_width": null,
            "min_height": null,
            "min_width": null,
            "object_fit": null,
            "object_position": null,
            "order": null,
            "overflow": null,
            "overflow_x": null,
            "overflow_y": null,
            "padding": null,
            "right": null,
            "top": null,
            "visibility": null,
            "width": null
          }
        },
        "68103159e3dc43aea8f0fc708e5ebffd": {
          "model_module": "@jupyter-widgets/controls",
          "model_name": "ProgressStyleModel",
          "model_module_version": "1.5.0",
          "state": {
            "_model_module": "@jupyter-widgets/controls",
            "_model_module_version": "1.5.0",
            "_model_name": "ProgressStyleModel",
            "_view_count": null,
            "_view_module": "@jupyter-widgets/base",
            "_view_module_version": "1.2.0",
            "_view_name": "StyleView",
            "bar_color": null,
            "description_width": ""
          }
        },
        "a27d1f133cb546609bd38625c067469a": {
          "model_module": "@jupyter-widgets/base",
          "model_name": "LayoutModel",
          "model_module_version": "1.2.0",
          "state": {
            "_model_module": "@jupyter-widgets/base",
            "_model_module_version": "1.2.0",
            "_model_name": "LayoutModel",
            "_view_count": null,
            "_view_module": "@jupyter-widgets/base",
            "_view_module_version": "1.2.0",
            "_view_name": "LayoutView",
            "align_content": null,
            "align_items": null,
            "align_self": null,
            "border": null,
            "bottom": null,
            "display": null,
            "flex": null,
            "flex_flow": null,
            "grid_area": null,
            "grid_auto_columns": null,
            "grid_auto_flow": null,
            "grid_auto_rows": null,
            "grid_column": null,
            "grid_gap": null,
            "grid_row": null,
            "grid_template_areas": null,
            "grid_template_columns": null,
            "grid_template_rows": null,
            "height": null,
            "justify_content": null,
            "justify_items": null,
            "left": null,
            "margin": null,
            "max_height": null,
            "max_width": null,
            "min_height": null,
            "min_width": null,
            "object_fit": null,
            "object_position": null,
            "order": null,
            "overflow": null,
            "overflow_x": null,
            "overflow_y": null,
            "padding": null,
            "right": null,
            "top": null,
            "visibility": null,
            "width": null
          }
        },
        "f682d6d471c14c20a3b066211dc1d5af": {
          "model_module": "@jupyter-widgets/controls",
          "model_name": "DescriptionStyleModel",
          "model_module_version": "1.5.0",
          "state": {
            "_model_module": "@jupyter-widgets/controls",
            "_model_module_version": "1.5.0",
            "_model_name": "DescriptionStyleModel",
            "_view_count": null,
            "_view_module": "@jupyter-widgets/base",
            "_view_module_version": "1.2.0",
            "_view_name": "StyleView",
            "description_width": ""
          }
        },
        "aad412d1ab274dd9bb112e00f6e9dfdf": {
          "model_module": "@jupyter-widgets/controls",
          "model_name": "HBoxModel",
          "model_module_version": "1.5.0",
          "state": {
            "_dom_classes": [],
            "_model_module": "@jupyter-widgets/controls",
            "_model_module_version": "1.5.0",
            "_model_name": "HBoxModel",
            "_view_count": null,
            "_view_module": "@jupyter-widgets/controls",
            "_view_module_version": "1.5.0",
            "_view_name": "HBoxView",
            "box_style": "",
            "children": [
              "IPY_MODEL_3f9ae6c76f0e402a81c4a234d2dfb30f",
              "IPY_MODEL_ed70baec528f4c57a9021527c2cd898a",
              "IPY_MODEL_b81c791994da4d9a9ac2289f405de6cc"
            ],
            "layout": "IPY_MODEL_449bc8a3d3ea41c9ae2d06701dbf50ee"
          }
        },
        "3f9ae6c76f0e402a81c4a234d2dfb30f": {
          "model_module": "@jupyter-widgets/controls",
          "model_name": "HTMLModel",
          "model_module_version": "1.5.0",
          "state": {
            "_dom_classes": [],
            "_model_module": "@jupyter-widgets/controls",
            "_model_module_version": "1.5.0",
            "_model_name": "HTMLModel",
            "_view_count": null,
            "_view_module": "@jupyter-widgets/controls",
            "_view_module_version": "1.5.0",
            "_view_name": "HTMLView",
            "description": "",
            "description_tooltip": null,
            "layout": "IPY_MODEL_8275a8964bb54a2ab766dd45586feb53",
            "placeholder": "​",
            "style": "IPY_MODEL_d1f158d2ce134e4aa2398790d84d98cf",
            "value": "Generating train split: 100%"
          }
        },
        "ed70baec528f4c57a9021527c2cd898a": {
          "model_module": "@jupyter-widgets/controls",
          "model_name": "FloatProgressModel",
          "model_module_version": "1.5.0",
          "state": {
            "_dom_classes": [],
            "_model_module": "@jupyter-widgets/controls",
            "_model_module_version": "1.5.0",
            "_model_name": "FloatProgressModel",
            "_view_count": null,
            "_view_module": "@jupyter-widgets/controls",
            "_view_module_version": "1.5.0",
            "_view_name": "ProgressView",
            "bar_style": "success",
            "description": "",
            "description_tooltip": null,
            "layout": "IPY_MODEL_6c7552e3623e4d758aee0d8ad66deb14",
            "max": 52002,
            "min": 0,
            "orientation": "horizontal",
            "style": "IPY_MODEL_3a0cfa2dffca4ffc85e85ff477d6acf8",
            "value": 52002
          }
        },
        "b81c791994da4d9a9ac2289f405de6cc": {
          "model_module": "@jupyter-widgets/controls",
          "model_name": "HTMLModel",
          "model_module_version": "1.5.0",
          "state": {
            "_dom_classes": [],
            "_model_module": "@jupyter-widgets/controls",
            "_model_module_version": "1.5.0",
            "_model_name": "HTMLModel",
            "_view_count": null,
            "_view_module": "@jupyter-widgets/controls",
            "_view_module_version": "1.5.0",
            "_view_name": "HTMLView",
            "description": "",
            "description_tooltip": null,
            "layout": "IPY_MODEL_2973d58d31e3449eb4e14e564db60d78",
            "placeholder": "​",
            "style": "IPY_MODEL_af581a61052b437e8729847ace016875",
            "value": " 52002/52002 [00:00&lt;00:00, 215034.53 examples/s]"
          }
        },
        "449bc8a3d3ea41c9ae2d06701dbf50ee": {
          "model_module": "@jupyter-widgets/base",
          "model_name": "LayoutModel",
          "model_module_version": "1.2.0",
          "state": {
            "_model_module": "@jupyter-widgets/base",
            "_model_module_version": "1.2.0",
            "_model_name": "LayoutModel",
            "_view_count": null,
            "_view_module": "@jupyter-widgets/base",
            "_view_module_version": "1.2.0",
            "_view_name": "LayoutView",
            "align_content": null,
            "align_items": null,
            "align_self": null,
            "border": null,
            "bottom": null,
            "display": null,
            "flex": null,
            "flex_flow": null,
            "grid_area": null,
            "grid_auto_columns": null,
            "grid_auto_flow": null,
            "grid_auto_rows": null,
            "grid_column": null,
            "grid_gap": null,
            "grid_row": null,
            "grid_template_areas": null,
            "grid_template_columns": null,
            "grid_template_rows": null,
            "height": null,
            "justify_content": null,
            "justify_items": null,
            "left": null,
            "margin": null,
            "max_height": null,
            "max_width": null,
            "min_height": null,
            "min_width": null,
            "object_fit": null,
            "object_position": null,
            "order": null,
            "overflow": null,
            "overflow_x": null,
            "overflow_y": null,
            "padding": null,
            "right": null,
            "top": null,
            "visibility": null,
            "width": null
          }
        },
        "8275a8964bb54a2ab766dd45586feb53": {
          "model_module": "@jupyter-widgets/base",
          "model_name": "LayoutModel",
          "model_module_version": "1.2.0",
          "state": {
            "_model_module": "@jupyter-widgets/base",
            "_model_module_version": "1.2.0",
            "_model_name": "LayoutModel",
            "_view_count": null,
            "_view_module": "@jupyter-widgets/base",
            "_view_module_version": "1.2.0",
            "_view_name": "LayoutView",
            "align_content": null,
            "align_items": null,
            "align_self": null,
            "border": null,
            "bottom": null,
            "display": null,
            "flex": null,
            "flex_flow": null,
            "grid_area": null,
            "grid_auto_columns": null,
            "grid_auto_flow": null,
            "grid_auto_rows": null,
            "grid_column": null,
            "grid_gap": null,
            "grid_row": null,
            "grid_template_areas": null,
            "grid_template_columns": null,
            "grid_template_rows": null,
            "height": null,
            "justify_content": null,
            "justify_items": null,
            "left": null,
            "margin": null,
            "max_height": null,
            "max_width": null,
            "min_height": null,
            "min_width": null,
            "object_fit": null,
            "object_position": null,
            "order": null,
            "overflow": null,
            "overflow_x": null,
            "overflow_y": null,
            "padding": null,
            "right": null,
            "top": null,
            "visibility": null,
            "width": null
          }
        },
        "d1f158d2ce134e4aa2398790d84d98cf": {
          "model_module": "@jupyter-widgets/controls",
          "model_name": "DescriptionStyleModel",
          "model_module_version": "1.5.0",
          "state": {
            "_model_module": "@jupyter-widgets/controls",
            "_model_module_version": "1.5.0",
            "_model_name": "DescriptionStyleModel",
            "_view_count": null,
            "_view_module": "@jupyter-widgets/base",
            "_view_module_version": "1.2.0",
            "_view_name": "StyleView",
            "description_width": ""
          }
        },
        "6c7552e3623e4d758aee0d8ad66deb14": {
          "model_module": "@jupyter-widgets/base",
          "model_name": "LayoutModel",
          "model_module_version": "1.2.0",
          "state": {
            "_model_module": "@jupyter-widgets/base",
            "_model_module_version": "1.2.0",
            "_model_name": "LayoutModel",
            "_view_count": null,
            "_view_module": "@jupyter-widgets/base",
            "_view_module_version": "1.2.0",
            "_view_name": "LayoutView",
            "align_content": null,
            "align_items": null,
            "align_self": null,
            "border": null,
            "bottom": null,
            "display": null,
            "flex": null,
            "flex_flow": null,
            "grid_area": null,
            "grid_auto_columns": null,
            "grid_auto_flow": null,
            "grid_auto_rows": null,
            "grid_column": null,
            "grid_gap": null,
            "grid_row": null,
            "grid_template_areas": null,
            "grid_template_columns": null,
            "grid_template_rows": null,
            "height": null,
            "justify_content": null,
            "justify_items": null,
            "left": null,
            "margin": null,
            "max_height": null,
            "max_width": null,
            "min_height": null,
            "min_width": null,
            "object_fit": null,
            "object_position": null,
            "order": null,
            "overflow": null,
            "overflow_x": null,
            "overflow_y": null,
            "padding": null,
            "right": null,
            "top": null,
            "visibility": null,
            "width": null
          }
        },
        "3a0cfa2dffca4ffc85e85ff477d6acf8": {
          "model_module": "@jupyter-widgets/controls",
          "model_name": "ProgressStyleModel",
          "model_module_version": "1.5.0",
          "state": {
            "_model_module": "@jupyter-widgets/controls",
            "_model_module_version": "1.5.0",
            "_model_name": "ProgressStyleModel",
            "_view_count": null,
            "_view_module": "@jupyter-widgets/base",
            "_view_module_version": "1.2.0",
            "_view_name": "StyleView",
            "bar_color": null,
            "description_width": ""
          }
        },
        "2973d58d31e3449eb4e14e564db60d78": {
          "model_module": "@jupyter-widgets/base",
          "model_name": "LayoutModel",
          "model_module_version": "1.2.0",
          "state": {
            "_model_module": "@jupyter-widgets/base",
            "_model_module_version": "1.2.0",
            "_model_name": "LayoutModel",
            "_view_count": null,
            "_view_module": "@jupyter-widgets/base",
            "_view_module_version": "1.2.0",
            "_view_name": "LayoutView",
            "align_content": null,
            "align_items": null,
            "align_self": null,
            "border": null,
            "bottom": null,
            "display": null,
            "flex": null,
            "flex_flow": null,
            "grid_area": null,
            "grid_auto_columns": null,
            "grid_auto_flow": null,
            "grid_auto_rows": null,
            "grid_column": null,
            "grid_gap": null,
            "grid_row": null,
            "grid_template_areas": null,
            "grid_template_columns": null,
            "grid_template_rows": null,
            "height": null,
            "justify_content": null,
            "justify_items": null,
            "left": null,
            "margin": null,
            "max_height": null,
            "max_width": null,
            "min_height": null,
            "min_width": null,
            "object_fit": null,
            "object_position": null,
            "order": null,
            "overflow": null,
            "overflow_x": null,
            "overflow_y": null,
            "padding": null,
            "right": null,
            "top": null,
            "visibility": null,
            "width": null
          }
        },
        "af581a61052b437e8729847ace016875": {
          "model_module": "@jupyter-widgets/controls",
          "model_name": "DescriptionStyleModel",
          "model_module_version": "1.5.0",
          "state": {
            "_model_module": "@jupyter-widgets/controls",
            "_model_module_version": "1.5.0",
            "_model_name": "DescriptionStyleModel",
            "_view_count": null,
            "_view_module": "@jupyter-widgets/base",
            "_view_module_version": "1.2.0",
            "_view_name": "StyleView",
            "description_width": ""
          }
        },
        "1e39b1deb9874cb0975d3d6b9ee41b5f": {
          "model_module": "@jupyter-widgets/controls",
          "model_name": "HBoxModel",
          "model_module_version": "1.5.0",
          "state": {
            "_dom_classes": [],
            "_model_module": "@jupyter-widgets/controls",
            "_model_module_version": "1.5.0",
            "_model_name": "HBoxModel",
            "_view_count": null,
            "_view_module": "@jupyter-widgets/controls",
            "_view_module_version": "1.5.0",
            "_view_name": "HBoxView",
            "box_style": "",
            "children": [
              "IPY_MODEL_2d01a905fb3f49c0a7925b27f3a9bc13",
              "IPY_MODEL_2547b50757be44d4bc54742a4ff4d5f7",
              "IPY_MODEL_f7022c5119d843d29ab15a94f5e792e8"
            ],
            "layout": "IPY_MODEL_e6371913d3f44b059ee577588fb00ce6"
          }
        },
        "2d01a905fb3f49c0a7925b27f3a9bc13": {
          "model_module": "@jupyter-widgets/controls",
          "model_name": "HTMLModel",
          "model_module_version": "1.5.0",
          "state": {
            "_dom_classes": [],
            "_model_module": "@jupyter-widgets/controls",
            "_model_module_version": "1.5.0",
            "_model_name": "HTMLModel",
            "_view_count": null,
            "_view_module": "@jupyter-widgets/controls",
            "_view_module_version": "1.5.0",
            "_view_name": "HTMLView",
            "description": "",
            "description_tooltip": null,
            "layout": "IPY_MODEL_1a8a1db95abc4979b89e26834010bf8c",
            "placeholder": "​",
            "style": "IPY_MODEL_0a00767e8d9b4fbd9ab6532228c96840",
            "value": "Downloading readme: 100%"
          }
        },
        "2547b50757be44d4bc54742a4ff4d5f7": {
          "model_module": "@jupyter-widgets/controls",
          "model_name": "FloatProgressModel",
          "model_module_version": "1.5.0",
          "state": {
            "_dom_classes": [],
            "_model_module": "@jupyter-widgets/controls",
            "_model_module_version": "1.5.0",
            "_model_name": "FloatProgressModel",
            "_view_count": null,
            "_view_module": "@jupyter-widgets/controls",
            "_view_module_version": "1.5.0",
            "_view_name": "ProgressView",
            "bar_style": "success",
            "description": "",
            "description_tooltip": null,
            "layout": "IPY_MODEL_7e8169264d35484e94cfa4b4954a6946",
            "max": 5337,
            "min": 0,
            "orientation": "horizontal",
            "style": "IPY_MODEL_2cfae830df094efe810386e944cdb4bd",
            "value": 5337
          }
        },
        "f7022c5119d843d29ab15a94f5e792e8": {
          "model_module": "@jupyter-widgets/controls",
          "model_name": "HTMLModel",
          "model_module_version": "1.5.0",
          "state": {
            "_dom_classes": [],
            "_model_module": "@jupyter-widgets/controls",
            "_model_module_version": "1.5.0",
            "_model_name": "HTMLModel",
            "_view_count": null,
            "_view_module": "@jupyter-widgets/controls",
            "_view_module_version": "1.5.0",
            "_view_name": "HTMLView",
            "description": "",
            "description_tooltip": null,
            "layout": "IPY_MODEL_1268f2b41fa345e4aa4c8e5da484e538",
            "placeholder": "​",
            "style": "IPY_MODEL_1fd62da2d9054f95a45c9a1349b83b1b",
            "value": " 5.34k/5.34k [00:00&lt;00:00, 333kB/s]"
          }
        },
        "e6371913d3f44b059ee577588fb00ce6": {
          "model_module": "@jupyter-widgets/base",
          "model_name": "LayoutModel",
          "model_module_version": "1.2.0",
          "state": {
            "_model_module": "@jupyter-widgets/base",
            "_model_module_version": "1.2.0",
            "_model_name": "LayoutModel",
            "_view_count": null,
            "_view_module": "@jupyter-widgets/base",
            "_view_module_version": "1.2.0",
            "_view_name": "LayoutView",
            "align_content": null,
            "align_items": null,
            "align_self": null,
            "border": null,
            "bottom": null,
            "display": null,
            "flex": null,
            "flex_flow": null,
            "grid_area": null,
            "grid_auto_columns": null,
            "grid_auto_flow": null,
            "grid_auto_rows": null,
            "grid_column": null,
            "grid_gap": null,
            "grid_row": null,
            "grid_template_areas": null,
            "grid_template_columns": null,
            "grid_template_rows": null,
            "height": null,
            "justify_content": null,
            "justify_items": null,
            "left": null,
            "margin": null,
            "max_height": null,
            "max_width": null,
            "min_height": null,
            "min_width": null,
            "object_fit": null,
            "object_position": null,
            "order": null,
            "overflow": null,
            "overflow_x": null,
            "overflow_y": null,
            "padding": null,
            "right": null,
            "top": null,
            "visibility": null,
            "width": null
          }
        },
        "1a8a1db95abc4979b89e26834010bf8c": {
          "model_module": "@jupyter-widgets/base",
          "model_name": "LayoutModel",
          "model_module_version": "1.2.0",
          "state": {
            "_model_module": "@jupyter-widgets/base",
            "_model_module_version": "1.2.0",
            "_model_name": "LayoutModel",
            "_view_count": null,
            "_view_module": "@jupyter-widgets/base",
            "_view_module_version": "1.2.0",
            "_view_name": "LayoutView",
            "align_content": null,
            "align_items": null,
            "align_self": null,
            "border": null,
            "bottom": null,
            "display": null,
            "flex": null,
            "flex_flow": null,
            "grid_area": null,
            "grid_auto_columns": null,
            "grid_auto_flow": null,
            "grid_auto_rows": null,
            "grid_column": null,
            "grid_gap": null,
            "grid_row": null,
            "grid_template_areas": null,
            "grid_template_columns": null,
            "grid_template_rows": null,
            "height": null,
            "justify_content": null,
            "justify_items": null,
            "left": null,
            "margin": null,
            "max_height": null,
            "max_width": null,
            "min_height": null,
            "min_width": null,
            "object_fit": null,
            "object_position": null,
            "order": null,
            "overflow": null,
            "overflow_x": null,
            "overflow_y": null,
            "padding": null,
            "right": null,
            "top": null,
            "visibility": null,
            "width": null
          }
        },
        "0a00767e8d9b4fbd9ab6532228c96840": {
          "model_module": "@jupyter-widgets/controls",
          "model_name": "DescriptionStyleModel",
          "model_module_version": "1.5.0",
          "state": {
            "_model_module": "@jupyter-widgets/controls",
            "_model_module_version": "1.5.0",
            "_model_name": "DescriptionStyleModel",
            "_view_count": null,
            "_view_module": "@jupyter-widgets/base",
            "_view_module_version": "1.2.0",
            "_view_name": "StyleView",
            "description_width": ""
          }
        },
        "7e8169264d35484e94cfa4b4954a6946": {
          "model_module": "@jupyter-widgets/base",
          "model_name": "LayoutModel",
          "model_module_version": "1.2.0",
          "state": {
            "_model_module": "@jupyter-widgets/base",
            "_model_module_version": "1.2.0",
            "_model_name": "LayoutModel",
            "_view_count": null,
            "_view_module": "@jupyter-widgets/base",
            "_view_module_version": "1.2.0",
            "_view_name": "LayoutView",
            "align_content": null,
            "align_items": null,
            "align_self": null,
            "border": null,
            "bottom": null,
            "display": null,
            "flex": null,
            "flex_flow": null,
            "grid_area": null,
            "grid_auto_columns": null,
            "grid_auto_flow": null,
            "grid_auto_rows": null,
            "grid_column": null,
            "grid_gap": null,
            "grid_row": null,
            "grid_template_areas": null,
            "grid_template_columns": null,
            "grid_template_rows": null,
            "height": null,
            "justify_content": null,
            "justify_items": null,
            "left": null,
            "margin": null,
            "max_height": null,
            "max_width": null,
            "min_height": null,
            "min_width": null,
            "object_fit": null,
            "object_position": null,
            "order": null,
            "overflow": null,
            "overflow_x": null,
            "overflow_y": null,
            "padding": null,
            "right": null,
            "top": null,
            "visibility": null,
            "width": null
          }
        },
        "2cfae830df094efe810386e944cdb4bd": {
          "model_module": "@jupyter-widgets/controls",
          "model_name": "ProgressStyleModel",
          "model_module_version": "1.5.0",
          "state": {
            "_model_module": "@jupyter-widgets/controls",
            "_model_module_version": "1.5.0",
            "_model_name": "ProgressStyleModel",
            "_view_count": null,
            "_view_module": "@jupyter-widgets/base",
            "_view_module_version": "1.2.0",
            "_view_name": "StyleView",
            "bar_color": null,
            "description_width": ""
          }
        },
        "1268f2b41fa345e4aa4c8e5da484e538": {
          "model_module": "@jupyter-widgets/base",
          "model_name": "LayoutModel",
          "model_module_version": "1.2.0",
          "state": {
            "_model_module": "@jupyter-widgets/base",
            "_model_module_version": "1.2.0",
            "_model_name": "LayoutModel",
            "_view_count": null,
            "_view_module": "@jupyter-widgets/base",
            "_view_module_version": "1.2.0",
            "_view_name": "LayoutView",
            "align_content": null,
            "align_items": null,
            "align_self": null,
            "border": null,
            "bottom": null,
            "display": null,
            "flex": null,
            "flex_flow": null,
            "grid_area": null,
            "grid_auto_columns": null,
            "grid_auto_flow": null,
            "grid_auto_rows": null,
            "grid_column": null,
            "grid_gap": null,
            "grid_row": null,
            "grid_template_areas": null,
            "grid_template_columns": null,
            "grid_template_rows": null,
            "height": null,
            "justify_content": null,
            "justify_items": null,
            "left": null,
            "margin": null,
            "max_height": null,
            "max_width": null,
            "min_height": null,
            "min_width": null,
            "object_fit": null,
            "object_position": null,
            "order": null,
            "overflow": null,
            "overflow_x": null,
            "overflow_y": null,
            "padding": null,
            "right": null,
            "top": null,
            "visibility": null,
            "width": null
          }
        },
        "1fd62da2d9054f95a45c9a1349b83b1b": {
          "model_module": "@jupyter-widgets/controls",
          "model_name": "DescriptionStyleModel",
          "model_module_version": "1.5.0",
          "state": {
            "_model_module": "@jupyter-widgets/controls",
            "_model_module_version": "1.5.0",
            "_model_name": "DescriptionStyleModel",
            "_view_count": null,
            "_view_module": "@jupyter-widgets/base",
            "_view_module_version": "1.2.0",
            "_view_name": "StyleView",
            "description_width": ""
          }
        },
        "729b4af3aab643cd85092d186d116940": {
          "model_module": "@jupyter-widgets/controls",
          "model_name": "HBoxModel",
          "model_module_version": "1.5.0",
          "state": {
            "_dom_classes": [],
            "_model_module": "@jupyter-widgets/controls",
            "_model_module_version": "1.5.0",
            "_model_name": "HBoxModel",
            "_view_count": null,
            "_view_module": "@jupyter-widgets/controls",
            "_view_module_version": "1.5.0",
            "_view_name": "HBoxView",
            "box_style": "",
            "children": [
              "IPY_MODEL_23f812170d2a45e1901fd42ac0c9468b",
              "IPY_MODEL_351462fbac764fda816d762bb5fef956",
              "IPY_MODEL_cd24c7dc68b14e9fb03531c4eeb050a1"
            ],
            "layout": "IPY_MODEL_a2aed7506f72425c80b785d18f459537"
          }
        },
        "23f812170d2a45e1901fd42ac0c9468b": {
          "model_module": "@jupyter-widgets/controls",
          "model_name": "HTMLModel",
          "model_module_version": "1.5.0",
          "state": {
            "_dom_classes": [],
            "_model_module": "@jupyter-widgets/controls",
            "_model_module_version": "1.5.0",
            "_model_name": "HTMLModel",
            "_view_count": null,
            "_view_module": "@jupyter-widgets/controls",
            "_view_module_version": "1.5.0",
            "_view_name": "HTMLView",
            "description": "",
            "description_tooltip": null,
            "layout": "IPY_MODEL_7985d305d74d46b39fa388a928b1ea69",
            "placeholder": "​",
            "style": "IPY_MODEL_5a19c284a92c4c09a634d4c7851eed46",
            "value": "Downloading data: 100%"
          }
        },
        "351462fbac764fda816d762bb5fef956": {
          "model_module": "@jupyter-widgets/controls",
          "model_name": "FloatProgressModel",
          "model_module_version": "1.5.0",
          "state": {
            "_dom_classes": [],
            "_model_module": "@jupyter-widgets/controls",
            "_model_module_version": "1.5.0",
            "_model_name": "FloatProgressModel",
            "_view_count": null,
            "_view_module": "@jupyter-widgets/controls",
            "_view_module_version": "1.5.0",
            "_view_name": "ProgressView",
            "bar_style": "success",
            "description": "",
            "description_tooltip": null,
            "layout": "IPY_MODEL_9666f714f4d448b58d8a9ef505519f25",
            "max": 15565850,
            "min": 0,
            "orientation": "horizontal",
            "style": "IPY_MODEL_09c22421b90640f99ece34f934a8eb52",
            "value": 15565850
          }
        },
        "cd24c7dc68b14e9fb03531c4eeb050a1": {
          "model_module": "@jupyter-widgets/controls",
          "model_name": "HTMLModel",
          "model_module_version": "1.5.0",
          "state": {
            "_dom_classes": [],
            "_model_module": "@jupyter-widgets/controls",
            "_model_module_version": "1.5.0",
            "_model_name": "HTMLModel",
            "_view_count": null,
            "_view_module": "@jupyter-widgets/controls",
            "_view_module_version": "1.5.0",
            "_view_name": "HTMLView",
            "description": "",
            "description_tooltip": null,
            "layout": "IPY_MODEL_55a08ae9ae4d4637a653723343e2c84f",
            "placeholder": "​",
            "style": "IPY_MODEL_37e196e2435e44d0bb822e58a197de88",
            "value": " 15.6M/15.6M [00:12&lt;00:00, 1.38MB/s]"
          }
        },
        "a2aed7506f72425c80b785d18f459537": {
          "model_module": "@jupyter-widgets/base",
          "model_name": "LayoutModel",
          "model_module_version": "1.2.0",
          "state": {
            "_model_module": "@jupyter-widgets/base",
            "_model_module_version": "1.2.0",
            "_model_name": "LayoutModel",
            "_view_count": null,
            "_view_module": "@jupyter-widgets/base",
            "_view_module_version": "1.2.0",
            "_view_name": "LayoutView",
            "align_content": null,
            "align_items": null,
            "align_self": null,
            "border": null,
            "bottom": null,
            "display": null,
            "flex": null,
            "flex_flow": null,
            "grid_area": null,
            "grid_auto_columns": null,
            "grid_auto_flow": null,
            "grid_auto_rows": null,
            "grid_column": null,
            "grid_gap": null,
            "grid_row": null,
            "grid_template_areas": null,
            "grid_template_columns": null,
            "grid_template_rows": null,
            "height": null,
            "justify_content": null,
            "justify_items": null,
            "left": null,
            "margin": null,
            "max_height": null,
            "max_width": null,
            "min_height": null,
            "min_width": null,
            "object_fit": null,
            "object_position": null,
            "order": null,
            "overflow": null,
            "overflow_x": null,
            "overflow_y": null,
            "padding": null,
            "right": null,
            "top": null,
            "visibility": null,
            "width": null
          }
        },
        "7985d305d74d46b39fa388a928b1ea69": {
          "model_module": "@jupyter-widgets/base",
          "model_name": "LayoutModel",
          "model_module_version": "1.2.0",
          "state": {
            "_model_module": "@jupyter-widgets/base",
            "_model_module_version": "1.2.0",
            "_model_name": "LayoutModel",
            "_view_count": null,
            "_view_module": "@jupyter-widgets/base",
            "_view_module_version": "1.2.0",
            "_view_name": "LayoutView",
            "align_content": null,
            "align_items": null,
            "align_self": null,
            "border": null,
            "bottom": null,
            "display": null,
            "flex": null,
            "flex_flow": null,
            "grid_area": null,
            "grid_auto_columns": null,
            "grid_auto_flow": null,
            "grid_auto_rows": null,
            "grid_column": null,
            "grid_gap": null,
            "grid_row": null,
            "grid_template_areas": null,
            "grid_template_columns": null,
            "grid_template_rows": null,
            "height": null,
            "justify_content": null,
            "justify_items": null,
            "left": null,
            "margin": null,
            "max_height": null,
            "max_width": null,
            "min_height": null,
            "min_width": null,
            "object_fit": null,
            "object_position": null,
            "order": null,
            "overflow": null,
            "overflow_x": null,
            "overflow_y": null,
            "padding": null,
            "right": null,
            "top": null,
            "visibility": null,
            "width": null
          }
        },
        "5a19c284a92c4c09a634d4c7851eed46": {
          "model_module": "@jupyter-widgets/controls",
          "model_name": "DescriptionStyleModel",
          "model_module_version": "1.5.0",
          "state": {
            "_model_module": "@jupyter-widgets/controls",
            "_model_module_version": "1.5.0",
            "_model_name": "DescriptionStyleModel",
            "_view_count": null,
            "_view_module": "@jupyter-widgets/base",
            "_view_module_version": "1.2.0",
            "_view_name": "StyleView",
            "description_width": ""
          }
        },
        "9666f714f4d448b58d8a9ef505519f25": {
          "model_module": "@jupyter-widgets/base",
          "model_name": "LayoutModel",
          "model_module_version": "1.2.0",
          "state": {
            "_model_module": "@jupyter-widgets/base",
            "_model_module_version": "1.2.0",
            "_model_name": "LayoutModel",
            "_view_count": null,
            "_view_module": "@jupyter-widgets/base",
            "_view_module_version": "1.2.0",
            "_view_name": "LayoutView",
            "align_content": null,
            "align_items": null,
            "align_self": null,
            "border": null,
            "bottom": null,
            "display": null,
            "flex": null,
            "flex_flow": null,
            "grid_area": null,
            "grid_auto_columns": null,
            "grid_auto_flow": null,
            "grid_auto_rows": null,
            "grid_column": null,
            "grid_gap": null,
            "grid_row": null,
            "grid_template_areas": null,
            "grid_template_columns": null,
            "grid_template_rows": null,
            "height": null,
            "justify_content": null,
            "justify_items": null,
            "left": null,
            "margin": null,
            "max_height": null,
            "max_width": null,
            "min_height": null,
            "min_width": null,
            "object_fit": null,
            "object_position": null,
            "order": null,
            "overflow": null,
            "overflow_x": null,
            "overflow_y": null,
            "padding": null,
            "right": null,
            "top": null,
            "visibility": null,
            "width": null
          }
        },
        "09c22421b90640f99ece34f934a8eb52": {
          "model_module": "@jupyter-widgets/controls",
          "model_name": "ProgressStyleModel",
          "model_module_version": "1.5.0",
          "state": {
            "_model_module": "@jupyter-widgets/controls",
            "_model_module_version": "1.5.0",
            "_model_name": "ProgressStyleModel",
            "_view_count": null,
            "_view_module": "@jupyter-widgets/base",
            "_view_module_version": "1.2.0",
            "_view_name": "StyleView",
            "bar_color": null,
            "description_width": ""
          }
        },
        "55a08ae9ae4d4637a653723343e2c84f": {
          "model_module": "@jupyter-widgets/base",
          "model_name": "LayoutModel",
          "model_module_version": "1.2.0",
          "state": {
            "_model_module": "@jupyter-widgets/base",
            "_model_module_version": "1.2.0",
            "_model_name": "LayoutModel",
            "_view_count": null,
            "_view_module": "@jupyter-widgets/base",
            "_view_module_version": "1.2.0",
            "_view_name": "LayoutView",
            "align_content": null,
            "align_items": null,
            "align_self": null,
            "border": null,
            "bottom": null,
            "display": null,
            "flex": null,
            "flex_flow": null,
            "grid_area": null,
            "grid_auto_columns": null,
            "grid_auto_flow": null,
            "grid_auto_rows": null,
            "grid_column": null,
            "grid_gap": null,
            "grid_row": null,
            "grid_template_areas": null,
            "grid_template_columns": null,
            "grid_template_rows": null,
            "height": null,
            "justify_content": null,
            "justify_items": null,
            "left": null,
            "margin": null,
            "max_height": null,
            "max_width": null,
            "min_height": null,
            "min_width": null,
            "object_fit": null,
            "object_position": null,
            "order": null,
            "overflow": null,
            "overflow_x": null,
            "overflow_y": null,
            "padding": null,
            "right": null,
            "top": null,
            "visibility": null,
            "width": null
          }
        },
        "37e196e2435e44d0bb822e58a197de88": {
          "model_module": "@jupyter-widgets/controls",
          "model_name": "DescriptionStyleModel",
          "model_module_version": "1.5.0",
          "state": {
            "_model_module": "@jupyter-widgets/controls",
            "_model_module_version": "1.5.0",
            "_model_name": "DescriptionStyleModel",
            "_view_count": null,
            "_view_module": "@jupyter-widgets/base",
            "_view_module_version": "1.2.0",
            "_view_name": "StyleView",
            "description_width": ""
          }
        },
        "699f8d09c7c34fc8bf9ecda552b67b61": {
          "model_module": "@jupyter-widgets/controls",
          "model_name": "HBoxModel",
          "model_module_version": "1.5.0",
          "state": {
            "_dom_classes": [],
            "_model_module": "@jupyter-widgets/controls",
            "_model_module_version": "1.5.0",
            "_model_name": "HBoxModel",
            "_view_count": null,
            "_view_module": "@jupyter-widgets/controls",
            "_view_module_version": "1.5.0",
            "_view_name": "HBoxView",
            "box_style": "",
            "children": [
              "IPY_MODEL_145d73b572d5498b80c903cbec741f4a",
              "IPY_MODEL_69546c24b1374f2da8cfd7b109b66deb",
              "IPY_MODEL_f9f92d92ced947f9aeb5dbbb41eb653e"
            ],
            "layout": "IPY_MODEL_d0814926989b423ea473e911332d6cbf"
          }
        },
        "145d73b572d5498b80c903cbec741f4a": {
          "model_module": "@jupyter-widgets/controls",
          "model_name": "HTMLModel",
          "model_module_version": "1.5.0",
          "state": {
            "_dom_classes": [],
            "_model_module": "@jupyter-widgets/controls",
            "_model_module_version": "1.5.0",
            "_model_name": "HTMLModel",
            "_view_count": null,
            "_view_module": "@jupyter-widgets/controls",
            "_view_module_version": "1.5.0",
            "_view_name": "HTMLView",
            "description": "",
            "description_tooltip": null,
            "layout": "IPY_MODEL_5240973038f14ac5b77eb2549493d57d",
            "placeholder": "​",
            "style": "IPY_MODEL_c15bc6e9d8ab424fa4fc1c3a8edf6b45",
            "value": "Generating train split: 100%"
          }
        },
        "69546c24b1374f2da8cfd7b109b66deb": {
          "model_module": "@jupyter-widgets/controls",
          "model_name": "FloatProgressModel",
          "model_module_version": "1.5.0",
          "state": {
            "_dom_classes": [],
            "_model_module": "@jupyter-widgets/controls",
            "_model_module_version": "1.5.0",
            "_model_name": "FloatProgressModel",
            "_view_count": null,
            "_view_module": "@jupyter-widgets/controls",
            "_view_module_version": "1.5.0",
            "_view_name": "ProgressView",
            "bar_style": "success",
            "description": "",
            "description_tooltip": null,
            "layout": "IPY_MODEL_69aa87ee08f247e3bdaee7e2d3934c77",
            "max": 24926,
            "min": 0,
            "orientation": "horizontal",
            "style": "IPY_MODEL_9391975e73ef4be4aff6add18b5b5f2f",
            "value": 24926
          }
        },
        "f9f92d92ced947f9aeb5dbbb41eb653e": {
          "model_module": "@jupyter-widgets/controls",
          "model_name": "HTMLModel",
          "model_module_version": "1.5.0",
          "state": {
            "_dom_classes": [],
            "_model_module": "@jupyter-widgets/controls",
            "_model_module_version": "1.5.0",
            "_model_name": "HTMLModel",
            "_view_count": null,
            "_view_module": "@jupyter-widgets/controls",
            "_view_module_version": "1.5.0",
            "_view_name": "HTMLView",
            "description": "",
            "description_tooltip": null,
            "layout": "IPY_MODEL_b11beb80582d4beabb2ed41f89b650d2",
            "placeholder": "​",
            "style": "IPY_MODEL_b474a3a504c948a1b8cd8f9bfafcda1a",
            "value": " 24926/24926 [00:00&lt;00:00, 141608.56 examples/s]"
          }
        },
        "d0814926989b423ea473e911332d6cbf": {
          "model_module": "@jupyter-widgets/base",
          "model_name": "LayoutModel",
          "model_module_version": "1.2.0",
          "state": {
            "_model_module": "@jupyter-widgets/base",
            "_model_module_version": "1.2.0",
            "_model_name": "LayoutModel",
            "_view_count": null,
            "_view_module": "@jupyter-widgets/base",
            "_view_module_version": "1.2.0",
            "_view_name": "LayoutView",
            "align_content": null,
            "align_items": null,
            "align_self": null,
            "border": null,
            "bottom": null,
            "display": null,
            "flex": null,
            "flex_flow": null,
            "grid_area": null,
            "grid_auto_columns": null,
            "grid_auto_flow": null,
            "grid_auto_rows": null,
            "grid_column": null,
            "grid_gap": null,
            "grid_row": null,
            "grid_template_areas": null,
            "grid_template_columns": null,
            "grid_template_rows": null,
            "height": null,
            "justify_content": null,
            "justify_items": null,
            "left": null,
            "margin": null,
            "max_height": null,
            "max_width": null,
            "min_height": null,
            "min_width": null,
            "object_fit": null,
            "object_position": null,
            "order": null,
            "overflow": null,
            "overflow_x": null,
            "overflow_y": null,
            "padding": null,
            "right": null,
            "top": null,
            "visibility": null,
            "width": null
          }
        },
        "5240973038f14ac5b77eb2549493d57d": {
          "model_module": "@jupyter-widgets/base",
          "model_name": "LayoutModel",
          "model_module_version": "1.2.0",
          "state": {
            "_model_module": "@jupyter-widgets/base",
            "_model_module_version": "1.2.0",
            "_model_name": "LayoutModel",
            "_view_count": null,
            "_view_module": "@jupyter-widgets/base",
            "_view_module_version": "1.2.0",
            "_view_name": "LayoutView",
            "align_content": null,
            "align_items": null,
            "align_self": null,
            "border": null,
            "bottom": null,
            "display": null,
            "flex": null,
            "flex_flow": null,
            "grid_area": null,
            "grid_auto_columns": null,
            "grid_auto_flow": null,
            "grid_auto_rows": null,
            "grid_column": null,
            "grid_gap": null,
            "grid_row": null,
            "grid_template_areas": null,
            "grid_template_columns": null,
            "grid_template_rows": null,
            "height": null,
            "justify_content": null,
            "justify_items": null,
            "left": null,
            "margin": null,
            "max_height": null,
            "max_width": null,
            "min_height": null,
            "min_width": null,
            "object_fit": null,
            "object_position": null,
            "order": null,
            "overflow": null,
            "overflow_x": null,
            "overflow_y": null,
            "padding": null,
            "right": null,
            "top": null,
            "visibility": null,
            "width": null
          }
        },
        "c15bc6e9d8ab424fa4fc1c3a8edf6b45": {
          "model_module": "@jupyter-widgets/controls",
          "model_name": "DescriptionStyleModel",
          "model_module_version": "1.5.0",
          "state": {
            "_model_module": "@jupyter-widgets/controls",
            "_model_module_version": "1.5.0",
            "_model_name": "DescriptionStyleModel",
            "_view_count": null,
            "_view_module": "@jupyter-widgets/base",
            "_view_module_version": "1.2.0",
            "_view_name": "StyleView",
            "description_width": ""
          }
        },
        "69aa87ee08f247e3bdaee7e2d3934c77": {
          "model_module": "@jupyter-widgets/base",
          "model_name": "LayoutModel",
          "model_module_version": "1.2.0",
          "state": {
            "_model_module": "@jupyter-widgets/base",
            "_model_module_version": "1.2.0",
            "_model_name": "LayoutModel",
            "_view_count": null,
            "_view_module": "@jupyter-widgets/base",
            "_view_module_version": "1.2.0",
            "_view_name": "LayoutView",
            "align_content": null,
            "align_items": null,
            "align_self": null,
            "border": null,
            "bottom": null,
            "display": null,
            "flex": null,
            "flex_flow": null,
            "grid_area": null,
            "grid_auto_columns": null,
            "grid_auto_flow": null,
            "grid_auto_rows": null,
            "grid_column": null,
            "grid_gap": null,
            "grid_row": null,
            "grid_template_areas": null,
            "grid_template_columns": null,
            "grid_template_rows": null,
            "height": null,
            "justify_content": null,
            "justify_items": null,
            "left": null,
            "margin": null,
            "max_height": null,
            "max_width": null,
            "min_height": null,
            "min_width": null,
            "object_fit": null,
            "object_position": null,
            "order": null,
            "overflow": null,
            "overflow_x": null,
            "overflow_y": null,
            "padding": null,
            "right": null,
            "top": null,
            "visibility": null,
            "width": null
          }
        },
        "9391975e73ef4be4aff6add18b5b5f2f": {
          "model_module": "@jupyter-widgets/controls",
          "model_name": "ProgressStyleModel",
          "model_module_version": "1.5.0",
          "state": {
            "_model_module": "@jupyter-widgets/controls",
            "_model_module_version": "1.5.0",
            "_model_name": "ProgressStyleModel",
            "_view_count": null,
            "_view_module": "@jupyter-widgets/base",
            "_view_module_version": "1.2.0",
            "_view_name": "StyleView",
            "bar_color": null,
            "description_width": ""
          }
        },
        "b11beb80582d4beabb2ed41f89b650d2": {
          "model_module": "@jupyter-widgets/base",
          "model_name": "LayoutModel",
          "model_module_version": "1.2.0",
          "state": {
            "_model_module": "@jupyter-widgets/base",
            "_model_module_version": "1.2.0",
            "_model_name": "LayoutModel",
            "_view_count": null,
            "_view_module": "@jupyter-widgets/base",
            "_view_module_version": "1.2.0",
            "_view_name": "LayoutView",
            "align_content": null,
            "align_items": null,
            "align_self": null,
            "border": null,
            "bottom": null,
            "display": null,
            "flex": null,
            "flex_flow": null,
            "grid_area": null,
            "grid_auto_columns": null,
            "grid_auto_flow": null,
            "grid_auto_rows": null,
            "grid_column": null,
            "grid_gap": null,
            "grid_row": null,
            "grid_template_areas": null,
            "grid_template_columns": null,
            "grid_template_rows": null,
            "height": null,
            "justify_content": null,
            "justify_items": null,
            "left": null,
            "margin": null,
            "max_height": null,
            "max_width": null,
            "min_height": null,
            "min_width": null,
            "object_fit": null,
            "object_position": null,
            "order": null,
            "overflow": null,
            "overflow_x": null,
            "overflow_y": null,
            "padding": null,
            "right": null,
            "top": null,
            "visibility": null,
            "width": null
          }
        },
        "b474a3a504c948a1b8cd8f9bfafcda1a": {
          "model_module": "@jupyter-widgets/controls",
          "model_name": "DescriptionStyleModel",
          "model_module_version": "1.5.0",
          "state": {
            "_model_module": "@jupyter-widgets/controls",
            "_model_module_version": "1.5.0",
            "_model_name": "DescriptionStyleModel",
            "_view_count": null,
            "_view_module": "@jupyter-widgets/base",
            "_view_module_version": "1.2.0",
            "_view_name": "StyleView",
            "description_width": ""
          }
        }
      }
    }
  },
  "cells": [
    {
      "cell_type": "code",
      "execution_count": 1,
      "metadata": {
        "colab": {
          "base_uri": "https://localhost:8080/"
        },
        "id": "gY290rYm-ujl",
        "outputId": "e906dafa-b9c5-4480-ea48-e6c333a1116b"
      },
      "outputs": [
        {
          "output_type": "stream",
          "name": "stdout",
          "text": [
            "\u001b[2K     \u001b[90m━━━━━━━━━━━━━━━━━━━━━━━━━━━━━━━━━━━━━━━━\u001b[0m \u001b[32m235.5/235.5 kB\u001b[0m \u001b[31m4.3 MB/s\u001b[0m eta \u001b[36m0:00:00\u001b[0m\n",
            "\u001b[2K     \u001b[90m━━━━━━━━━━━━━━━━━━━━━━━━━━━━━━━━━━━━━━━━\u001b[0m \u001b[32m232.6/232.6 kB\u001b[0m \u001b[31m19.3 MB/s\u001b[0m eta \u001b[36m0:00:00\u001b[0m\n",
            "\u001b[2K     \u001b[90m━━━━━━━━━━━━━━━━━━━━━━━━━━━━━━━━━━━━━━━━\u001b[0m \u001b[32m774.1/774.1 kB\u001b[0m \u001b[31m30.1 MB/s\u001b[0m eta \u001b[36m0:00:00\u001b[0m\n",
            "\u001b[2K     \u001b[90m━━━━━━━━━━━━━━━━━━━━━━━━━━━━━━━━━━━━━━━━\u001b[0m \u001b[32m542.0/542.0 kB\u001b[0m \u001b[31m43.8 MB/s\u001b[0m eta \u001b[36m0:00:00\u001b[0m\n",
            "\u001b[2K     \u001b[90m━━━━━━━━━━━━━━━━━━━━━━━━━━━━━━━━━━━━━━━━\u001b[0m \u001b[32m116.3/116.3 kB\u001b[0m \u001b[31m12.8 MB/s\u001b[0m eta \u001b[36m0:00:00\u001b[0m\n",
            "\u001b[2K     \u001b[90m━━━━━━━━━━━━━━━━━━━━━━━━━━━━━━━━━━━━━━━━\u001b[0m \u001b[32m194.1/194.1 kB\u001b[0m \u001b[31m13.4 MB/s\u001b[0m eta \u001b[36m0:00:00\u001b[0m\n",
            "\u001b[2K     \u001b[90m━━━━━━━━━━━━━━━━━━━━━━━━━━━━━━━━━━━━━━━━\u001b[0m \u001b[32m134.8/134.8 kB\u001b[0m \u001b[31m8.4 MB/s\u001b[0m eta \u001b[36m0:00:00\u001b[0m\n",
            "\u001b[2K     \u001b[90m━━━━━━━━━━━━━━━━━━━━━━━━━━━━━━━━━━━━━━━━\u001b[0m \u001b[32m401.2/401.2 kB\u001b[0m \u001b[31m19.1 MB/s\u001b[0m eta \u001b[36m0:00:00\u001b[0m\n",
            "\u001b[?25h"
          ]
        }
      ],
      "source": [
        "! pip install -q -U unidecode PyPDF2 beautifulsoup4 regex datasets"
      ]
    },
    {
      "cell_type": "markdown",
      "source": [],
      "metadata": {
        "id": "viC3vOpl_CW2"
      }
    },
    {
      "cell_type": "code",
      "source": [
        "import unidecode, random, string, time, pickle, requests, json, csv\n",
        "from bs4 import BeautifulSoup\n",
        "from tqdm.auto import tqdm\n",
        "from collections import OrderedDict\n",
        "from PyPDF2 import PdfReader\n",
        "import regex as re\n",
        "import torch\n",
        "from datasets import load_dataset"
      ],
      "metadata": {
        "id": "CooOF7NC-6OM"
      },
      "execution_count": 2,
      "outputs": []
    },
    {
      "cell_type": "code",
      "source": [
        "from google.colab import drive\n",
        "drive.mount('/content/drive/')"
      ],
      "metadata": {
        "colab": {
          "base_uri": "https://localhost:8080/"
        },
        "id": "e0DbA5-JTPm6",
        "outputId": "fd326ddd-4252-4683-ff26-504fd70a3b5d"
      },
      "execution_count": 3,
      "outputs": [
        {
          "output_type": "stream",
          "name": "stdout",
          "text": [
            "Mounted at /content/drive/\n"
          ]
        }
      ]
    },
    {
      "cell_type": "markdown",
      "source": [
        "## 1.Gather Text"
      ],
      "metadata": {
        "id": "Qn47PCNDAeWy"
      }
    },
    {
      "cell_type": "code",
      "source": [
        "# dataset = load_dataset(\"JeanKaddour/minipile\",split='train',trust_remote_code=True)"
      ],
      "metadata": {
        "id": "ss22Hz61gH2E"
      },
      "execution_count": 4,
      "outputs": []
    },
    {
      "cell_type": "code",
      "source": [
        "dataset2 = load_dataset('dvilasuero/distillama3-prompts10k', split='train')\n",
        "dataset3 = load_dataset(\"tatsu-lab/alpaca\", split = \"train\")\n",
        "dataset4 = load_dataset(\"garage-bAInd/Open-Platypus\", split = \"train\")"
      ],
      "metadata": {
        "colab": {
          "base_uri": "https://localhost:8080/",
          "height": 429,
          "referenced_widgets": [
            "9709cb601d5549f2972bac0231e16b47",
            "896ddcfc9f664771bbc9f06664b289ca",
            "2432d8b3dc3a4bc5b3baf8c9bc236359",
            "8d7a13f8562641f8b5bd55f58d980aa8",
            "18681d6f1be242d3a7c125a1327867ad",
            "875a551eb3c3464abf885b6186f6d4d4",
            "2037ae8550af479eba1428b421940215",
            "e7922b20edf349f8b166540191478abf",
            "765da6cab9fb40d19f6f9df7cecc65fb",
            "951de2d4136a4fbca28b1a500a3b251e",
            "1dceb02dc2124176ab64498a5a53c770",
            "f33bdb4aad2e4fa4b13ad668b2821997",
            "e919728ddcac43c38c6f1e82939d78e3",
            "95bce5b4aba449fdacc3f1436c3f0081",
            "31414eddcc4c4893a457931d665cddab",
            "32f2f7474ced4aa7a09abc21877ced8a",
            "ee4135eeb1c74fd7a2d23e9438ac1daa",
            "b01691f6a62d44f0a50827f93616a84e",
            "91300f8dce2d4fee964b21f28ee27744",
            "e79ccd363aad4e399abd0bc7fbcf1205",
            "45b54a043d81491ab0fc57b51412ac8e",
            "87ea72f3d971455d983d671f72f7d765",
            "2d5063ea1a464e84b7c82cdf4e77fc8a",
            "56c56cb9f8184132bacadeeedf46b31a",
            "4a7b2ee2c9e84af79f09c9477722ddea",
            "f64e7aae231648c48e51ab33af3ad165",
            "a1deb15afee541b2a69371f80f6314e5",
            "1244b2b08f99436a94d3353be35a2c2d",
            "e7cddd92b9934bbdafc90dd5de1c1fa6",
            "ff9d9b45b6fd40eab912b5dc06178618",
            "05c8e6abb50744e8adc9287923a5cfb7",
            "2d7b5918fe4b47a1b764534aec0cd176",
            "fee5da39da284cf3a83eb7ff472109ee",
            "102b895706944ec6a2d0571ad8fe921b",
            "b769cb61c0c1419290c62e63ad915cee",
            "ea983c403afc4aab89c1493b7d00ae1e",
            "c42e4151a1e04544a04ddba90a89958d",
            "73aee90df75246f68f9289230b7e21bd",
            "5c86adc525a4414fbe26474917878677",
            "ddc33fc848e9490eb24e8f7877923ed9",
            "fc87d2d91d9a45a8a4d0c91f660357d7",
            "cdf9ac150bf44964839ba4ea537ad944",
            "23770cabcf35421895c20ff5142f11c3",
            "9f3e590df0c944b799c342f4d27d93d7",
            "70ca91f8ffb34bf9b06478be7f7bec88",
            "657aab0b50ab4145a305bbcd7a5a8ce9",
            "40f3f6ec15bd4a668e4cb817af60522c",
            "4ccbeaf9998c40439f63c3b4dc324c91",
            "4cec43336cb34ae7922b0b27dbf19513",
            "0f170a2cbc374968897ac2cc3b4ae182",
            "9a34cf53586c46948073b6e3a910813d",
            "ed2298c93b38429cbe48b3e12e7d1b06",
            "68103159e3dc43aea8f0fc708e5ebffd",
            "a27d1f133cb546609bd38625c067469a",
            "f682d6d471c14c20a3b066211dc1d5af",
            "aad412d1ab274dd9bb112e00f6e9dfdf",
            "3f9ae6c76f0e402a81c4a234d2dfb30f",
            "ed70baec528f4c57a9021527c2cd898a",
            "b81c791994da4d9a9ac2289f405de6cc",
            "449bc8a3d3ea41c9ae2d06701dbf50ee",
            "8275a8964bb54a2ab766dd45586feb53",
            "d1f158d2ce134e4aa2398790d84d98cf",
            "6c7552e3623e4d758aee0d8ad66deb14",
            "3a0cfa2dffca4ffc85e85ff477d6acf8",
            "2973d58d31e3449eb4e14e564db60d78",
            "af581a61052b437e8729847ace016875",
            "1e39b1deb9874cb0975d3d6b9ee41b5f",
            "2d01a905fb3f49c0a7925b27f3a9bc13",
            "2547b50757be44d4bc54742a4ff4d5f7",
            "f7022c5119d843d29ab15a94f5e792e8",
            "e6371913d3f44b059ee577588fb00ce6",
            "1a8a1db95abc4979b89e26834010bf8c",
            "0a00767e8d9b4fbd9ab6532228c96840",
            "7e8169264d35484e94cfa4b4954a6946",
            "2cfae830df094efe810386e944cdb4bd",
            "1268f2b41fa345e4aa4c8e5da484e538",
            "1fd62da2d9054f95a45c9a1349b83b1b",
            "729b4af3aab643cd85092d186d116940",
            "23f812170d2a45e1901fd42ac0c9468b",
            "351462fbac764fda816d762bb5fef956",
            "cd24c7dc68b14e9fb03531c4eeb050a1",
            "a2aed7506f72425c80b785d18f459537",
            "7985d305d74d46b39fa388a928b1ea69",
            "5a19c284a92c4c09a634d4c7851eed46",
            "9666f714f4d448b58d8a9ef505519f25",
            "09c22421b90640f99ece34f934a8eb52",
            "55a08ae9ae4d4637a653723343e2c84f",
            "37e196e2435e44d0bb822e58a197de88",
            "699f8d09c7c34fc8bf9ecda552b67b61",
            "145d73b572d5498b80c903cbec741f4a",
            "69546c24b1374f2da8cfd7b109b66deb",
            "f9f92d92ced947f9aeb5dbbb41eb653e",
            "d0814926989b423ea473e911332d6cbf",
            "5240973038f14ac5b77eb2549493d57d",
            "c15bc6e9d8ab424fa4fc1c3a8edf6b45",
            "69aa87ee08f247e3bdaee7e2d3934c77",
            "9391975e73ef4be4aff6add18b5b5f2f",
            "b11beb80582d4beabb2ed41f89b650d2",
            "b474a3a504c948a1b8cd8f9bfafcda1a"
          ]
        },
        "id": "8LV1c6vxkr4O",
        "outputId": "a86df5c8-7299-42b5-f1bb-ce4317ffff77"
      },
      "execution_count": 5,
      "outputs": [
        {
          "output_type": "stream",
          "name": "stderr",
          "text": [
            "/usr/local/lib/python3.10/dist-packages/huggingface_hub/utils/_token.py:89: UserWarning: \n",
            "The secret `HF_TOKEN` does not exist in your Colab secrets.\n",
            "To authenticate with the Hugging Face Hub, create a token in your settings tab (https://huggingface.co/settings/tokens), set it as secret in your Google Colab and restart your session.\n",
            "You will be able to reuse this secret in all of your notebooks.\n",
            "Please note that authentication is recommended but still optional to access public models or datasets.\n",
            "  warnings.warn(\n"
          ]
        },
        {
          "output_type": "display_data",
          "data": {
            "text/plain": [
              "Downloading readme:   0%|          | 0.00/17.0k [00:00<?, ?B/s]"
            ],
            "application/vnd.jupyter.widget-view+json": {
              "version_major": 2,
              "version_minor": 0,
              "model_id": "9709cb601d5549f2972bac0231e16b47"
            }
          },
          "metadata": {}
        },
        {
          "output_type": "display_data",
          "data": {
            "text/plain": [
              "Downloading data:   0%|          | 0.00/1.41M [00:00<?, ?B/s]"
            ],
            "application/vnd.jupyter.widget-view+json": {
              "version_major": 2,
              "version_minor": 0,
              "model_id": "f33bdb4aad2e4fa4b13ad668b2821997"
            }
          },
          "metadata": {}
        },
        {
          "output_type": "display_data",
          "data": {
            "text/plain": [
              "Generating train split:   0%|          | 0/500 [00:00<?, ? examples/s]"
            ],
            "application/vnd.jupyter.widget-view+json": {
              "version_major": 2,
              "version_minor": 0,
              "model_id": "2d5063ea1a464e84b7c82cdf4e77fc8a"
            }
          },
          "metadata": {}
        },
        {
          "output_type": "display_data",
          "data": {
            "text/plain": [
              "Downloading readme:   0%|          | 0.00/7.47k [00:00<?, ?B/s]"
            ],
            "application/vnd.jupyter.widget-view+json": {
              "version_major": 2,
              "version_minor": 0,
              "model_id": "102b895706944ec6a2d0571ad8fe921b"
            }
          },
          "metadata": {}
        },
        {
          "output_type": "display_data",
          "data": {
            "text/plain": [
              "Downloading data:   0%|          | 0.00/24.2M [00:00<?, ?B/s]"
            ],
            "application/vnd.jupyter.widget-view+json": {
              "version_major": 2,
              "version_minor": 0,
              "model_id": "70ca91f8ffb34bf9b06478be7f7bec88"
            }
          },
          "metadata": {}
        },
        {
          "output_type": "display_data",
          "data": {
            "text/plain": [
              "Generating train split:   0%|          | 0/52002 [00:00<?, ? examples/s]"
            ],
            "application/vnd.jupyter.widget-view+json": {
              "version_major": 2,
              "version_minor": 0,
              "model_id": "aad412d1ab274dd9bb112e00f6e9dfdf"
            }
          },
          "metadata": {}
        },
        {
          "output_type": "display_data",
          "data": {
            "text/plain": [
              "Downloading readme:   0%|          | 0.00/5.34k [00:00<?, ?B/s]"
            ],
            "application/vnd.jupyter.widget-view+json": {
              "version_major": 2,
              "version_minor": 0,
              "model_id": "1e39b1deb9874cb0975d3d6b9ee41b5f"
            }
          },
          "metadata": {}
        },
        {
          "output_type": "display_data",
          "data": {
            "text/plain": [
              "Downloading data:   0%|          | 0.00/15.6M [00:00<?, ?B/s]"
            ],
            "application/vnd.jupyter.widget-view+json": {
              "version_major": 2,
              "version_minor": 0,
              "model_id": "729b4af3aab643cd85092d186d116940"
            }
          },
          "metadata": {}
        },
        {
          "output_type": "display_data",
          "data": {
            "text/plain": [
              "Generating train split:   0%|          | 0/24926 [00:00<?, ? examples/s]"
            ],
            "application/vnd.jupyter.widget-view+json": {
              "version_major": 2,
              "version_minor": 0,
              "model_id": "699f8d09c7c34fc8bf9ecda552b67b61"
            }
          },
          "metadata": {}
        }
      ]
    },
    {
      "cell_type": "code",
      "source": [
        "# dataset5 = load_dataset(\"tatsu-lab/alpaca\", split = \"train\")\n",
        "# dataset6 = load_dataset(\"THUDM/webglm-qa\", split = \"train\")"
      ],
      "metadata": {
        "id": "LJJsYRxqq5Vg"
      },
      "execution_count": 6,
      "outputs": []
    },
    {
      "cell_type": "code",
      "source": [
        "len(dataset2),len(dataset3),len(dataset4)"
      ],
      "metadata": {
        "colab": {
          "base_uri": "https://localhost:8080/"
        },
        "id": "BUpXBQ30JM1Y",
        "outputId": "7891156a-1366-4dad-bdb0-2dcbeb17fde6"
      },
      "execution_count": 8,
      "outputs": [
        {
          "output_type": "execute_result",
          "data": {
            "text/plain": [
              "(500, 52002, 24926)"
            ]
          },
          "metadata": {},
          "execution_count": 8
        }
      ]
    },
    {
      "cell_type": "code",
      "source": [
        "def load_dataset_(dataset):\n",
        "    idx = random.randint(0,len(dataset)-1)\n",
        "    text = f\"Instruction:\\n {dataset['instruction']} \\nInput:\\n{dataset['input']} \\nOutput:\\n{dataset['instruction']}\"\n",
        "    return text"
      ],
      "metadata": {
        "id": "vlpNif1GKsxr"
      },
      "execution_count": 11,
      "outputs": []
    },
    {
      "cell_type": "code",
      "source": [
        "text = load_dataset_(dataset3)"
      ],
      "metadata": {
        "id": "ETLHQDHKKusU"
      },
      "execution_count": 12,
      "outputs": []
    },
    {
      "cell_type": "markdown",
      "source": [
        "## 2.Training Tokenizer"
      ],
      "metadata": {
        "id": "geteU4Ri_t5I"
      }
    },
    {
      "cell_type": "code",
      "source": [
        "def load_vocab(path):\n",
        "    f =  open(path)\n",
        "    vocab = json.load(f)\n",
        "    f.close()\n",
        "    vocab = [i.encode('utf-8') for i in vocab]\n",
        "    return vocab\n",
        "\n",
        "def load_merges(path):\n",
        "    with open(path,'rb') as f:\n",
        "        merges = pickle.load(f)\n",
        "    return merges\n",
        "\n",
        "vocab = load_vocab(r'/content/drive/MyDrive/Pretrained_Models/vocab.json')\n",
        "merges = load_merges(r'/content/drive/MyDrive/Pretrained_Models/merges.pkl')"
      ],
      "metadata": {
        "id": "nV_xlXiegJ1y"
      },
      "execution_count": 9,
      "outputs": []
    },
    {
      "cell_type": "markdown",
      "source": [
        "### 2.1 Byte pair Encoding"
      ],
      "metadata": {
        "id": "0MJQ_bYjvET4"
      }
    },
    {
      "cell_type": "markdown",
      "source": [
        "Resource: https://github.com/karpathy/minbpe"
      ],
      "metadata": {
        "id": "c2v3HKg7wbNp"
      }
    },
    {
      "cell_type": "code",
      "source": [
        "class BasicTokenizer():\n",
        "    def __init__(self, vocab=None, merges=None) -> None:\n",
        "        self.pattern = r\"\"\"'(?:[sdmt]|ll|ve|re)| ?\\p{L}+| ?\\p{N}+| ?[^\\s\\p{L}\\p{N}]+|\\s+(?!\\S)|\\s+\"\"\"\n",
        "        self.compiled_pattern = re.compile(self.pattern)\n",
        "        self.vocab = vocab if vocab is not None else {}\n",
        "        self.merges = merges if merges is not None else {}\n",
        "\n",
        "    def get_stats(self, ids, counts=None):\n",
        "        counts = {} if counts is None else counts\n",
        "        for pair in zip(ids, ids[1:]): # iterate consecutive elements\n",
        "            counts[pair] = counts.get(pair, 0) + 1\n",
        "        return counts\n",
        "\n",
        "    def merge(self, ids, pair, idx):\n",
        "        newids = []\n",
        "        i = 0\n",
        "        while i < len(ids):\n",
        "            if ids[i] == pair[0] and i < len(ids) - 1 and ids[i+1] == pair[1]:\n",
        "                newids.append(idx)\n",
        "                i += 2\n",
        "            else:\n",
        "                newids.append(ids[i])\n",
        "                i += 1\n",
        "        return newids\n",
        "\n",
        "    def train(self, text, vocab_size, verbose, merges_dir,  vocab_dir):\n",
        "        text = re.sub(r'[^\\w\\p{P}\\p{M}\\p{Z}}\"]+',' ',text)\n",
        "        num_merges = vocab_size - 256\n",
        "        text_chunks = re.findall(self.compiled_pattern, text)\n",
        "        ids = [list(ch.encode(\"utf-8\")) for ch in text_chunks]\n",
        "        self.vocab = {idx: bytes([idx]) for idx in range(256)}\n",
        "        for i in tqdm(range(num_merges),desc='Token merges'):\n",
        "            stats = {}\n",
        "            for chunk_ids in ids:\n",
        "                stats = self.get_stats(chunk_ids, stats)\n",
        "            if len(stats) > 0:\n",
        "                pair = max(stats, key=lambda x: stats[x])\n",
        "                idx = 256 + i\n",
        "                ids = [self.merge(chunk_ids, pair, idx) for chunk_ids in ids]\n",
        "                self.merges[pair] = idx\n",
        "                self.vocab[idx] = self.vocab[pair[0]] + self.vocab[pair[1]]\n",
        "                if verbose:\n",
        "                    print(f\"merge {i+1}/{num_merges}: {pair} -> {idx} ({self.vocab[idx]}) had {stats[pair]} occurrences\")\n",
        "            else:\n",
        "                pass\n",
        "        self.save_merges(merges_dir)\n",
        "        self.save_vocab(vocab_dir)\n",
        "        return self.merges, self.vocab\n",
        "\n",
        "    def encode_chunk(self,text_bytes):\n",
        "            # return the token ids\n",
        "            # let's begin. first, convert all bytes to integers in range 0..255\n",
        "            # text_bytes = bytes(text.encode('utf-8'))\n",
        "            ids = list(text_bytes)\n",
        "            while len(ids) >= 2:\n",
        "                # find the pair with the lowest merge index\n",
        "                stats = self.get_stats(ids)\n",
        "                pair = min(stats, key=lambda p: self.merges.get(p, float(\"inf\")))\n",
        "                # subtle: if there are no more merges available, the key will\n",
        "                # result in an inf for every single pair, and the min will be\n",
        "                # just the first pair in the list, arbitrarily\n",
        "                # we can detect this terminating case by a membership check\n",
        "                if pair not in self.merges:\n",
        "                    break # nothing else can be merged anymore\n",
        "                # otherwise let's merge the best pair (lowest merge index)\n",
        "                idx = self.merges[pair]\n",
        "                ids = self.merge(ids, pair, idx)\n",
        "            return ids\n",
        "\n",
        "    def decode(self, ids):\n",
        "        text_bytes = b\"\".join([self.vocab[i] for i in ids])\n",
        "        text = text_bytes.decode(\"utf-8\", errors=\"replace\")\n",
        "        return text\n",
        "\n",
        "    def encode_ordinary(self, text):\n",
        "        \"\"\"Encoding that ignores any special tokens.\"\"\"\n",
        "        # split text into chunks of text by categories defined in regex pattern\n",
        "        text_chunks = re.findall(self.compiled_pattern, text)\n",
        "        # all chunks of text are encoded separately, then results are joined\n",
        "        ids = []\n",
        "        for chunk in text_chunks:\n",
        "            chunk_bytes = chunk.encode(\"utf-8\") # raw bytes\n",
        "            chunk_ids = self.encode_chunk(chunk_bytes)\n",
        "            ids.extend(chunk_ids)\n",
        "        return ids\n",
        "\n",
        "    def save_vocab(self, save_path):\n",
        "        data = [i.decode('utf-8',errors='replace') for i in list(self.vocab.values())]\n",
        "        with open(save_path,'w') as file:\n",
        "            json.dump(data,file,indent=4)\n",
        "\n",
        "    def save_merges(self, save_path):\n",
        "        with open(save_path,'wb') as f:\n",
        "            pickle.dump(self.merges,f)\n",
        "\n",
        "def load_vocab(path):\n",
        "    f =  open(path)\n",
        "    vocab = json.load(f)\n",
        "    f.close()\n",
        "    vocab = [i.encode('utf-8') for i in vocab]\n",
        "    return vocab\n",
        "\n",
        "def load_merges(path):\n",
        "    with open(path,'rb') as f:\n",
        "        merges = pickle.load(f)\n",
        "    return merges\n"
      ],
      "metadata": {
        "id": "dCNZ1GJh-TyH"
      },
      "execution_count": 10,
      "outputs": []
    },
    {
      "cell_type": "code",
      "source": [
        "#tokenizer = BasicTokenizer(vocab,merges)"
      ],
      "metadata": {
        "id": "NLl5yXrs-YmZ"
      },
      "execution_count": 13,
      "outputs": []
    },
    {
      "cell_type": "code",
      "source": [
        "# tokenizer.train(text3, 900, False)"
      ],
      "metadata": {
        "id": "-w6gqh0H105j"
      },
      "execution_count": 14,
      "outputs": []
    },
    {
      "cell_type": "markdown",
      "source": [
        "`Note`: Byte Pair encoding is not used to fit the training withing T4's memory. Use as small as vocabulary as possible. For this notebook punctuations with lowercased letters are used as vocab later."
      ],
      "metadata": {
        "id": "cwjWKEY4tZuX"
      }
    },
    {
      "cell_type": "markdown",
      "source": [
        "### 2.2 Character Level Tokenizer"
      ],
      "metadata": {
        "id": "Zfcl9wozvKQp"
      }
    },
    {
      "cell_type": "code",
      "source": [
        "class CharacterTokenizer:\n",
        "    def __init__(self, vocab = None) -> None:\n",
        "        self.vocab = vocab if vocab is not None else list(string.printable)\n",
        "        self.vocab = list(string.printable)\n",
        "        self.stoi = {s:i for i,s in enumerate(self.vocab)}\n",
        "        self.itos = {i:s for i,s in enumerate(self.vocab)}\n",
        "\n",
        "    def encode_text(self,text):\n",
        "        encoded = [self.stoi[words] for words in text]\n",
        "        return encoded\n",
        "\n",
        "    def decode_ids(self,ids):\n",
        "        decoded = ''.join([self.itos[idx] for idx in ids])\n",
        "        return decoded"
      ],
      "metadata": {
        "id": "2wKtTLjAvAEc"
      },
      "execution_count": null,
      "outputs": []
    },
    {
      "cell_type": "markdown",
      "source": [
        "## 3.Getting Dataloaders"
      ],
      "metadata": {
        "id": "mGk9W7lYt8to"
      }
    },
    {
      "cell_type": "code",
      "source": [
        "from torch.utils.data import TensorDataset, DataLoader, random_split"
      ],
      "metadata": {
        "id": "f4pnkza4t8Yv"
      },
      "execution_count": null,
      "outputs": []
    },
    {
      "cell_type": "code",
      "source": [
        "class Sampler:\n",
        "    def __init__(self,tokenizer=None):\n",
        "        self.tokenizer = tokenizer if tokenizer is not None else CharacterTokenizer\n",
        "\n",
        "    def random_portion(self, text, chunk_size):\n",
        "        start_idx = random.randint(0,len(text) - chunk_size)\n",
        "        end_idx = start_idx + chunk_size + 1\n",
        "        text = text[start_idx: end_idx]\n",
        "        return text\n",
        "\n",
        "    def read_pdf(self,path):\n",
        "        text = \"\"\n",
        "        pdf_reader = PdfReader(path)\n",
        "        index = random.randint(0,len(pdf_reader.pages)-1)\n",
        "        for page in pdf_reader.pages[index:index+1]:\n",
        "            text += page.extract_text()\n",
        "        text = unidecode.unidecode(text)\n",
        "        return text\n",
        "\n",
        "    def preprocess(self,text):\n",
        "        text = unidecode.unidecode(text)\n",
        "        text = re.sub(r'[^\\p{L}\\p{N}\\p{M}\\p{Z}]+',' ',text)\n",
        "        return text\n",
        "\n",
        "    def generate_context_target_words(self, ids,seq_len):\n",
        "        context, targets = [], []\n",
        "        for i in range(seq_len,len(ids)-seq_len):\n",
        "            context.append(ids[i-seq_len:i])\n",
        "            targets.append(ids[i-seq_len+1:i+1])\n",
        "        return context, targets\n",
        "\n",
        "    def get_dataloaders(self,context,targets,batch_size,device):\n",
        "        X = torch.tensor(context,device=device)\n",
        "        y = torch.tensor(targets,device=device)\n",
        "        dataset = TensorDataset(X,y)\n",
        "        train_size = int(0.8 * len(dataset))\n",
        "        test_size = len(dataset) - train_size\n",
        "        train_dataset, valid_dataset = random_split(dataset, [train_size, test_size])\n",
        "\n",
        "        train_loader = DataLoader(dataset=train_dataset,shuffle=True,batch_size=batch_size)\n",
        "        valid_loader = DataLoader(dataset=valid_dataset,shuffle=True,batch_size=batch_size)\n",
        "        return train_loader, valid_loader\n",
        "\n",
        "\n",
        "    def __call__(self, seq_len, batch_size, device,  text=None, pdf_path=None, chunk_size=1000):\n",
        "        if pdf_path is not None:\n",
        "            text = self.read_pdf(pdf_path)\n",
        "        else:\n",
        "            pass\n",
        "        text = text.lower()\n",
        "        text = self.random_portion(text, chunk_size)\n",
        "        text = self.preprocess(text)\n",
        "        ids = self.tokenizer.encode_text(text)\n",
        "        context, targets = self.generate_context_target_words(ids, seq_len)\n",
        "        train_loader, valid_loader = self.get_dataloaders(context, targets, batch_size, device)\n",
        "        return train_loader, valid_loader"
      ],
      "metadata": {
        "id": "6i8Z_7JX_W4p"
      },
      "execution_count": 16,
      "outputs": []
    },
    {
      "cell_type": "markdown",
      "source": [
        "## 4.Loading Model"
      ],
      "metadata": {
        "id": "DtZJrJf-iq2o"
      }
    },
    {
      "cell_type": "code",
      "source": [
        "import torch.nn as nn\n",
        "import torch.nn.functional as F\n",
        "from torch.profiler import profile, record_function, ProfilerActivity\n",
        "from dataclasses import dataclass"
      ],
      "metadata": {
        "id": "EXZJlFVgi4E4"
      },
      "execution_count": 17,
      "outputs": []
    },
    {
      "cell_type": "code",
      "source": [
        "vocab = list(string.ascii_lowercase + string.punctuation)\n",
        "tokenizer = CharacterTokenizer(vocab)\n",
        "sampler = Sampler(tokenizer)"
      ],
      "metadata": {
        "id": "PkEo2034qDPX"
      },
      "execution_count": 19,
      "outputs": []
    },
    {
      "cell_type": "code",
      "source": [
        "@dataclass\n",
        "class ModelArgs:\n",
        "    in_ = len(vocab)\n",
        "    batch = 128\n",
        "    seq_len = 128\n",
        "    dim = 256\n",
        "    q_heads = 8\n",
        "    kv_heads = 2\n",
        "    hdim = dim // q_heads\n",
        "    blocks = 4\n",
        "    dropout = 0.2"
      ],
      "metadata": {
        "id": "mzHkD7xMWtZH"
      },
      "execution_count": 20,
      "outputs": []
    },
    {
      "cell_type": "markdown",
      "source": [
        "### 4.1 Root Mean Square Normalisation"
      ],
      "metadata": {
        "id": "jIVOJxnyvuWU"
      }
    },
    {
      "cell_type": "code",
      "source": [
        "class RMSNorm(nn.Module):\n",
        "    def __init__(self, n_dim, eps=1e-8):\n",
        "        super().__init__()\n",
        "        self.eps = eps\n",
        "        self.scale = nn.Parameter(torch.ones(n_dim))\n",
        "\n",
        "    def forward(self, x):\n",
        "        x_normed = (\n",
        "            x.float() * torch.rsqrt(x.float().pow(2).mean(-1, keepdim=True) + self.eps)\n",
        "        ).type_as(x)\n",
        "        return x_normed * self.scale"
      ],
      "metadata": {
        "id": "pKezoUkuiXLL"
      },
      "execution_count": 21,
      "outputs": []
    },
    {
      "cell_type": "markdown",
      "source": [
        "### 4.2 SwiGLU (Activation Function)"
      ],
      "metadata": {
        "id": "FTImd7lRvzdM"
      }
    },
    {
      "cell_type": "code",
      "source": [
        "class SwiGLU(nn.Module):\n",
        "    # SwiGLU(x,W,V,b,c) = x.sigmoid(BxW + b) * (xV+c), *-> element wise product\n",
        "    def __init__(self,n_dim):\n",
        "        super().__init__()\n",
        "        self.linear_gate= nn.Linear(n_dim, n_dim)\n",
        "        self.linear = nn.Linear(n_dim,n_dim)\n",
        "        self.beta = nn.Parameter(torch.ones(1))\n",
        "        self.register_parameter('beta', self.beta)\n",
        "\n",
        "    def forward(self,x):\n",
        "        swish_gate = x * torch.sigmoid(self.beta * self.linear_gate(x))\n",
        "        out = swish_gate * self.linear(x)\n",
        "        return out"
      ],
      "metadata": {
        "id": "eTxgEjgfi6eg"
      },
      "execution_count": 22,
      "outputs": []
    },
    {
      "cell_type": "markdown",
      "source": [
        "### 4.3 Rotary Positional Embeddings"
      ],
      "metadata": {
        "id": "sFQwGjrQv52r"
      }
    },
    {
      "cell_type": "code",
      "source": [
        "def get_rotary_matrix(seq_len, n_dim, base=10000):\n",
        "    R = torch.zeros((seq_len, n_dim, n_dim),requires_grad=False)\n",
        "    for p in range(seq_len):\n",
        "        for i in range(n_dim // 2):\n",
        "            theta = base ** (-2. * (i-1)/n_dim)\n",
        "            m_theta = torch.tensor(p * theta)\n",
        "            R[p, 2*i, 2*i] = torch.cos(m_theta)\n",
        "            R[p, 2*i, 2*i+1] = -torch.sin(m_theta)\n",
        "            R[p, 2*i+1, 2*i] = torch.sin(m_theta)\n",
        "            R[p, 2*i+1, 2*i+1] = torch.cos(m_theta)\n",
        "    return R"
      ],
      "metadata": {
        "id": "10wJ27sbi6WR"
      },
      "execution_count": 23,
      "outputs": []
    },
    {
      "cell_type": "markdown",
      "source": [
        "### 4.4 RoPE Self Attention"
      ],
      "metadata": {
        "id": "OWiky930wDdK"
      }
    },
    {
      "cell_type": "code",
      "source": [
        "class RoPEMaskedAttentionHead(nn.Module):\n",
        "    def __init__(self, args:ModelArgs):\n",
        "        super().__init__()\n",
        "        self.wq = nn.Linear(args.dim,args.dim, bias=False)\n",
        "        self.wk = nn.Linear(args.dim,args.dim, bias=False)\n",
        "        self.wv = nn.Linear(args.dim,args.dim, bias=False)\n",
        "        self.R = get_rotary_matrix(args.seq_len,args.dim)\n",
        "        self.drop = args.dropout\n",
        "\n",
        "    def forward(self, x):\n",
        "        q = self.wq(x)\n",
        "        k = self.wk(x)\n",
        "        v = self.wv(x)\n",
        "        self.R = self.R.to(x.device)\n",
        "        q_rotated = (torch.bmm(q.transpose(0, 1), self.R[:x.shape[1]])).transpose(0, 1)\n",
        "        k_rotated = (torch.bmm(k.transpose(0, 1), self.R[:x.shape[1]])).transpose(0, 1)\n",
        "        activations = F.scaled_dot_product_attention(q_rotated,k_rotated,v,dropout_p=self.drop,is_causal=True)\n",
        "        return activations"
      ],
      "metadata": {
        "id": "Nryk9-nOjJQm"
      },
      "execution_count": 24,
      "outputs": []
    },
    {
      "cell_type": "markdown",
      "source": [
        "### 4.5 RoPE Multi-Head Attention"
      ],
      "metadata": {
        "id": "67EboalkwHzi"
      }
    },
    {
      "cell_type": "code",
      "source": [
        "class RoPEMaskedMultiheadAttention(nn.Module):\n",
        "    def __init__(self, args:ModelArgs):\n",
        "        super().__init__()\n",
        "        self.heads = nn.ModuleList([\n",
        "            RoPEMaskedAttentionHead(args) for _ in range(args.q_heads)\n",
        "        ])\n",
        "        self.linear = nn.Linear(args.q_heads*args.dim, args.dim)\n",
        "        self.dropout = nn.Dropout(args.dropout)\n",
        "\n",
        "    def forward(self, x):\n",
        "        heads = [h(x) for h in self.heads]\n",
        "        x = torch.cat(heads, dim=-1)\n",
        "        x = self.linear(x)\n",
        "        x = self.dropout(x)\n",
        "        return x"
      ],
      "metadata": {
        "id": "BRP46BepjKQP"
      },
      "execution_count": 25,
      "outputs": []
    },
    {
      "cell_type": "markdown",
      "source": [
        "### 4.6 Decoder Model Block"
      ],
      "metadata": {
        "id": "RCz89tBlwNet"
      }
    },
    {
      "cell_type": "code",
      "source": [
        "class ModelBlock(nn.Module):\n",
        "    def __init__(self, args:ModelArgs):\n",
        "        super().__init__()\n",
        "        self.rms = RMSNorm(args.dim)\n",
        "        self.rope_attention = RoPEMaskedMultiheadAttention(args)\n",
        "        self.linear = nn.Sequential(\n",
        "            nn.Linear(args.dim, args.dim),\n",
        "            SwiGLU(args.dim)\n",
        "        )\n",
        "\n",
        "    def forward(self, x):\n",
        "        x = self.rms(x)\n",
        "        x = x + self.rope_attention(x)\n",
        "        x = self.rms(x)\n",
        "        x = x + self.linear(x)\n",
        "        return x"
      ],
      "metadata": {
        "id": "U9D_LYWLjPFr"
      },
      "execution_count": 26,
      "outputs": []
    },
    {
      "cell_type": "markdown",
      "source": [
        "### 4.7 Complete Model"
      ],
      "metadata": {
        "id": "R9GIahp8wTUt"
      }
    },
    {
      "cell_type": "code",
      "source": [
        "class Model(nn.Module):\n",
        "    def __init__(self, args:ModelArgs):\n",
        "        super().__init__()\n",
        "        self.embeddings = nn.Embedding(args.in_,args.dim)\n",
        "        self.model_blocks = nn.Sequential(\n",
        "            OrderedDict([(f\"block_{i}\", ModelBlock(args)) for i in range(args.blocks)])\n",
        "        )\n",
        "        self.ffn = nn.Sequential(\n",
        "            nn.Linear(args.dim,args.dim),\n",
        "            SwiGLU(args.dim),\n",
        "            nn.Linear(args.dim,args.in_)\n",
        "        )\n",
        "    def forward(self, idx):\n",
        "        x = self.embeddings(idx)\n",
        "        x = self.model_blocks(x)\n",
        "        logits = self.ffn(x)\n",
        "        return logits"
      ],
      "metadata": {
        "id": "QK8dDEEdjShH"
      },
      "execution_count": 27,
      "outputs": []
    },
    {
      "cell_type": "markdown",
      "source": [
        "## 5.Setup Model"
      ],
      "metadata": {
        "id": "vV0jMi4TldmJ"
      }
    },
    {
      "cell_type": "code",
      "source": [
        "device = torch.device('cuda' if torch.cuda.is_available() else 'cpu')"
      ],
      "metadata": {
        "id": "ytJsDm86pcgM"
      },
      "execution_count": 28,
      "outputs": []
    },
    {
      "cell_type": "code",
      "source": [
        "@dataclass\n",
        "class TrainingArgs:\n",
        "    epochs = 1e3\n",
        "    lr = 1e-3\n",
        "    scheduler_gamma = 0.9999\n",
        "    use_mixed_precision = True\n",
        "    model_save_dir = r'/content/drive/MyDrive/Pretrained_Models/model_checkpoint_5.pt'\n",
        "    model_load_dir = model_save_dir\n",
        "    loss_dir = r'/content/drive/MyDrive/Pretrained_Models/loss.csv'"
      ],
      "metadata": {
        "id": "Tzho9e8gO62D"
      },
      "execution_count": 29,
      "outputs": []
    },
    {
      "cell_type": "code",
      "source": [
        "def save_checkpoint(model, optimizer, save_path:str, epoch:int, scaler):\n",
        "    torch.save({\n",
        "        'model_state_dict': model.state_dict(),\n",
        "        'optimizer_state_dict': optimizer.state_dict(),\n",
        "        'scaler':scaler.state_dict(),\n",
        "        'epoch': epoch,\n",
        "    }, save_path)\n",
        "\n",
        "def load_checkpoint(model, optimizer, scaler, load_path:str,device):\n",
        "    checkpoint = torch.load(load_path, map_location=device)\n",
        "    model.load_state_dict(checkpoint['model_state_dict'])\n",
        "    optimizer.load_state_dict(checkpoint['optimizer_state_dict'])\n",
        "    scaler.load_state_dict(checkpoint['scaler'])\n",
        "    epoch = checkpoint['epoch']\n",
        "    return model, optimizer, scaler, epoch"
      ],
      "metadata": {
        "id": "sRjzY2L8jpAa"
      },
      "execution_count": 30,
      "outputs": []
    },
    {
      "cell_type": "code",
      "source": [
        "def save_loss(loss_data,save_dir):\n",
        "    with open(save_dir, 'w') as f:\n",
        "        csvwriter = csv.writer(f)\n",
        "        csvwriter.writerows(loss_data)"
      ],
      "metadata": {
        "id": "FYQqJRH5PKml"
      },
      "execution_count": 31,
      "outputs": []
    },
    {
      "cell_type": "code",
      "source": [
        "def train(model, args:ModelArgs, text, train_args:TrainingArgs, dataloader, optimizer, scheduler, device, checkpointing=False, save_loss=False):\n",
        "    # Gradient scaling helps prevent gradients with small magnitudes from flushing to zero (“underflowing”) when training with mixed precision.\n",
        "    scaler = torch.cuda.amp.GradScaler()\n",
        "    loss_logs = []\n",
        "    if checkpointing is True:\n",
        "        model, optimizer, scaler, epoch = load_checkpoint(model,optimizer,scaler, train_args.model_load_dir, device)\n",
        "    try:\n",
        "        model.train()\n",
        "        start = time.time()\n",
        "        for epoch in tqdm(range(int(train_args.epochs)),desc='Epochs',total=train_args.epochs,maxinterval=train_args.epochs//10):\n",
        "            train_dataloader, validation_dataloader = dataloader(args.seq_len, args.batch, device, text)\n",
        "            for x_batch, y_batch in train_dataloader:\n",
        "                with torch.autocast(device_type='cuda', dtype=torch.float16, enabled=train_args.use_mixed_precision):\n",
        "                    y_pred = model(x_batch)\n",
        "                    train_loss = F.cross_entropy(y_pred.view(-1,y_pred.shape[2]),y_batch.view(-1))\n",
        "                scaler.scale(train_loss).backward()\n",
        "                # nn.utils.clip_grad_norm_(model.parameters(),1.0)\n",
        "                scaler.step(optimizer)\n",
        "                scaler.update()\n",
        "                optimizer.zero_grad(set_to_none=True)\n",
        "\n",
        "            model.eval()\n",
        "            with torch.inference_mode():\n",
        "                for x_batch, y_batch in validation_dataloader:\n",
        "                    y_pred = model(x_batch)\n",
        "                    validation_loss = F.cross_entropy(y_pred.view(-1,y_pred.shape[2]),y_batch.view(-1))\n",
        "\n",
        "            if epoch %  (train_args.epochs/10) == 0:\n",
        "                batch_time = time.time() - start\n",
        "                model.eval()\n",
        "                gpu_usage = round(torch.cuda.memory_reserved(0)/1024**3,1)\n",
        "                print(f'\\nEpoch: {epoch} | Train Loss : {train_loss.detach().item():.4f} | Eval Loss : {validation_loss.detach().item():.4f} | Time : {batch_time:.2f} s | Learning Rate: {scheduler.get_last_lr()[0]:.2e} | Gpu Usage: {gpu_usage}\\n')\n",
        "                model.train()\n",
        "            scheduler.step()\n",
        "            loss_logs.append((train_loss.detach().item(), validation_loss.detach().item()))\n",
        "    except KeyboardInterrupt:\n",
        "        save_checkpoint(model,optimizer,train_args.model_save_dir,epoch, scaler)\n",
        "\n",
        "    if TrainingArgs.model_save_dir is not None:\n",
        "        save_checkpoint(model,optimizer,train_args.model_save_dir,epoch, scaler)\n",
        "\n",
        "    if save_loss is True:\n",
        "        save_loss(loss_logs,TrainingArgs.loss_dir)"
      ],
      "metadata": {
        "id": "oDSTT5MYjSNI"
      },
      "execution_count": 32,
      "outputs": []
    },
    {
      "cell_type": "code",
      "source": [
        "def diagnose_model(model, args:ModelArgs, device=None):\n",
        "    x = torch.randint(0,100,(args.batch,args.seq_len),device=device)\n",
        "    with profile(activities=[\n",
        "            ProfilerActivity.CPU, ProfilerActivity.CUDA], record_shapes=True) as prof:\n",
        "        with record_function(\"model_inference\"):\n",
        "            model(x)\n",
        "\n",
        "    print(prof.key_averages().table(sort_by=\"cuda_time_total\", row_limit=10))\n",
        "    print('Number of Parameters in the Model:',sum(param.numel() for param in model.parameters()))"
      ],
      "metadata": {
        "id": "h-bJD9jZj-F1"
      },
      "execution_count": 33,
      "outputs": []
    },
    {
      "cell_type": "code",
      "source": [
        "model = Model(ModelArgs)\n",
        "model.to(device)"
      ],
      "metadata": {
        "colab": {
          "base_uri": "https://localhost:8080/"
        },
        "id": "0fEpuWkgNy2e",
        "outputId": "013a7bd2-7f0b-4fd5-aceb-00470a1aedfb"
      },
      "execution_count": 34,
      "outputs": [
        {
          "output_type": "execute_result",
          "data": {
            "text/plain": [
              "Model(\n",
              "  (embeddings): Embedding(58, 256)\n",
              "  (model_blocks): Sequential(\n",
              "    (block_0): ModelBlock(\n",
              "      (rms): RMSNorm()\n",
              "      (rope_attention): RoPEMaskedMultiheadAttention(\n",
              "        (heads): ModuleList(\n",
              "          (0-7): 8 x RoPEMaskedAttentionHead(\n",
              "            (wq): Linear(in_features=256, out_features=256, bias=False)\n",
              "            (wk): Linear(in_features=256, out_features=256, bias=False)\n",
              "            (wv): Linear(in_features=256, out_features=256, bias=False)\n",
              "          )\n",
              "        )\n",
              "        (linear): Linear(in_features=2048, out_features=256, bias=True)\n",
              "        (dropout): Dropout(p=0.2, inplace=False)\n",
              "      )\n",
              "      (linear): Sequential(\n",
              "        (0): Linear(in_features=256, out_features=256, bias=True)\n",
              "        (1): SwiGLU(\n",
              "          (linear_gate): Linear(in_features=256, out_features=256, bias=True)\n",
              "          (linear): Linear(in_features=256, out_features=256, bias=True)\n",
              "        )\n",
              "      )\n",
              "    )\n",
              "    (block_1): ModelBlock(\n",
              "      (rms): RMSNorm()\n",
              "      (rope_attention): RoPEMaskedMultiheadAttention(\n",
              "        (heads): ModuleList(\n",
              "          (0-7): 8 x RoPEMaskedAttentionHead(\n",
              "            (wq): Linear(in_features=256, out_features=256, bias=False)\n",
              "            (wk): Linear(in_features=256, out_features=256, bias=False)\n",
              "            (wv): Linear(in_features=256, out_features=256, bias=False)\n",
              "          )\n",
              "        )\n",
              "        (linear): Linear(in_features=2048, out_features=256, bias=True)\n",
              "        (dropout): Dropout(p=0.2, inplace=False)\n",
              "      )\n",
              "      (linear): Sequential(\n",
              "        (0): Linear(in_features=256, out_features=256, bias=True)\n",
              "        (1): SwiGLU(\n",
              "          (linear_gate): Linear(in_features=256, out_features=256, bias=True)\n",
              "          (linear): Linear(in_features=256, out_features=256, bias=True)\n",
              "        )\n",
              "      )\n",
              "    )\n",
              "    (block_2): ModelBlock(\n",
              "      (rms): RMSNorm()\n",
              "      (rope_attention): RoPEMaskedMultiheadAttention(\n",
              "        (heads): ModuleList(\n",
              "          (0-7): 8 x RoPEMaskedAttentionHead(\n",
              "            (wq): Linear(in_features=256, out_features=256, bias=False)\n",
              "            (wk): Linear(in_features=256, out_features=256, bias=False)\n",
              "            (wv): Linear(in_features=256, out_features=256, bias=False)\n",
              "          )\n",
              "        )\n",
              "        (linear): Linear(in_features=2048, out_features=256, bias=True)\n",
              "        (dropout): Dropout(p=0.2, inplace=False)\n",
              "      )\n",
              "      (linear): Sequential(\n",
              "        (0): Linear(in_features=256, out_features=256, bias=True)\n",
              "        (1): SwiGLU(\n",
              "          (linear_gate): Linear(in_features=256, out_features=256, bias=True)\n",
              "          (linear): Linear(in_features=256, out_features=256, bias=True)\n",
              "        )\n",
              "      )\n",
              "    )\n",
              "    (block_3): ModelBlock(\n",
              "      (rms): RMSNorm()\n",
              "      (rope_attention): RoPEMaskedMultiheadAttention(\n",
              "        (heads): ModuleList(\n",
              "          (0-7): 8 x RoPEMaskedAttentionHead(\n",
              "            (wq): Linear(in_features=256, out_features=256, bias=False)\n",
              "            (wk): Linear(in_features=256, out_features=256, bias=False)\n",
              "            (wv): Linear(in_features=256, out_features=256, bias=False)\n",
              "          )\n",
              "        )\n",
              "        (linear): Linear(in_features=2048, out_features=256, bias=True)\n",
              "        (dropout): Dropout(p=0.2, inplace=False)\n",
              "      )\n",
              "      (linear): Sequential(\n",
              "        (0): Linear(in_features=256, out_features=256, bias=True)\n",
              "        (1): SwiGLU(\n",
              "          (linear_gate): Linear(in_features=256, out_features=256, bias=True)\n",
              "          (linear): Linear(in_features=256, out_features=256, bias=True)\n",
              "        )\n",
              "      )\n",
              "    )\n",
              "  )\n",
              "  (ffn): Sequential(\n",
              "    (0): Linear(in_features=256, out_features=256, bias=True)\n",
              "    (1): SwiGLU(\n",
              "      (linear_gate): Linear(in_features=256, out_features=256, bias=True)\n",
              "      (linear): Linear(in_features=256, out_features=256, bias=True)\n",
              "    )\n",
              "    (2): Linear(in_features=256, out_features=58, bias=True)\n",
              "  )\n",
              ")"
            ]
          },
          "metadata": {},
          "execution_count": 34
        }
      ]
    },
    {
      "cell_type": "code",
      "source": [
        "optimizer = torch.optim.AdamW(model.parameters(),TrainingArgs.lr)\n",
        "scheduler = torch.optim.lr_scheduler.ExponentialLR(optimizer, gamma=0.9999)"
      ],
      "metadata": {
        "id": "kj_XBQ52k9Yl"
      },
      "execution_count": 35,
      "outputs": []
    },
    {
      "cell_type": "markdown",
      "source": [
        "## 6.Run Diagnostics"
      ],
      "metadata": {
        "id": "IMLNmFALlom6"
      }
    },
    {
      "cell_type": "code",
      "source": [
        "diagnose_model(model,ModelArgs,device)"
      ],
      "metadata": {
        "id": "rrE_BdIRlZyr"
      },
      "execution_count": null,
      "outputs": []
    },
    {
      "cell_type": "markdown",
      "source": [
        "## 7.Train Model"
      ],
      "metadata": {
        "id": "PYcMEhAol8bV"
      }
    },
    {
      "cell_type": "code",
      "source": [
        "train(\n",
        "    model=model,\n",
        "    args=ModelArgs,\n",
        "    text=text,\n",
        "    train_args=TrainingArgs,\n",
        "    dataloader=sampler,\n",
        "    optimizer=optimizer,\n",
        "    scheduler=scheduler,\n",
        "    device=device,\n",
        "    checkpointing=True,\n",
        "    save_loss=True,\n",
        "    )"
      ],
      "metadata": {
        "id": "9A3lI-JUl7Or"
      },
      "execution_count": null,
      "outputs": []
    },
    {
      "cell_type": "markdown",
      "source": [
        "## 8.Inference"
      ],
      "metadata": {
        "id": "w-DNWjDFEbMQ"
      }
    },
    {
      "cell_type": "markdown",
      "source": [
        "### 8.1 Greedy Decoding"
      ],
      "metadata": {
        "id": "5an-3__Evf-C"
      }
    },
    {
      "cell_type": "code",
      "source": [
        "def model_generate_greedy(model, input_ids, seq_len, gen_len, temperature):\n",
        "    model.eval()\n",
        "    with torch.inference_mode():\n",
        "        for _ in range(gen_len):\n",
        "            X_trunc = input_ids[:,-seq_len:] # truncate all besides last context length terms\n",
        "            logits = model(X_trunc)\n",
        "            logits = logits / temperature # Scales the logits. Lower temperature makes higher logits peaky leading to higher confidence\n",
        "            logits = logits[:,-1,:] # use only last token for next token generation\n",
        "            probs = F.softmax(logits,dim=-1)\n",
        "            next_tok = torch.multinomial(probs,num_samples=1)\n",
        "            input_ids = torch.cat((input_ids,next_tok),dim=1)\n",
        "    #gen = tokenizer.decode_ids(x[0].tolist())\n",
        "    return input_ids"
      ],
      "metadata": {
        "id": "eV46zNtlFN8E"
      },
      "execution_count": null,
      "outputs": []
    },
    {
      "cell_type": "markdown",
      "source": [
        "### 8.2 Top-k Sampling"
      ],
      "metadata": {
        "id": "foVjnT6rviyb"
      }
    },
    {
      "cell_type": "code",
      "source": [
        "def top_k_sampling(input_ids, model, max_tokens=100, top_k=50, temperature=1.0):\n",
        "    for _ in range(max_tokens):\n",
        "        # Temporarily disables gradient calculation to improve performance and reduce memory usage\n",
        "        with torch.inference_mode():\n",
        "            logits = model(input_ids)\n",
        "            logits = logits[:, -1, :]\n",
        "            # Select the top K tokens from the probability distribution\n",
        "            top_k_logits, top_k_indices = torch.topk(logits, top_k)\n",
        "\n",
        "            # Apply softmax to convert logits to probabilities, with optional temperature scaling\n",
        "            top_k_probs = F.softmax(top_k_logits / temperature, dim=-1)\n",
        "\n",
        "            # Sample from the top K tokens to determine the next token\n",
        "            next_token_index = torch.multinomial(top_k_probs, num_samples=1)\n",
        "\n",
        "            # Map the sampled token back to its original index in the logits tensor\n",
        "            next_token = top_k_indices.gather(-1, next_token_index)\n",
        "\n",
        "            # Concatenate the new token to the sequence of input IDs\n",
        "            input_ids = torch.cat([input_ids, next_token], dim=-1)\n",
        "    return input_ids[0].tolist()"
      ],
      "metadata": {
        "id": "ta4GzlJJivSJ"
      },
      "execution_count": null,
      "outputs": []
    },
    {
      "cell_type": "markdown",
      "source": [
        "### 8.3 Top-p Sampling"
      ],
      "metadata": {
        "id": "obK6ncxBvmsY"
      }
    },
    {
      "cell_type": "code",
      "source": [
        "def top_p_sampling(input_ids: list[int], model, temperature: float=1, max_tokens :int=100, top_p: float=0.95):\n",
        "    with torch.inference_mode():\n",
        "        for _ in range(max_tokens):\n",
        "            logits = model(input_ids)\n",
        "            logits = logits[:, -1, :]\n",
        "\n",
        "            # Sort the logits in descending order and apply softmax to get probabilities\n",
        "            sorted_logits, sorted_indices = torch.sort(logits, descending=True)\n",
        "            sorted_probabilities = F.softmax(sorted_logits / temperature, dim=-1) # Apply temperature\n",
        "\n",
        "            # Calculate cumulative probabilities\n",
        "            cumulative_probs = torch.cumsum(sorted_probabilities, dim=-1)\n",
        "\n",
        "            # Identify and remove tokens with cumulative probability above the threshold (top_p)\n",
        "            # Ensuring the first token is always selected by setting the first position to False\n",
        "            sorted_indices_to_remove = cumulative_probs > top_p\n",
        "            sorted_indices_to_remove[..., 0] = False  # Keep the most probable token\n",
        "\n",
        "            # Get the actual indices to remove from the original logits tensor\n",
        "            indices_to_remove = sorted_indices[sorted_indices_to_remove]\n",
        "\n",
        "            # Set the logits of removed tokens to -infinity to exclude them from sampling\n",
        "            logits.scatter_(-1, indices_to_remove[None, :], float('-inf'))\n",
        "\n",
        "            # Re-calculate probabilities after filtering and sample from this distribution\n",
        "            probs = F.softmax(logits, dim=-1)\n",
        "            next_token = torch.multinomial(probs, num_samples=1)\n",
        "\n",
        "            # Append the sampled token to the input IDs for the next iteration\n",
        "            input_ids = torch.cat([input_ids, next_token], dim=-1)\n",
        "\n",
        "    return input_ids[0].tolist()"
      ],
      "metadata": {
        "id": "MiXJptlWVGAF"
      },
      "execution_count": null,
      "outputs": []
    },
    {
      "cell_type": "code",
      "source": [
        "prompt = 'What'\n",
        "input_ids = torch.tensor(tokenizer.encode_text(prompt),device=device).view(1,-1)\n",
        "decoded_ids = top_p_sampling(input_ids, model)\n",
        "print(tokenizer.decode_ids(decoded_ids))"
      ],
      "metadata": {
        "id": "QG6XaMlTFvrL"
      },
      "execution_count": null,
      "outputs": []
    }
  ]
}