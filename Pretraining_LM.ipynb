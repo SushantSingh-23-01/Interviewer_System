{
  "cells": [
    {
      "cell_type": "code",
      "execution_count": 1,
      "metadata": {
        "colab": {
          "base_uri": "https://localhost:8080/"
        },
        "id": "gY290rYm-ujl",
        "outputId": "b34ef65e-0909-44e8-f0ba-30db630beb03"
      },
      "outputs": [
        {
          "output_type": "stream",
          "name": "stdout",
          "text": [
            "\u001b[?25l     \u001b[90m━━━━━━━━━━━━━━━━━━━━━━━━━━━━━━━━━━━━━━━━\u001b[0m \u001b[32m0.0/235.5 kB\u001b[0m \u001b[31m?\u001b[0m eta \u001b[36m-:--:--\u001b[0m\r\u001b[2K     \u001b[91m━━━━━━━━━━━━━━━━━━━━━━━━━━━━━━━━━━━━━━\u001b[0m\u001b[90m╺\u001b[0m\u001b[90m━\u001b[0m \u001b[32m225.3/235.5 kB\u001b[0m \u001b[31m8.1 MB/s\u001b[0m eta \u001b[36m0:00:01\u001b[0m\r\u001b[2K     \u001b[90m━━━━━━━━━━━━━━━━━━━━━━━━━━━━━━━━━━━━━━━━\u001b[0m \u001b[32m235.5/235.5 kB\u001b[0m \u001b[31m5.9 MB/s\u001b[0m eta \u001b[36m0:00:00\u001b[0m\n",
            "\u001b[2K     \u001b[90m━━━━━━━━━━━━━━━━━━━━━━━━━━━━━━━━━━━━━━━━\u001b[0m \u001b[32m232.6/232.6 kB\u001b[0m \u001b[31m12.9 MB/s\u001b[0m eta \u001b[36m0:00:00\u001b[0m\n",
            "\u001b[2K     \u001b[90m━━━━━━━━━━━━━━━━━━━━━━━━━━━━━━━━━━━━━━━━\u001b[0m \u001b[32m774.1/774.1 kB\u001b[0m \u001b[31m17.5 MB/s\u001b[0m eta \u001b[36m0:00:00\u001b[0m\n",
            "\u001b[2K     \u001b[90m━━━━━━━━━━━━━━━━━━━━━━━━━━━━━━━━━━━━━━━━\u001b[0m \u001b[32m542.0/542.0 kB\u001b[0m \u001b[31m21.6 MB/s\u001b[0m eta \u001b[36m0:00:00\u001b[0m\n",
            "\u001b[2K     \u001b[90m━━━━━━━━━━━━━━━━━━━━━━━━━━━━━━━━━━━━━━━━\u001b[0m \u001b[32m116.3/116.3 kB\u001b[0m \u001b[31m11.3 MB/s\u001b[0m eta \u001b[36m0:00:00\u001b[0m\n",
            "\u001b[2K     \u001b[90m━━━━━━━━━━━━━━━━━━━━━━━━━━━━━━━━━━━━━━━━\u001b[0m \u001b[32m194.1/194.1 kB\u001b[0m \u001b[31m12.6 MB/s\u001b[0m eta \u001b[36m0:00:00\u001b[0m\n",
            "\u001b[2K     \u001b[90m━━━━━━━━━━━━━━━━━━━━━━━━━━━━━━━━━━━━━━━━\u001b[0m \u001b[32m134.8/134.8 kB\u001b[0m \u001b[31m6.4 MB/s\u001b[0m eta \u001b[36m0:00:00\u001b[0m\n",
            "\u001b[2K     \u001b[90m━━━━━━━━━━━━━━━━━━━━━━━━━━━━━━━━━━━━━━━━\u001b[0m \u001b[32m401.2/401.2 kB\u001b[0m \u001b[31m22.6 MB/s\u001b[0m eta \u001b[36m0:00:00\u001b[0m\n",
            "\u001b[?25h"
          ]
        }
      ],
      "source": [
        "! pip install -q -U unidecode PyPDF2 beautifulsoup4 regex datasets"
      ]
    },
    {
      "cell_type": "code",
      "execution_count": 2,
      "metadata": {
        "id": "CooOF7NC-6OM"
      },
      "outputs": [],
      "source": [
        "import unidecode, random, string, time, pickle, requests, json, csv\n",
        "from bs4 import BeautifulSoup\n",
        "from tqdm.auto import tqdm\n",
        "from collections import OrderedDict\n",
        "from PyPDF2 import PdfReader\n",
        "import regex as re\n",
        "import torch\n",
        "from datasets import load_dataset\n",
        "device = torch.device('cuda' if torch.cuda.is_available() else 'cpu')"
      ]
    },
    {
      "cell_type": "code",
      "execution_count": 3,
      "metadata": {
        "colab": {
          "base_uri": "https://localhost:8080/"
        },
        "id": "e0DbA5-JTPm6",
        "outputId": "e7720928-97dc-41bb-aa03-375698a03afe"
      },
      "outputs": [
        {
          "output_type": "stream",
          "name": "stdout",
          "text": [
            "Mounted at /content/drive/\n"
          ]
        }
      ],
      "source": [
        "from google.colab import drive\n",
        "drive.mount('/content/drive/')"
      ]
    },
    {
      "cell_type": "markdown",
      "metadata": {
        "id": "Qn47PCNDAeWy"
      },
      "source": [
        "## 1.Gather Text"
      ]
    },
    {
      "cell_type": "code",
      "execution_count": 4,
      "metadata": {
        "id": "ss22Hz61gH2E"
      },
      "outputs": [],
      "source": [
        "# dataset = load_dataset(\"JeanKaddour/minipile\",split='train',trust_remote_code=True)"
      ]
    },
    {
      "cell_type": "code",
      "execution_count": 5,
      "metadata": {
        "colab": {
          "base_uri": "https://localhost:8080/",
          "height": 429,
          "referenced_widgets": [
            "c925fdf268c248f69046209ff7fd79d1",
            "3fd9367f3c934f0ba19c3c3d8a963a8e",
            "2d76b850520e4240aa8a2fb0f7c2be0f",
            "46e19b1a8e74403fbb11d5cd7e40b461",
            "371dec33849443c8b638f9be6cf885d6",
            "9a944ba4c95b44bf9797f78b40388ccd",
            "af51aae13d9c44edb40489b8e4e2fa20",
            "125d4ca94d0042f79da8efc36b2d7b09",
            "0e832a2703f54ca68662b2057a8a8873",
            "9ca882b1d82e4a209b693a1c71305e40",
            "354a8b3dfe104c2d8d5376437ec1b204",
            "b58bd9349e8749b08687ba22905827dd",
            "548675a953034f0e9f014cd0931ed0db",
            "1041dfec2b6444c0a3848ca8f936b4b1",
            "3178c8a4dba442788fa926ea5f6d8eb2",
            "e5e116b4d04f45e781a86e6442050b44",
            "4de4abbb8dc94766bd1f5a48b0d78853",
            "b2cbd0e921d34df5b8aff02de8527ad2",
            "66155b7d24514581acc5209b8c246286",
            "f1b7aed042f34b21badc7fcb89ddc76c",
            "a94f15fff210429e9bdd49188e8aa04d",
            "c4bda74989a74d139057981972520d24",
            "d1f3104346ec49e6a3bdcb93d1eabb5e",
            "ce496087251946afa8cdd30a2c7f23d2",
            "a068edf2ef004eb39c07022be5e3c91f",
            "49f821df4d424844a0b6f587b9650eb1",
            "5681ac518f604dc1b77239bc907975ec",
            "3507773626894bd7b820ce146e71943f",
            "8ffa48b64722495ea1e1ada995986e8d",
            "e11613d22f514a998d32fc60de38a75e",
            "851320d1cb8749719f58be4315619291",
            "d3637f3a6b2b4d6e9acccc162104ef90",
            "e39247a96874448bb2624dbe76730c42",
            "9ec5a57fef2c4d48a0a41dea26f8e43f",
            "fa8be648b1c540e384879af3e9808db7",
            "a9348564dc2d491d8d290234df0946b5",
            "1683003ac6944b599935e79fcda47e5f",
            "344f3f03d7f34303ab3f19c5ba2c1422",
            "fb5c7554a8084703abc267f1e9cb8e0f",
            "26e71c2b12fb49908d91fe724fb4dad2",
            "ec0e1d104ab44b5caafdf62bddc01970",
            "fa1bf1eacfe5431f973f7268bacaab55",
            "b90b2ef521064679b11d960ffbdc2d1f",
            "9f7df3a63d9c451e9977da7cb38ea153",
            "44f867165e0a4ebfbe80dd6bd24f86cb",
            "45b134c04bda40e09f55d45f1b82c9c1",
            "ba50952f3b184b2dbf2923acdc6fadd0",
            "2fa8d9b16b5741cc80a417240a3c7a7b",
            "53b9ca5c18964f698c1b698d98b0b44b",
            "da0108987f194dd1912cd22c34c29670",
            "07e5d91ac058400187c8fddad837e5e0",
            "73588f555c744a4a9c4177bee8728a92",
            "dc1d63e4834546949fefe683bece34d7",
            "0ad2f206bb8748688bbf0100db07ed05",
            "59c80bc28ee149c5800f1e56204452c8",
            "93923d2fbb2041b499b82efb138b21a9",
            "c3bc311826354aa78ad0d804f3a3b1ac",
            "7d6da602105b4a9195eb212e7988f3cc",
            "03de5cc7140d4d3faab4c053e8416472",
            "3f3742d1c1e445c4b089ff0eb0386e4c",
            "59d62968adfa42b0979a1ec1df71afdf",
            "2302842ca9254b86a43965eb54954c44",
            "78f627dd7b4d460fbe45e7673e34b1d2",
            "a3195eb8599641858ffe47710511eb9f",
            "b418b6eb24284e4493c88b3a9c1623d9",
            "b4cccbb538bf4110952f7ba37f29acc1",
            "92d98e04d5644cdd854764f81797f606",
            "73805989541a4f58ac292f5b34959a4a",
            "ea0c7c449daf4e42867cc5fb598ba7cd",
            "430318af5dcc4c40b68ac978445a934d",
            "20e128a5c72d4c91904650e670de04cd",
            "d3e20799492f4c1b8cd80a805d450cc2",
            "e7b68ac1f2464947b0df0ae5eb5eec7e",
            "a7925b7582c6493ca51a200696dad3f1",
            "a398f013a1c4483896695c0a97e49fb4",
            "fb16ee06fef34fdeb8bf518bdf5ab04d",
            "226d3824bfee47de9319dc6c3df72a6e",
            "5fe3afb756d54972b83c8853773055e8",
            "f37c9c0043fc4326837af55f2d856772",
            "060a0ea73c234ab0bd492da4fc2867bd",
            "1664af2b46074bee928fa06ee1a2b1ed",
            "567d0b9b6bee492c8937b73911a1e4bc",
            "2c403cbc855240468412febeea22abd3",
            "5d33cf93825a4086b689805879e9ff6e",
            "296e45916feb4b258f5bd44f90e32209",
            "b58f223365b148cc8f890cefbe96d64d",
            "26d34e60ff7d4483a85a25a3409d44ce",
            "450abd063cc443e7b95dc7d005a81490",
            "661f07ba2fb946c2913db0dd9a62bdc7",
            "53d2ddd34ced45919cb355450f1a9b93",
            "c063d173daeb48a7801e08645d0a6f08",
            "898aab36508f4d28b87e5f7081ed7a1c",
            "4329e7dc92a748f8a403bb181792f37c",
            "16f79c2d3cb944d6a2df52054203755d",
            "3c70d8a22820482e9e556cd91a13e17c",
            "0717c70b66ee4cf1a48c9f2018cecf01",
            "390f0c1163494bcbbcd1ead9e98188de",
            "8834de8adcec4b9d9555ed70814295e1",
            "6536e6605d3e4565a345b228cfbf663e"
          ]
        },
        "id": "8LV1c6vxkr4O",
        "outputId": "49f4e70b-f93a-42d4-9070-b978e44fd98a"
      },
      "outputs": [
        {
          "output_type": "stream",
          "name": "stderr",
          "text": [
            "/usr/local/lib/python3.10/dist-packages/huggingface_hub/utils/_token.py:89: UserWarning: \n",
            "The secret `HF_TOKEN` does not exist in your Colab secrets.\n",
            "To authenticate with the Hugging Face Hub, create a token in your settings tab (https://huggingface.co/settings/tokens), set it as secret in your Google Colab and restart your session.\n",
            "You will be able to reuse this secret in all of your notebooks.\n",
            "Please note that authentication is recommended but still optional to access public models or datasets.\n",
            "  warnings.warn(\n"
          ]
        },
        {
          "output_type": "display_data",
          "data": {
            "text/plain": [
              "Downloading readme:   0%|          | 0.00/17.0k [00:00<?, ?B/s]"
            ],
            "application/vnd.jupyter.widget-view+json": {
              "version_major": 2,
              "version_minor": 0,
              "model_id": "c925fdf268c248f69046209ff7fd79d1"
            }
          },
          "metadata": {}
        },
        {
          "output_type": "display_data",
          "data": {
            "text/plain": [
              "Downloading data:   0%|          | 0.00/1.41M [00:00<?, ?B/s]"
            ],
            "application/vnd.jupyter.widget-view+json": {
              "version_major": 2,
              "version_minor": 0,
              "model_id": "b58bd9349e8749b08687ba22905827dd"
            }
          },
          "metadata": {}
        },
        {
          "output_type": "display_data",
          "data": {
            "text/plain": [
              "Generating train split:   0%|          | 0/500 [00:00<?, ? examples/s]"
            ],
            "application/vnd.jupyter.widget-view+json": {
              "version_major": 2,
              "version_minor": 0,
              "model_id": "d1f3104346ec49e6a3bdcb93d1eabb5e"
            }
          },
          "metadata": {}
        },
        {
          "output_type": "display_data",
          "data": {
            "text/plain": [
              "Downloading readme:   0%|          | 0.00/7.47k [00:00<?, ?B/s]"
            ],
            "application/vnd.jupyter.widget-view+json": {
              "version_major": 2,
              "version_minor": 0,
              "model_id": "9ec5a57fef2c4d48a0a41dea26f8e43f"
            }
          },
          "metadata": {}
        },
        {
          "output_type": "display_data",
          "data": {
            "text/plain": [
              "Downloading data:   0%|          | 0.00/24.2M [00:00<?, ?B/s]"
            ],
            "application/vnd.jupyter.widget-view+json": {
              "version_major": 2,
              "version_minor": 0,
              "model_id": "44f867165e0a4ebfbe80dd6bd24f86cb"
            }
          },
          "metadata": {}
        },
        {
          "output_type": "display_data",
          "data": {
            "text/plain": [
              "Generating train split:   0%|          | 0/52002 [00:00<?, ? examples/s]"
            ],
            "application/vnd.jupyter.widget-view+json": {
              "version_major": 2,
              "version_minor": 0,
              "model_id": "93923d2fbb2041b499b82efb138b21a9"
            }
          },
          "metadata": {}
        },
        {
          "output_type": "display_data",
          "data": {
            "text/plain": [
              "Downloading readme:   0%|          | 0.00/5.34k [00:00<?, ?B/s]"
            ],
            "application/vnd.jupyter.widget-view+json": {
              "version_major": 2,
              "version_minor": 0,
              "model_id": "92d98e04d5644cdd854764f81797f606"
            }
          },
          "metadata": {}
        },
        {
          "output_type": "display_data",
          "data": {
            "text/plain": [
              "Downloading data:   0%|          | 0.00/15.6M [00:00<?, ?B/s]"
            ],
            "application/vnd.jupyter.widget-view+json": {
              "version_major": 2,
              "version_minor": 0,
              "model_id": "5fe3afb756d54972b83c8853773055e8"
            }
          },
          "metadata": {}
        },
        {
          "output_type": "display_data",
          "data": {
            "text/plain": [
              "Generating train split:   0%|          | 0/24926 [00:00<?, ? examples/s]"
            ],
            "application/vnd.jupyter.widget-view+json": {
              "version_major": 2,
              "version_minor": 0,
              "model_id": "661f07ba2fb946c2913db0dd9a62bdc7"
            }
          },
          "metadata": {}
        }
      ],
      "source": [
        "dataset2 = load_dataset('dvilasuero/distillama3-prompts10k', split='train')\n",
        "dataset3 = load_dataset(\"tatsu-lab/alpaca\", split = \"train\")\n",
        "dataset4 = load_dataset(\"garage-bAInd/Open-Platypus\", split = \"train\")"
      ]
    },
    {
      "cell_type": "code",
      "execution_count": 6,
      "metadata": {
        "id": "LJJsYRxqq5Vg"
      },
      "outputs": [],
      "source": [
        "# dataset5 = load_dataset(\"tatsu-lab/alpaca\", split = \"train\")\n",
        "# dataset6 = load_dataset(\"THUDM/webglm-qa\", split = \"train\")"
      ]
    },
    {
      "cell_type": "code",
      "execution_count": 7,
      "metadata": {
        "colab": {
          "base_uri": "https://localhost:8080/"
        },
        "id": "BUpXBQ30JM1Y",
        "outputId": "9c6bec42-8e89-4acf-fb2d-e2d08fdeaaf4"
      },
      "outputs": [
        {
          "output_type": "execute_result",
          "data": {
            "text/plain": [
              "(500, 52002, 24926)"
            ]
          },
          "metadata": {},
          "execution_count": 7
        }
      ],
      "source": [
        "len(dataset2),len(dataset3),len(dataset4)"
      ]
    },
    {
      "cell_type": "code",
      "execution_count": 8,
      "metadata": {
        "id": "vlpNif1GKsxr"
      },
      "outputs": [],
      "source": [
        "def load_dataset_(dataset):\n",
        "    idx = random.randint(0,len(dataset)-1)\n",
        "    text = f\"Instruction:\\n {dataset['instruction']} \\nInput:\\n{dataset['input']} \\nOutput:\\n{dataset['instruction']}\"\n",
        "    return text"
      ]
    },
    {
      "cell_type": "code",
      "execution_count": 9,
      "metadata": {
        "id": "ETLHQDHKKusU"
      },
      "outputs": [],
      "source": [
        "text = load_dataset_(dataset3)"
      ]
    },
    {
      "cell_type": "markdown",
      "metadata": {
        "id": "geteU4Ri_t5I"
      },
      "source": [
        "## 2.Training Tokenizer"
      ]
    },
    {
      "cell_type": "code",
      "execution_count": 11,
      "metadata": {
        "id": "nV_xlXiegJ1y"
      },
      "outputs": [],
      "source": [
        "def load_vocab(path):\n",
        "    f =  open(path)\n",
        "    vocab = json.load(f)\n",
        "    f.close()\n",
        "    vocab = [i.encode('utf-8') for i in vocab]\n",
        "    return vocab\n",
        "\n",
        "def load_merges(path):\n",
        "    with open(path,'rb') as f:\n",
        "        merges = pickle.load(f)\n",
        "    return merges\n",
        "\n",
        "# vocab = load_vocab(r'/content/drive/MyDrive/Pretrained_Models/vocab.json')\n",
        "# merges = load_merges(r'/content/drive/MyDrive/Pretrained_Models/merges.pkl')"
      ]
    },
    {
      "cell_type": "markdown",
      "metadata": {
        "id": "0MJQ_bYjvET4"
      },
      "source": [
        "### 2.1 Byte pair Encoding"
      ]
    },
    {
      "cell_type": "markdown",
      "metadata": {
        "id": "c2v3HKg7wbNp"
      },
      "source": [
        "Resource: https://github.com/karpathy/minbpe"
      ]
    },
    {
      "cell_type": "code",
      "execution_count": 12,
      "metadata": {
        "id": "dCNZ1GJh-TyH"
      },
      "outputs": [],
      "source": [
        "class BasicTokenizer():\n",
        "    def __init__(self, vocab=None, merges=None) -> None:\n",
        "        self.pattern = r\"\"\"'(?:[sdmt]|ll|ve|re)| ?\\p{L}+| ?\\p{N}+| ?[^\\s\\p{L}\\p{N}]+|\\s+(?!\\S)|\\s+\"\"\"\n",
        "        self.compiled_pattern = re.compile(self.pattern)\n",
        "        self.vocab = vocab if vocab is not None else {}\n",
        "        self.merges = merges if merges is not None else {}\n",
        "\n",
        "    def get_stats(self, ids, counts=None):\n",
        "        counts = {} if counts is None else counts\n",
        "        for pair in zip(ids, ids[1:]): # iterate consecutive elements\n",
        "            counts[pair] = counts.get(pair, 0) + 1\n",
        "        return counts\n",
        "\n",
        "    def merge(self, ids, pair, idx):\n",
        "        newids = []\n",
        "        i = 0\n",
        "        while i < len(ids):\n",
        "            if ids[i] == pair[0] and i < len(ids) - 1 and ids[i+1] == pair[1]:\n",
        "                newids.append(idx)\n",
        "                i += 2\n",
        "            else:\n",
        "                newids.append(ids[i])\n",
        "                i += 1\n",
        "        return newids\n",
        "\n",
        "    def train(self, text, vocab_size, verbose, merges_dir,  vocab_dir):\n",
        "        text = re.sub(r'[^\\w\\p{P}\\p{M}\\p{Z}}\"]+',' ',text)\n",
        "        num_merges = vocab_size - 256\n",
        "        text_chunks = re.findall(self.compiled_pattern, text)\n",
        "        ids = [list(ch.encode(\"utf-8\")) for ch in text_chunks]\n",
        "        self.vocab = {idx: bytes([idx]) for idx in range(256)}\n",
        "        for i in tqdm(range(num_merges),desc='Token merges'):\n",
        "            stats = {}\n",
        "            for chunk_ids in ids:\n",
        "                stats = self.get_stats(chunk_ids, stats)\n",
        "            if len(stats) > 0:\n",
        "                pair = max(stats, key=lambda x: stats[x])\n",
        "                idx = 256 + i\n",
        "                ids = [self.merge(chunk_ids, pair, idx) for chunk_ids in ids]\n",
        "                self.merges[pair] = idx\n",
        "                self.vocab[idx] = self.vocab[pair[0]] + self.vocab[pair[1]]\n",
        "                if verbose:\n",
        "                    print(f\"merge {i+1}/{num_merges}: {pair} -> {idx} ({self.vocab[idx]}) had {stats[pair]} occurrences\")\n",
        "            else:\n",
        "                pass\n",
        "        self.save_merges(merges_dir)\n",
        "        self.save_vocab(vocab_dir)\n",
        "        return self.merges, self.vocab\n",
        "\n",
        "    def encode_chunk(self,text_bytes):\n",
        "            # return the token ids\n",
        "            # let's begin. first, convert all bytes to integers in range 0..255\n",
        "            # text_bytes = bytes(text.encode('utf-8'))\n",
        "            ids = list(text_bytes)\n",
        "            while len(ids) >= 2:\n",
        "                # find the pair with the lowest merge index\n",
        "                stats = self.get_stats(ids)\n",
        "                pair = min(stats, key=lambda p: self.merges.get(p, float(\"inf\")))\n",
        "                # subtle: if there are no more merges available, the key will\n",
        "                # result in an inf for every single pair, and the min will be\n",
        "                # just the first pair in the list, arbitrarily\n",
        "                # we can detect this terminating case by a membership check\n",
        "                if pair not in self.merges:\n",
        "                    break # nothing else can be merged anymore\n",
        "                # otherwise let's merge the best pair (lowest merge index)\n",
        "                idx = self.merges[pair]\n",
        "                ids = self.merge(ids, pair, idx)\n",
        "            return ids\n",
        "\n",
        "    def decode(self, ids):\n",
        "        text_bytes = b\"\".join([self.vocab[i] for i in ids])\n",
        "        text = text_bytes.decode(\"utf-8\", errors=\"replace\")\n",
        "        return text\n",
        "\n",
        "    def encode_ordinary(self, text):\n",
        "        \"\"\"Encoding that ignores any special tokens.\"\"\"\n",
        "        # split text into chunks of text by categories defined in regex pattern\n",
        "        text_chunks = re.findall(self.compiled_pattern, text)\n",
        "        # all chunks of text are encoded separately, then results are joined\n",
        "        ids = []\n",
        "        for chunk in text_chunks:\n",
        "            chunk_bytes = chunk.encode(\"utf-8\") # raw bytes\n",
        "            chunk_ids = self.encode_chunk(chunk_bytes)\n",
        "            ids.extend(chunk_ids)\n",
        "        return ids\n",
        "\n",
        "    def save_vocab(self, save_path):\n",
        "        data = [i.decode('utf-8',errors='replace') for i in list(self.vocab.values())]\n",
        "        with open(save_path,'w') as file:\n",
        "            json.dump(data,file,indent=4)\n",
        "\n",
        "    def save_merges(self, save_path):\n",
        "        with open(save_path,'wb') as f:\n",
        "            pickle.dump(self.merges,f)\n",
        "\n",
        "def load_vocab(path):\n",
        "    f =  open(path)\n",
        "    vocab = json.load(f)\n",
        "    f.close()\n",
        "    vocab = [i.encode('utf-8') for i in vocab]\n",
        "    return vocab\n",
        "\n",
        "def load_merges(path):\n",
        "    with open(path,'rb') as f:\n",
        "        merges = pickle.load(f)\n",
        "    return merges\n"
      ]
    },
    {
      "cell_type": "code",
      "execution_count": 13,
      "metadata": {
        "id": "NLl5yXrs-YmZ"
      },
      "outputs": [],
      "source": [
        "#tokenizer = BasicTokenizer(vocab,merges)"
      ]
    },
    {
      "cell_type": "code",
      "execution_count": 14,
      "metadata": {
        "id": "-w6gqh0H105j"
      },
      "outputs": [],
      "source": [
        "# tokenizer.train(text3, 900, False)"
      ]
    },
    {
      "cell_type": "markdown",
      "metadata": {
        "id": "cwjWKEY4tZuX"
      },
      "source": [
        "`Note`: Byte Pair encoding is not used to fit the training within the T4's memory. Use as small as vocabulary as possible. For this notebook we use single character printable in python as vocabulary. (As you might see later this is also hard to fit)"
      ]
    },
    {
      "cell_type": "code",
      "execution_count": 15,
      "metadata": {
        "colab": {
          "base_uri": "https://localhost:8080/"
        },
        "id": "0hs-BtHAzbfL",
        "outputId": "d563c7a9-e8e4-4069-ad9c-f5b720170593"
      },
      "outputs": [
        {
          "output_type": "stream",
          "name": "stdout",
          "text": [
            "100\n"
          ]
        }
      ],
      "source": [
        "vocab = list(string.printable)\n",
        "print(len(vocab))"
      ]
    },
    {
      "cell_type": "markdown",
      "metadata": {
        "id": "Zfcl9wozvKQp"
      },
      "source": [
        "### 2.2 Character Level Tokenizer"
      ]
    },
    {
      "cell_type": "code",
      "execution_count": 16,
      "metadata": {
        "id": "2wKtTLjAvAEc"
      },
      "outputs": [],
      "source": [
        "class CharacterTokenizer:\n",
        "    def __init__(self, vocab = None) -> None:\n",
        "        self.vocab = vocab if vocab is not None else list(string.printable)\n",
        "        self.vocab = list(string.printable)\n",
        "        self.stoi = {s:i for i,s in enumerate(self.vocab)}\n",
        "        self.itos = {i:s for i,s in enumerate(self.vocab)}\n",
        "\n",
        "    def encode_text(self,text):\n",
        "        encoded = [self.stoi[words] for words in text]\n",
        "        return encoded\n",
        "\n",
        "    def decode_ids(self,ids):\n",
        "        decoded = ''.join([self.itos[idx] for idx in ids])\n",
        "        return decoded"
      ]
    },
    {
      "cell_type": "markdown",
      "metadata": {
        "id": "mGk9W7lYt8to"
      },
      "source": [
        "## 3.Getting Dataloaders"
      ]
    },
    {
      "cell_type": "code",
      "execution_count": 17,
      "metadata": {
        "id": "f4pnkza4t8Yv"
      },
      "outputs": [],
      "source": [
        "from torch.utils.data import TensorDataset, DataLoader, random_split"
      ]
    },
    {
      "cell_type": "code",
      "execution_count": 18,
      "metadata": {
        "id": "6i8Z_7JX_W4p"
      },
      "outputs": [],
      "source": [
        "class Sampler:\n",
        "    def __init__(self,tokenizer=None):\n",
        "        self.tokenizer = tokenizer if tokenizer is not None else CharacterTokenizer\n",
        "\n",
        "    def random_portion(self, text, chunk_size):\n",
        "        start_idx = random.randint(0,len(text) - chunk_size)\n",
        "        end_idx = start_idx + chunk_size + 1\n",
        "        text = text[start_idx: end_idx]\n",
        "        return text\n",
        "\n",
        "    def read_pdf(self,path):\n",
        "        text = \"\"\n",
        "        pdf_reader = PdfReader(path)\n",
        "        index = random.randint(0,len(pdf_reader.pages)-1)\n",
        "        for page in pdf_reader.pages[index:index+1]:\n",
        "            text += page.extract_text()\n",
        "        text = unidecode.unidecode(text)\n",
        "        return text\n",
        "\n",
        "    def preprocess(self,text):\n",
        "        text = unidecode.unidecode(text)\n",
        "        text = re.sub(r'[^\\p{L}\\p{N}\\p{M}\\p{Z}]+',' ',text)\n",
        "        return text\n",
        "\n",
        "    def generate_context_target_words(self, ids,seq_len):\n",
        "        context, targets = [], []\n",
        "        for i in range(seq_len,len(ids)-seq_len):\n",
        "            context.append(ids[i-seq_len:i])\n",
        "            targets.append(ids[i-seq_len+1:i+1])\n",
        "        return context, targets\n",
        "\n",
        "    def get_dataloaders(self,context,targets,batch_size,device):\n",
        "        X = torch.tensor(context,device=device)\n",
        "        y = torch.tensor(targets,device=device)\n",
        "        dataset = TensorDataset(X,y)\n",
        "        train_size = int(0.8 * len(dataset))\n",
        "        test_size = len(dataset) - train_size\n",
        "        train_dataset, valid_dataset = random_split(dataset, [train_size, test_size])\n",
        "\n",
        "        train_loader = DataLoader(dataset=train_dataset,shuffle=True,batch_size=batch_size)\n",
        "        valid_loader = DataLoader(dataset=valid_dataset,shuffle=True,batch_size=batch_size)\n",
        "        return train_loader, valid_loader\n",
        "\n",
        "\n",
        "    def __call__(self, seq_len, batch_size, device,  text=None, pdf_path=None, chunk_size=1000):\n",
        "        if pdf_path is not None:\n",
        "            text = self.read_pdf(pdf_path)\n",
        "        else:\n",
        "            pass\n",
        "        text = self.random_portion(text, chunk_size)\n",
        "        text = self.preprocess(text)\n",
        "        ids = self.tokenizer.encode_text(text)\n",
        "        context, targets = self.generate_context_target_words(ids, seq_len)\n",
        "        train_loader, valid_loader = self.get_dataloaders(context, targets, batch_size, device)\n",
        "        return train_loader, valid_loader"
      ]
    },
    {
      "cell_type": "markdown",
      "metadata": {
        "id": "DtZJrJf-iq2o"
      },
      "source": [
        "## 4.Loading Model"
      ]
    },
    {
      "cell_type": "code",
      "execution_count": 19,
      "metadata": {
        "id": "EXZJlFVgi4E4"
      },
      "outputs": [],
      "source": [
        "import torch.nn as nn\n",
        "import torch.nn.functional as F\n",
        "from torch.profiler import profile, record_function, ProfilerActivity\n",
        "from dataclasses import dataclass"
      ]
    },
    {
      "cell_type": "code",
      "execution_count": 20,
      "metadata": {
        "id": "PkEo2034qDPX"
      },
      "outputs": [],
      "source": [
        "tokenizer = CharacterTokenizer(vocab)\n",
        "sampler = Sampler(tokenizer)"
      ]
    },
    {
      "cell_type": "markdown",
      "metadata": {
        "id": "-gVzPhnx0EcD"
      },
      "source": [
        "### 4.1 Model Configuration"
      ]
    },
    {
      "cell_type": "code",
      "execution_count": 43,
      "metadata": {
        "id": "mzHkD7xMWtZH"
      },
      "outputs": [],
      "source": [
        "@dataclass\n",
        "class ModelArgs:\n",
        "    in_ = len(vocab)\n",
        "    batch = 128\n",
        "    seq_len = 128\n",
        "    dim = 256\n",
        "    q_heads = 8\n",
        "    kv_heads = 2\n",
        "    hdim = dim // q_heads\n",
        "    blocks = 4\n",
        "    dropout = 0.2"
      ]
    },
    {
      "cell_type": "markdown",
      "metadata": {
        "id": "jIVOJxnyvuWU"
      },
      "source": [
        "### 4.2 Root Mean Square Normalisation"
      ]
    },
    {
      "cell_type": "code",
      "execution_count": 22,
      "metadata": {
        "id": "pKezoUkuiXLL"
      },
      "outputs": [],
      "source": [
        "class RMSNorm(nn.Module):\n",
        "    def __init__(self, n_dim, eps=1e-8):\n",
        "        super().__init__()\n",
        "        self.eps = eps\n",
        "        self.scale = nn.Parameter(torch.ones(n_dim))\n",
        "\n",
        "    def forward(self, x):\n",
        "        x_normed = (\n",
        "            x.float() * torch.rsqrt(x.float().pow(2).mean(-1, keepdim=True) + self.eps)\n",
        "        ).type_as(x)\n",
        "        return x_normed * self.scale"
      ]
    },
    {
      "cell_type": "markdown",
      "metadata": {
        "id": "FTImd7lRvzdM"
      },
      "source": [
        "### 4.3 SwiGLU (Activation Function)"
      ]
    },
    {
      "cell_type": "code",
      "execution_count": 23,
      "metadata": {
        "id": "eTxgEjgfi6eg"
      },
      "outputs": [],
      "source": [
        "class SwiGLU(nn.Module):\n",
        "    # SwiGLU(x,W,V,b,c) = x.sigmoid(BxW + b) * (xV+c), *-> element wise product\n",
        "    def __init__(self,n_dim):\n",
        "        super().__init__()\n",
        "        self.linear_gate= nn.Linear(n_dim, n_dim)\n",
        "        self.linear = nn.Linear(n_dim,n_dim)\n",
        "        self.beta = nn.Parameter(torch.ones(1))\n",
        "        self.register_parameter('beta', self.beta)\n",
        "\n",
        "    def forward(self,x):\n",
        "        swish_gate = x * torch.sigmoid(self.beta * self.linear_gate(x))\n",
        "        out = swish_gate * self.linear(x)\n",
        "        return out"
      ]
    },
    {
      "cell_type": "markdown",
      "metadata": {
        "id": "sFQwGjrQv52r"
      },
      "source": [
        "### 4.4 Rotary Positional Embeddings"
      ]
    },
    {
      "cell_type": "code",
      "execution_count": 24,
      "metadata": {
        "id": "10wJ27sbi6WR"
      },
      "outputs": [],
      "source": [
        "def get_rotary_matrix(seq_len, n_dim, base=10000):\n",
        "    R = torch.zeros((seq_len, n_dim, n_dim),requires_grad=False)\n",
        "    for p in range(seq_len):\n",
        "        for i in range(n_dim // 2):\n",
        "            theta = base ** (-2. * (i-1)/n_dim)\n",
        "            m_theta = torch.tensor(p * theta)\n",
        "            R[p, 2*i, 2*i] = torch.cos(m_theta)\n",
        "            R[p, 2*i, 2*i+1] = -torch.sin(m_theta)\n",
        "            R[p, 2*i+1, 2*i] = torch.sin(m_theta)\n",
        "            R[p, 2*i+1, 2*i+1] = torch.cos(m_theta)\n",
        "    return R"
      ]
    },
    {
      "cell_type": "markdown",
      "metadata": {
        "id": "OWiky930wDdK"
      },
      "source": [
        "### 4.5 RoPE Self Attention"
      ]
    },
    {
      "cell_type": "code",
      "execution_count": 25,
      "metadata": {
        "id": "Nryk9-nOjJQm"
      },
      "outputs": [],
      "source": [
        "class RoPEMaskedAttentionHead(nn.Module):\n",
        "    def __init__(self, args:ModelArgs):\n",
        "        super().__init__()\n",
        "        self.wq = nn.Linear(args.dim,args.dim, bias=False)\n",
        "        self.wk = nn.Linear(args.dim,args.dim, bias=False)\n",
        "        self.wv = nn.Linear(args.dim,args.dim, bias=False)\n",
        "        self.R = get_rotary_matrix(args.seq_len,args.dim)\n",
        "        self.drop = args.dropout\n",
        "\n",
        "    def forward(self, x):\n",
        "        q = self.wq(x)\n",
        "        k = self.wk(x)\n",
        "        v = self.wv(x)\n",
        "        self.R = self.R.to(x.device)\n",
        "        q_rotated = (torch.bmm(q.transpose(0, 1), self.R[:x.shape[1]])).transpose(0, 1)\n",
        "        k_rotated = (torch.bmm(k.transpose(0, 1), self.R[:x.shape[1]])).transpose(0, 1)\n",
        "        activations = F.scaled_dot_product_attention(q_rotated,k_rotated,v,dropout_p=self.drop,is_causal=True)\n",
        "        return activations"
      ]
    },
    {
      "cell_type": "markdown",
      "metadata": {
        "id": "67EboalkwHzi"
      },
      "source": [
        "### 4.6 RoPE Multi-Head Attention"
      ]
    },
    {
      "cell_type": "code",
      "execution_count": 26,
      "metadata": {
        "id": "BRP46BepjKQP"
      },
      "outputs": [],
      "source": [
        "class RoPEMaskedMultiheadAttention(nn.Module):\n",
        "    def __init__(self, args:ModelArgs):\n",
        "        super().__init__()\n",
        "        self.heads = nn.ModuleList([\n",
        "            RoPEMaskedAttentionHead(args) for _ in range(args.q_heads)\n",
        "        ])\n",
        "        self.linear = nn.Linear(args.q_heads*args.dim, args.dim)\n",
        "        self.dropout = nn.Dropout(args.dropout)\n",
        "\n",
        "    def forward(self, x):\n",
        "        heads = [h(x) for h in self.heads]\n",
        "        x = torch.cat(heads, dim=-1)\n",
        "        x = self.linear(x)\n",
        "        x = self.dropout(x)\n",
        "        return x"
      ]
    },
    {
      "cell_type": "markdown",
      "metadata": {
        "id": "RCz89tBlwNet"
      },
      "source": [
        "### 4.7 Decoder Model Block"
      ]
    },
    {
      "cell_type": "code",
      "execution_count": 27,
      "metadata": {
        "id": "U9D_LYWLjPFr"
      },
      "outputs": [],
      "source": [
        "class ModelBlock(nn.Module):\n",
        "    def __init__(self, args:ModelArgs):\n",
        "        super().__init__()\n",
        "        self.rms = RMSNorm(args.dim)\n",
        "        self.rope_attention = RoPEMaskedMultiheadAttention(args)\n",
        "        self.linear = nn.Sequential(\n",
        "            nn.Linear(args.dim, args.dim),\n",
        "            SwiGLU(args.dim)\n",
        "        )\n",
        "\n",
        "    def forward(self, x):\n",
        "        x = self.rms(x)\n",
        "        x = x + self.rope_attention(x)\n",
        "        x = self.rms(x)\n",
        "        x = x + self.linear(x)\n",
        "        return x"
      ]
    },
    {
      "cell_type": "markdown",
      "metadata": {
        "id": "R9GIahp8wTUt"
      },
      "source": [
        "### 4.8 Complete Model"
      ]
    },
    {
      "cell_type": "code",
      "execution_count": 28,
      "metadata": {
        "id": "QK8dDEEdjShH"
      },
      "outputs": [],
      "source": [
        "class Model(nn.Module):\n",
        "    def __init__(self, args:ModelArgs):\n",
        "        super().__init__()\n",
        "        self.embeddings = nn.Embedding(args.in_,args.dim)\n",
        "        self.model_blocks = nn.Sequential(\n",
        "            OrderedDict([(f\"block_{i}\", ModelBlock(args)) for i in range(args.blocks)])\n",
        "        )\n",
        "        self.ffn = nn.Sequential(\n",
        "            nn.Linear(args.dim,args.dim),\n",
        "            SwiGLU(args.dim),\n",
        "            nn.Linear(args.dim,args.in_)\n",
        "        )\n",
        "    def forward(self, idx):\n",
        "        x = self.embeddings(idx)\n",
        "        x = self.model_blocks(x)\n",
        "        logits = self.ffn(x)\n",
        "        return logits"
      ]
    },
    {
      "cell_type": "markdown",
      "metadata": {
        "id": "vV0jMi4TldmJ"
      },
      "source": [
        "## 5.Setup Model"
      ]
    },
    {
      "cell_type": "markdown",
      "metadata": {
        "id": "cu5ogC7D0K-u"
      },
      "source": [
        "### 5.1 Training Configuration"
      ]
    },
    {
      "cell_type": "code",
      "execution_count": 56,
      "metadata": {
        "id": "Tzho9e8gO62D"
      },
      "outputs": [],
      "source": [
        "@dataclass\n",
        "class TrainingArgs:\n",
        "    epochs = 1e2\n",
        "    lr = 1e-3\n",
        "    scheduler_gamma = 0.9999\n",
        "    use_mixed_precision = True\n",
        "    model_save_dir = r'/content/drive/MyDrive/Pretrained_Models/model_checkpoint_4.pt'\n",
        "    model_load_dir = model_save_dir\n",
        "    loss_dir = r'/content/drive/MyDrive/Pretrained_Models/loss.csv'"
      ]
    },
    {
      "cell_type": "code",
      "execution_count": 30,
      "metadata": {
        "id": "sRjzY2L8jpAa"
      },
      "outputs": [],
      "source": [
        "def save_checkpoint(model, optimizer, save_path:str, epoch:int, scaler):\n",
        "    torch.save({\n",
        "        'model_state_dict': model.state_dict(),\n",
        "        'optimizer_state_dict': optimizer.state_dict(),\n",
        "        'scaler':scaler.state_dict(),\n",
        "        'epoch': epoch,\n",
        "    }, save_path)\n",
        "\n",
        "def load_checkpoint(model, optimizer, scaler, load_path:str,device):\n",
        "    checkpoint = torch.load(load_path, map_location=device)\n",
        "    model.load_state_dict(checkpoint['model_state_dict'])\n",
        "    optimizer.load_state_dict(checkpoint['optimizer_state_dict'])\n",
        "    scaler.load_state_dict(checkpoint['scaler'])\n",
        "    epoch = checkpoint['epoch']\n",
        "    return model, optimizer, scaler, epoch"
      ]
    },
    {
      "cell_type": "code",
      "execution_count": 31,
      "metadata": {
        "id": "FYQqJRH5PKml"
      },
      "outputs": [],
      "source": [
        "def save_loss(loss_data,save_dir):\n",
        "    with open(save_dir, 'w') as f:\n",
        "        csvwriter = csv.writer(f)\n",
        "        csvwriter.writerows(loss_data)"
      ]
    },
    {
      "cell_type": "code",
      "execution_count": 58,
      "metadata": {
        "id": "oDSTT5MYjSNI"
      },
      "outputs": [],
      "source": [
        "def train(model, args:ModelArgs, text, train_args:TrainingArgs, dataloader, optimizer, scheduler, device, checkpointing=False, log_loss:bool=False):\n",
        "    # Gradient scaling helps prevent gradients with small magnitudes from flushing to zero (“underflowing”) when training with mixed precision.\n",
        "    scaler = torch.cuda.amp.GradScaler()\n",
        "    loss_logs = []\n",
        "    if checkpointing is True:\n",
        "        model, optimizer, scaler, epoch = load_checkpoint(model,optimizer,scaler, train_args.model_load_dir, device)\n",
        "    try:\n",
        "        model.train()\n",
        "        start = time.time()\n",
        "        for epoch in tqdm(range(int(train_args.epochs)),desc='Epochs',total=train_args.epochs,maxinterval=train_args.epochs//10):\n",
        "            train_dataloader, validation_dataloader = dataloader(args.seq_len, args.batch, device, text)\n",
        "            for x_batch, y_batch in train_dataloader:\n",
        "                with torch.autocast(device_type='cuda', dtype=torch.float16, enabled=train_args.use_mixed_precision):\n",
        "                    y_pred = model(x_batch)\n",
        "                    train_loss = F.cross_entropy(y_pred.view(-1,y_pred.shape[2]),y_batch.view(-1))\n",
        "                scaler.scale(train_loss).backward()\n",
        "                # nn.utils.clip_grad_norm_(model.parameters(),1.0)\n",
        "                scaler.step(optimizer)\n",
        "                scaler.update()\n",
        "                optimizer.zero_grad(set_to_none=True)\n",
        "\n",
        "            model.eval()\n",
        "            with torch.inference_mode():\n",
        "                for x_batch, y_batch in validation_dataloader:\n",
        "                    y_pred = model(x_batch)\n",
        "                    validation_loss = F.cross_entropy(y_pred.view(-1,y_pred.shape[2]),y_batch.view(-1))\n",
        "\n",
        "            if epoch %  (train_args.epochs/10) == 0:\n",
        "                batch_time = time.time() - start\n",
        "                model.eval()\n",
        "                gpu_usage = round(torch.cuda.memory_reserved(0)/1024**3,1)\n",
        "                print(f'\\nEpoch: {epoch} | Train Loss : {train_loss.detach().item():.4f} | Eval Loss : {validation_loss.detach().item():.4f} | Time : {batch_time:.2f} s | Learning Rate: {scheduler.get_last_lr()[0]:.2e} | Gpu Usage: {gpu_usage}\\n')\n",
        "                model.train()\n",
        "            scheduler.step()\n",
        "            loss_logs.append((train_loss.detach().item(), validation_loss.detach().item()))\n",
        "    except KeyboardInterrupt:\n",
        "        save_checkpoint(model,optimizer,train_args.model_save_dir,epoch, scaler)\n",
        "\n",
        "    if TrainingArgs.model_save_dir is not None:\n",
        "        save_checkpoint(model,optimizer,train_args.model_save_dir,epoch, scaler)\n",
        "\n",
        "    if log_loss is True:\n",
        "        save_loss(loss_logs,TrainingArgs.loss_dir)"
      ]
    },
    {
      "cell_type": "code",
      "execution_count": 33,
      "metadata": {
        "id": "h-bJD9jZj-F1"
      },
      "outputs": [],
      "source": [
        "def diagnose_model(model, args:ModelArgs, device=None):\n",
        "    x = torch.randint(0,100,(args.batch,args.seq_len),device=device)\n",
        "    with profile(activities=[\n",
        "            ProfilerActivity.CPU, ProfilerActivity.CUDA], record_shapes=True) as prof:\n",
        "        with record_function(\"model_inference\"):\n",
        "            model(x)\n",
        "\n",
        "    print(prof.key_averages().table(sort_by=\"cuda_time_total\", row_limit=10))\n",
        "    print('Number of Parameters in the Model:',sum(param.numel() for param in model.parameters()))"
      ]
    },
    {
      "cell_type": "code",
      "execution_count": 44,
      "metadata": {
        "colab": {
          "base_uri": "https://localhost:8080/"
        },
        "id": "0fEpuWkgNy2e",
        "outputId": "5f8d7bea-f36b-4953-ca5b-d3499311589d"
      },
      "outputs": [
        {
          "output_type": "execute_result",
          "data": {
            "text/plain": [
              "Model(\n",
              "  (embeddings): Embedding(100, 256)\n",
              "  (model_blocks): Sequential(\n",
              "    (block_0): ModelBlock(\n",
              "      (rms): RMSNorm()\n",
              "      (rope_attention): RoPEMaskedMultiheadAttention(\n",
              "        (heads): ModuleList(\n",
              "          (0-7): 8 x RoPEMaskedAttentionHead(\n",
              "            (wq): Linear(in_features=256, out_features=256, bias=False)\n",
              "            (wk): Linear(in_features=256, out_features=256, bias=False)\n",
              "            (wv): Linear(in_features=256, out_features=256, bias=False)\n",
              "          )\n",
              "        )\n",
              "        (linear): Linear(in_features=2048, out_features=256, bias=True)\n",
              "        (dropout): Dropout(p=0.2, inplace=False)\n",
              "      )\n",
              "      (linear): Sequential(\n",
              "        (0): Linear(in_features=256, out_features=256, bias=True)\n",
              "        (1): SwiGLU(\n",
              "          (linear_gate): Linear(in_features=256, out_features=256, bias=True)\n",
              "          (linear): Linear(in_features=256, out_features=256, bias=True)\n",
              "        )\n",
              "      )\n",
              "    )\n",
              "    (block_1): ModelBlock(\n",
              "      (rms): RMSNorm()\n",
              "      (rope_attention): RoPEMaskedMultiheadAttention(\n",
              "        (heads): ModuleList(\n",
              "          (0-7): 8 x RoPEMaskedAttentionHead(\n",
              "            (wq): Linear(in_features=256, out_features=256, bias=False)\n",
              "            (wk): Linear(in_features=256, out_features=256, bias=False)\n",
              "            (wv): Linear(in_features=256, out_features=256, bias=False)\n",
              "          )\n",
              "        )\n",
              "        (linear): Linear(in_features=2048, out_features=256, bias=True)\n",
              "        (dropout): Dropout(p=0.2, inplace=False)\n",
              "      )\n",
              "      (linear): Sequential(\n",
              "        (0): Linear(in_features=256, out_features=256, bias=True)\n",
              "        (1): SwiGLU(\n",
              "          (linear_gate): Linear(in_features=256, out_features=256, bias=True)\n",
              "          (linear): Linear(in_features=256, out_features=256, bias=True)\n",
              "        )\n",
              "      )\n",
              "    )\n",
              "    (block_2): ModelBlock(\n",
              "      (rms): RMSNorm()\n",
              "      (rope_attention): RoPEMaskedMultiheadAttention(\n",
              "        (heads): ModuleList(\n",
              "          (0-7): 8 x RoPEMaskedAttentionHead(\n",
              "            (wq): Linear(in_features=256, out_features=256, bias=False)\n",
              "            (wk): Linear(in_features=256, out_features=256, bias=False)\n",
              "            (wv): Linear(in_features=256, out_features=256, bias=False)\n",
              "          )\n",
              "        )\n",
              "        (linear): Linear(in_features=2048, out_features=256, bias=True)\n",
              "        (dropout): Dropout(p=0.2, inplace=False)\n",
              "      )\n",
              "      (linear): Sequential(\n",
              "        (0): Linear(in_features=256, out_features=256, bias=True)\n",
              "        (1): SwiGLU(\n",
              "          (linear_gate): Linear(in_features=256, out_features=256, bias=True)\n",
              "          (linear): Linear(in_features=256, out_features=256, bias=True)\n",
              "        )\n",
              "      )\n",
              "    )\n",
              "    (block_3): ModelBlock(\n",
              "      (rms): RMSNorm()\n",
              "      (rope_attention): RoPEMaskedMultiheadAttention(\n",
              "        (heads): ModuleList(\n",
              "          (0-7): 8 x RoPEMaskedAttentionHead(\n",
              "            (wq): Linear(in_features=256, out_features=256, bias=False)\n",
              "            (wk): Linear(in_features=256, out_features=256, bias=False)\n",
              "            (wv): Linear(in_features=256, out_features=256, bias=False)\n",
              "          )\n",
              "        )\n",
              "        (linear): Linear(in_features=2048, out_features=256, bias=True)\n",
              "        (dropout): Dropout(p=0.2, inplace=False)\n",
              "      )\n",
              "      (linear): Sequential(\n",
              "        (0): Linear(in_features=256, out_features=256, bias=True)\n",
              "        (1): SwiGLU(\n",
              "          (linear_gate): Linear(in_features=256, out_features=256, bias=True)\n",
              "          (linear): Linear(in_features=256, out_features=256, bias=True)\n",
              "        )\n",
              "      )\n",
              "    )\n",
              "  )\n",
              "  (ffn): Sequential(\n",
              "    (0): Linear(in_features=256, out_features=256, bias=True)\n",
              "    (1): SwiGLU(\n",
              "      (linear_gate): Linear(in_features=256, out_features=256, bias=True)\n",
              "      (linear): Linear(in_features=256, out_features=256, bias=True)\n",
              "    )\n",
              "    (2): Linear(in_features=256, out_features=100, bias=True)\n",
              "  )\n",
              ")"
            ]
          },
          "metadata": {},
          "execution_count": 44
        }
      ],
      "source": [
        "model = Model(ModelArgs)\n",
        "model.to(device)"
      ]
    },
    {
      "cell_type": "code",
      "execution_count": 45,
      "metadata": {
        "id": "kj_XBQ52k9Yl"
      },
      "outputs": [],
      "source": [
        "optimizer = torch.optim.AdamW(model.parameters(),TrainingArgs.lr)\n",
        "scheduler = torch.optim.lr_scheduler.ExponentialLR(optimizer, gamma=0.9999)"
      ]
    },
    {
      "cell_type": "markdown",
      "metadata": {
        "id": "IMLNmFALlom6"
      },
      "source": [
        "## 6.Run Diagnostics"
      ]
    },
    {
      "cell_type": "code",
      "execution_count": 46,
      "metadata": {
        "id": "rrE_BdIRlZyr",
        "colab": {
          "base_uri": "https://localhost:8080/"
        },
        "outputId": "d48beac5-149f-4df0-e891-802db114ca5e"
      },
      "outputs": [
        {
          "output_type": "stream",
          "name": "stdout",
          "text": [
            "-------------------------------------------------------  ------------  ------------  ------------  ------------  ------------  ------------  ------------  ------------  ------------  ------------  \n",
            "                                                   Name    Self CPU %      Self CPU   CPU total %     CPU total  CPU time avg     Self CUDA   Self CUDA %    CUDA total  CUDA time avg    # of Calls  \n",
            "-------------------------------------------------------  ------------  ------------  ------------  ------------  ------------  ------------  ------------  ------------  ------------  ------------  \n",
            "                                        model_inference        15.21%      74.485ms        98.67%     483.205ms     483.205ms       0.000us         0.00%     415.387ms     415.387ms             1  \n",
            "                                               aten::to         0.03%     138.000us        73.29%     358.899ms       5.608ms       0.000us         0.00%     219.831ms       3.435ms            64  \n",
            "                                         aten::_to_copy         0.10%     472.000us        73.26%     358.761ms      11.211ms       0.000us         0.00%     219.831ms       6.870ms            32  \n",
            "                                            aten::copy_         0.13%     642.000us        72.09%     353.024ms      11.032ms     219.831ms        52.92%     219.831ms       6.870ms            32  \n",
            "                       Memcpy HtoD (Pageable -> Device)         0.00%       0.000us         0.00%       0.000us       0.000us     219.831ms        52.92%     219.831ms       6.870ms            32  \n",
            "                                  volta_sgemm_128x64_tn         0.00%       0.000us         0.00%       0.000us       0.000us     109.955ms        26.47%     109.955ms     742.939us           148  \n",
            "                                           aten::matmul         0.39%       1.911ms         2.80%      13.715ms      85.719us       0.000us         0.00%      93.592ms     584.950us           160  \n",
            "                                           aten::linear         0.16%     778.000us         1.88%       9.183ms      79.164us       0.000us         0.00%      93.361ms     804.836us           116  \n",
            "                                               aten::mm         0.62%       3.055ms         0.90%       4.402ms      45.854us      68.553ms        16.50%      68.553ms     714.094us            96  \n",
            "                                              aten::bmm         1.00%       4.919ms         2.22%      10.875ms      84.961us      67.107ms        16.16%      67.107ms     524.273us           128  \n",
            "-------------------------------------------------------  ------------  ------------  ------------  ------------  ------------  ------------  ------------  ------------  ------------  ------------  \n",
            "Self CPU time total: 489.722ms\n",
            "Self CUDA time total: 415.387ms\n",
            "\n",
            "Number of Parameters in the Model: 9428841\n"
          ]
        }
      ],
      "source": [
        "diagnose_model(model,ModelArgs,device)"
      ]
    },
    {
      "cell_type": "markdown",
      "metadata": {
        "id": "PYcMEhAol8bV"
      },
      "source": [
        "## 7.Train Model"
      ]
    },
    {
      "cell_type": "code",
      "execution_count": 59,
      "metadata": {
        "id": "9A3lI-JUl7Or",
        "colab": {
          "base_uri": "https://localhost:8080/",
          "height": 570,
          "referenced_widgets": [
            "5c4a485bca2c412e92aa91aa7756894b",
            "ff47d7b376b14557912a660836256583",
            "8e5422c4e94941af81566209589373f0",
            "d2923d4d65934cd4aef6b34b6d44bfaf",
            "027646b37416436ba87becb916eb77eb",
            "6e6003e1adbe44b5bfd7bca80072dd1a",
            "1b0b7f11fb0b4a658bc19afefa0f5611",
            "38d08c5d7fda40e48ed70805c5902a10",
            "a92f46ed4c364801ac27ef85a01f3541",
            "63f8724132714a22b3062b3d46e3a08c",
            "e4e01aa13d774bd4a0736e0340eedcc4"
          ]
        },
        "outputId": "a288a727-1b05-4d69-96fa-1aec6ea78d53"
      },
      "outputs": [
        {
          "output_type": "display_data",
          "data": {
            "text/plain": [
              "Epochs:   0%|          | 0/100.0 [00:00<?, ?it/s]"
            ],
            "application/vnd.jupyter.widget-view+json": {
              "version_major": 2,
              "version_minor": 0,
              "model_id": "5c4a485bca2c412e92aa91aa7756894b"
            }
          },
          "metadata": {}
        },
        {
          "output_type": "stream",
          "name": "stdout",
          "text": [
            "\n",
            "Epoch: 0 | Train Loss : 0.9918 | Eval Loss : 0.8575 | Time : 1.19 s | Learning Rate: 5.41e-04 | Gpu Usage: 5.8\n",
            "\n",
            "\n",
            "Epoch: 10 | Train Loss : 1.5171 | Eval Loss : 1.5444 | Time : 13.91 s | Learning Rate: 5.40e-04 | Gpu Usage: 5.8\n",
            "\n",
            "\n",
            "Epoch: 20 | Train Loss : 0.8922 | Eval Loss : 0.8870 | Time : 26.71 s | Learning Rate: 5.40e-04 | Gpu Usage: 5.8\n",
            "\n",
            "\n",
            "Epoch: 30 | Train Loss : 0.9114 | Eval Loss : 0.8832 | Time : 39.94 s | Learning Rate: 5.39e-04 | Gpu Usage: 5.8\n",
            "\n",
            "\n",
            "Epoch: 40 | Train Loss : 0.8781 | Eval Loss : 0.8717 | Time : 52.77 s | Learning Rate: 5.39e-04 | Gpu Usage: 5.8\n",
            "\n",
            "\n",
            "Epoch: 50 | Train Loss : 0.9165 | Eval Loss : 0.8195 | Time : 65.34 s | Learning Rate: 5.38e-04 | Gpu Usage: 5.8\n",
            "\n",
            "\n",
            "Epoch: 60 | Train Loss : 0.9212 | Eval Loss : 0.8509 | Time : 78.33 s | Learning Rate: 5.38e-04 | Gpu Usage: 5.8\n",
            "\n",
            "\n",
            "Epoch: 70 | Train Loss : 0.9262 | Eval Loss : 0.8781 | Time : 92.02 s | Learning Rate: 5.37e-04 | Gpu Usage: 5.8\n",
            "\n",
            "\n",
            "Epoch: 80 | Train Loss : 0.9720 | Eval Loss : 0.9571 | Time : 105.06 s | Learning Rate: 5.37e-04 | Gpu Usage: 5.8\n",
            "\n",
            "\n",
            "Epoch: 90 | Train Loss : 1.4021 | Eval Loss : 1.3983 | Time : 118.27 s | Learning Rate: 5.36e-04 | Gpu Usage: 5.8\n",
            "\n"
          ]
        }
      ],
      "source": [
        "train(\n",
        "    model=model,\n",
        "    args=ModelArgs,\n",
        "    text=text,\n",
        "    train_args=TrainingArgs,\n",
        "    dataloader=sampler,\n",
        "    optimizer=optimizer,\n",
        "    scheduler=scheduler,\n",
        "    device=device,\n",
        "    checkpointing=True, # False on first Run\n",
        "    log_loss=True,\n",
        "    )"
      ]
    },
    {
      "cell_type": "markdown",
      "source": [
        "`Note`: Trained on ~10,000 epochs, train & eval loss ~1"
      ],
      "metadata": {
        "id": "QG3jSV29DIfo"
      }
    },
    {
      "cell_type": "markdown",
      "metadata": {
        "id": "w-DNWjDFEbMQ"
      },
      "source": [
        "## 8.Inference"
      ]
    },
    {
      "cell_type": "markdown",
      "metadata": {
        "id": "5an-3__Evf-C"
      },
      "source": [
        "### 8.1 Greedy Decoding"
      ]
    },
    {
      "cell_type": "code",
      "execution_count": 48,
      "metadata": {
        "id": "eV46zNtlFN8E"
      },
      "outputs": [],
      "source": [
        "def model_generate_greedy(model, input_ids, seq_len, gen_len, temperature):\n",
        "    model.eval()\n",
        "    with torch.inference_mode():\n",
        "        for _ in range(gen_len):\n",
        "            X_trunc = input_ids[:,-seq_len:] # truncate all besides last context length terms\n",
        "            logits = model(X_trunc)\n",
        "            logits = logits / temperature # Scales the logits. Lower temperature makes higher logits peaky leading to higher confidence\n",
        "            logits = logits[:,-1,:] # use only last token for next token generation\n",
        "            probs = F.softmax(logits,dim=-1)\n",
        "            next_tok = torch.multinomial(probs,num_samples=1)\n",
        "            input_ids = torch.cat((input_ids,next_tok),dim=1)\n",
        "    #gen = tokenizer.decode_ids(x[0].tolist())\n",
        "    return input_ids"
      ]
    },
    {
      "cell_type": "markdown",
      "metadata": {
        "id": "foVjnT6rviyb"
      },
      "source": [
        "### 8.2 Top-k Sampling"
      ]
    },
    {
      "cell_type": "code",
      "execution_count": 49,
      "metadata": {
        "id": "ta4GzlJJivSJ"
      },
      "outputs": [],
      "source": [
        "def top_k_sampling(input_ids, model, max_tokens=100, top_k=50, temperature=1.0):\n",
        "    for _ in range(max_tokens):\n",
        "        # Temporarily disables gradient calculation to improve performance and reduce memory usage\n",
        "        with torch.inference_mode():\n",
        "            logits = model(input_ids)\n",
        "            logits = logits[:, -1, :]\n",
        "            # Select the top K tokens from the probability distribution\n",
        "            top_k_logits, top_k_indices = torch.topk(logits, top_k)\n",
        "\n",
        "            # Apply softmax to convert logits to probabilities, with optional temperature scaling\n",
        "            top_k_probs = F.softmax(top_k_logits / temperature, dim=-1)\n",
        "\n",
        "            # Sample from the top K tokens to determine the next token\n",
        "            next_token_index = torch.multinomial(top_k_probs, num_samples=1)\n",
        "\n",
        "            # Map the sampled token back to its original index in the logits tensor\n",
        "            next_token = top_k_indices.gather(-1, next_token_index)\n",
        "\n",
        "            # Concatenate the new token to the sequence of input IDs\n",
        "            input_ids = torch.cat([input_ids, next_token], dim=-1)\n",
        "    return input_ids[0].tolist()"
      ]
    },
    {
      "cell_type": "markdown",
      "metadata": {
        "id": "obK6ncxBvmsY"
      },
      "source": [
        "### 8.3 Top-p Sampling"
      ]
    },
    {
      "cell_type": "code",
      "execution_count": 50,
      "metadata": {
        "id": "MiXJptlWVGAF"
      },
      "outputs": [],
      "source": [
        "def top_p_sampling(input_ids: list[int], model, temperature: float=1, max_tokens :int=100, top_p: float=0.95):\n",
        "    with torch.inference_mode():\n",
        "        for _ in range(max_tokens):\n",
        "            logits = model(input_ids)\n",
        "            logits = logits[:, -1, :]\n",
        "\n",
        "            # Sort the logits in descending order and apply softmax to get probabilities\n",
        "            sorted_logits, sorted_indices = torch.sort(logits, descending=True)\n",
        "            sorted_probabilities = F.softmax(sorted_logits / temperature, dim=-1) # Apply temperature\n",
        "\n",
        "            # Calculate cumulative probabilities\n",
        "            cumulative_probs = torch.cumsum(sorted_probabilities, dim=-1)\n",
        "\n",
        "            # Identify and remove tokens with cumulative probability above the threshold (top_p)\n",
        "            # Ensuring the first token is always selected by setting the first position to False\n",
        "            sorted_indices_to_remove = cumulative_probs > top_p\n",
        "            sorted_indices_to_remove[..., 0] = False  # Keep the most probable token\n",
        "\n",
        "            # Get the actual indices to remove from the original logits tensor\n",
        "            indices_to_remove = sorted_indices[sorted_indices_to_remove]\n",
        "\n",
        "            # Set the logits of removed tokens to -infinity to exclude them from sampling\n",
        "            logits.scatter_(-1, indices_to_remove[None, :], float('-inf'))\n",
        "\n",
        "            # Re-calculate probabilities after filtering and sample from this distribution\n",
        "            probs = F.softmax(logits, dim=-1)\n",
        "            next_token = torch.multinomial(probs, num_samples=1)\n",
        "\n",
        "            # Append the sampled token to the input IDs for the next iteration\n",
        "            input_ids = torch.cat([input_ids, next_token], dim=-1)\n",
        "\n",
        "    return input_ids[0].tolist()"
      ]
    },
    {
      "cell_type": "code",
      "execution_count": 51,
      "metadata": {
        "id": "JgbvSECExr8q"
      },
      "outputs": [],
      "source": [
        "scaler = torch.cuda.amp.GradScaler()\n",
        "model, _, _, _ =load_checkpoint(model,optimizer,scaler,TrainingArgs.model_load_dir,device)"
      ]
    },
    {
      "cell_type": "code",
      "execution_count": 72,
      "metadata": {
        "id": "QG6XaMlTFvrL",
        "colab": {
          "base_uri": "https://localhost:8080/"
        },
        "outputId": "0a61997c-c789-432d-d006-97697be8bfa9"
      },
      "outputs": [
        {
          "output_type": "stream",
          "name": "stdout",
          "text": [
            "What is line of life is bright a completing phone   Interts and which arr my in the rame as process and sec\n"
          ]
        }
      ],
      "source": [
        "prompt = 'What is'\n",
        "input_ids = torch.tensor(tokenizer.encode_text(prompt),device=device).view(1,-1)\n",
        "decoded_ids = top_p_sampling(input_ids, model)\n",
        "print(tokenizer.decode_ids(decoded_ids))"
      ]
    },
    {
      "cell_type": "code",
      "source": [
        "prompt = 'Explain '\n",
        "input_ids = torch.tensor(tokenizer.encode_text(prompt),device=device).view(1,-1)\n",
        "decoded_ids = top_p_sampling(input_ids, model)\n",
        "print(tokenizer.decode_ids(decoded_ids))"
      ],
      "metadata": {
        "colab": {
          "base_uri": "https://localhost:8080/"
        },
        "id": "XG0bFk1BEyfh",
        "outputId": "e1d8630e-a882-490d-8117-34e49dceb357"
      },
      "execution_count": 75,
      "outputs": [
        {
          "output_type": "stream",
          "name": "stdout",
          "text": [
            "Explain how cost on the works in the descend   Explain what wrolting movie is the poem and below   Explain t\n"
          ]
        }
      ]
    },
    {
      "cell_type": "markdown",
      "source": [
        "`Note`: While the above results are not impressive, model is still able to form words based on just characters. (Loss is ~1 at the time)"
      ],
      "metadata": {
        "id": "_nuJWMUYE-QO"
      }
    },
    {
      "cell_type": "markdown",
      "metadata": {
        "id": "i11nVDXS1hgk"
      },
      "source": [
        "## 9. Plots"
      ]
    },
    {
      "cell_type": "code",
      "execution_count": 53,
      "metadata": {
        "id": "aRpfLONN1wTM"
      },
      "outputs": [],
      "source": [
        "import matplotlib.pyplot as plt\n",
        "import pandas as pd\n",
        "plt.style.use('ggplot')"
      ]
    },
    {
      "cell_type": "code",
      "execution_count": 54,
      "metadata": {
        "id": "Y51VuKLx1oZm"
      },
      "outputs": [],
      "source": [
        "def plot_(path):\n",
        "    df = pd.read_csv(path).dropna()\n",
        "    train = df['train'].tolist()\n",
        "    val = df['validation'].tolist()\n",
        "    plt.plot(range(len(train)),train)\n",
        "    plt.plot(range(len(val)),val)\n",
        "    plt.xlabel('epochs')\n",
        "    plt.ylabel('cross-entropy')\n",
        "    plt.title('Loss Curves')\n",
        "    plt.legend(['train_loss','validation_loss'])\n",
        "    plt.show()"
      ]
    },
    {
      "cell_type": "code",
      "source": [],
      "metadata": {
        "id": "yfIQ_utYCieU"
      },
      "execution_count": null,
      "outputs": []
    }
  ],
  "metadata": {
    "accelerator": "GPU",
    "colab": {
      "gpuType": "T4",
      "provenance": []
    },
    "kernelspec": {
      "display_name": "Python 3",
      "name": "python3"
    },
    "language_info": {
      "name": "python"
    },
    "widgets": {
      "application/vnd.jupyter.widget-state+json": {
        "c925fdf268c248f69046209ff7fd79d1": {
          "model_module": "@jupyter-widgets/controls",
          "model_name": "HBoxModel",
          "model_module_version": "1.5.0",
          "state": {
            "_dom_classes": [],
            "_model_module": "@jupyter-widgets/controls",
            "_model_module_version": "1.5.0",
            "_model_name": "HBoxModel",
            "_view_count": null,
            "_view_module": "@jupyter-widgets/controls",
            "_view_module_version": "1.5.0",
            "_view_name": "HBoxView",
            "box_style": "",
            "children": [
              "IPY_MODEL_3fd9367f3c934f0ba19c3c3d8a963a8e",
              "IPY_MODEL_2d76b850520e4240aa8a2fb0f7c2be0f",
              "IPY_MODEL_46e19b1a8e74403fbb11d5cd7e40b461"
            ],
            "layout": "IPY_MODEL_371dec33849443c8b638f9be6cf885d6"
          }
        },
        "3fd9367f3c934f0ba19c3c3d8a963a8e": {
          "model_module": "@jupyter-widgets/controls",
          "model_name": "HTMLModel",
          "model_module_version": "1.5.0",
          "state": {
            "_dom_classes": [],
            "_model_module": "@jupyter-widgets/controls",
            "_model_module_version": "1.5.0",
            "_model_name": "HTMLModel",
            "_view_count": null,
            "_view_module": "@jupyter-widgets/controls",
            "_view_module_version": "1.5.0",
            "_view_name": "HTMLView",
            "description": "",
            "description_tooltip": null,
            "layout": "IPY_MODEL_9a944ba4c95b44bf9797f78b40388ccd",
            "placeholder": "​",
            "style": "IPY_MODEL_af51aae13d9c44edb40489b8e4e2fa20",
            "value": "Downloading readme: 100%"
          }
        },
        "2d76b850520e4240aa8a2fb0f7c2be0f": {
          "model_module": "@jupyter-widgets/controls",
          "model_name": "FloatProgressModel",
          "model_module_version": "1.5.0",
          "state": {
            "_dom_classes": [],
            "_model_module": "@jupyter-widgets/controls",
            "_model_module_version": "1.5.0",
            "_model_name": "FloatProgressModel",
            "_view_count": null,
            "_view_module": "@jupyter-widgets/controls",
            "_view_module_version": "1.5.0",
            "_view_name": "ProgressView",
            "bar_style": "success",
            "description": "",
            "description_tooltip": null,
            "layout": "IPY_MODEL_125d4ca94d0042f79da8efc36b2d7b09",
            "max": 17005,
            "min": 0,
            "orientation": "horizontal",
            "style": "IPY_MODEL_0e832a2703f54ca68662b2057a8a8873",
            "value": 17005
          }
        },
        "46e19b1a8e74403fbb11d5cd7e40b461": {
          "model_module": "@jupyter-widgets/controls",
          "model_name": "HTMLModel",
          "model_module_version": "1.5.0",
          "state": {
            "_dom_classes": [],
            "_model_module": "@jupyter-widgets/controls",
            "_model_module_version": "1.5.0",
            "_model_name": "HTMLModel",
            "_view_count": null,
            "_view_module": "@jupyter-widgets/controls",
            "_view_module_version": "1.5.0",
            "_view_name": "HTMLView",
            "description": "",
            "description_tooltip": null,
            "layout": "IPY_MODEL_9ca882b1d82e4a209b693a1c71305e40",
            "placeholder": "​",
            "style": "IPY_MODEL_354a8b3dfe104c2d8d5376437ec1b204",
            "value": " 17.0k/17.0k [00:00&lt;00:00, 596kB/s]"
          }
        },
        "371dec33849443c8b638f9be6cf885d6": {
          "model_module": "@jupyter-widgets/base",
          "model_name": "LayoutModel",
          "model_module_version": "1.2.0",
          "state": {
            "_model_module": "@jupyter-widgets/base",
            "_model_module_version": "1.2.0",
            "_model_name": "LayoutModel",
            "_view_count": null,
            "_view_module": "@jupyter-widgets/base",
            "_view_module_version": "1.2.0",
            "_view_name": "LayoutView",
            "align_content": null,
            "align_items": null,
            "align_self": null,
            "border": null,
            "bottom": null,
            "display": null,
            "flex": null,
            "flex_flow": null,
            "grid_area": null,
            "grid_auto_columns": null,
            "grid_auto_flow": null,
            "grid_auto_rows": null,
            "grid_column": null,
            "grid_gap": null,
            "grid_row": null,
            "grid_template_areas": null,
            "grid_template_columns": null,
            "grid_template_rows": null,
            "height": null,
            "justify_content": null,
            "justify_items": null,
            "left": null,
            "margin": null,
            "max_height": null,
            "max_width": null,
            "min_height": null,
            "min_width": null,
            "object_fit": null,
            "object_position": null,
            "order": null,
            "overflow": null,
            "overflow_x": null,
            "overflow_y": null,
            "padding": null,
            "right": null,
            "top": null,
            "visibility": null,
            "width": null
          }
        },
        "9a944ba4c95b44bf9797f78b40388ccd": {
          "model_module": "@jupyter-widgets/base",
          "model_name": "LayoutModel",
          "model_module_version": "1.2.0",
          "state": {
            "_model_module": "@jupyter-widgets/base",
            "_model_module_version": "1.2.0",
            "_model_name": "LayoutModel",
            "_view_count": null,
            "_view_module": "@jupyter-widgets/base",
            "_view_module_version": "1.2.0",
            "_view_name": "LayoutView",
            "align_content": null,
            "align_items": null,
            "align_self": null,
            "border": null,
            "bottom": null,
            "display": null,
            "flex": null,
            "flex_flow": null,
            "grid_area": null,
            "grid_auto_columns": null,
            "grid_auto_flow": null,
            "grid_auto_rows": null,
            "grid_column": null,
            "grid_gap": null,
            "grid_row": null,
            "grid_template_areas": null,
            "grid_template_columns": null,
            "grid_template_rows": null,
            "height": null,
            "justify_content": null,
            "justify_items": null,
            "left": null,
            "margin": null,
            "max_height": null,
            "max_width": null,
            "min_height": null,
            "min_width": null,
            "object_fit": null,
            "object_position": null,
            "order": null,
            "overflow": null,
            "overflow_x": null,
            "overflow_y": null,
            "padding": null,
            "right": null,
            "top": null,
            "visibility": null,
            "width": null
          }
        },
        "af51aae13d9c44edb40489b8e4e2fa20": {
          "model_module": "@jupyter-widgets/controls",
          "model_name": "DescriptionStyleModel",
          "model_module_version": "1.5.0",
          "state": {
            "_model_module": "@jupyter-widgets/controls",
            "_model_module_version": "1.5.0",
            "_model_name": "DescriptionStyleModel",
            "_view_count": null,
            "_view_module": "@jupyter-widgets/base",
            "_view_module_version": "1.2.0",
            "_view_name": "StyleView",
            "description_width": ""
          }
        },
        "125d4ca94d0042f79da8efc36b2d7b09": {
          "model_module": "@jupyter-widgets/base",
          "model_name": "LayoutModel",
          "model_module_version": "1.2.0",
          "state": {
            "_model_module": "@jupyter-widgets/base",
            "_model_module_version": "1.2.0",
            "_model_name": "LayoutModel",
            "_view_count": null,
            "_view_module": "@jupyter-widgets/base",
            "_view_module_version": "1.2.0",
            "_view_name": "LayoutView",
            "align_content": null,
            "align_items": null,
            "align_self": null,
            "border": null,
            "bottom": null,
            "display": null,
            "flex": null,
            "flex_flow": null,
            "grid_area": null,
            "grid_auto_columns": null,
            "grid_auto_flow": null,
            "grid_auto_rows": null,
            "grid_column": null,
            "grid_gap": null,
            "grid_row": null,
            "grid_template_areas": null,
            "grid_template_columns": null,
            "grid_template_rows": null,
            "height": null,
            "justify_content": null,
            "justify_items": null,
            "left": null,
            "margin": null,
            "max_height": null,
            "max_width": null,
            "min_height": null,
            "min_width": null,
            "object_fit": null,
            "object_position": null,
            "order": null,
            "overflow": null,
            "overflow_x": null,
            "overflow_y": null,
            "padding": null,
            "right": null,
            "top": null,
            "visibility": null,
            "width": null
          }
        },
        "0e832a2703f54ca68662b2057a8a8873": {
          "model_module": "@jupyter-widgets/controls",
          "model_name": "ProgressStyleModel",
          "model_module_version": "1.5.0",
          "state": {
            "_model_module": "@jupyter-widgets/controls",
            "_model_module_version": "1.5.0",
            "_model_name": "ProgressStyleModel",
            "_view_count": null,
            "_view_module": "@jupyter-widgets/base",
            "_view_module_version": "1.2.0",
            "_view_name": "StyleView",
            "bar_color": null,
            "description_width": ""
          }
        },
        "9ca882b1d82e4a209b693a1c71305e40": {
          "model_module": "@jupyter-widgets/base",
          "model_name": "LayoutModel",
          "model_module_version": "1.2.0",
          "state": {
            "_model_module": "@jupyter-widgets/base",
            "_model_module_version": "1.2.0",
            "_model_name": "LayoutModel",
            "_view_count": null,
            "_view_module": "@jupyter-widgets/base",
            "_view_module_version": "1.2.0",
            "_view_name": "LayoutView",
            "align_content": null,
            "align_items": null,
            "align_self": null,
            "border": null,
            "bottom": null,
            "display": null,
            "flex": null,
            "flex_flow": null,
            "grid_area": null,
            "grid_auto_columns": null,
            "grid_auto_flow": null,
            "grid_auto_rows": null,
            "grid_column": null,
            "grid_gap": null,
            "grid_row": null,
            "grid_template_areas": null,
            "grid_template_columns": null,
            "grid_template_rows": null,
            "height": null,
            "justify_content": null,
            "justify_items": null,
            "left": null,
            "margin": null,
            "max_height": null,
            "max_width": null,
            "min_height": null,
            "min_width": null,
            "object_fit": null,
            "object_position": null,
            "order": null,
            "overflow": null,
            "overflow_x": null,
            "overflow_y": null,
            "padding": null,
            "right": null,
            "top": null,
            "visibility": null,
            "width": null
          }
        },
        "354a8b3dfe104c2d8d5376437ec1b204": {
          "model_module": "@jupyter-widgets/controls",
          "model_name": "DescriptionStyleModel",
          "model_module_version": "1.5.0",
          "state": {
            "_model_module": "@jupyter-widgets/controls",
            "_model_module_version": "1.5.0",
            "_model_name": "DescriptionStyleModel",
            "_view_count": null,
            "_view_module": "@jupyter-widgets/base",
            "_view_module_version": "1.2.0",
            "_view_name": "StyleView",
            "description_width": ""
          }
        },
        "b58bd9349e8749b08687ba22905827dd": {
          "model_module": "@jupyter-widgets/controls",
          "model_name": "HBoxModel",
          "model_module_version": "1.5.0",
          "state": {
            "_dom_classes": [],
            "_model_module": "@jupyter-widgets/controls",
            "_model_module_version": "1.5.0",
            "_model_name": "HBoxModel",
            "_view_count": null,
            "_view_module": "@jupyter-widgets/controls",
            "_view_module_version": "1.5.0",
            "_view_name": "HBoxView",
            "box_style": "",
            "children": [
              "IPY_MODEL_548675a953034f0e9f014cd0931ed0db",
              "IPY_MODEL_1041dfec2b6444c0a3848ca8f936b4b1",
              "IPY_MODEL_3178c8a4dba442788fa926ea5f6d8eb2"
            ],
            "layout": "IPY_MODEL_e5e116b4d04f45e781a86e6442050b44"
          }
        },
        "548675a953034f0e9f014cd0931ed0db": {
          "model_module": "@jupyter-widgets/controls",
          "model_name": "HTMLModel",
          "model_module_version": "1.5.0",
          "state": {
            "_dom_classes": [],
            "_model_module": "@jupyter-widgets/controls",
            "_model_module_version": "1.5.0",
            "_model_name": "HTMLModel",
            "_view_count": null,
            "_view_module": "@jupyter-widgets/controls",
            "_view_module_version": "1.5.0",
            "_view_name": "HTMLView",
            "description": "",
            "description_tooltip": null,
            "layout": "IPY_MODEL_4de4abbb8dc94766bd1f5a48b0d78853",
            "placeholder": "​",
            "style": "IPY_MODEL_b2cbd0e921d34df5b8aff02de8527ad2",
            "value": "Downloading data: 100%"
          }
        },
        "1041dfec2b6444c0a3848ca8f936b4b1": {
          "model_module": "@jupyter-widgets/controls",
          "model_name": "FloatProgressModel",
          "model_module_version": "1.5.0",
          "state": {
            "_dom_classes": [],
            "_model_module": "@jupyter-widgets/controls",
            "_model_module_version": "1.5.0",
            "_model_name": "FloatProgressModel",
            "_view_count": null,
            "_view_module": "@jupyter-widgets/controls",
            "_view_module_version": "1.5.0",
            "_view_name": "ProgressView",
            "bar_style": "success",
            "description": "",
            "description_tooltip": null,
            "layout": "IPY_MODEL_66155b7d24514581acc5209b8c246286",
            "max": 1409098,
            "min": 0,
            "orientation": "horizontal",
            "style": "IPY_MODEL_f1b7aed042f34b21badc7fcb89ddc76c",
            "value": 1409098
          }
        },
        "3178c8a4dba442788fa926ea5f6d8eb2": {
          "model_module": "@jupyter-widgets/controls",
          "model_name": "HTMLModel",
          "model_module_version": "1.5.0",
          "state": {
            "_dom_classes": [],
            "_model_module": "@jupyter-widgets/controls",
            "_model_module_version": "1.5.0",
            "_model_name": "HTMLModel",
            "_view_count": null,
            "_view_module": "@jupyter-widgets/controls",
            "_view_module_version": "1.5.0",
            "_view_name": "HTMLView",
            "description": "",
            "description_tooltip": null,
            "layout": "IPY_MODEL_a94f15fff210429e9bdd49188e8aa04d",
            "placeholder": "​",
            "style": "IPY_MODEL_c4bda74989a74d139057981972520d24",
            "value": " 1.41M/1.41M [00:00&lt;00:00, 2.06MB/s]"
          }
        },
        "e5e116b4d04f45e781a86e6442050b44": {
          "model_module": "@jupyter-widgets/base",
          "model_name": "LayoutModel",
          "model_module_version": "1.2.0",
          "state": {
            "_model_module": "@jupyter-widgets/base",
            "_model_module_version": "1.2.0",
            "_model_name": "LayoutModel",
            "_view_count": null,
            "_view_module": "@jupyter-widgets/base",
            "_view_module_version": "1.2.0",
            "_view_name": "LayoutView",
            "align_content": null,
            "align_items": null,
            "align_self": null,
            "border": null,
            "bottom": null,
            "display": null,
            "flex": null,
            "flex_flow": null,
            "grid_area": null,
            "grid_auto_columns": null,
            "grid_auto_flow": null,
            "grid_auto_rows": null,
            "grid_column": null,
            "grid_gap": null,
            "grid_row": null,
            "grid_template_areas": null,
            "grid_template_columns": null,
            "grid_template_rows": null,
            "height": null,
            "justify_content": null,
            "justify_items": null,
            "left": null,
            "margin": null,
            "max_height": null,
            "max_width": null,
            "min_height": null,
            "min_width": null,
            "object_fit": null,
            "object_position": null,
            "order": null,
            "overflow": null,
            "overflow_x": null,
            "overflow_y": null,
            "padding": null,
            "right": null,
            "top": null,
            "visibility": null,
            "width": null
          }
        },
        "4de4abbb8dc94766bd1f5a48b0d78853": {
          "model_module": "@jupyter-widgets/base",
          "model_name": "LayoutModel",
          "model_module_version": "1.2.0",
          "state": {
            "_model_module": "@jupyter-widgets/base",
            "_model_module_version": "1.2.0",
            "_model_name": "LayoutModel",
            "_view_count": null,
            "_view_module": "@jupyter-widgets/base",
            "_view_module_version": "1.2.0",
            "_view_name": "LayoutView",
            "align_content": null,
            "align_items": null,
            "align_self": null,
            "border": null,
            "bottom": null,
            "display": null,
            "flex": null,
            "flex_flow": null,
            "grid_area": null,
            "grid_auto_columns": null,
            "grid_auto_flow": null,
            "grid_auto_rows": null,
            "grid_column": null,
            "grid_gap": null,
            "grid_row": null,
            "grid_template_areas": null,
            "grid_template_columns": null,
            "grid_template_rows": null,
            "height": null,
            "justify_content": null,
            "justify_items": null,
            "left": null,
            "margin": null,
            "max_height": null,
            "max_width": null,
            "min_height": null,
            "min_width": null,
            "object_fit": null,
            "object_position": null,
            "order": null,
            "overflow": null,
            "overflow_x": null,
            "overflow_y": null,
            "padding": null,
            "right": null,
            "top": null,
            "visibility": null,
            "width": null
          }
        },
        "b2cbd0e921d34df5b8aff02de8527ad2": {
          "model_module": "@jupyter-widgets/controls",
          "model_name": "DescriptionStyleModel",
          "model_module_version": "1.5.0",
          "state": {
            "_model_module": "@jupyter-widgets/controls",
            "_model_module_version": "1.5.0",
            "_model_name": "DescriptionStyleModel",
            "_view_count": null,
            "_view_module": "@jupyter-widgets/base",
            "_view_module_version": "1.2.0",
            "_view_name": "StyleView",
            "description_width": ""
          }
        },
        "66155b7d24514581acc5209b8c246286": {
          "model_module": "@jupyter-widgets/base",
          "model_name": "LayoutModel",
          "model_module_version": "1.2.0",
          "state": {
            "_model_module": "@jupyter-widgets/base",
            "_model_module_version": "1.2.0",
            "_model_name": "LayoutModel",
            "_view_count": null,
            "_view_module": "@jupyter-widgets/base",
            "_view_module_version": "1.2.0",
            "_view_name": "LayoutView",
            "align_content": null,
            "align_items": null,
            "align_self": null,
            "border": null,
            "bottom": null,
            "display": null,
            "flex": null,
            "flex_flow": null,
            "grid_area": null,
            "grid_auto_columns": null,
            "grid_auto_flow": null,
            "grid_auto_rows": null,
            "grid_column": null,
            "grid_gap": null,
            "grid_row": null,
            "grid_template_areas": null,
            "grid_template_columns": null,
            "grid_template_rows": null,
            "height": null,
            "justify_content": null,
            "justify_items": null,
            "left": null,
            "margin": null,
            "max_height": null,
            "max_width": null,
            "min_height": null,
            "min_width": null,
            "object_fit": null,
            "object_position": null,
            "order": null,
            "overflow": null,
            "overflow_x": null,
            "overflow_y": null,
            "padding": null,
            "right": null,
            "top": null,
            "visibility": null,
            "width": null
          }
        },
        "f1b7aed042f34b21badc7fcb89ddc76c": {
          "model_module": "@jupyter-widgets/controls",
          "model_name": "ProgressStyleModel",
          "model_module_version": "1.5.0",
          "state": {
            "_model_module": "@jupyter-widgets/controls",
            "_model_module_version": "1.5.0",
            "_model_name": "ProgressStyleModel",
            "_view_count": null,
            "_view_module": "@jupyter-widgets/base",
            "_view_module_version": "1.2.0",
            "_view_name": "StyleView",
            "bar_color": null,
            "description_width": ""
          }
        },
        "a94f15fff210429e9bdd49188e8aa04d": {
          "model_module": "@jupyter-widgets/base",
          "model_name": "LayoutModel",
          "model_module_version": "1.2.0",
          "state": {
            "_model_module": "@jupyter-widgets/base",
            "_model_module_version": "1.2.0",
            "_model_name": "LayoutModel",
            "_view_count": null,
            "_view_module": "@jupyter-widgets/base",
            "_view_module_version": "1.2.0",
            "_view_name": "LayoutView",
            "align_content": null,
            "align_items": null,
            "align_self": null,
            "border": null,
            "bottom": null,
            "display": null,
            "flex": null,
            "flex_flow": null,
            "grid_area": null,
            "grid_auto_columns": null,
            "grid_auto_flow": null,
            "grid_auto_rows": null,
            "grid_column": null,
            "grid_gap": null,
            "grid_row": null,
            "grid_template_areas": null,
            "grid_template_columns": null,
            "grid_template_rows": null,
            "height": null,
            "justify_content": null,
            "justify_items": null,
            "left": null,
            "margin": null,
            "max_height": null,
            "max_width": null,
            "min_height": null,
            "min_width": null,
            "object_fit": null,
            "object_position": null,
            "order": null,
            "overflow": null,
            "overflow_x": null,
            "overflow_y": null,
            "padding": null,
            "right": null,
            "top": null,
            "visibility": null,
            "width": null
          }
        },
        "c4bda74989a74d139057981972520d24": {
          "model_module": "@jupyter-widgets/controls",
          "model_name": "DescriptionStyleModel",
          "model_module_version": "1.5.0",
          "state": {
            "_model_module": "@jupyter-widgets/controls",
            "_model_module_version": "1.5.0",
            "_model_name": "DescriptionStyleModel",
            "_view_count": null,
            "_view_module": "@jupyter-widgets/base",
            "_view_module_version": "1.2.0",
            "_view_name": "StyleView",
            "description_width": ""
          }
        },
        "d1f3104346ec49e6a3bdcb93d1eabb5e": {
          "model_module": "@jupyter-widgets/controls",
          "model_name": "HBoxModel",
          "model_module_version": "1.5.0",
          "state": {
            "_dom_classes": [],
            "_model_module": "@jupyter-widgets/controls",
            "_model_module_version": "1.5.0",
            "_model_name": "HBoxModel",
            "_view_count": null,
            "_view_module": "@jupyter-widgets/controls",
            "_view_module_version": "1.5.0",
            "_view_name": "HBoxView",
            "box_style": "",
            "children": [
              "IPY_MODEL_ce496087251946afa8cdd30a2c7f23d2",
              "IPY_MODEL_a068edf2ef004eb39c07022be5e3c91f",
              "IPY_MODEL_49f821df4d424844a0b6f587b9650eb1"
            ],
            "layout": "IPY_MODEL_5681ac518f604dc1b77239bc907975ec"
          }
        },
        "ce496087251946afa8cdd30a2c7f23d2": {
          "model_module": "@jupyter-widgets/controls",
          "model_name": "HTMLModel",
          "model_module_version": "1.5.0",
          "state": {
            "_dom_classes": [],
            "_model_module": "@jupyter-widgets/controls",
            "_model_module_version": "1.5.0",
            "_model_name": "HTMLModel",
            "_view_count": null,
            "_view_module": "@jupyter-widgets/controls",
            "_view_module_version": "1.5.0",
            "_view_name": "HTMLView",
            "description": "",
            "description_tooltip": null,
            "layout": "IPY_MODEL_3507773626894bd7b820ce146e71943f",
            "placeholder": "​",
            "style": "IPY_MODEL_8ffa48b64722495ea1e1ada995986e8d",
            "value": "Generating train split: 100%"
          }
        },
        "a068edf2ef004eb39c07022be5e3c91f": {
          "model_module": "@jupyter-widgets/controls",
          "model_name": "FloatProgressModel",
          "model_module_version": "1.5.0",
          "state": {
            "_dom_classes": [],
            "_model_module": "@jupyter-widgets/controls",
            "_model_module_version": "1.5.0",
            "_model_name": "FloatProgressModel",
            "_view_count": null,
            "_view_module": "@jupyter-widgets/controls",
            "_view_module_version": "1.5.0",
            "_view_name": "ProgressView",
            "bar_style": "success",
            "description": "",
            "description_tooltip": null,
            "layout": "IPY_MODEL_e11613d22f514a998d32fc60de38a75e",
            "max": 500,
            "min": 0,
            "orientation": "horizontal",
            "style": "IPY_MODEL_851320d1cb8749719f58be4315619291",
            "value": 500
          }
        },
        "49f821df4d424844a0b6f587b9650eb1": {
          "model_module": "@jupyter-widgets/controls",
          "model_name": "HTMLModel",
          "model_module_version": "1.5.0",
          "state": {
            "_dom_classes": [],
            "_model_module": "@jupyter-widgets/controls",
            "_model_module_version": "1.5.0",
            "_model_name": "HTMLModel",
            "_view_count": null,
            "_view_module": "@jupyter-widgets/controls",
            "_view_module_version": "1.5.0",
            "_view_name": "HTMLView",
            "description": "",
            "description_tooltip": null,
            "layout": "IPY_MODEL_d3637f3a6b2b4d6e9acccc162104ef90",
            "placeholder": "​",
            "style": "IPY_MODEL_e39247a96874448bb2624dbe76730c42",
            "value": " 500/500 [00:00&lt;00:00, 6142.26 examples/s]"
          }
        },
        "5681ac518f604dc1b77239bc907975ec": {
          "model_module": "@jupyter-widgets/base",
          "model_name": "LayoutModel",
          "model_module_version": "1.2.0",
          "state": {
            "_model_module": "@jupyter-widgets/base",
            "_model_module_version": "1.2.0",
            "_model_name": "LayoutModel",
            "_view_count": null,
            "_view_module": "@jupyter-widgets/base",
            "_view_module_version": "1.2.0",
            "_view_name": "LayoutView",
            "align_content": null,
            "align_items": null,
            "align_self": null,
            "border": null,
            "bottom": null,
            "display": null,
            "flex": null,
            "flex_flow": null,
            "grid_area": null,
            "grid_auto_columns": null,
            "grid_auto_flow": null,
            "grid_auto_rows": null,
            "grid_column": null,
            "grid_gap": null,
            "grid_row": null,
            "grid_template_areas": null,
            "grid_template_columns": null,
            "grid_template_rows": null,
            "height": null,
            "justify_content": null,
            "justify_items": null,
            "left": null,
            "margin": null,
            "max_height": null,
            "max_width": null,
            "min_height": null,
            "min_width": null,
            "object_fit": null,
            "object_position": null,
            "order": null,
            "overflow": null,
            "overflow_x": null,
            "overflow_y": null,
            "padding": null,
            "right": null,
            "top": null,
            "visibility": null,
            "width": null
          }
        },
        "3507773626894bd7b820ce146e71943f": {
          "model_module": "@jupyter-widgets/base",
          "model_name": "LayoutModel",
          "model_module_version": "1.2.0",
          "state": {
            "_model_module": "@jupyter-widgets/base",
            "_model_module_version": "1.2.0",
            "_model_name": "LayoutModel",
            "_view_count": null,
            "_view_module": "@jupyter-widgets/base",
            "_view_module_version": "1.2.0",
            "_view_name": "LayoutView",
            "align_content": null,
            "align_items": null,
            "align_self": null,
            "border": null,
            "bottom": null,
            "display": null,
            "flex": null,
            "flex_flow": null,
            "grid_area": null,
            "grid_auto_columns": null,
            "grid_auto_flow": null,
            "grid_auto_rows": null,
            "grid_column": null,
            "grid_gap": null,
            "grid_row": null,
            "grid_template_areas": null,
            "grid_template_columns": null,
            "grid_template_rows": null,
            "height": null,
            "justify_content": null,
            "justify_items": null,
            "left": null,
            "margin": null,
            "max_height": null,
            "max_width": null,
            "min_height": null,
            "min_width": null,
            "object_fit": null,
            "object_position": null,
            "order": null,
            "overflow": null,
            "overflow_x": null,
            "overflow_y": null,
            "padding": null,
            "right": null,
            "top": null,
            "visibility": null,
            "width": null
          }
        },
        "8ffa48b64722495ea1e1ada995986e8d": {
          "model_module": "@jupyter-widgets/controls",
          "model_name": "DescriptionStyleModel",
          "model_module_version": "1.5.0",
          "state": {
            "_model_module": "@jupyter-widgets/controls",
            "_model_module_version": "1.5.0",
            "_model_name": "DescriptionStyleModel",
            "_view_count": null,
            "_view_module": "@jupyter-widgets/base",
            "_view_module_version": "1.2.0",
            "_view_name": "StyleView",
            "description_width": ""
          }
        },
        "e11613d22f514a998d32fc60de38a75e": {
          "model_module": "@jupyter-widgets/base",
          "model_name": "LayoutModel",
          "model_module_version": "1.2.0",
          "state": {
            "_model_module": "@jupyter-widgets/base",
            "_model_module_version": "1.2.0",
            "_model_name": "LayoutModel",
            "_view_count": null,
            "_view_module": "@jupyter-widgets/base",
            "_view_module_version": "1.2.0",
            "_view_name": "LayoutView",
            "align_content": null,
            "align_items": null,
            "align_self": null,
            "border": null,
            "bottom": null,
            "display": null,
            "flex": null,
            "flex_flow": null,
            "grid_area": null,
            "grid_auto_columns": null,
            "grid_auto_flow": null,
            "grid_auto_rows": null,
            "grid_column": null,
            "grid_gap": null,
            "grid_row": null,
            "grid_template_areas": null,
            "grid_template_columns": null,
            "grid_template_rows": null,
            "height": null,
            "justify_content": null,
            "justify_items": null,
            "left": null,
            "margin": null,
            "max_height": null,
            "max_width": null,
            "min_height": null,
            "min_width": null,
            "object_fit": null,
            "object_position": null,
            "order": null,
            "overflow": null,
            "overflow_x": null,
            "overflow_y": null,
            "padding": null,
            "right": null,
            "top": null,
            "visibility": null,
            "width": null
          }
        },
        "851320d1cb8749719f58be4315619291": {
          "model_module": "@jupyter-widgets/controls",
          "model_name": "ProgressStyleModel",
          "model_module_version": "1.5.0",
          "state": {
            "_model_module": "@jupyter-widgets/controls",
            "_model_module_version": "1.5.0",
            "_model_name": "ProgressStyleModel",
            "_view_count": null,
            "_view_module": "@jupyter-widgets/base",
            "_view_module_version": "1.2.0",
            "_view_name": "StyleView",
            "bar_color": null,
            "description_width": ""
          }
        },
        "d3637f3a6b2b4d6e9acccc162104ef90": {
          "model_module": "@jupyter-widgets/base",
          "model_name": "LayoutModel",
          "model_module_version": "1.2.0",
          "state": {
            "_model_module": "@jupyter-widgets/base",
            "_model_module_version": "1.2.0",
            "_model_name": "LayoutModel",
            "_view_count": null,
            "_view_module": "@jupyter-widgets/base",
            "_view_module_version": "1.2.0",
            "_view_name": "LayoutView",
            "align_content": null,
            "align_items": null,
            "align_self": null,
            "border": null,
            "bottom": null,
            "display": null,
            "flex": null,
            "flex_flow": null,
            "grid_area": null,
            "grid_auto_columns": null,
            "grid_auto_flow": null,
            "grid_auto_rows": null,
            "grid_column": null,
            "grid_gap": null,
            "grid_row": null,
            "grid_template_areas": null,
            "grid_template_columns": null,
            "grid_template_rows": null,
            "height": null,
            "justify_content": null,
            "justify_items": null,
            "left": null,
            "margin": null,
            "max_height": null,
            "max_width": null,
            "min_height": null,
            "min_width": null,
            "object_fit": null,
            "object_position": null,
            "order": null,
            "overflow": null,
            "overflow_x": null,
            "overflow_y": null,
            "padding": null,
            "right": null,
            "top": null,
            "visibility": null,
            "width": null
          }
        },
        "e39247a96874448bb2624dbe76730c42": {
          "model_module": "@jupyter-widgets/controls",
          "model_name": "DescriptionStyleModel",
          "model_module_version": "1.5.0",
          "state": {
            "_model_module": "@jupyter-widgets/controls",
            "_model_module_version": "1.5.0",
            "_model_name": "DescriptionStyleModel",
            "_view_count": null,
            "_view_module": "@jupyter-widgets/base",
            "_view_module_version": "1.2.0",
            "_view_name": "StyleView",
            "description_width": ""
          }
        },
        "9ec5a57fef2c4d48a0a41dea26f8e43f": {
          "model_module": "@jupyter-widgets/controls",
          "model_name": "HBoxModel",
          "model_module_version": "1.5.0",
          "state": {
            "_dom_classes": [],
            "_model_module": "@jupyter-widgets/controls",
            "_model_module_version": "1.5.0",
            "_model_name": "HBoxModel",
            "_view_count": null,
            "_view_module": "@jupyter-widgets/controls",
            "_view_module_version": "1.5.0",
            "_view_name": "HBoxView",
            "box_style": "",
            "children": [
              "IPY_MODEL_fa8be648b1c540e384879af3e9808db7",
              "IPY_MODEL_a9348564dc2d491d8d290234df0946b5",
              "IPY_MODEL_1683003ac6944b599935e79fcda47e5f"
            ],
            "layout": "IPY_MODEL_344f3f03d7f34303ab3f19c5ba2c1422"
          }
        },
        "fa8be648b1c540e384879af3e9808db7": {
          "model_module": "@jupyter-widgets/controls",
          "model_name": "HTMLModel",
          "model_module_version": "1.5.0",
          "state": {
            "_dom_classes": [],
            "_model_module": "@jupyter-widgets/controls",
            "_model_module_version": "1.5.0",
            "_model_name": "HTMLModel",
            "_view_count": null,
            "_view_module": "@jupyter-widgets/controls",
            "_view_module_version": "1.5.0",
            "_view_name": "HTMLView",
            "description": "",
            "description_tooltip": null,
            "layout": "IPY_MODEL_fb5c7554a8084703abc267f1e9cb8e0f",
            "placeholder": "​",
            "style": "IPY_MODEL_26e71c2b12fb49908d91fe724fb4dad2",
            "value": "Downloading readme: 100%"
          }
        },
        "a9348564dc2d491d8d290234df0946b5": {
          "model_module": "@jupyter-widgets/controls",
          "model_name": "FloatProgressModel",
          "model_module_version": "1.5.0",
          "state": {
            "_dom_classes": [],
            "_model_module": "@jupyter-widgets/controls",
            "_model_module_version": "1.5.0",
            "_model_name": "FloatProgressModel",
            "_view_count": null,
            "_view_module": "@jupyter-widgets/controls",
            "_view_module_version": "1.5.0",
            "_view_name": "ProgressView",
            "bar_style": "success",
            "description": "",
            "description_tooltip": null,
            "layout": "IPY_MODEL_ec0e1d104ab44b5caafdf62bddc01970",
            "max": 7472,
            "min": 0,
            "orientation": "horizontal",
            "style": "IPY_MODEL_fa1bf1eacfe5431f973f7268bacaab55",
            "value": 7472
          }
        },
        "1683003ac6944b599935e79fcda47e5f": {
          "model_module": "@jupyter-widgets/controls",
          "model_name": "HTMLModel",
          "model_module_version": "1.5.0",
          "state": {
            "_dom_classes": [],
            "_model_module": "@jupyter-widgets/controls",
            "_model_module_version": "1.5.0",
            "_model_name": "HTMLModel",
            "_view_count": null,
            "_view_module": "@jupyter-widgets/controls",
            "_view_module_version": "1.5.0",
            "_view_name": "HTMLView",
            "description": "",
            "description_tooltip": null,
            "layout": "IPY_MODEL_b90b2ef521064679b11d960ffbdc2d1f",
            "placeholder": "​",
            "style": "IPY_MODEL_9f7df3a63d9c451e9977da7cb38ea153",
            "value": " 7.47k/7.47k [00:00&lt;00:00, 387kB/s]"
          }
        },
        "344f3f03d7f34303ab3f19c5ba2c1422": {
          "model_module": "@jupyter-widgets/base",
          "model_name": "LayoutModel",
          "model_module_version": "1.2.0",
          "state": {
            "_model_module": "@jupyter-widgets/base",
            "_model_module_version": "1.2.0",
            "_model_name": "LayoutModel",
            "_view_count": null,
            "_view_module": "@jupyter-widgets/base",
            "_view_module_version": "1.2.0",
            "_view_name": "LayoutView",
            "align_content": null,
            "align_items": null,
            "align_self": null,
            "border": null,
            "bottom": null,
            "display": null,
            "flex": null,
            "flex_flow": null,
            "grid_area": null,
            "grid_auto_columns": null,
            "grid_auto_flow": null,
            "grid_auto_rows": null,
            "grid_column": null,
            "grid_gap": null,
            "grid_row": null,
            "grid_template_areas": null,
            "grid_template_columns": null,
            "grid_template_rows": null,
            "height": null,
            "justify_content": null,
            "justify_items": null,
            "left": null,
            "margin": null,
            "max_height": null,
            "max_width": null,
            "min_height": null,
            "min_width": null,
            "object_fit": null,
            "object_position": null,
            "order": null,
            "overflow": null,
            "overflow_x": null,
            "overflow_y": null,
            "padding": null,
            "right": null,
            "top": null,
            "visibility": null,
            "width": null
          }
        },
        "fb5c7554a8084703abc267f1e9cb8e0f": {
          "model_module": "@jupyter-widgets/base",
          "model_name": "LayoutModel",
          "model_module_version": "1.2.0",
          "state": {
            "_model_module": "@jupyter-widgets/base",
            "_model_module_version": "1.2.0",
            "_model_name": "LayoutModel",
            "_view_count": null,
            "_view_module": "@jupyter-widgets/base",
            "_view_module_version": "1.2.0",
            "_view_name": "LayoutView",
            "align_content": null,
            "align_items": null,
            "align_self": null,
            "border": null,
            "bottom": null,
            "display": null,
            "flex": null,
            "flex_flow": null,
            "grid_area": null,
            "grid_auto_columns": null,
            "grid_auto_flow": null,
            "grid_auto_rows": null,
            "grid_column": null,
            "grid_gap": null,
            "grid_row": null,
            "grid_template_areas": null,
            "grid_template_columns": null,
            "grid_template_rows": null,
            "height": null,
            "justify_content": null,
            "justify_items": null,
            "left": null,
            "margin": null,
            "max_height": null,
            "max_width": null,
            "min_height": null,
            "min_width": null,
            "object_fit": null,
            "object_position": null,
            "order": null,
            "overflow": null,
            "overflow_x": null,
            "overflow_y": null,
            "padding": null,
            "right": null,
            "top": null,
            "visibility": null,
            "width": null
          }
        },
        "26e71c2b12fb49908d91fe724fb4dad2": {
          "model_module": "@jupyter-widgets/controls",
          "model_name": "DescriptionStyleModel",
          "model_module_version": "1.5.0",
          "state": {
            "_model_module": "@jupyter-widgets/controls",
            "_model_module_version": "1.5.0",
            "_model_name": "DescriptionStyleModel",
            "_view_count": null,
            "_view_module": "@jupyter-widgets/base",
            "_view_module_version": "1.2.0",
            "_view_name": "StyleView",
            "description_width": ""
          }
        },
        "ec0e1d104ab44b5caafdf62bddc01970": {
          "model_module": "@jupyter-widgets/base",
          "model_name": "LayoutModel",
          "model_module_version": "1.2.0",
          "state": {
            "_model_module": "@jupyter-widgets/base",
            "_model_module_version": "1.2.0",
            "_model_name": "LayoutModel",
            "_view_count": null,
            "_view_module": "@jupyter-widgets/base",
            "_view_module_version": "1.2.0",
            "_view_name": "LayoutView",
            "align_content": null,
            "align_items": null,
            "align_self": null,
            "border": null,
            "bottom": null,
            "display": null,
            "flex": null,
            "flex_flow": null,
            "grid_area": null,
            "grid_auto_columns": null,
            "grid_auto_flow": null,
            "grid_auto_rows": null,
            "grid_column": null,
            "grid_gap": null,
            "grid_row": null,
            "grid_template_areas": null,
            "grid_template_columns": null,
            "grid_template_rows": null,
            "height": null,
            "justify_content": null,
            "justify_items": null,
            "left": null,
            "margin": null,
            "max_height": null,
            "max_width": null,
            "min_height": null,
            "min_width": null,
            "object_fit": null,
            "object_position": null,
            "order": null,
            "overflow": null,
            "overflow_x": null,
            "overflow_y": null,
            "padding": null,
            "right": null,
            "top": null,
            "visibility": null,
            "width": null
          }
        },
        "fa1bf1eacfe5431f973f7268bacaab55": {
          "model_module": "@jupyter-widgets/controls",
          "model_name": "ProgressStyleModel",
          "model_module_version": "1.5.0",
          "state": {
            "_model_module": "@jupyter-widgets/controls",
            "_model_module_version": "1.5.0",
            "_model_name": "ProgressStyleModel",
            "_view_count": null,
            "_view_module": "@jupyter-widgets/base",
            "_view_module_version": "1.2.0",
            "_view_name": "StyleView",
            "bar_color": null,
            "description_width": ""
          }
        },
        "b90b2ef521064679b11d960ffbdc2d1f": {
          "model_module": "@jupyter-widgets/base",
          "model_name": "LayoutModel",
          "model_module_version": "1.2.0",
          "state": {
            "_model_module": "@jupyter-widgets/base",
            "_model_module_version": "1.2.0",
            "_model_name": "LayoutModel",
            "_view_count": null,
            "_view_module": "@jupyter-widgets/base",
            "_view_module_version": "1.2.0",
            "_view_name": "LayoutView",
            "align_content": null,
            "align_items": null,
            "align_self": null,
            "border": null,
            "bottom": null,
            "display": null,
            "flex": null,
            "flex_flow": null,
            "grid_area": null,
            "grid_auto_columns": null,
            "grid_auto_flow": null,
            "grid_auto_rows": null,
            "grid_column": null,
            "grid_gap": null,
            "grid_row": null,
            "grid_template_areas": null,
            "grid_template_columns": null,
            "grid_template_rows": null,
            "height": null,
            "justify_content": null,
            "justify_items": null,
            "left": null,
            "margin": null,
            "max_height": null,
            "max_width": null,
            "min_height": null,
            "min_width": null,
            "object_fit": null,
            "object_position": null,
            "order": null,
            "overflow": null,
            "overflow_x": null,
            "overflow_y": null,
            "padding": null,
            "right": null,
            "top": null,
            "visibility": null,
            "width": null
          }
        },
        "9f7df3a63d9c451e9977da7cb38ea153": {
          "model_module": "@jupyter-widgets/controls",
          "model_name": "DescriptionStyleModel",
          "model_module_version": "1.5.0",
          "state": {
            "_model_module": "@jupyter-widgets/controls",
            "_model_module_version": "1.5.0",
            "_model_name": "DescriptionStyleModel",
            "_view_count": null,
            "_view_module": "@jupyter-widgets/base",
            "_view_module_version": "1.2.0",
            "_view_name": "StyleView",
            "description_width": ""
          }
        },
        "44f867165e0a4ebfbe80dd6bd24f86cb": {
          "model_module": "@jupyter-widgets/controls",
          "model_name": "HBoxModel",
          "model_module_version": "1.5.0",
          "state": {
            "_dom_classes": [],
            "_model_module": "@jupyter-widgets/controls",
            "_model_module_version": "1.5.0",
            "_model_name": "HBoxModel",
            "_view_count": null,
            "_view_module": "@jupyter-widgets/controls",
            "_view_module_version": "1.5.0",
            "_view_name": "HBoxView",
            "box_style": "",
            "children": [
              "IPY_MODEL_45b134c04bda40e09f55d45f1b82c9c1",
              "IPY_MODEL_ba50952f3b184b2dbf2923acdc6fadd0",
              "IPY_MODEL_2fa8d9b16b5741cc80a417240a3c7a7b"
            ],
            "layout": "IPY_MODEL_53b9ca5c18964f698c1b698d98b0b44b"
          }
        },
        "45b134c04bda40e09f55d45f1b82c9c1": {
          "model_module": "@jupyter-widgets/controls",
          "model_name": "HTMLModel",
          "model_module_version": "1.5.0",
          "state": {
            "_dom_classes": [],
            "_model_module": "@jupyter-widgets/controls",
            "_model_module_version": "1.5.0",
            "_model_name": "HTMLModel",
            "_view_count": null,
            "_view_module": "@jupyter-widgets/controls",
            "_view_module_version": "1.5.0",
            "_view_name": "HTMLView",
            "description": "",
            "description_tooltip": null,
            "layout": "IPY_MODEL_da0108987f194dd1912cd22c34c29670",
            "placeholder": "​",
            "style": "IPY_MODEL_07e5d91ac058400187c8fddad837e5e0",
            "value": "Downloading data: 100%"
          }
        },
        "ba50952f3b184b2dbf2923acdc6fadd0": {
          "model_module": "@jupyter-widgets/controls",
          "model_name": "FloatProgressModel",
          "model_module_version": "1.5.0",
          "state": {
            "_dom_classes": [],
            "_model_module": "@jupyter-widgets/controls",
            "_model_module_version": "1.5.0",
            "_model_name": "FloatProgressModel",
            "_view_count": null,
            "_view_module": "@jupyter-widgets/controls",
            "_view_module_version": "1.5.0",
            "_view_name": "ProgressView",
            "bar_style": "success",
            "description": "",
            "description_tooltip": null,
            "layout": "IPY_MODEL_73588f555c744a4a9c4177bee8728a92",
            "max": 24246638,
            "min": 0,
            "orientation": "horizontal",
            "style": "IPY_MODEL_dc1d63e4834546949fefe683bece34d7",
            "value": 24246638
          }
        },
        "2fa8d9b16b5741cc80a417240a3c7a7b": {
          "model_module": "@jupyter-widgets/controls",
          "model_name": "HTMLModel",
          "model_module_version": "1.5.0",
          "state": {
            "_dom_classes": [],
            "_model_module": "@jupyter-widgets/controls",
            "_model_module_version": "1.5.0",
            "_model_name": "HTMLModel",
            "_view_count": null,
            "_view_module": "@jupyter-widgets/controls",
            "_view_module_version": "1.5.0",
            "_view_name": "HTMLView",
            "description": "",
            "description_tooltip": null,
            "layout": "IPY_MODEL_0ad2f206bb8748688bbf0100db07ed05",
            "placeholder": "​",
            "style": "IPY_MODEL_59c80bc28ee149c5800f1e56204452c8",
            "value": " 24.2M/24.2M [00:00&lt;00:00, 30.6MB/s]"
          }
        },
        "53b9ca5c18964f698c1b698d98b0b44b": {
          "model_module": "@jupyter-widgets/base",
          "model_name": "LayoutModel",
          "model_module_version": "1.2.0",
          "state": {
            "_model_module": "@jupyter-widgets/base",
            "_model_module_version": "1.2.0",
            "_model_name": "LayoutModel",
            "_view_count": null,
            "_view_module": "@jupyter-widgets/base",
            "_view_module_version": "1.2.0",
            "_view_name": "LayoutView",
            "align_content": null,
            "align_items": null,
            "align_self": null,
            "border": null,
            "bottom": null,
            "display": null,
            "flex": null,
            "flex_flow": null,
            "grid_area": null,
            "grid_auto_columns": null,
            "grid_auto_flow": null,
            "grid_auto_rows": null,
            "grid_column": null,
            "grid_gap": null,
            "grid_row": null,
            "grid_template_areas": null,
            "grid_template_columns": null,
            "grid_template_rows": null,
            "height": null,
            "justify_content": null,
            "justify_items": null,
            "left": null,
            "margin": null,
            "max_height": null,
            "max_width": null,
            "min_height": null,
            "min_width": null,
            "object_fit": null,
            "object_position": null,
            "order": null,
            "overflow": null,
            "overflow_x": null,
            "overflow_y": null,
            "padding": null,
            "right": null,
            "top": null,
            "visibility": null,
            "width": null
          }
        },
        "da0108987f194dd1912cd22c34c29670": {
          "model_module": "@jupyter-widgets/base",
          "model_name": "LayoutModel",
          "model_module_version": "1.2.0",
          "state": {
            "_model_module": "@jupyter-widgets/base",
            "_model_module_version": "1.2.0",
            "_model_name": "LayoutModel",
            "_view_count": null,
            "_view_module": "@jupyter-widgets/base",
            "_view_module_version": "1.2.0",
            "_view_name": "LayoutView",
            "align_content": null,
            "align_items": null,
            "align_self": null,
            "border": null,
            "bottom": null,
            "display": null,
            "flex": null,
            "flex_flow": null,
            "grid_area": null,
            "grid_auto_columns": null,
            "grid_auto_flow": null,
            "grid_auto_rows": null,
            "grid_column": null,
            "grid_gap": null,
            "grid_row": null,
            "grid_template_areas": null,
            "grid_template_columns": null,
            "grid_template_rows": null,
            "height": null,
            "justify_content": null,
            "justify_items": null,
            "left": null,
            "margin": null,
            "max_height": null,
            "max_width": null,
            "min_height": null,
            "min_width": null,
            "object_fit": null,
            "object_position": null,
            "order": null,
            "overflow": null,
            "overflow_x": null,
            "overflow_y": null,
            "padding": null,
            "right": null,
            "top": null,
            "visibility": null,
            "width": null
          }
        },
        "07e5d91ac058400187c8fddad837e5e0": {
          "model_module": "@jupyter-widgets/controls",
          "model_name": "DescriptionStyleModel",
          "model_module_version": "1.5.0",
          "state": {
            "_model_module": "@jupyter-widgets/controls",
            "_model_module_version": "1.5.0",
            "_model_name": "DescriptionStyleModel",
            "_view_count": null,
            "_view_module": "@jupyter-widgets/base",
            "_view_module_version": "1.2.0",
            "_view_name": "StyleView",
            "description_width": ""
          }
        },
        "73588f555c744a4a9c4177bee8728a92": {
          "model_module": "@jupyter-widgets/base",
          "model_name": "LayoutModel",
          "model_module_version": "1.2.0",
          "state": {
            "_model_module": "@jupyter-widgets/base",
            "_model_module_version": "1.2.0",
            "_model_name": "LayoutModel",
            "_view_count": null,
            "_view_module": "@jupyter-widgets/base",
            "_view_module_version": "1.2.0",
            "_view_name": "LayoutView",
            "align_content": null,
            "align_items": null,
            "align_self": null,
            "border": null,
            "bottom": null,
            "display": null,
            "flex": null,
            "flex_flow": null,
            "grid_area": null,
            "grid_auto_columns": null,
            "grid_auto_flow": null,
            "grid_auto_rows": null,
            "grid_column": null,
            "grid_gap": null,
            "grid_row": null,
            "grid_template_areas": null,
            "grid_template_columns": null,
            "grid_template_rows": null,
            "height": null,
            "justify_content": null,
            "justify_items": null,
            "left": null,
            "margin": null,
            "max_height": null,
            "max_width": null,
            "min_height": null,
            "min_width": null,
            "object_fit": null,
            "object_position": null,
            "order": null,
            "overflow": null,
            "overflow_x": null,
            "overflow_y": null,
            "padding": null,
            "right": null,
            "top": null,
            "visibility": null,
            "width": null
          }
        },
        "dc1d63e4834546949fefe683bece34d7": {
          "model_module": "@jupyter-widgets/controls",
          "model_name": "ProgressStyleModel",
          "model_module_version": "1.5.0",
          "state": {
            "_model_module": "@jupyter-widgets/controls",
            "_model_module_version": "1.5.0",
            "_model_name": "ProgressStyleModel",
            "_view_count": null,
            "_view_module": "@jupyter-widgets/base",
            "_view_module_version": "1.2.0",
            "_view_name": "StyleView",
            "bar_color": null,
            "description_width": ""
          }
        },
        "0ad2f206bb8748688bbf0100db07ed05": {
          "model_module": "@jupyter-widgets/base",
          "model_name": "LayoutModel",
          "model_module_version": "1.2.0",
          "state": {
            "_model_module": "@jupyter-widgets/base",
            "_model_module_version": "1.2.0",
            "_model_name": "LayoutModel",
            "_view_count": null,
            "_view_module": "@jupyter-widgets/base",
            "_view_module_version": "1.2.0",
            "_view_name": "LayoutView",
            "align_content": null,
            "align_items": null,
            "align_self": null,
            "border": null,
            "bottom": null,
            "display": null,
            "flex": null,
            "flex_flow": null,
            "grid_area": null,
            "grid_auto_columns": null,
            "grid_auto_flow": null,
            "grid_auto_rows": null,
            "grid_column": null,
            "grid_gap": null,
            "grid_row": null,
            "grid_template_areas": null,
            "grid_template_columns": null,
            "grid_template_rows": null,
            "height": null,
            "justify_content": null,
            "justify_items": null,
            "left": null,
            "margin": null,
            "max_height": null,
            "max_width": null,
            "min_height": null,
            "min_width": null,
            "object_fit": null,
            "object_position": null,
            "order": null,
            "overflow": null,
            "overflow_x": null,
            "overflow_y": null,
            "padding": null,
            "right": null,
            "top": null,
            "visibility": null,
            "width": null
          }
        },
        "59c80bc28ee149c5800f1e56204452c8": {
          "model_module": "@jupyter-widgets/controls",
          "model_name": "DescriptionStyleModel",
          "model_module_version": "1.5.0",
          "state": {
            "_model_module": "@jupyter-widgets/controls",
            "_model_module_version": "1.5.0",
            "_model_name": "DescriptionStyleModel",
            "_view_count": null,
            "_view_module": "@jupyter-widgets/base",
            "_view_module_version": "1.2.0",
            "_view_name": "StyleView",
            "description_width": ""
          }
        },
        "93923d2fbb2041b499b82efb138b21a9": {
          "model_module": "@jupyter-widgets/controls",
          "model_name": "HBoxModel",
          "model_module_version": "1.5.0",
          "state": {
            "_dom_classes": [],
            "_model_module": "@jupyter-widgets/controls",
            "_model_module_version": "1.5.0",
            "_model_name": "HBoxModel",
            "_view_count": null,
            "_view_module": "@jupyter-widgets/controls",
            "_view_module_version": "1.5.0",
            "_view_name": "HBoxView",
            "box_style": "",
            "children": [
              "IPY_MODEL_c3bc311826354aa78ad0d804f3a3b1ac",
              "IPY_MODEL_7d6da602105b4a9195eb212e7988f3cc",
              "IPY_MODEL_03de5cc7140d4d3faab4c053e8416472"
            ],
            "layout": "IPY_MODEL_3f3742d1c1e445c4b089ff0eb0386e4c"
          }
        },
        "c3bc311826354aa78ad0d804f3a3b1ac": {
          "model_module": "@jupyter-widgets/controls",
          "model_name": "HTMLModel",
          "model_module_version": "1.5.0",
          "state": {
            "_dom_classes": [],
            "_model_module": "@jupyter-widgets/controls",
            "_model_module_version": "1.5.0",
            "_model_name": "HTMLModel",
            "_view_count": null,
            "_view_module": "@jupyter-widgets/controls",
            "_view_module_version": "1.5.0",
            "_view_name": "HTMLView",
            "description": "",
            "description_tooltip": null,
            "layout": "IPY_MODEL_59d62968adfa42b0979a1ec1df71afdf",
            "placeholder": "​",
            "style": "IPY_MODEL_2302842ca9254b86a43965eb54954c44",
            "value": "Generating train split: 100%"
          }
        },
        "7d6da602105b4a9195eb212e7988f3cc": {
          "model_module": "@jupyter-widgets/controls",
          "model_name": "FloatProgressModel",
          "model_module_version": "1.5.0",
          "state": {
            "_dom_classes": [],
            "_model_module": "@jupyter-widgets/controls",
            "_model_module_version": "1.5.0",
            "_model_name": "FloatProgressModel",
            "_view_count": null,
            "_view_module": "@jupyter-widgets/controls",
            "_view_module_version": "1.5.0",
            "_view_name": "ProgressView",
            "bar_style": "success",
            "description": "",
            "description_tooltip": null,
            "layout": "IPY_MODEL_78f627dd7b4d460fbe45e7673e34b1d2",
            "max": 52002,
            "min": 0,
            "orientation": "horizontal",
            "style": "IPY_MODEL_a3195eb8599641858ffe47710511eb9f",
            "value": 52002
          }
        },
        "03de5cc7140d4d3faab4c053e8416472": {
          "model_module": "@jupyter-widgets/controls",
          "model_name": "HTMLModel",
          "model_module_version": "1.5.0",
          "state": {
            "_dom_classes": [],
            "_model_module": "@jupyter-widgets/controls",
            "_model_module_version": "1.5.0",
            "_model_name": "HTMLModel",
            "_view_count": null,
            "_view_module": "@jupyter-widgets/controls",
            "_view_module_version": "1.5.0",
            "_view_name": "HTMLView",
            "description": "",
            "description_tooltip": null,
            "layout": "IPY_MODEL_b418b6eb24284e4493c88b3a9c1623d9",
            "placeholder": "​",
            "style": "IPY_MODEL_b4cccbb538bf4110952f7ba37f29acc1",
            "value": " 52002/52002 [00:00&lt;00:00, 181831.70 examples/s]"
          }
        },
        "3f3742d1c1e445c4b089ff0eb0386e4c": {
          "model_module": "@jupyter-widgets/base",
          "model_name": "LayoutModel",
          "model_module_version": "1.2.0",
          "state": {
            "_model_module": "@jupyter-widgets/base",
            "_model_module_version": "1.2.0",
            "_model_name": "LayoutModel",
            "_view_count": null,
            "_view_module": "@jupyter-widgets/base",
            "_view_module_version": "1.2.0",
            "_view_name": "LayoutView",
            "align_content": null,
            "align_items": null,
            "align_self": null,
            "border": null,
            "bottom": null,
            "display": null,
            "flex": null,
            "flex_flow": null,
            "grid_area": null,
            "grid_auto_columns": null,
            "grid_auto_flow": null,
            "grid_auto_rows": null,
            "grid_column": null,
            "grid_gap": null,
            "grid_row": null,
            "grid_template_areas": null,
            "grid_template_columns": null,
            "grid_template_rows": null,
            "height": null,
            "justify_content": null,
            "justify_items": null,
            "left": null,
            "margin": null,
            "max_height": null,
            "max_width": null,
            "min_height": null,
            "min_width": null,
            "object_fit": null,
            "object_position": null,
            "order": null,
            "overflow": null,
            "overflow_x": null,
            "overflow_y": null,
            "padding": null,
            "right": null,
            "top": null,
            "visibility": null,
            "width": null
          }
        },
        "59d62968adfa42b0979a1ec1df71afdf": {
          "model_module": "@jupyter-widgets/base",
          "model_name": "LayoutModel",
          "model_module_version": "1.2.0",
          "state": {
            "_model_module": "@jupyter-widgets/base",
            "_model_module_version": "1.2.0",
            "_model_name": "LayoutModel",
            "_view_count": null,
            "_view_module": "@jupyter-widgets/base",
            "_view_module_version": "1.2.0",
            "_view_name": "LayoutView",
            "align_content": null,
            "align_items": null,
            "align_self": null,
            "border": null,
            "bottom": null,
            "display": null,
            "flex": null,
            "flex_flow": null,
            "grid_area": null,
            "grid_auto_columns": null,
            "grid_auto_flow": null,
            "grid_auto_rows": null,
            "grid_column": null,
            "grid_gap": null,
            "grid_row": null,
            "grid_template_areas": null,
            "grid_template_columns": null,
            "grid_template_rows": null,
            "height": null,
            "justify_content": null,
            "justify_items": null,
            "left": null,
            "margin": null,
            "max_height": null,
            "max_width": null,
            "min_height": null,
            "min_width": null,
            "object_fit": null,
            "object_position": null,
            "order": null,
            "overflow": null,
            "overflow_x": null,
            "overflow_y": null,
            "padding": null,
            "right": null,
            "top": null,
            "visibility": null,
            "width": null
          }
        },
        "2302842ca9254b86a43965eb54954c44": {
          "model_module": "@jupyter-widgets/controls",
          "model_name": "DescriptionStyleModel",
          "model_module_version": "1.5.0",
          "state": {
            "_model_module": "@jupyter-widgets/controls",
            "_model_module_version": "1.5.0",
            "_model_name": "DescriptionStyleModel",
            "_view_count": null,
            "_view_module": "@jupyter-widgets/base",
            "_view_module_version": "1.2.0",
            "_view_name": "StyleView",
            "description_width": ""
          }
        },
        "78f627dd7b4d460fbe45e7673e34b1d2": {
          "model_module": "@jupyter-widgets/base",
          "model_name": "LayoutModel",
          "model_module_version": "1.2.0",
          "state": {
            "_model_module": "@jupyter-widgets/base",
            "_model_module_version": "1.2.0",
            "_model_name": "LayoutModel",
            "_view_count": null,
            "_view_module": "@jupyter-widgets/base",
            "_view_module_version": "1.2.0",
            "_view_name": "LayoutView",
            "align_content": null,
            "align_items": null,
            "align_self": null,
            "border": null,
            "bottom": null,
            "display": null,
            "flex": null,
            "flex_flow": null,
            "grid_area": null,
            "grid_auto_columns": null,
            "grid_auto_flow": null,
            "grid_auto_rows": null,
            "grid_column": null,
            "grid_gap": null,
            "grid_row": null,
            "grid_template_areas": null,
            "grid_template_columns": null,
            "grid_template_rows": null,
            "height": null,
            "justify_content": null,
            "justify_items": null,
            "left": null,
            "margin": null,
            "max_height": null,
            "max_width": null,
            "min_height": null,
            "min_width": null,
            "object_fit": null,
            "object_position": null,
            "order": null,
            "overflow": null,
            "overflow_x": null,
            "overflow_y": null,
            "padding": null,
            "right": null,
            "top": null,
            "visibility": null,
            "width": null
          }
        },
        "a3195eb8599641858ffe47710511eb9f": {
          "model_module": "@jupyter-widgets/controls",
          "model_name": "ProgressStyleModel",
          "model_module_version": "1.5.0",
          "state": {
            "_model_module": "@jupyter-widgets/controls",
            "_model_module_version": "1.5.0",
            "_model_name": "ProgressStyleModel",
            "_view_count": null,
            "_view_module": "@jupyter-widgets/base",
            "_view_module_version": "1.2.0",
            "_view_name": "StyleView",
            "bar_color": null,
            "description_width": ""
          }
        },
        "b418b6eb24284e4493c88b3a9c1623d9": {
          "model_module": "@jupyter-widgets/base",
          "model_name": "LayoutModel",
          "model_module_version": "1.2.0",
          "state": {
            "_model_module": "@jupyter-widgets/base",
            "_model_module_version": "1.2.0",
            "_model_name": "LayoutModel",
            "_view_count": null,
            "_view_module": "@jupyter-widgets/base",
            "_view_module_version": "1.2.0",
            "_view_name": "LayoutView",
            "align_content": null,
            "align_items": null,
            "align_self": null,
            "border": null,
            "bottom": null,
            "display": null,
            "flex": null,
            "flex_flow": null,
            "grid_area": null,
            "grid_auto_columns": null,
            "grid_auto_flow": null,
            "grid_auto_rows": null,
            "grid_column": null,
            "grid_gap": null,
            "grid_row": null,
            "grid_template_areas": null,
            "grid_template_columns": null,
            "grid_template_rows": null,
            "height": null,
            "justify_content": null,
            "justify_items": null,
            "left": null,
            "margin": null,
            "max_height": null,
            "max_width": null,
            "min_height": null,
            "min_width": null,
            "object_fit": null,
            "object_position": null,
            "order": null,
            "overflow": null,
            "overflow_x": null,
            "overflow_y": null,
            "padding": null,
            "right": null,
            "top": null,
            "visibility": null,
            "width": null
          }
        },
        "b4cccbb538bf4110952f7ba37f29acc1": {
          "model_module": "@jupyter-widgets/controls",
          "model_name": "DescriptionStyleModel",
          "model_module_version": "1.5.0",
          "state": {
            "_model_module": "@jupyter-widgets/controls",
            "_model_module_version": "1.5.0",
            "_model_name": "DescriptionStyleModel",
            "_view_count": null,
            "_view_module": "@jupyter-widgets/base",
            "_view_module_version": "1.2.0",
            "_view_name": "StyleView",
            "description_width": ""
          }
        },
        "92d98e04d5644cdd854764f81797f606": {
          "model_module": "@jupyter-widgets/controls",
          "model_name": "HBoxModel",
          "model_module_version": "1.5.0",
          "state": {
            "_dom_classes": [],
            "_model_module": "@jupyter-widgets/controls",
            "_model_module_version": "1.5.0",
            "_model_name": "HBoxModel",
            "_view_count": null,
            "_view_module": "@jupyter-widgets/controls",
            "_view_module_version": "1.5.0",
            "_view_name": "HBoxView",
            "box_style": "",
            "children": [
              "IPY_MODEL_73805989541a4f58ac292f5b34959a4a",
              "IPY_MODEL_ea0c7c449daf4e42867cc5fb598ba7cd",
              "IPY_MODEL_430318af5dcc4c40b68ac978445a934d"
            ],
            "layout": "IPY_MODEL_20e128a5c72d4c91904650e670de04cd"
          }
        },
        "73805989541a4f58ac292f5b34959a4a": {
          "model_module": "@jupyter-widgets/controls",
          "model_name": "HTMLModel",
          "model_module_version": "1.5.0",
          "state": {
            "_dom_classes": [],
            "_model_module": "@jupyter-widgets/controls",
            "_model_module_version": "1.5.0",
            "_model_name": "HTMLModel",
            "_view_count": null,
            "_view_module": "@jupyter-widgets/controls",
            "_view_module_version": "1.5.0",
            "_view_name": "HTMLView",
            "description": "",
            "description_tooltip": null,
            "layout": "IPY_MODEL_d3e20799492f4c1b8cd80a805d450cc2",
            "placeholder": "​",
            "style": "IPY_MODEL_e7b68ac1f2464947b0df0ae5eb5eec7e",
            "value": "Downloading readme: 100%"
          }
        },
        "ea0c7c449daf4e42867cc5fb598ba7cd": {
          "model_module": "@jupyter-widgets/controls",
          "model_name": "FloatProgressModel",
          "model_module_version": "1.5.0",
          "state": {
            "_dom_classes": [],
            "_model_module": "@jupyter-widgets/controls",
            "_model_module_version": "1.5.0",
            "_model_name": "FloatProgressModel",
            "_view_count": null,
            "_view_module": "@jupyter-widgets/controls",
            "_view_module_version": "1.5.0",
            "_view_name": "ProgressView",
            "bar_style": "success",
            "description": "",
            "description_tooltip": null,
            "layout": "IPY_MODEL_a7925b7582c6493ca51a200696dad3f1",
            "max": 5337,
            "min": 0,
            "orientation": "horizontal",
            "style": "IPY_MODEL_a398f013a1c4483896695c0a97e49fb4",
            "value": 5337
          }
        },
        "430318af5dcc4c40b68ac978445a934d": {
          "model_module": "@jupyter-widgets/controls",
          "model_name": "HTMLModel",
          "model_module_version": "1.5.0",
          "state": {
            "_dom_classes": [],
            "_model_module": "@jupyter-widgets/controls",
            "_model_module_version": "1.5.0",
            "_model_name": "HTMLModel",
            "_view_count": null,
            "_view_module": "@jupyter-widgets/controls",
            "_view_module_version": "1.5.0",
            "_view_name": "HTMLView",
            "description": "",
            "description_tooltip": null,
            "layout": "IPY_MODEL_fb16ee06fef34fdeb8bf518bdf5ab04d",
            "placeholder": "​",
            "style": "IPY_MODEL_226d3824bfee47de9319dc6c3df72a6e",
            "value": " 5.34k/5.34k [00:00&lt;00:00, 268kB/s]"
          }
        },
        "20e128a5c72d4c91904650e670de04cd": {
          "model_module": "@jupyter-widgets/base",
          "model_name": "LayoutModel",
          "model_module_version": "1.2.0",
          "state": {
            "_model_module": "@jupyter-widgets/base",
            "_model_module_version": "1.2.0",
            "_model_name": "LayoutModel",
            "_view_count": null,
            "_view_module": "@jupyter-widgets/base",
            "_view_module_version": "1.2.0",
            "_view_name": "LayoutView",
            "align_content": null,
            "align_items": null,
            "align_self": null,
            "border": null,
            "bottom": null,
            "display": null,
            "flex": null,
            "flex_flow": null,
            "grid_area": null,
            "grid_auto_columns": null,
            "grid_auto_flow": null,
            "grid_auto_rows": null,
            "grid_column": null,
            "grid_gap": null,
            "grid_row": null,
            "grid_template_areas": null,
            "grid_template_columns": null,
            "grid_template_rows": null,
            "height": null,
            "justify_content": null,
            "justify_items": null,
            "left": null,
            "margin": null,
            "max_height": null,
            "max_width": null,
            "min_height": null,
            "min_width": null,
            "object_fit": null,
            "object_position": null,
            "order": null,
            "overflow": null,
            "overflow_x": null,
            "overflow_y": null,
            "padding": null,
            "right": null,
            "top": null,
            "visibility": null,
            "width": null
          }
        },
        "d3e20799492f4c1b8cd80a805d450cc2": {
          "model_module": "@jupyter-widgets/base",
          "model_name": "LayoutModel",
          "model_module_version": "1.2.0",
          "state": {
            "_model_module": "@jupyter-widgets/base",
            "_model_module_version": "1.2.0",
            "_model_name": "LayoutModel",
            "_view_count": null,
            "_view_module": "@jupyter-widgets/base",
            "_view_module_version": "1.2.0",
            "_view_name": "LayoutView",
            "align_content": null,
            "align_items": null,
            "align_self": null,
            "border": null,
            "bottom": null,
            "display": null,
            "flex": null,
            "flex_flow": null,
            "grid_area": null,
            "grid_auto_columns": null,
            "grid_auto_flow": null,
            "grid_auto_rows": null,
            "grid_column": null,
            "grid_gap": null,
            "grid_row": null,
            "grid_template_areas": null,
            "grid_template_columns": null,
            "grid_template_rows": null,
            "height": null,
            "justify_content": null,
            "justify_items": null,
            "left": null,
            "margin": null,
            "max_height": null,
            "max_width": null,
            "min_height": null,
            "min_width": null,
            "object_fit": null,
            "object_position": null,
            "order": null,
            "overflow": null,
            "overflow_x": null,
            "overflow_y": null,
            "padding": null,
            "right": null,
            "top": null,
            "visibility": null,
            "width": null
          }
        },
        "e7b68ac1f2464947b0df0ae5eb5eec7e": {
          "model_module": "@jupyter-widgets/controls",
          "model_name": "DescriptionStyleModel",
          "model_module_version": "1.5.0",
          "state": {
            "_model_module": "@jupyter-widgets/controls",
            "_model_module_version": "1.5.0",
            "_model_name": "DescriptionStyleModel",
            "_view_count": null,
            "_view_module": "@jupyter-widgets/base",
            "_view_module_version": "1.2.0",
            "_view_name": "StyleView",
            "description_width": ""
          }
        },
        "a7925b7582c6493ca51a200696dad3f1": {
          "model_module": "@jupyter-widgets/base",
          "model_name": "LayoutModel",
          "model_module_version": "1.2.0",
          "state": {
            "_model_module": "@jupyter-widgets/base",
            "_model_module_version": "1.2.0",
            "_model_name": "LayoutModel",
            "_view_count": null,
            "_view_module": "@jupyter-widgets/base",
            "_view_module_version": "1.2.0",
            "_view_name": "LayoutView",
            "align_content": null,
            "align_items": null,
            "align_self": null,
            "border": null,
            "bottom": null,
            "display": null,
            "flex": null,
            "flex_flow": null,
            "grid_area": null,
            "grid_auto_columns": null,
            "grid_auto_flow": null,
            "grid_auto_rows": null,
            "grid_column": null,
            "grid_gap": null,
            "grid_row": null,
            "grid_template_areas": null,
            "grid_template_columns": null,
            "grid_template_rows": null,
            "height": null,
            "justify_content": null,
            "justify_items": null,
            "left": null,
            "margin": null,
            "max_height": null,
            "max_width": null,
            "min_height": null,
            "min_width": null,
            "object_fit": null,
            "object_position": null,
            "order": null,
            "overflow": null,
            "overflow_x": null,
            "overflow_y": null,
            "padding": null,
            "right": null,
            "top": null,
            "visibility": null,
            "width": null
          }
        },
        "a398f013a1c4483896695c0a97e49fb4": {
          "model_module": "@jupyter-widgets/controls",
          "model_name": "ProgressStyleModel",
          "model_module_version": "1.5.0",
          "state": {
            "_model_module": "@jupyter-widgets/controls",
            "_model_module_version": "1.5.0",
            "_model_name": "ProgressStyleModel",
            "_view_count": null,
            "_view_module": "@jupyter-widgets/base",
            "_view_module_version": "1.2.0",
            "_view_name": "StyleView",
            "bar_color": null,
            "description_width": ""
          }
        },
        "fb16ee06fef34fdeb8bf518bdf5ab04d": {
          "model_module": "@jupyter-widgets/base",
          "model_name": "LayoutModel",
          "model_module_version": "1.2.0",
          "state": {
            "_model_module": "@jupyter-widgets/base",
            "_model_module_version": "1.2.0",
            "_model_name": "LayoutModel",
            "_view_count": null,
            "_view_module": "@jupyter-widgets/base",
            "_view_module_version": "1.2.0",
            "_view_name": "LayoutView",
            "align_content": null,
            "align_items": null,
            "align_self": null,
            "border": null,
            "bottom": null,
            "display": null,
            "flex": null,
            "flex_flow": null,
            "grid_area": null,
            "grid_auto_columns": null,
            "grid_auto_flow": null,
            "grid_auto_rows": null,
            "grid_column": null,
            "grid_gap": null,
            "grid_row": null,
            "grid_template_areas": null,
            "grid_template_columns": null,
            "grid_template_rows": null,
            "height": null,
            "justify_content": null,
            "justify_items": null,
            "left": null,
            "margin": null,
            "max_height": null,
            "max_width": null,
            "min_height": null,
            "min_width": null,
            "object_fit": null,
            "object_position": null,
            "order": null,
            "overflow": null,
            "overflow_x": null,
            "overflow_y": null,
            "padding": null,
            "right": null,
            "top": null,
            "visibility": null,
            "width": null
          }
        },
        "226d3824bfee47de9319dc6c3df72a6e": {
          "model_module": "@jupyter-widgets/controls",
          "model_name": "DescriptionStyleModel",
          "model_module_version": "1.5.0",
          "state": {
            "_model_module": "@jupyter-widgets/controls",
            "_model_module_version": "1.5.0",
            "_model_name": "DescriptionStyleModel",
            "_view_count": null,
            "_view_module": "@jupyter-widgets/base",
            "_view_module_version": "1.2.0",
            "_view_name": "StyleView",
            "description_width": ""
          }
        },
        "5fe3afb756d54972b83c8853773055e8": {
          "model_module": "@jupyter-widgets/controls",
          "model_name": "HBoxModel",
          "model_module_version": "1.5.0",
          "state": {
            "_dom_classes": [],
            "_model_module": "@jupyter-widgets/controls",
            "_model_module_version": "1.5.0",
            "_model_name": "HBoxModel",
            "_view_count": null,
            "_view_module": "@jupyter-widgets/controls",
            "_view_module_version": "1.5.0",
            "_view_name": "HBoxView",
            "box_style": "",
            "children": [
              "IPY_MODEL_f37c9c0043fc4326837af55f2d856772",
              "IPY_MODEL_060a0ea73c234ab0bd492da4fc2867bd",
              "IPY_MODEL_1664af2b46074bee928fa06ee1a2b1ed"
            ],
            "layout": "IPY_MODEL_567d0b9b6bee492c8937b73911a1e4bc"
          }
        },
        "f37c9c0043fc4326837af55f2d856772": {
          "model_module": "@jupyter-widgets/controls",
          "model_name": "HTMLModel",
          "model_module_version": "1.5.0",
          "state": {
            "_dom_classes": [],
            "_model_module": "@jupyter-widgets/controls",
            "_model_module_version": "1.5.0",
            "_model_name": "HTMLModel",
            "_view_count": null,
            "_view_module": "@jupyter-widgets/controls",
            "_view_module_version": "1.5.0",
            "_view_name": "HTMLView",
            "description": "",
            "description_tooltip": null,
            "layout": "IPY_MODEL_2c403cbc855240468412febeea22abd3",
            "placeholder": "​",
            "style": "IPY_MODEL_5d33cf93825a4086b689805879e9ff6e",
            "value": "Downloading data: 100%"
          }
        },
        "060a0ea73c234ab0bd492da4fc2867bd": {
          "model_module": "@jupyter-widgets/controls",
          "model_name": "FloatProgressModel",
          "model_module_version": "1.5.0",
          "state": {
            "_dom_classes": [],
            "_model_module": "@jupyter-widgets/controls",
            "_model_module_version": "1.5.0",
            "_model_name": "FloatProgressModel",
            "_view_count": null,
            "_view_module": "@jupyter-widgets/controls",
            "_view_module_version": "1.5.0",
            "_view_name": "ProgressView",
            "bar_style": "success",
            "description": "",
            "description_tooltip": null,
            "layout": "IPY_MODEL_296e45916feb4b258f5bd44f90e32209",
            "max": 15565850,
            "min": 0,
            "orientation": "horizontal",
            "style": "IPY_MODEL_b58f223365b148cc8f890cefbe96d64d",
            "value": 15565850
          }
        },
        "1664af2b46074bee928fa06ee1a2b1ed": {
          "model_module": "@jupyter-widgets/controls",
          "model_name": "HTMLModel",
          "model_module_version": "1.5.0",
          "state": {
            "_dom_classes": [],
            "_model_module": "@jupyter-widgets/controls",
            "_model_module_version": "1.5.0",
            "_model_name": "HTMLModel",
            "_view_count": null,
            "_view_module": "@jupyter-widgets/controls",
            "_view_module_version": "1.5.0",
            "_view_name": "HTMLView",
            "description": "",
            "description_tooltip": null,
            "layout": "IPY_MODEL_26d34e60ff7d4483a85a25a3409d44ce",
            "placeholder": "​",
            "style": "IPY_MODEL_450abd063cc443e7b95dc7d005a81490",
            "value": " 15.6M/15.6M [00:00&lt;00:00, 41.9MB/s]"
          }
        },
        "567d0b9b6bee492c8937b73911a1e4bc": {
          "model_module": "@jupyter-widgets/base",
          "model_name": "LayoutModel",
          "model_module_version": "1.2.0",
          "state": {
            "_model_module": "@jupyter-widgets/base",
            "_model_module_version": "1.2.0",
            "_model_name": "LayoutModel",
            "_view_count": null,
            "_view_module": "@jupyter-widgets/base",
            "_view_module_version": "1.2.0",
            "_view_name": "LayoutView",
            "align_content": null,
            "align_items": null,
            "align_self": null,
            "border": null,
            "bottom": null,
            "display": null,
            "flex": null,
            "flex_flow": null,
            "grid_area": null,
            "grid_auto_columns": null,
            "grid_auto_flow": null,
            "grid_auto_rows": null,
            "grid_column": null,
            "grid_gap": null,
            "grid_row": null,
            "grid_template_areas": null,
            "grid_template_columns": null,
            "grid_template_rows": null,
            "height": null,
            "justify_content": null,
            "justify_items": null,
            "left": null,
            "margin": null,
            "max_height": null,
            "max_width": null,
            "min_height": null,
            "min_width": null,
            "object_fit": null,
            "object_position": null,
            "order": null,
            "overflow": null,
            "overflow_x": null,
            "overflow_y": null,
            "padding": null,
            "right": null,
            "top": null,
            "visibility": null,
            "width": null
          }
        },
        "2c403cbc855240468412febeea22abd3": {
          "model_module": "@jupyter-widgets/base",
          "model_name": "LayoutModel",
          "model_module_version": "1.2.0",
          "state": {
            "_model_module": "@jupyter-widgets/base",
            "_model_module_version": "1.2.0",
            "_model_name": "LayoutModel",
            "_view_count": null,
            "_view_module": "@jupyter-widgets/base",
            "_view_module_version": "1.2.0",
            "_view_name": "LayoutView",
            "align_content": null,
            "align_items": null,
            "align_self": null,
            "border": null,
            "bottom": null,
            "display": null,
            "flex": null,
            "flex_flow": null,
            "grid_area": null,
            "grid_auto_columns": null,
            "grid_auto_flow": null,
            "grid_auto_rows": null,
            "grid_column": null,
            "grid_gap": null,
            "grid_row": null,
            "grid_template_areas": null,
            "grid_template_columns": null,
            "grid_template_rows": null,
            "height": null,
            "justify_content": null,
            "justify_items": null,
            "left": null,
            "margin": null,
            "max_height": null,
            "max_width": null,
            "min_height": null,
            "min_width": null,
            "object_fit": null,
            "object_position": null,
            "order": null,
            "overflow": null,
            "overflow_x": null,
            "overflow_y": null,
            "padding": null,
            "right": null,
            "top": null,
            "visibility": null,
            "width": null
          }
        },
        "5d33cf93825a4086b689805879e9ff6e": {
          "model_module": "@jupyter-widgets/controls",
          "model_name": "DescriptionStyleModel",
          "model_module_version": "1.5.0",
          "state": {
            "_model_module": "@jupyter-widgets/controls",
            "_model_module_version": "1.5.0",
            "_model_name": "DescriptionStyleModel",
            "_view_count": null,
            "_view_module": "@jupyter-widgets/base",
            "_view_module_version": "1.2.0",
            "_view_name": "StyleView",
            "description_width": ""
          }
        },
        "296e45916feb4b258f5bd44f90e32209": {
          "model_module": "@jupyter-widgets/base",
          "model_name": "LayoutModel",
          "model_module_version": "1.2.0",
          "state": {
            "_model_module": "@jupyter-widgets/base",
            "_model_module_version": "1.2.0",
            "_model_name": "LayoutModel",
            "_view_count": null,
            "_view_module": "@jupyter-widgets/base",
            "_view_module_version": "1.2.0",
            "_view_name": "LayoutView",
            "align_content": null,
            "align_items": null,
            "align_self": null,
            "border": null,
            "bottom": null,
            "display": null,
            "flex": null,
            "flex_flow": null,
            "grid_area": null,
            "grid_auto_columns": null,
            "grid_auto_flow": null,
            "grid_auto_rows": null,
            "grid_column": null,
            "grid_gap": null,
            "grid_row": null,
            "grid_template_areas": null,
            "grid_template_columns": null,
            "grid_template_rows": null,
            "height": null,
            "justify_content": null,
            "justify_items": null,
            "left": null,
            "margin": null,
            "max_height": null,
            "max_width": null,
            "min_height": null,
            "min_width": null,
            "object_fit": null,
            "object_position": null,
            "order": null,
            "overflow": null,
            "overflow_x": null,
            "overflow_y": null,
            "padding": null,
            "right": null,
            "top": null,
            "visibility": null,
            "width": null
          }
        },
        "b58f223365b148cc8f890cefbe96d64d": {
          "model_module": "@jupyter-widgets/controls",
          "model_name": "ProgressStyleModel",
          "model_module_version": "1.5.0",
          "state": {
            "_model_module": "@jupyter-widgets/controls",
            "_model_module_version": "1.5.0",
            "_model_name": "ProgressStyleModel",
            "_view_count": null,
            "_view_module": "@jupyter-widgets/base",
            "_view_module_version": "1.2.0",
            "_view_name": "StyleView",
            "bar_color": null,
            "description_width": ""
          }
        },
        "26d34e60ff7d4483a85a25a3409d44ce": {
          "model_module": "@jupyter-widgets/base",
          "model_name": "LayoutModel",
          "model_module_version": "1.2.0",
          "state": {
            "_model_module": "@jupyter-widgets/base",
            "_model_module_version": "1.2.0",
            "_model_name": "LayoutModel",
            "_view_count": null,
            "_view_module": "@jupyter-widgets/base",
            "_view_module_version": "1.2.0",
            "_view_name": "LayoutView",
            "align_content": null,
            "align_items": null,
            "align_self": null,
            "border": null,
            "bottom": null,
            "display": null,
            "flex": null,
            "flex_flow": null,
            "grid_area": null,
            "grid_auto_columns": null,
            "grid_auto_flow": null,
            "grid_auto_rows": null,
            "grid_column": null,
            "grid_gap": null,
            "grid_row": null,
            "grid_template_areas": null,
            "grid_template_columns": null,
            "grid_template_rows": null,
            "height": null,
            "justify_content": null,
            "justify_items": null,
            "left": null,
            "margin": null,
            "max_height": null,
            "max_width": null,
            "min_height": null,
            "min_width": null,
            "object_fit": null,
            "object_position": null,
            "order": null,
            "overflow": null,
            "overflow_x": null,
            "overflow_y": null,
            "padding": null,
            "right": null,
            "top": null,
            "visibility": null,
            "width": null
          }
        },
        "450abd063cc443e7b95dc7d005a81490": {
          "model_module": "@jupyter-widgets/controls",
          "model_name": "DescriptionStyleModel",
          "model_module_version": "1.5.0",
          "state": {
            "_model_module": "@jupyter-widgets/controls",
            "_model_module_version": "1.5.0",
            "_model_name": "DescriptionStyleModel",
            "_view_count": null,
            "_view_module": "@jupyter-widgets/base",
            "_view_module_version": "1.2.0",
            "_view_name": "StyleView",
            "description_width": ""
          }
        },
        "661f07ba2fb946c2913db0dd9a62bdc7": {
          "model_module": "@jupyter-widgets/controls",
          "model_name": "HBoxModel",
          "model_module_version": "1.5.0",
          "state": {
            "_dom_classes": [],
            "_model_module": "@jupyter-widgets/controls",
            "_model_module_version": "1.5.0",
            "_model_name": "HBoxModel",
            "_view_count": null,
            "_view_module": "@jupyter-widgets/controls",
            "_view_module_version": "1.5.0",
            "_view_name": "HBoxView",
            "box_style": "",
            "children": [
              "IPY_MODEL_53d2ddd34ced45919cb355450f1a9b93",
              "IPY_MODEL_c063d173daeb48a7801e08645d0a6f08",
              "IPY_MODEL_898aab36508f4d28b87e5f7081ed7a1c"
            ],
            "layout": "IPY_MODEL_4329e7dc92a748f8a403bb181792f37c"
          }
        },
        "53d2ddd34ced45919cb355450f1a9b93": {
          "model_module": "@jupyter-widgets/controls",
          "model_name": "HTMLModel",
          "model_module_version": "1.5.0",
          "state": {
            "_dom_classes": [],
            "_model_module": "@jupyter-widgets/controls",
            "_model_module_version": "1.5.0",
            "_model_name": "HTMLModel",
            "_view_count": null,
            "_view_module": "@jupyter-widgets/controls",
            "_view_module_version": "1.5.0",
            "_view_name": "HTMLView",
            "description": "",
            "description_tooltip": null,
            "layout": "IPY_MODEL_16f79c2d3cb944d6a2df52054203755d",
            "placeholder": "​",
            "style": "IPY_MODEL_3c70d8a22820482e9e556cd91a13e17c",
            "value": "Generating train split: 100%"
          }
        },
        "c063d173daeb48a7801e08645d0a6f08": {
          "model_module": "@jupyter-widgets/controls",
          "model_name": "FloatProgressModel",
          "model_module_version": "1.5.0",
          "state": {
            "_dom_classes": [],
            "_model_module": "@jupyter-widgets/controls",
            "_model_module_version": "1.5.0",
            "_model_name": "FloatProgressModel",
            "_view_count": null,
            "_view_module": "@jupyter-widgets/controls",
            "_view_module_version": "1.5.0",
            "_view_name": "ProgressView",
            "bar_style": "success",
            "description": "",
            "description_tooltip": null,
            "layout": "IPY_MODEL_0717c70b66ee4cf1a48c9f2018cecf01",
            "max": 24926,
            "min": 0,
            "orientation": "horizontal",
            "style": "IPY_MODEL_390f0c1163494bcbbcd1ead9e98188de",
            "value": 24926
          }
        },
        "898aab36508f4d28b87e5f7081ed7a1c": {
          "model_module": "@jupyter-widgets/controls",
          "model_name": "HTMLModel",
          "model_module_version": "1.5.0",
          "state": {
            "_dom_classes": [],
            "_model_module": "@jupyter-widgets/controls",
            "_model_module_version": "1.5.0",
            "_model_name": "HTMLModel",
            "_view_count": null,
            "_view_module": "@jupyter-widgets/controls",
            "_view_module_version": "1.5.0",
            "_view_name": "HTMLView",
            "description": "",
            "description_tooltip": null,
            "layout": "IPY_MODEL_8834de8adcec4b9d9555ed70814295e1",
            "placeholder": "​",
            "style": "IPY_MODEL_6536e6605d3e4565a345b228cfbf663e",
            "value": " 24926/24926 [00:00&lt;00:00, 163118.47 examples/s]"
          }
        },
        "4329e7dc92a748f8a403bb181792f37c": {
          "model_module": "@jupyter-widgets/base",
          "model_name": "LayoutModel",
          "model_module_version": "1.2.0",
          "state": {
            "_model_module": "@jupyter-widgets/base",
            "_model_module_version": "1.2.0",
            "_model_name": "LayoutModel",
            "_view_count": null,
            "_view_module": "@jupyter-widgets/base",
            "_view_module_version": "1.2.0",
            "_view_name": "LayoutView",
            "align_content": null,
            "align_items": null,
            "align_self": null,
            "border": null,
            "bottom": null,
            "display": null,
            "flex": null,
            "flex_flow": null,
            "grid_area": null,
            "grid_auto_columns": null,
            "grid_auto_flow": null,
            "grid_auto_rows": null,
            "grid_column": null,
            "grid_gap": null,
            "grid_row": null,
            "grid_template_areas": null,
            "grid_template_columns": null,
            "grid_template_rows": null,
            "height": null,
            "justify_content": null,
            "justify_items": null,
            "left": null,
            "margin": null,
            "max_height": null,
            "max_width": null,
            "min_height": null,
            "min_width": null,
            "object_fit": null,
            "object_position": null,
            "order": null,
            "overflow": null,
            "overflow_x": null,
            "overflow_y": null,
            "padding": null,
            "right": null,
            "top": null,
            "visibility": null,
            "width": null
          }
        },
        "16f79c2d3cb944d6a2df52054203755d": {
          "model_module": "@jupyter-widgets/base",
          "model_name": "LayoutModel",
          "model_module_version": "1.2.0",
          "state": {
            "_model_module": "@jupyter-widgets/base",
            "_model_module_version": "1.2.0",
            "_model_name": "LayoutModel",
            "_view_count": null,
            "_view_module": "@jupyter-widgets/base",
            "_view_module_version": "1.2.0",
            "_view_name": "LayoutView",
            "align_content": null,
            "align_items": null,
            "align_self": null,
            "border": null,
            "bottom": null,
            "display": null,
            "flex": null,
            "flex_flow": null,
            "grid_area": null,
            "grid_auto_columns": null,
            "grid_auto_flow": null,
            "grid_auto_rows": null,
            "grid_column": null,
            "grid_gap": null,
            "grid_row": null,
            "grid_template_areas": null,
            "grid_template_columns": null,
            "grid_template_rows": null,
            "height": null,
            "justify_content": null,
            "justify_items": null,
            "left": null,
            "margin": null,
            "max_height": null,
            "max_width": null,
            "min_height": null,
            "min_width": null,
            "object_fit": null,
            "object_position": null,
            "order": null,
            "overflow": null,
            "overflow_x": null,
            "overflow_y": null,
            "padding": null,
            "right": null,
            "top": null,
            "visibility": null,
            "width": null
          }
        },
        "3c70d8a22820482e9e556cd91a13e17c": {
          "model_module": "@jupyter-widgets/controls",
          "model_name": "DescriptionStyleModel",
          "model_module_version": "1.5.0",
          "state": {
            "_model_module": "@jupyter-widgets/controls",
            "_model_module_version": "1.5.0",
            "_model_name": "DescriptionStyleModel",
            "_view_count": null,
            "_view_module": "@jupyter-widgets/base",
            "_view_module_version": "1.2.0",
            "_view_name": "StyleView",
            "description_width": ""
          }
        },
        "0717c70b66ee4cf1a48c9f2018cecf01": {
          "model_module": "@jupyter-widgets/base",
          "model_name": "LayoutModel",
          "model_module_version": "1.2.0",
          "state": {
            "_model_module": "@jupyter-widgets/base",
            "_model_module_version": "1.2.0",
            "_model_name": "LayoutModel",
            "_view_count": null,
            "_view_module": "@jupyter-widgets/base",
            "_view_module_version": "1.2.0",
            "_view_name": "LayoutView",
            "align_content": null,
            "align_items": null,
            "align_self": null,
            "border": null,
            "bottom": null,
            "display": null,
            "flex": null,
            "flex_flow": null,
            "grid_area": null,
            "grid_auto_columns": null,
            "grid_auto_flow": null,
            "grid_auto_rows": null,
            "grid_column": null,
            "grid_gap": null,
            "grid_row": null,
            "grid_template_areas": null,
            "grid_template_columns": null,
            "grid_template_rows": null,
            "height": null,
            "justify_content": null,
            "justify_items": null,
            "left": null,
            "margin": null,
            "max_height": null,
            "max_width": null,
            "min_height": null,
            "min_width": null,
            "object_fit": null,
            "object_position": null,
            "order": null,
            "overflow": null,
            "overflow_x": null,
            "overflow_y": null,
            "padding": null,
            "right": null,
            "top": null,
            "visibility": null,
            "width": null
          }
        },
        "390f0c1163494bcbbcd1ead9e98188de": {
          "model_module": "@jupyter-widgets/controls",
          "model_name": "ProgressStyleModel",
          "model_module_version": "1.5.0",
          "state": {
            "_model_module": "@jupyter-widgets/controls",
            "_model_module_version": "1.5.0",
            "_model_name": "ProgressStyleModel",
            "_view_count": null,
            "_view_module": "@jupyter-widgets/base",
            "_view_module_version": "1.2.0",
            "_view_name": "StyleView",
            "bar_color": null,
            "description_width": ""
          }
        },
        "8834de8adcec4b9d9555ed70814295e1": {
          "model_module": "@jupyter-widgets/base",
          "model_name": "LayoutModel",
          "model_module_version": "1.2.0",
          "state": {
            "_model_module": "@jupyter-widgets/base",
            "_model_module_version": "1.2.0",
            "_model_name": "LayoutModel",
            "_view_count": null,
            "_view_module": "@jupyter-widgets/base",
            "_view_module_version": "1.2.0",
            "_view_name": "LayoutView",
            "align_content": null,
            "align_items": null,
            "align_self": null,
            "border": null,
            "bottom": null,
            "display": null,
            "flex": null,
            "flex_flow": null,
            "grid_area": null,
            "grid_auto_columns": null,
            "grid_auto_flow": null,
            "grid_auto_rows": null,
            "grid_column": null,
            "grid_gap": null,
            "grid_row": null,
            "grid_template_areas": null,
            "grid_template_columns": null,
            "grid_template_rows": null,
            "height": null,
            "justify_content": null,
            "justify_items": null,
            "left": null,
            "margin": null,
            "max_height": null,
            "max_width": null,
            "min_height": null,
            "min_width": null,
            "object_fit": null,
            "object_position": null,
            "order": null,
            "overflow": null,
            "overflow_x": null,
            "overflow_y": null,
            "padding": null,
            "right": null,
            "top": null,
            "visibility": null,
            "width": null
          }
        },
        "6536e6605d3e4565a345b228cfbf663e": {
          "model_module": "@jupyter-widgets/controls",
          "model_name": "DescriptionStyleModel",
          "model_module_version": "1.5.0",
          "state": {
            "_model_module": "@jupyter-widgets/controls",
            "_model_module_version": "1.5.0",
            "_model_name": "DescriptionStyleModel",
            "_view_count": null,
            "_view_module": "@jupyter-widgets/base",
            "_view_module_version": "1.2.0",
            "_view_name": "StyleView",
            "description_width": ""
          }
        },
        "5c4a485bca2c412e92aa91aa7756894b": {
          "model_module": "@jupyter-widgets/controls",
          "model_name": "HBoxModel",
          "model_module_version": "1.5.0",
          "state": {
            "_dom_classes": [],
            "_model_module": "@jupyter-widgets/controls",
            "_model_module_version": "1.5.0",
            "_model_name": "HBoxModel",
            "_view_count": null,
            "_view_module": "@jupyter-widgets/controls",
            "_view_module_version": "1.5.0",
            "_view_name": "HBoxView",
            "box_style": "",
            "children": [
              "IPY_MODEL_ff47d7b376b14557912a660836256583",
              "IPY_MODEL_8e5422c4e94941af81566209589373f0",
              "IPY_MODEL_d2923d4d65934cd4aef6b34b6d44bfaf"
            ],
            "layout": "IPY_MODEL_027646b37416436ba87becb916eb77eb"
          }
        },
        "ff47d7b376b14557912a660836256583": {
          "model_module": "@jupyter-widgets/controls",
          "model_name": "HTMLModel",
          "model_module_version": "1.5.0",
          "state": {
            "_dom_classes": [],
            "_model_module": "@jupyter-widgets/controls",
            "_model_module_version": "1.5.0",
            "_model_name": "HTMLModel",
            "_view_count": null,
            "_view_module": "@jupyter-widgets/controls",
            "_view_module_version": "1.5.0",
            "_view_name": "HTMLView",
            "description": "",
            "description_tooltip": null,
            "layout": "IPY_MODEL_6e6003e1adbe44b5bfd7bca80072dd1a",
            "placeholder": "​",
            "style": "IPY_MODEL_1b0b7f11fb0b4a658bc19afefa0f5611",
            "value": "Epochs: 100%"
          }
        },
        "8e5422c4e94941af81566209589373f0": {
          "model_module": "@jupyter-widgets/controls",
          "model_name": "FloatProgressModel",
          "model_module_version": "1.5.0",
          "state": {
            "_dom_classes": [],
            "_model_module": "@jupyter-widgets/controls",
            "_model_module_version": "1.5.0",
            "_model_name": "FloatProgressModel",
            "_view_count": null,
            "_view_module": "@jupyter-widgets/controls",
            "_view_module_version": "1.5.0",
            "_view_name": "ProgressView",
            "bar_style": "success",
            "description": "",
            "description_tooltip": null,
            "layout": "IPY_MODEL_38d08c5d7fda40e48ed70805c5902a10",
            "max": 100,
            "min": 0,
            "orientation": "horizontal",
            "style": "IPY_MODEL_a92f46ed4c364801ac27ef85a01f3541",
            "value": 100
          }
        },
        "d2923d4d65934cd4aef6b34b6d44bfaf": {
          "model_module": "@jupyter-widgets/controls",
          "model_name": "HTMLModel",
          "model_module_version": "1.5.0",
          "state": {
            "_dom_classes": [],
            "_model_module": "@jupyter-widgets/controls",
            "_model_module_version": "1.5.0",
            "_model_name": "HTMLModel",
            "_view_count": null,
            "_view_module": "@jupyter-widgets/controls",
            "_view_module_version": "1.5.0",
            "_view_name": "HTMLView",
            "description": "",
            "description_tooltip": null,
            "layout": "IPY_MODEL_63f8724132714a22b3062b3d46e3a08c",
            "placeholder": "​",
            "style": "IPY_MODEL_e4e01aa13d774bd4a0736e0340eedcc4",
            "value": " 100/100.0 [02:10&lt;00:00,  1.31s/it]"
          }
        },
        "027646b37416436ba87becb916eb77eb": {
          "model_module": "@jupyter-widgets/base",
          "model_name": "LayoutModel",
          "model_module_version": "1.2.0",
          "state": {
            "_model_module": "@jupyter-widgets/base",
            "_model_module_version": "1.2.0",
            "_model_name": "LayoutModel",
            "_view_count": null,
            "_view_module": "@jupyter-widgets/base",
            "_view_module_version": "1.2.0",
            "_view_name": "LayoutView",
            "align_content": null,
            "align_items": null,
            "align_self": null,
            "border": null,
            "bottom": null,
            "display": null,
            "flex": null,
            "flex_flow": null,
            "grid_area": null,
            "grid_auto_columns": null,
            "grid_auto_flow": null,
            "grid_auto_rows": null,
            "grid_column": null,
            "grid_gap": null,
            "grid_row": null,
            "grid_template_areas": null,
            "grid_template_columns": null,
            "grid_template_rows": null,
            "height": null,
            "justify_content": null,
            "justify_items": null,
            "left": null,
            "margin": null,
            "max_height": null,
            "max_width": null,
            "min_height": null,
            "min_width": null,
            "object_fit": null,
            "object_position": null,
            "order": null,
            "overflow": null,
            "overflow_x": null,
            "overflow_y": null,
            "padding": null,
            "right": null,
            "top": null,
            "visibility": null,
            "width": null
          }
        },
        "6e6003e1adbe44b5bfd7bca80072dd1a": {
          "model_module": "@jupyter-widgets/base",
          "model_name": "LayoutModel",
          "model_module_version": "1.2.0",
          "state": {
            "_model_module": "@jupyter-widgets/base",
            "_model_module_version": "1.2.0",
            "_model_name": "LayoutModel",
            "_view_count": null,
            "_view_module": "@jupyter-widgets/base",
            "_view_module_version": "1.2.0",
            "_view_name": "LayoutView",
            "align_content": null,
            "align_items": null,
            "align_self": null,
            "border": null,
            "bottom": null,
            "display": null,
            "flex": null,
            "flex_flow": null,
            "grid_area": null,
            "grid_auto_columns": null,
            "grid_auto_flow": null,
            "grid_auto_rows": null,
            "grid_column": null,
            "grid_gap": null,
            "grid_row": null,
            "grid_template_areas": null,
            "grid_template_columns": null,
            "grid_template_rows": null,
            "height": null,
            "justify_content": null,
            "justify_items": null,
            "left": null,
            "margin": null,
            "max_height": null,
            "max_width": null,
            "min_height": null,
            "min_width": null,
            "object_fit": null,
            "object_position": null,
            "order": null,
            "overflow": null,
            "overflow_x": null,
            "overflow_y": null,
            "padding": null,
            "right": null,
            "top": null,
            "visibility": null,
            "width": null
          }
        },
        "1b0b7f11fb0b4a658bc19afefa0f5611": {
          "model_module": "@jupyter-widgets/controls",
          "model_name": "DescriptionStyleModel",
          "model_module_version": "1.5.0",
          "state": {
            "_model_module": "@jupyter-widgets/controls",
            "_model_module_version": "1.5.0",
            "_model_name": "DescriptionStyleModel",
            "_view_count": null,
            "_view_module": "@jupyter-widgets/base",
            "_view_module_version": "1.2.0",
            "_view_name": "StyleView",
            "description_width": ""
          }
        },
        "38d08c5d7fda40e48ed70805c5902a10": {
          "model_module": "@jupyter-widgets/base",
          "model_name": "LayoutModel",
          "model_module_version": "1.2.0",
          "state": {
            "_model_module": "@jupyter-widgets/base",
            "_model_module_version": "1.2.0",
            "_model_name": "LayoutModel",
            "_view_count": null,
            "_view_module": "@jupyter-widgets/base",
            "_view_module_version": "1.2.0",
            "_view_name": "LayoutView",
            "align_content": null,
            "align_items": null,
            "align_self": null,
            "border": null,
            "bottom": null,
            "display": null,
            "flex": null,
            "flex_flow": null,
            "grid_area": null,
            "grid_auto_columns": null,
            "grid_auto_flow": null,
            "grid_auto_rows": null,
            "grid_column": null,
            "grid_gap": null,
            "grid_row": null,
            "grid_template_areas": null,
            "grid_template_columns": null,
            "grid_template_rows": null,
            "height": null,
            "justify_content": null,
            "justify_items": null,
            "left": null,
            "margin": null,
            "max_height": null,
            "max_width": null,
            "min_height": null,
            "min_width": null,
            "object_fit": null,
            "object_position": null,
            "order": null,
            "overflow": null,
            "overflow_x": null,
            "overflow_y": null,
            "padding": null,
            "right": null,
            "top": null,
            "visibility": null,
            "width": null
          }
        },
        "a92f46ed4c364801ac27ef85a01f3541": {
          "model_module": "@jupyter-widgets/controls",
          "model_name": "ProgressStyleModel",
          "model_module_version": "1.5.0",
          "state": {
            "_model_module": "@jupyter-widgets/controls",
            "_model_module_version": "1.5.0",
            "_model_name": "ProgressStyleModel",
            "_view_count": null,
            "_view_module": "@jupyter-widgets/base",
            "_view_module_version": "1.2.0",
            "_view_name": "StyleView",
            "bar_color": null,
            "description_width": ""
          }
        },
        "63f8724132714a22b3062b3d46e3a08c": {
          "model_module": "@jupyter-widgets/base",
          "model_name": "LayoutModel",
          "model_module_version": "1.2.0",
          "state": {
            "_model_module": "@jupyter-widgets/base",
            "_model_module_version": "1.2.0",
            "_model_name": "LayoutModel",
            "_view_count": null,
            "_view_module": "@jupyter-widgets/base",
            "_view_module_version": "1.2.0",
            "_view_name": "LayoutView",
            "align_content": null,
            "align_items": null,
            "align_self": null,
            "border": null,
            "bottom": null,
            "display": null,
            "flex": null,
            "flex_flow": null,
            "grid_area": null,
            "grid_auto_columns": null,
            "grid_auto_flow": null,
            "grid_auto_rows": null,
            "grid_column": null,
            "grid_gap": null,
            "grid_row": null,
            "grid_template_areas": null,
            "grid_template_columns": null,
            "grid_template_rows": null,
            "height": null,
            "justify_content": null,
            "justify_items": null,
            "left": null,
            "margin": null,
            "max_height": null,
            "max_width": null,
            "min_height": null,
            "min_width": null,
            "object_fit": null,
            "object_position": null,
            "order": null,
            "overflow": null,
            "overflow_x": null,
            "overflow_y": null,
            "padding": null,
            "right": null,
            "top": null,
            "visibility": null,
            "width": null
          }
        },
        "e4e01aa13d774bd4a0736e0340eedcc4": {
          "model_module": "@jupyter-widgets/controls",
          "model_name": "DescriptionStyleModel",
          "model_module_version": "1.5.0",
          "state": {
            "_model_module": "@jupyter-widgets/controls",
            "_model_module_version": "1.5.0",
            "_model_name": "DescriptionStyleModel",
            "_view_count": null,
            "_view_module": "@jupyter-widgets/base",
            "_view_module_version": "1.2.0",
            "_view_name": "StyleView",
            "description_width": ""
          }
        }
      }
    }
  },
  "nbformat": 4,
  "nbformat_minor": 0
}