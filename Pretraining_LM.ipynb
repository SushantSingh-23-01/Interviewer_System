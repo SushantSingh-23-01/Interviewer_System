{
  "nbformat": 4,
  "nbformat_minor": 0,
  "metadata": {
    "colab": {
      "provenance": [],
      "gpuType": "T4"
    },
    "kernelspec": {
      "name": "python3",
      "display_name": "Python 3"
    },
    "language_info": {
      "name": "python"
    },
    "accelerator": "GPU",
    "widgets": {
      "application/vnd.jupyter.widget-state+json": {
        "8fe5ff0283a241fa9e6b41e291e0778e": {
          "model_module": "@jupyter-widgets/controls",
          "model_name": "HBoxModel",
          "model_module_version": "1.5.0",
          "state": {
            "_dom_classes": [],
            "_model_module": "@jupyter-widgets/controls",
            "_model_module_version": "1.5.0",
            "_model_name": "HBoxModel",
            "_view_count": null,
            "_view_module": "@jupyter-widgets/controls",
            "_view_module_version": "1.5.0",
            "_view_name": "HBoxView",
            "box_style": "",
            "children": [
              "IPY_MODEL_c39ffbc27485489c87d7405f32302ee5",
              "IPY_MODEL_6c0c99d7b66c4312b7d62ac653a28449",
              "IPY_MODEL_ee06762bd0664682b0567c231c235981"
            ],
            "layout": "IPY_MODEL_446bd0c774364b939fd385829287a298"
          }
        },
        "c39ffbc27485489c87d7405f32302ee5": {
          "model_module": "@jupyter-widgets/controls",
          "model_name": "HTMLModel",
          "model_module_version": "1.5.0",
          "state": {
            "_dom_classes": [],
            "_model_module": "@jupyter-widgets/controls",
            "_model_module_version": "1.5.0",
            "_model_name": "HTMLModel",
            "_view_count": null,
            "_view_module": "@jupyter-widgets/controls",
            "_view_module_version": "1.5.0",
            "_view_name": "HTMLView",
            "description": "",
            "description_tooltip": null,
            "layout": "IPY_MODEL_c70d66b45ddb46a2b677b7d44ab9377a",
            "placeholder": "​",
            "style": "IPY_MODEL_e0b5a3693f524706a9da83ea806f4ee0",
            "value": "Downloading readme: 100%"
          }
        },
        "6c0c99d7b66c4312b7d62ac653a28449": {
          "model_module": "@jupyter-widgets/controls",
          "model_name": "FloatProgressModel",
          "model_module_version": "1.5.0",
          "state": {
            "_dom_classes": [],
            "_model_module": "@jupyter-widgets/controls",
            "_model_module_version": "1.5.0",
            "_model_name": "FloatProgressModel",
            "_view_count": null,
            "_view_module": "@jupyter-widgets/controls",
            "_view_module_version": "1.5.0",
            "_view_name": "ProgressView",
            "bar_style": "success",
            "description": "",
            "description_tooltip": null,
            "layout": "IPY_MODEL_148702ece2ff4cd8a1348ac46ad7f5a6",
            "max": 17005,
            "min": 0,
            "orientation": "horizontal",
            "style": "IPY_MODEL_363d40c2fc694117ad7c5f87d7069b2d",
            "value": 17005
          }
        },
        "ee06762bd0664682b0567c231c235981": {
          "model_module": "@jupyter-widgets/controls",
          "model_name": "HTMLModel",
          "model_module_version": "1.5.0",
          "state": {
            "_dom_classes": [],
            "_model_module": "@jupyter-widgets/controls",
            "_model_module_version": "1.5.0",
            "_model_name": "HTMLModel",
            "_view_count": null,
            "_view_module": "@jupyter-widgets/controls",
            "_view_module_version": "1.5.0",
            "_view_name": "HTMLView",
            "description": "",
            "description_tooltip": null,
            "layout": "IPY_MODEL_d0d6f7b710ff429c85f3262103021eb1",
            "placeholder": "​",
            "style": "IPY_MODEL_89790d72bb3e4cfdb5d7c5c3416d15ff",
            "value": " 17.0k/17.0k [00:00&lt;00:00, 1.07MB/s]"
          }
        },
        "446bd0c774364b939fd385829287a298": {
          "model_module": "@jupyter-widgets/base",
          "model_name": "LayoutModel",
          "model_module_version": "1.2.0",
          "state": {
            "_model_module": "@jupyter-widgets/base",
            "_model_module_version": "1.2.0",
            "_model_name": "LayoutModel",
            "_view_count": null,
            "_view_module": "@jupyter-widgets/base",
            "_view_module_version": "1.2.0",
            "_view_name": "LayoutView",
            "align_content": null,
            "align_items": null,
            "align_self": null,
            "border": null,
            "bottom": null,
            "display": null,
            "flex": null,
            "flex_flow": null,
            "grid_area": null,
            "grid_auto_columns": null,
            "grid_auto_flow": null,
            "grid_auto_rows": null,
            "grid_column": null,
            "grid_gap": null,
            "grid_row": null,
            "grid_template_areas": null,
            "grid_template_columns": null,
            "grid_template_rows": null,
            "height": null,
            "justify_content": null,
            "justify_items": null,
            "left": null,
            "margin": null,
            "max_height": null,
            "max_width": null,
            "min_height": null,
            "min_width": null,
            "object_fit": null,
            "object_position": null,
            "order": null,
            "overflow": null,
            "overflow_x": null,
            "overflow_y": null,
            "padding": null,
            "right": null,
            "top": null,
            "visibility": null,
            "width": null
          }
        },
        "c70d66b45ddb46a2b677b7d44ab9377a": {
          "model_module": "@jupyter-widgets/base",
          "model_name": "LayoutModel",
          "model_module_version": "1.2.0",
          "state": {
            "_model_module": "@jupyter-widgets/base",
            "_model_module_version": "1.2.0",
            "_model_name": "LayoutModel",
            "_view_count": null,
            "_view_module": "@jupyter-widgets/base",
            "_view_module_version": "1.2.0",
            "_view_name": "LayoutView",
            "align_content": null,
            "align_items": null,
            "align_self": null,
            "border": null,
            "bottom": null,
            "display": null,
            "flex": null,
            "flex_flow": null,
            "grid_area": null,
            "grid_auto_columns": null,
            "grid_auto_flow": null,
            "grid_auto_rows": null,
            "grid_column": null,
            "grid_gap": null,
            "grid_row": null,
            "grid_template_areas": null,
            "grid_template_columns": null,
            "grid_template_rows": null,
            "height": null,
            "justify_content": null,
            "justify_items": null,
            "left": null,
            "margin": null,
            "max_height": null,
            "max_width": null,
            "min_height": null,
            "min_width": null,
            "object_fit": null,
            "object_position": null,
            "order": null,
            "overflow": null,
            "overflow_x": null,
            "overflow_y": null,
            "padding": null,
            "right": null,
            "top": null,
            "visibility": null,
            "width": null
          }
        },
        "e0b5a3693f524706a9da83ea806f4ee0": {
          "model_module": "@jupyter-widgets/controls",
          "model_name": "DescriptionStyleModel",
          "model_module_version": "1.5.0",
          "state": {
            "_model_module": "@jupyter-widgets/controls",
            "_model_module_version": "1.5.0",
            "_model_name": "DescriptionStyleModel",
            "_view_count": null,
            "_view_module": "@jupyter-widgets/base",
            "_view_module_version": "1.2.0",
            "_view_name": "StyleView",
            "description_width": ""
          }
        },
        "148702ece2ff4cd8a1348ac46ad7f5a6": {
          "model_module": "@jupyter-widgets/base",
          "model_name": "LayoutModel",
          "model_module_version": "1.2.0",
          "state": {
            "_model_module": "@jupyter-widgets/base",
            "_model_module_version": "1.2.0",
            "_model_name": "LayoutModel",
            "_view_count": null,
            "_view_module": "@jupyter-widgets/base",
            "_view_module_version": "1.2.0",
            "_view_name": "LayoutView",
            "align_content": null,
            "align_items": null,
            "align_self": null,
            "border": null,
            "bottom": null,
            "display": null,
            "flex": null,
            "flex_flow": null,
            "grid_area": null,
            "grid_auto_columns": null,
            "grid_auto_flow": null,
            "grid_auto_rows": null,
            "grid_column": null,
            "grid_gap": null,
            "grid_row": null,
            "grid_template_areas": null,
            "grid_template_columns": null,
            "grid_template_rows": null,
            "height": null,
            "justify_content": null,
            "justify_items": null,
            "left": null,
            "margin": null,
            "max_height": null,
            "max_width": null,
            "min_height": null,
            "min_width": null,
            "object_fit": null,
            "object_position": null,
            "order": null,
            "overflow": null,
            "overflow_x": null,
            "overflow_y": null,
            "padding": null,
            "right": null,
            "top": null,
            "visibility": null,
            "width": null
          }
        },
        "363d40c2fc694117ad7c5f87d7069b2d": {
          "model_module": "@jupyter-widgets/controls",
          "model_name": "ProgressStyleModel",
          "model_module_version": "1.5.0",
          "state": {
            "_model_module": "@jupyter-widgets/controls",
            "_model_module_version": "1.5.0",
            "_model_name": "ProgressStyleModel",
            "_view_count": null,
            "_view_module": "@jupyter-widgets/base",
            "_view_module_version": "1.2.0",
            "_view_name": "StyleView",
            "bar_color": null,
            "description_width": ""
          }
        },
        "d0d6f7b710ff429c85f3262103021eb1": {
          "model_module": "@jupyter-widgets/base",
          "model_name": "LayoutModel",
          "model_module_version": "1.2.0",
          "state": {
            "_model_module": "@jupyter-widgets/base",
            "_model_module_version": "1.2.0",
            "_model_name": "LayoutModel",
            "_view_count": null,
            "_view_module": "@jupyter-widgets/base",
            "_view_module_version": "1.2.0",
            "_view_name": "LayoutView",
            "align_content": null,
            "align_items": null,
            "align_self": null,
            "border": null,
            "bottom": null,
            "display": null,
            "flex": null,
            "flex_flow": null,
            "grid_area": null,
            "grid_auto_columns": null,
            "grid_auto_flow": null,
            "grid_auto_rows": null,
            "grid_column": null,
            "grid_gap": null,
            "grid_row": null,
            "grid_template_areas": null,
            "grid_template_columns": null,
            "grid_template_rows": null,
            "height": null,
            "justify_content": null,
            "justify_items": null,
            "left": null,
            "margin": null,
            "max_height": null,
            "max_width": null,
            "min_height": null,
            "min_width": null,
            "object_fit": null,
            "object_position": null,
            "order": null,
            "overflow": null,
            "overflow_x": null,
            "overflow_y": null,
            "padding": null,
            "right": null,
            "top": null,
            "visibility": null,
            "width": null
          }
        },
        "89790d72bb3e4cfdb5d7c5c3416d15ff": {
          "model_module": "@jupyter-widgets/controls",
          "model_name": "DescriptionStyleModel",
          "model_module_version": "1.5.0",
          "state": {
            "_model_module": "@jupyter-widgets/controls",
            "_model_module_version": "1.5.0",
            "_model_name": "DescriptionStyleModel",
            "_view_count": null,
            "_view_module": "@jupyter-widgets/base",
            "_view_module_version": "1.2.0",
            "_view_name": "StyleView",
            "description_width": ""
          }
        },
        "34c848a6f3a348558a0bb92a98cd319f": {
          "model_module": "@jupyter-widgets/controls",
          "model_name": "HBoxModel",
          "model_module_version": "1.5.0",
          "state": {
            "_dom_classes": [],
            "_model_module": "@jupyter-widgets/controls",
            "_model_module_version": "1.5.0",
            "_model_name": "HBoxModel",
            "_view_count": null,
            "_view_module": "@jupyter-widgets/controls",
            "_view_module_version": "1.5.0",
            "_view_name": "HBoxView",
            "box_style": "",
            "children": [
              "IPY_MODEL_96f2b514484940aea23879b44ecb36a9",
              "IPY_MODEL_577bc130223b44999fe466a541ce03e4",
              "IPY_MODEL_67fdab3dfbe4462dbe605ed58f9cdc65"
            ],
            "layout": "IPY_MODEL_7a27506c1189403e88ba4814d8d46aff"
          }
        },
        "96f2b514484940aea23879b44ecb36a9": {
          "model_module": "@jupyter-widgets/controls",
          "model_name": "HTMLModel",
          "model_module_version": "1.5.0",
          "state": {
            "_dom_classes": [],
            "_model_module": "@jupyter-widgets/controls",
            "_model_module_version": "1.5.0",
            "_model_name": "HTMLModel",
            "_view_count": null,
            "_view_module": "@jupyter-widgets/controls",
            "_view_module_version": "1.5.0",
            "_view_name": "HTMLView",
            "description": "",
            "description_tooltip": null,
            "layout": "IPY_MODEL_5419145880b94e76a0733bef20ccab40",
            "placeholder": "​",
            "style": "IPY_MODEL_24bb6ef2f4ab4524974fc88e7a9aa65c",
            "value": "Downloading data: 100%"
          }
        },
        "577bc130223b44999fe466a541ce03e4": {
          "model_module": "@jupyter-widgets/controls",
          "model_name": "FloatProgressModel",
          "model_module_version": "1.5.0",
          "state": {
            "_dom_classes": [],
            "_model_module": "@jupyter-widgets/controls",
            "_model_module_version": "1.5.0",
            "_model_name": "FloatProgressModel",
            "_view_count": null,
            "_view_module": "@jupyter-widgets/controls",
            "_view_module_version": "1.5.0",
            "_view_name": "ProgressView",
            "bar_style": "success",
            "description": "",
            "description_tooltip": null,
            "layout": "IPY_MODEL_6070c457371340e3b2806fa6e90745ab",
            "max": 1409098,
            "min": 0,
            "orientation": "horizontal",
            "style": "IPY_MODEL_91f6d33c62e34b4b996deb468d9e0839",
            "value": 1409098
          }
        },
        "67fdab3dfbe4462dbe605ed58f9cdc65": {
          "model_module": "@jupyter-widgets/controls",
          "model_name": "HTMLModel",
          "model_module_version": "1.5.0",
          "state": {
            "_dom_classes": [],
            "_model_module": "@jupyter-widgets/controls",
            "_model_module_version": "1.5.0",
            "_model_name": "HTMLModel",
            "_view_count": null,
            "_view_module": "@jupyter-widgets/controls",
            "_view_module_version": "1.5.0",
            "_view_name": "HTMLView",
            "description": "",
            "description_tooltip": null,
            "layout": "IPY_MODEL_85e8b4f4179d42588013a38646b57416",
            "placeholder": "​",
            "style": "IPY_MODEL_cf1133b9b14a4fb1abcbdc4e7a71f4dd",
            "value": " 1.41M/1.41M [00:00&lt;00:00, 2.91MB/s]"
          }
        },
        "7a27506c1189403e88ba4814d8d46aff": {
          "model_module": "@jupyter-widgets/base",
          "model_name": "LayoutModel",
          "model_module_version": "1.2.0",
          "state": {
            "_model_module": "@jupyter-widgets/base",
            "_model_module_version": "1.2.0",
            "_model_name": "LayoutModel",
            "_view_count": null,
            "_view_module": "@jupyter-widgets/base",
            "_view_module_version": "1.2.0",
            "_view_name": "LayoutView",
            "align_content": null,
            "align_items": null,
            "align_self": null,
            "border": null,
            "bottom": null,
            "display": null,
            "flex": null,
            "flex_flow": null,
            "grid_area": null,
            "grid_auto_columns": null,
            "grid_auto_flow": null,
            "grid_auto_rows": null,
            "grid_column": null,
            "grid_gap": null,
            "grid_row": null,
            "grid_template_areas": null,
            "grid_template_columns": null,
            "grid_template_rows": null,
            "height": null,
            "justify_content": null,
            "justify_items": null,
            "left": null,
            "margin": null,
            "max_height": null,
            "max_width": null,
            "min_height": null,
            "min_width": null,
            "object_fit": null,
            "object_position": null,
            "order": null,
            "overflow": null,
            "overflow_x": null,
            "overflow_y": null,
            "padding": null,
            "right": null,
            "top": null,
            "visibility": null,
            "width": null
          }
        },
        "5419145880b94e76a0733bef20ccab40": {
          "model_module": "@jupyter-widgets/base",
          "model_name": "LayoutModel",
          "model_module_version": "1.2.0",
          "state": {
            "_model_module": "@jupyter-widgets/base",
            "_model_module_version": "1.2.0",
            "_model_name": "LayoutModel",
            "_view_count": null,
            "_view_module": "@jupyter-widgets/base",
            "_view_module_version": "1.2.0",
            "_view_name": "LayoutView",
            "align_content": null,
            "align_items": null,
            "align_self": null,
            "border": null,
            "bottom": null,
            "display": null,
            "flex": null,
            "flex_flow": null,
            "grid_area": null,
            "grid_auto_columns": null,
            "grid_auto_flow": null,
            "grid_auto_rows": null,
            "grid_column": null,
            "grid_gap": null,
            "grid_row": null,
            "grid_template_areas": null,
            "grid_template_columns": null,
            "grid_template_rows": null,
            "height": null,
            "justify_content": null,
            "justify_items": null,
            "left": null,
            "margin": null,
            "max_height": null,
            "max_width": null,
            "min_height": null,
            "min_width": null,
            "object_fit": null,
            "object_position": null,
            "order": null,
            "overflow": null,
            "overflow_x": null,
            "overflow_y": null,
            "padding": null,
            "right": null,
            "top": null,
            "visibility": null,
            "width": null
          }
        },
        "24bb6ef2f4ab4524974fc88e7a9aa65c": {
          "model_module": "@jupyter-widgets/controls",
          "model_name": "DescriptionStyleModel",
          "model_module_version": "1.5.0",
          "state": {
            "_model_module": "@jupyter-widgets/controls",
            "_model_module_version": "1.5.0",
            "_model_name": "DescriptionStyleModel",
            "_view_count": null,
            "_view_module": "@jupyter-widgets/base",
            "_view_module_version": "1.2.0",
            "_view_name": "StyleView",
            "description_width": ""
          }
        },
        "6070c457371340e3b2806fa6e90745ab": {
          "model_module": "@jupyter-widgets/base",
          "model_name": "LayoutModel",
          "model_module_version": "1.2.0",
          "state": {
            "_model_module": "@jupyter-widgets/base",
            "_model_module_version": "1.2.0",
            "_model_name": "LayoutModel",
            "_view_count": null,
            "_view_module": "@jupyter-widgets/base",
            "_view_module_version": "1.2.0",
            "_view_name": "LayoutView",
            "align_content": null,
            "align_items": null,
            "align_self": null,
            "border": null,
            "bottom": null,
            "display": null,
            "flex": null,
            "flex_flow": null,
            "grid_area": null,
            "grid_auto_columns": null,
            "grid_auto_flow": null,
            "grid_auto_rows": null,
            "grid_column": null,
            "grid_gap": null,
            "grid_row": null,
            "grid_template_areas": null,
            "grid_template_columns": null,
            "grid_template_rows": null,
            "height": null,
            "justify_content": null,
            "justify_items": null,
            "left": null,
            "margin": null,
            "max_height": null,
            "max_width": null,
            "min_height": null,
            "min_width": null,
            "object_fit": null,
            "object_position": null,
            "order": null,
            "overflow": null,
            "overflow_x": null,
            "overflow_y": null,
            "padding": null,
            "right": null,
            "top": null,
            "visibility": null,
            "width": null
          }
        },
        "91f6d33c62e34b4b996deb468d9e0839": {
          "model_module": "@jupyter-widgets/controls",
          "model_name": "ProgressStyleModel",
          "model_module_version": "1.5.0",
          "state": {
            "_model_module": "@jupyter-widgets/controls",
            "_model_module_version": "1.5.0",
            "_model_name": "ProgressStyleModel",
            "_view_count": null,
            "_view_module": "@jupyter-widgets/base",
            "_view_module_version": "1.2.0",
            "_view_name": "StyleView",
            "bar_color": null,
            "description_width": ""
          }
        },
        "85e8b4f4179d42588013a38646b57416": {
          "model_module": "@jupyter-widgets/base",
          "model_name": "LayoutModel",
          "model_module_version": "1.2.0",
          "state": {
            "_model_module": "@jupyter-widgets/base",
            "_model_module_version": "1.2.0",
            "_model_name": "LayoutModel",
            "_view_count": null,
            "_view_module": "@jupyter-widgets/base",
            "_view_module_version": "1.2.0",
            "_view_name": "LayoutView",
            "align_content": null,
            "align_items": null,
            "align_self": null,
            "border": null,
            "bottom": null,
            "display": null,
            "flex": null,
            "flex_flow": null,
            "grid_area": null,
            "grid_auto_columns": null,
            "grid_auto_flow": null,
            "grid_auto_rows": null,
            "grid_column": null,
            "grid_gap": null,
            "grid_row": null,
            "grid_template_areas": null,
            "grid_template_columns": null,
            "grid_template_rows": null,
            "height": null,
            "justify_content": null,
            "justify_items": null,
            "left": null,
            "margin": null,
            "max_height": null,
            "max_width": null,
            "min_height": null,
            "min_width": null,
            "object_fit": null,
            "object_position": null,
            "order": null,
            "overflow": null,
            "overflow_x": null,
            "overflow_y": null,
            "padding": null,
            "right": null,
            "top": null,
            "visibility": null,
            "width": null
          }
        },
        "cf1133b9b14a4fb1abcbdc4e7a71f4dd": {
          "model_module": "@jupyter-widgets/controls",
          "model_name": "DescriptionStyleModel",
          "model_module_version": "1.5.0",
          "state": {
            "_model_module": "@jupyter-widgets/controls",
            "_model_module_version": "1.5.0",
            "_model_name": "DescriptionStyleModel",
            "_view_count": null,
            "_view_module": "@jupyter-widgets/base",
            "_view_module_version": "1.2.0",
            "_view_name": "StyleView",
            "description_width": ""
          }
        },
        "08d2f5b5a355443ca1e680aa99d0405a": {
          "model_module": "@jupyter-widgets/controls",
          "model_name": "HBoxModel",
          "model_module_version": "1.5.0",
          "state": {
            "_dom_classes": [],
            "_model_module": "@jupyter-widgets/controls",
            "_model_module_version": "1.5.0",
            "_model_name": "HBoxModel",
            "_view_count": null,
            "_view_module": "@jupyter-widgets/controls",
            "_view_module_version": "1.5.0",
            "_view_name": "HBoxView",
            "box_style": "",
            "children": [
              "IPY_MODEL_81fb79ae293540d79cf35c154f864769",
              "IPY_MODEL_29567e3049e34b8ba01750a510e7ad11",
              "IPY_MODEL_c951cacd61ae42e787b591a60a96a901"
            ],
            "layout": "IPY_MODEL_bfec654512df42a0b37946362faa9fc8"
          }
        },
        "81fb79ae293540d79cf35c154f864769": {
          "model_module": "@jupyter-widgets/controls",
          "model_name": "HTMLModel",
          "model_module_version": "1.5.0",
          "state": {
            "_dom_classes": [],
            "_model_module": "@jupyter-widgets/controls",
            "_model_module_version": "1.5.0",
            "_model_name": "HTMLModel",
            "_view_count": null,
            "_view_module": "@jupyter-widgets/controls",
            "_view_module_version": "1.5.0",
            "_view_name": "HTMLView",
            "description": "",
            "description_tooltip": null,
            "layout": "IPY_MODEL_9506be72c7e0481cb7a950a55d04e8ca",
            "placeholder": "​",
            "style": "IPY_MODEL_a6da4e5b8bdb4c63ada597fcb5092f48",
            "value": "Generating train split: 100%"
          }
        },
        "29567e3049e34b8ba01750a510e7ad11": {
          "model_module": "@jupyter-widgets/controls",
          "model_name": "FloatProgressModel",
          "model_module_version": "1.5.0",
          "state": {
            "_dom_classes": [],
            "_model_module": "@jupyter-widgets/controls",
            "_model_module_version": "1.5.0",
            "_model_name": "FloatProgressModel",
            "_view_count": null,
            "_view_module": "@jupyter-widgets/controls",
            "_view_module_version": "1.5.0",
            "_view_name": "ProgressView",
            "bar_style": "success",
            "description": "",
            "description_tooltip": null,
            "layout": "IPY_MODEL_ed7839cd948b4f01862bb0d76c6a4c37",
            "max": 500,
            "min": 0,
            "orientation": "horizontal",
            "style": "IPY_MODEL_2ef87e53aef5428c8bc6dfc9ecbb01d2",
            "value": 500
          }
        },
        "c951cacd61ae42e787b591a60a96a901": {
          "model_module": "@jupyter-widgets/controls",
          "model_name": "HTMLModel",
          "model_module_version": "1.5.0",
          "state": {
            "_dom_classes": [],
            "_model_module": "@jupyter-widgets/controls",
            "_model_module_version": "1.5.0",
            "_model_name": "HTMLModel",
            "_view_count": null,
            "_view_module": "@jupyter-widgets/controls",
            "_view_module_version": "1.5.0",
            "_view_name": "HTMLView",
            "description": "",
            "description_tooltip": null,
            "layout": "IPY_MODEL_f5c533859ca148368e288f2d69ba6e5e",
            "placeholder": "​",
            "style": "IPY_MODEL_c08dcdf6006243848d37709d2c8e94c9",
            "value": " 500/500 [00:00&lt;00:00, 5213.80 examples/s]"
          }
        },
        "bfec654512df42a0b37946362faa9fc8": {
          "model_module": "@jupyter-widgets/base",
          "model_name": "LayoutModel",
          "model_module_version": "1.2.0",
          "state": {
            "_model_module": "@jupyter-widgets/base",
            "_model_module_version": "1.2.0",
            "_model_name": "LayoutModel",
            "_view_count": null,
            "_view_module": "@jupyter-widgets/base",
            "_view_module_version": "1.2.0",
            "_view_name": "LayoutView",
            "align_content": null,
            "align_items": null,
            "align_self": null,
            "border": null,
            "bottom": null,
            "display": null,
            "flex": null,
            "flex_flow": null,
            "grid_area": null,
            "grid_auto_columns": null,
            "grid_auto_flow": null,
            "grid_auto_rows": null,
            "grid_column": null,
            "grid_gap": null,
            "grid_row": null,
            "grid_template_areas": null,
            "grid_template_columns": null,
            "grid_template_rows": null,
            "height": null,
            "justify_content": null,
            "justify_items": null,
            "left": null,
            "margin": null,
            "max_height": null,
            "max_width": null,
            "min_height": null,
            "min_width": null,
            "object_fit": null,
            "object_position": null,
            "order": null,
            "overflow": null,
            "overflow_x": null,
            "overflow_y": null,
            "padding": null,
            "right": null,
            "top": null,
            "visibility": null,
            "width": null
          }
        },
        "9506be72c7e0481cb7a950a55d04e8ca": {
          "model_module": "@jupyter-widgets/base",
          "model_name": "LayoutModel",
          "model_module_version": "1.2.0",
          "state": {
            "_model_module": "@jupyter-widgets/base",
            "_model_module_version": "1.2.0",
            "_model_name": "LayoutModel",
            "_view_count": null,
            "_view_module": "@jupyter-widgets/base",
            "_view_module_version": "1.2.0",
            "_view_name": "LayoutView",
            "align_content": null,
            "align_items": null,
            "align_self": null,
            "border": null,
            "bottom": null,
            "display": null,
            "flex": null,
            "flex_flow": null,
            "grid_area": null,
            "grid_auto_columns": null,
            "grid_auto_flow": null,
            "grid_auto_rows": null,
            "grid_column": null,
            "grid_gap": null,
            "grid_row": null,
            "grid_template_areas": null,
            "grid_template_columns": null,
            "grid_template_rows": null,
            "height": null,
            "justify_content": null,
            "justify_items": null,
            "left": null,
            "margin": null,
            "max_height": null,
            "max_width": null,
            "min_height": null,
            "min_width": null,
            "object_fit": null,
            "object_position": null,
            "order": null,
            "overflow": null,
            "overflow_x": null,
            "overflow_y": null,
            "padding": null,
            "right": null,
            "top": null,
            "visibility": null,
            "width": null
          }
        },
        "a6da4e5b8bdb4c63ada597fcb5092f48": {
          "model_module": "@jupyter-widgets/controls",
          "model_name": "DescriptionStyleModel",
          "model_module_version": "1.5.0",
          "state": {
            "_model_module": "@jupyter-widgets/controls",
            "_model_module_version": "1.5.0",
            "_model_name": "DescriptionStyleModel",
            "_view_count": null,
            "_view_module": "@jupyter-widgets/base",
            "_view_module_version": "1.2.0",
            "_view_name": "StyleView",
            "description_width": ""
          }
        },
        "ed7839cd948b4f01862bb0d76c6a4c37": {
          "model_module": "@jupyter-widgets/base",
          "model_name": "LayoutModel",
          "model_module_version": "1.2.0",
          "state": {
            "_model_module": "@jupyter-widgets/base",
            "_model_module_version": "1.2.0",
            "_model_name": "LayoutModel",
            "_view_count": null,
            "_view_module": "@jupyter-widgets/base",
            "_view_module_version": "1.2.0",
            "_view_name": "LayoutView",
            "align_content": null,
            "align_items": null,
            "align_self": null,
            "border": null,
            "bottom": null,
            "display": null,
            "flex": null,
            "flex_flow": null,
            "grid_area": null,
            "grid_auto_columns": null,
            "grid_auto_flow": null,
            "grid_auto_rows": null,
            "grid_column": null,
            "grid_gap": null,
            "grid_row": null,
            "grid_template_areas": null,
            "grid_template_columns": null,
            "grid_template_rows": null,
            "height": null,
            "justify_content": null,
            "justify_items": null,
            "left": null,
            "margin": null,
            "max_height": null,
            "max_width": null,
            "min_height": null,
            "min_width": null,
            "object_fit": null,
            "object_position": null,
            "order": null,
            "overflow": null,
            "overflow_x": null,
            "overflow_y": null,
            "padding": null,
            "right": null,
            "top": null,
            "visibility": null,
            "width": null
          }
        },
        "2ef87e53aef5428c8bc6dfc9ecbb01d2": {
          "model_module": "@jupyter-widgets/controls",
          "model_name": "ProgressStyleModel",
          "model_module_version": "1.5.0",
          "state": {
            "_model_module": "@jupyter-widgets/controls",
            "_model_module_version": "1.5.0",
            "_model_name": "ProgressStyleModel",
            "_view_count": null,
            "_view_module": "@jupyter-widgets/base",
            "_view_module_version": "1.2.0",
            "_view_name": "StyleView",
            "bar_color": null,
            "description_width": ""
          }
        },
        "f5c533859ca148368e288f2d69ba6e5e": {
          "model_module": "@jupyter-widgets/base",
          "model_name": "LayoutModel",
          "model_module_version": "1.2.0",
          "state": {
            "_model_module": "@jupyter-widgets/base",
            "_model_module_version": "1.2.0",
            "_model_name": "LayoutModel",
            "_view_count": null,
            "_view_module": "@jupyter-widgets/base",
            "_view_module_version": "1.2.0",
            "_view_name": "LayoutView",
            "align_content": null,
            "align_items": null,
            "align_self": null,
            "border": null,
            "bottom": null,
            "display": null,
            "flex": null,
            "flex_flow": null,
            "grid_area": null,
            "grid_auto_columns": null,
            "grid_auto_flow": null,
            "grid_auto_rows": null,
            "grid_column": null,
            "grid_gap": null,
            "grid_row": null,
            "grid_template_areas": null,
            "grid_template_columns": null,
            "grid_template_rows": null,
            "height": null,
            "justify_content": null,
            "justify_items": null,
            "left": null,
            "margin": null,
            "max_height": null,
            "max_width": null,
            "min_height": null,
            "min_width": null,
            "object_fit": null,
            "object_position": null,
            "order": null,
            "overflow": null,
            "overflow_x": null,
            "overflow_y": null,
            "padding": null,
            "right": null,
            "top": null,
            "visibility": null,
            "width": null
          }
        },
        "c08dcdf6006243848d37709d2c8e94c9": {
          "model_module": "@jupyter-widgets/controls",
          "model_name": "DescriptionStyleModel",
          "model_module_version": "1.5.0",
          "state": {
            "_model_module": "@jupyter-widgets/controls",
            "_model_module_version": "1.5.0",
            "_model_name": "DescriptionStyleModel",
            "_view_count": null,
            "_view_module": "@jupyter-widgets/base",
            "_view_module_version": "1.2.0",
            "_view_name": "StyleView",
            "description_width": ""
          }
        },
        "15e74e9a892f45db8221a53c16a00c0a": {
          "model_module": "@jupyter-widgets/controls",
          "model_name": "HBoxModel",
          "model_module_version": "1.5.0",
          "state": {
            "_dom_classes": [],
            "_model_module": "@jupyter-widgets/controls",
            "_model_module_version": "1.5.0",
            "_model_name": "HBoxModel",
            "_view_count": null,
            "_view_module": "@jupyter-widgets/controls",
            "_view_module_version": "1.5.0",
            "_view_name": "HBoxView",
            "box_style": "",
            "children": [
              "IPY_MODEL_d953942371684e1f8e906d16c4db91b2",
              "IPY_MODEL_11142a9d72f04d15847dac777a9edae6",
              "IPY_MODEL_8061edd65e2a405ab16fd58c6d4ccc52"
            ],
            "layout": "IPY_MODEL_3f1a45ac6f2944ad90d2550bc3473449"
          }
        },
        "d953942371684e1f8e906d16c4db91b2": {
          "model_module": "@jupyter-widgets/controls",
          "model_name": "HTMLModel",
          "model_module_version": "1.5.0",
          "state": {
            "_dom_classes": [],
            "_model_module": "@jupyter-widgets/controls",
            "_model_module_version": "1.5.0",
            "_model_name": "HTMLModel",
            "_view_count": null,
            "_view_module": "@jupyter-widgets/controls",
            "_view_module_version": "1.5.0",
            "_view_name": "HTMLView",
            "description": "",
            "description_tooltip": null,
            "layout": "IPY_MODEL_67fad1dbaf9544eda939626ac7fca846",
            "placeholder": "​",
            "style": "IPY_MODEL_484ca989ef3246e199bb94036dc8e690",
            "value": "Downloading readme: 100%"
          }
        },
        "11142a9d72f04d15847dac777a9edae6": {
          "model_module": "@jupyter-widgets/controls",
          "model_name": "FloatProgressModel",
          "model_module_version": "1.5.0",
          "state": {
            "_dom_classes": [],
            "_model_module": "@jupyter-widgets/controls",
            "_model_module_version": "1.5.0",
            "_model_name": "FloatProgressModel",
            "_view_count": null,
            "_view_module": "@jupyter-widgets/controls",
            "_view_module_version": "1.5.0",
            "_view_name": "ProgressView",
            "bar_style": "success",
            "description": "",
            "description_tooltip": null,
            "layout": "IPY_MODEL_d4809f0c20cb49a09fea5f5632a44308",
            "max": 7472,
            "min": 0,
            "orientation": "horizontal",
            "style": "IPY_MODEL_4bbcb5941f3242ea9f341d92c11feab6",
            "value": 7472
          }
        },
        "8061edd65e2a405ab16fd58c6d4ccc52": {
          "model_module": "@jupyter-widgets/controls",
          "model_name": "HTMLModel",
          "model_module_version": "1.5.0",
          "state": {
            "_dom_classes": [],
            "_model_module": "@jupyter-widgets/controls",
            "_model_module_version": "1.5.0",
            "_model_name": "HTMLModel",
            "_view_count": null,
            "_view_module": "@jupyter-widgets/controls",
            "_view_module_version": "1.5.0",
            "_view_name": "HTMLView",
            "description": "",
            "description_tooltip": null,
            "layout": "IPY_MODEL_aa9cf7f03a574b55a0a0893264922550",
            "placeholder": "​",
            "style": "IPY_MODEL_5447cce423254fbb9d5b2c2b90779cad",
            "value": " 7.47k/7.47k [00:00&lt;00:00, 161kB/s]"
          }
        },
        "3f1a45ac6f2944ad90d2550bc3473449": {
          "model_module": "@jupyter-widgets/base",
          "model_name": "LayoutModel",
          "model_module_version": "1.2.0",
          "state": {
            "_model_module": "@jupyter-widgets/base",
            "_model_module_version": "1.2.0",
            "_model_name": "LayoutModel",
            "_view_count": null,
            "_view_module": "@jupyter-widgets/base",
            "_view_module_version": "1.2.0",
            "_view_name": "LayoutView",
            "align_content": null,
            "align_items": null,
            "align_self": null,
            "border": null,
            "bottom": null,
            "display": null,
            "flex": null,
            "flex_flow": null,
            "grid_area": null,
            "grid_auto_columns": null,
            "grid_auto_flow": null,
            "grid_auto_rows": null,
            "grid_column": null,
            "grid_gap": null,
            "grid_row": null,
            "grid_template_areas": null,
            "grid_template_columns": null,
            "grid_template_rows": null,
            "height": null,
            "justify_content": null,
            "justify_items": null,
            "left": null,
            "margin": null,
            "max_height": null,
            "max_width": null,
            "min_height": null,
            "min_width": null,
            "object_fit": null,
            "object_position": null,
            "order": null,
            "overflow": null,
            "overflow_x": null,
            "overflow_y": null,
            "padding": null,
            "right": null,
            "top": null,
            "visibility": null,
            "width": null
          }
        },
        "67fad1dbaf9544eda939626ac7fca846": {
          "model_module": "@jupyter-widgets/base",
          "model_name": "LayoutModel",
          "model_module_version": "1.2.0",
          "state": {
            "_model_module": "@jupyter-widgets/base",
            "_model_module_version": "1.2.0",
            "_model_name": "LayoutModel",
            "_view_count": null,
            "_view_module": "@jupyter-widgets/base",
            "_view_module_version": "1.2.0",
            "_view_name": "LayoutView",
            "align_content": null,
            "align_items": null,
            "align_self": null,
            "border": null,
            "bottom": null,
            "display": null,
            "flex": null,
            "flex_flow": null,
            "grid_area": null,
            "grid_auto_columns": null,
            "grid_auto_flow": null,
            "grid_auto_rows": null,
            "grid_column": null,
            "grid_gap": null,
            "grid_row": null,
            "grid_template_areas": null,
            "grid_template_columns": null,
            "grid_template_rows": null,
            "height": null,
            "justify_content": null,
            "justify_items": null,
            "left": null,
            "margin": null,
            "max_height": null,
            "max_width": null,
            "min_height": null,
            "min_width": null,
            "object_fit": null,
            "object_position": null,
            "order": null,
            "overflow": null,
            "overflow_x": null,
            "overflow_y": null,
            "padding": null,
            "right": null,
            "top": null,
            "visibility": null,
            "width": null
          }
        },
        "484ca989ef3246e199bb94036dc8e690": {
          "model_module": "@jupyter-widgets/controls",
          "model_name": "DescriptionStyleModel",
          "model_module_version": "1.5.0",
          "state": {
            "_model_module": "@jupyter-widgets/controls",
            "_model_module_version": "1.5.0",
            "_model_name": "DescriptionStyleModel",
            "_view_count": null,
            "_view_module": "@jupyter-widgets/base",
            "_view_module_version": "1.2.0",
            "_view_name": "StyleView",
            "description_width": ""
          }
        },
        "d4809f0c20cb49a09fea5f5632a44308": {
          "model_module": "@jupyter-widgets/base",
          "model_name": "LayoutModel",
          "model_module_version": "1.2.0",
          "state": {
            "_model_module": "@jupyter-widgets/base",
            "_model_module_version": "1.2.0",
            "_model_name": "LayoutModel",
            "_view_count": null,
            "_view_module": "@jupyter-widgets/base",
            "_view_module_version": "1.2.0",
            "_view_name": "LayoutView",
            "align_content": null,
            "align_items": null,
            "align_self": null,
            "border": null,
            "bottom": null,
            "display": null,
            "flex": null,
            "flex_flow": null,
            "grid_area": null,
            "grid_auto_columns": null,
            "grid_auto_flow": null,
            "grid_auto_rows": null,
            "grid_column": null,
            "grid_gap": null,
            "grid_row": null,
            "grid_template_areas": null,
            "grid_template_columns": null,
            "grid_template_rows": null,
            "height": null,
            "justify_content": null,
            "justify_items": null,
            "left": null,
            "margin": null,
            "max_height": null,
            "max_width": null,
            "min_height": null,
            "min_width": null,
            "object_fit": null,
            "object_position": null,
            "order": null,
            "overflow": null,
            "overflow_x": null,
            "overflow_y": null,
            "padding": null,
            "right": null,
            "top": null,
            "visibility": null,
            "width": null
          }
        },
        "4bbcb5941f3242ea9f341d92c11feab6": {
          "model_module": "@jupyter-widgets/controls",
          "model_name": "ProgressStyleModel",
          "model_module_version": "1.5.0",
          "state": {
            "_model_module": "@jupyter-widgets/controls",
            "_model_module_version": "1.5.0",
            "_model_name": "ProgressStyleModel",
            "_view_count": null,
            "_view_module": "@jupyter-widgets/base",
            "_view_module_version": "1.2.0",
            "_view_name": "StyleView",
            "bar_color": null,
            "description_width": ""
          }
        },
        "aa9cf7f03a574b55a0a0893264922550": {
          "model_module": "@jupyter-widgets/base",
          "model_name": "LayoutModel",
          "model_module_version": "1.2.0",
          "state": {
            "_model_module": "@jupyter-widgets/base",
            "_model_module_version": "1.2.0",
            "_model_name": "LayoutModel",
            "_view_count": null,
            "_view_module": "@jupyter-widgets/base",
            "_view_module_version": "1.2.0",
            "_view_name": "LayoutView",
            "align_content": null,
            "align_items": null,
            "align_self": null,
            "border": null,
            "bottom": null,
            "display": null,
            "flex": null,
            "flex_flow": null,
            "grid_area": null,
            "grid_auto_columns": null,
            "grid_auto_flow": null,
            "grid_auto_rows": null,
            "grid_column": null,
            "grid_gap": null,
            "grid_row": null,
            "grid_template_areas": null,
            "grid_template_columns": null,
            "grid_template_rows": null,
            "height": null,
            "justify_content": null,
            "justify_items": null,
            "left": null,
            "margin": null,
            "max_height": null,
            "max_width": null,
            "min_height": null,
            "min_width": null,
            "object_fit": null,
            "object_position": null,
            "order": null,
            "overflow": null,
            "overflow_x": null,
            "overflow_y": null,
            "padding": null,
            "right": null,
            "top": null,
            "visibility": null,
            "width": null
          }
        },
        "5447cce423254fbb9d5b2c2b90779cad": {
          "model_module": "@jupyter-widgets/controls",
          "model_name": "DescriptionStyleModel",
          "model_module_version": "1.5.0",
          "state": {
            "_model_module": "@jupyter-widgets/controls",
            "_model_module_version": "1.5.0",
            "_model_name": "DescriptionStyleModel",
            "_view_count": null,
            "_view_module": "@jupyter-widgets/base",
            "_view_module_version": "1.2.0",
            "_view_name": "StyleView",
            "description_width": ""
          }
        },
        "8fb5264b5961404bacafd10b9081dc2d": {
          "model_module": "@jupyter-widgets/controls",
          "model_name": "HBoxModel",
          "model_module_version": "1.5.0",
          "state": {
            "_dom_classes": [],
            "_model_module": "@jupyter-widgets/controls",
            "_model_module_version": "1.5.0",
            "_model_name": "HBoxModel",
            "_view_count": null,
            "_view_module": "@jupyter-widgets/controls",
            "_view_module_version": "1.5.0",
            "_view_name": "HBoxView",
            "box_style": "",
            "children": [
              "IPY_MODEL_bc6fcd6365a94ac9ab99f575f0cb46dc",
              "IPY_MODEL_ae3e8ccfb9bd4cf7ba140027a0d0f74a",
              "IPY_MODEL_fae083f1be1b49d990773b582031f001"
            ],
            "layout": "IPY_MODEL_937cacc8240f441ea143d7624c33307d"
          }
        },
        "bc6fcd6365a94ac9ab99f575f0cb46dc": {
          "model_module": "@jupyter-widgets/controls",
          "model_name": "HTMLModel",
          "model_module_version": "1.5.0",
          "state": {
            "_dom_classes": [],
            "_model_module": "@jupyter-widgets/controls",
            "_model_module_version": "1.5.0",
            "_model_name": "HTMLModel",
            "_view_count": null,
            "_view_module": "@jupyter-widgets/controls",
            "_view_module_version": "1.5.0",
            "_view_name": "HTMLView",
            "description": "",
            "description_tooltip": null,
            "layout": "IPY_MODEL_db28f01d43ed4f06927fc0494ef1bdf4",
            "placeholder": "​",
            "style": "IPY_MODEL_db1f9ed3752e446a8254463c9f45a72c",
            "value": "Downloading data: 100%"
          }
        },
        "ae3e8ccfb9bd4cf7ba140027a0d0f74a": {
          "model_module": "@jupyter-widgets/controls",
          "model_name": "FloatProgressModel",
          "model_module_version": "1.5.0",
          "state": {
            "_dom_classes": [],
            "_model_module": "@jupyter-widgets/controls",
            "_model_module_version": "1.5.0",
            "_model_name": "FloatProgressModel",
            "_view_count": null,
            "_view_module": "@jupyter-widgets/controls",
            "_view_module_version": "1.5.0",
            "_view_name": "ProgressView",
            "bar_style": "success",
            "description": "",
            "description_tooltip": null,
            "layout": "IPY_MODEL_79e166046cf34d89a1690ab0eb315d5c",
            "max": 24246638,
            "min": 0,
            "orientation": "horizontal",
            "style": "IPY_MODEL_30c03e9c89b948c7950339e7a4f6e53e",
            "value": 24246638
          }
        },
        "fae083f1be1b49d990773b582031f001": {
          "model_module": "@jupyter-widgets/controls",
          "model_name": "HTMLModel",
          "model_module_version": "1.5.0",
          "state": {
            "_dom_classes": [],
            "_model_module": "@jupyter-widgets/controls",
            "_model_module_version": "1.5.0",
            "_model_name": "HTMLModel",
            "_view_count": null,
            "_view_module": "@jupyter-widgets/controls",
            "_view_module_version": "1.5.0",
            "_view_name": "HTMLView",
            "description": "",
            "description_tooltip": null,
            "layout": "IPY_MODEL_d3140096c8c24891a6a66553ae575bf4",
            "placeholder": "​",
            "style": "IPY_MODEL_5fc10af6c930497ebb51a64e25f9013c",
            "value": " 24.2M/24.2M [00:01&lt;00:00, 15.4MB/s]"
          }
        },
        "937cacc8240f441ea143d7624c33307d": {
          "model_module": "@jupyter-widgets/base",
          "model_name": "LayoutModel",
          "model_module_version": "1.2.0",
          "state": {
            "_model_module": "@jupyter-widgets/base",
            "_model_module_version": "1.2.0",
            "_model_name": "LayoutModel",
            "_view_count": null,
            "_view_module": "@jupyter-widgets/base",
            "_view_module_version": "1.2.0",
            "_view_name": "LayoutView",
            "align_content": null,
            "align_items": null,
            "align_self": null,
            "border": null,
            "bottom": null,
            "display": null,
            "flex": null,
            "flex_flow": null,
            "grid_area": null,
            "grid_auto_columns": null,
            "grid_auto_flow": null,
            "grid_auto_rows": null,
            "grid_column": null,
            "grid_gap": null,
            "grid_row": null,
            "grid_template_areas": null,
            "grid_template_columns": null,
            "grid_template_rows": null,
            "height": null,
            "justify_content": null,
            "justify_items": null,
            "left": null,
            "margin": null,
            "max_height": null,
            "max_width": null,
            "min_height": null,
            "min_width": null,
            "object_fit": null,
            "object_position": null,
            "order": null,
            "overflow": null,
            "overflow_x": null,
            "overflow_y": null,
            "padding": null,
            "right": null,
            "top": null,
            "visibility": null,
            "width": null
          }
        },
        "db28f01d43ed4f06927fc0494ef1bdf4": {
          "model_module": "@jupyter-widgets/base",
          "model_name": "LayoutModel",
          "model_module_version": "1.2.0",
          "state": {
            "_model_module": "@jupyter-widgets/base",
            "_model_module_version": "1.2.0",
            "_model_name": "LayoutModel",
            "_view_count": null,
            "_view_module": "@jupyter-widgets/base",
            "_view_module_version": "1.2.0",
            "_view_name": "LayoutView",
            "align_content": null,
            "align_items": null,
            "align_self": null,
            "border": null,
            "bottom": null,
            "display": null,
            "flex": null,
            "flex_flow": null,
            "grid_area": null,
            "grid_auto_columns": null,
            "grid_auto_flow": null,
            "grid_auto_rows": null,
            "grid_column": null,
            "grid_gap": null,
            "grid_row": null,
            "grid_template_areas": null,
            "grid_template_columns": null,
            "grid_template_rows": null,
            "height": null,
            "justify_content": null,
            "justify_items": null,
            "left": null,
            "margin": null,
            "max_height": null,
            "max_width": null,
            "min_height": null,
            "min_width": null,
            "object_fit": null,
            "object_position": null,
            "order": null,
            "overflow": null,
            "overflow_x": null,
            "overflow_y": null,
            "padding": null,
            "right": null,
            "top": null,
            "visibility": null,
            "width": null
          }
        },
        "db1f9ed3752e446a8254463c9f45a72c": {
          "model_module": "@jupyter-widgets/controls",
          "model_name": "DescriptionStyleModel",
          "model_module_version": "1.5.0",
          "state": {
            "_model_module": "@jupyter-widgets/controls",
            "_model_module_version": "1.5.0",
            "_model_name": "DescriptionStyleModel",
            "_view_count": null,
            "_view_module": "@jupyter-widgets/base",
            "_view_module_version": "1.2.0",
            "_view_name": "StyleView",
            "description_width": ""
          }
        },
        "79e166046cf34d89a1690ab0eb315d5c": {
          "model_module": "@jupyter-widgets/base",
          "model_name": "LayoutModel",
          "model_module_version": "1.2.0",
          "state": {
            "_model_module": "@jupyter-widgets/base",
            "_model_module_version": "1.2.0",
            "_model_name": "LayoutModel",
            "_view_count": null,
            "_view_module": "@jupyter-widgets/base",
            "_view_module_version": "1.2.0",
            "_view_name": "LayoutView",
            "align_content": null,
            "align_items": null,
            "align_self": null,
            "border": null,
            "bottom": null,
            "display": null,
            "flex": null,
            "flex_flow": null,
            "grid_area": null,
            "grid_auto_columns": null,
            "grid_auto_flow": null,
            "grid_auto_rows": null,
            "grid_column": null,
            "grid_gap": null,
            "grid_row": null,
            "grid_template_areas": null,
            "grid_template_columns": null,
            "grid_template_rows": null,
            "height": null,
            "justify_content": null,
            "justify_items": null,
            "left": null,
            "margin": null,
            "max_height": null,
            "max_width": null,
            "min_height": null,
            "min_width": null,
            "object_fit": null,
            "object_position": null,
            "order": null,
            "overflow": null,
            "overflow_x": null,
            "overflow_y": null,
            "padding": null,
            "right": null,
            "top": null,
            "visibility": null,
            "width": null
          }
        },
        "30c03e9c89b948c7950339e7a4f6e53e": {
          "model_module": "@jupyter-widgets/controls",
          "model_name": "ProgressStyleModel",
          "model_module_version": "1.5.0",
          "state": {
            "_model_module": "@jupyter-widgets/controls",
            "_model_module_version": "1.5.0",
            "_model_name": "ProgressStyleModel",
            "_view_count": null,
            "_view_module": "@jupyter-widgets/base",
            "_view_module_version": "1.2.0",
            "_view_name": "StyleView",
            "bar_color": null,
            "description_width": ""
          }
        },
        "d3140096c8c24891a6a66553ae575bf4": {
          "model_module": "@jupyter-widgets/base",
          "model_name": "LayoutModel",
          "model_module_version": "1.2.0",
          "state": {
            "_model_module": "@jupyter-widgets/base",
            "_model_module_version": "1.2.0",
            "_model_name": "LayoutModel",
            "_view_count": null,
            "_view_module": "@jupyter-widgets/base",
            "_view_module_version": "1.2.0",
            "_view_name": "LayoutView",
            "align_content": null,
            "align_items": null,
            "align_self": null,
            "border": null,
            "bottom": null,
            "display": null,
            "flex": null,
            "flex_flow": null,
            "grid_area": null,
            "grid_auto_columns": null,
            "grid_auto_flow": null,
            "grid_auto_rows": null,
            "grid_column": null,
            "grid_gap": null,
            "grid_row": null,
            "grid_template_areas": null,
            "grid_template_columns": null,
            "grid_template_rows": null,
            "height": null,
            "justify_content": null,
            "justify_items": null,
            "left": null,
            "margin": null,
            "max_height": null,
            "max_width": null,
            "min_height": null,
            "min_width": null,
            "object_fit": null,
            "object_position": null,
            "order": null,
            "overflow": null,
            "overflow_x": null,
            "overflow_y": null,
            "padding": null,
            "right": null,
            "top": null,
            "visibility": null,
            "width": null
          }
        },
        "5fc10af6c930497ebb51a64e25f9013c": {
          "model_module": "@jupyter-widgets/controls",
          "model_name": "DescriptionStyleModel",
          "model_module_version": "1.5.0",
          "state": {
            "_model_module": "@jupyter-widgets/controls",
            "_model_module_version": "1.5.0",
            "_model_name": "DescriptionStyleModel",
            "_view_count": null,
            "_view_module": "@jupyter-widgets/base",
            "_view_module_version": "1.2.0",
            "_view_name": "StyleView",
            "description_width": ""
          }
        },
        "57993eb7ecd74c7fb5a55f4b82c9a87c": {
          "model_module": "@jupyter-widgets/controls",
          "model_name": "HBoxModel",
          "model_module_version": "1.5.0",
          "state": {
            "_dom_classes": [],
            "_model_module": "@jupyter-widgets/controls",
            "_model_module_version": "1.5.0",
            "_model_name": "HBoxModel",
            "_view_count": null,
            "_view_module": "@jupyter-widgets/controls",
            "_view_module_version": "1.5.0",
            "_view_name": "HBoxView",
            "box_style": "",
            "children": [
              "IPY_MODEL_54bf0909d46f40e28d1cb3d6c417b6d0",
              "IPY_MODEL_5839fe29e6414487933fb2d33a623b1e",
              "IPY_MODEL_cd1e9891843f4c21b44f660d8ef559e4"
            ],
            "layout": "IPY_MODEL_dc61be2a4f384a129908792e272294bc"
          }
        },
        "54bf0909d46f40e28d1cb3d6c417b6d0": {
          "model_module": "@jupyter-widgets/controls",
          "model_name": "HTMLModel",
          "model_module_version": "1.5.0",
          "state": {
            "_dom_classes": [],
            "_model_module": "@jupyter-widgets/controls",
            "_model_module_version": "1.5.0",
            "_model_name": "HTMLModel",
            "_view_count": null,
            "_view_module": "@jupyter-widgets/controls",
            "_view_module_version": "1.5.0",
            "_view_name": "HTMLView",
            "description": "",
            "description_tooltip": null,
            "layout": "IPY_MODEL_aa9524a5e289463995529583177a4500",
            "placeholder": "​",
            "style": "IPY_MODEL_182ffce4c3c748ccacad6f0278a61f96",
            "value": "Generating train split: 100%"
          }
        },
        "5839fe29e6414487933fb2d33a623b1e": {
          "model_module": "@jupyter-widgets/controls",
          "model_name": "FloatProgressModel",
          "model_module_version": "1.5.0",
          "state": {
            "_dom_classes": [],
            "_model_module": "@jupyter-widgets/controls",
            "_model_module_version": "1.5.0",
            "_model_name": "FloatProgressModel",
            "_view_count": null,
            "_view_module": "@jupyter-widgets/controls",
            "_view_module_version": "1.5.0",
            "_view_name": "ProgressView",
            "bar_style": "success",
            "description": "",
            "description_tooltip": null,
            "layout": "IPY_MODEL_73d78c72ab214b62bb59705b24447453",
            "max": 52002,
            "min": 0,
            "orientation": "horizontal",
            "style": "IPY_MODEL_093ad217d8e94636b7baf447955fd305",
            "value": 52002
          }
        },
        "cd1e9891843f4c21b44f660d8ef559e4": {
          "model_module": "@jupyter-widgets/controls",
          "model_name": "HTMLModel",
          "model_module_version": "1.5.0",
          "state": {
            "_dom_classes": [],
            "_model_module": "@jupyter-widgets/controls",
            "_model_module_version": "1.5.0",
            "_model_name": "HTMLModel",
            "_view_count": null,
            "_view_module": "@jupyter-widgets/controls",
            "_view_module_version": "1.5.0",
            "_view_name": "HTMLView",
            "description": "",
            "description_tooltip": null,
            "layout": "IPY_MODEL_86ab36955f344822ad2a1c6651f6b786",
            "placeholder": "​",
            "style": "IPY_MODEL_e049614439ab4abd9e3930574e620895",
            "value": " 52002/52002 [00:00&lt;00:00, 173308.12 examples/s]"
          }
        },
        "dc61be2a4f384a129908792e272294bc": {
          "model_module": "@jupyter-widgets/base",
          "model_name": "LayoutModel",
          "model_module_version": "1.2.0",
          "state": {
            "_model_module": "@jupyter-widgets/base",
            "_model_module_version": "1.2.0",
            "_model_name": "LayoutModel",
            "_view_count": null,
            "_view_module": "@jupyter-widgets/base",
            "_view_module_version": "1.2.0",
            "_view_name": "LayoutView",
            "align_content": null,
            "align_items": null,
            "align_self": null,
            "border": null,
            "bottom": null,
            "display": null,
            "flex": null,
            "flex_flow": null,
            "grid_area": null,
            "grid_auto_columns": null,
            "grid_auto_flow": null,
            "grid_auto_rows": null,
            "grid_column": null,
            "grid_gap": null,
            "grid_row": null,
            "grid_template_areas": null,
            "grid_template_columns": null,
            "grid_template_rows": null,
            "height": null,
            "justify_content": null,
            "justify_items": null,
            "left": null,
            "margin": null,
            "max_height": null,
            "max_width": null,
            "min_height": null,
            "min_width": null,
            "object_fit": null,
            "object_position": null,
            "order": null,
            "overflow": null,
            "overflow_x": null,
            "overflow_y": null,
            "padding": null,
            "right": null,
            "top": null,
            "visibility": null,
            "width": null
          }
        },
        "aa9524a5e289463995529583177a4500": {
          "model_module": "@jupyter-widgets/base",
          "model_name": "LayoutModel",
          "model_module_version": "1.2.0",
          "state": {
            "_model_module": "@jupyter-widgets/base",
            "_model_module_version": "1.2.0",
            "_model_name": "LayoutModel",
            "_view_count": null,
            "_view_module": "@jupyter-widgets/base",
            "_view_module_version": "1.2.0",
            "_view_name": "LayoutView",
            "align_content": null,
            "align_items": null,
            "align_self": null,
            "border": null,
            "bottom": null,
            "display": null,
            "flex": null,
            "flex_flow": null,
            "grid_area": null,
            "grid_auto_columns": null,
            "grid_auto_flow": null,
            "grid_auto_rows": null,
            "grid_column": null,
            "grid_gap": null,
            "grid_row": null,
            "grid_template_areas": null,
            "grid_template_columns": null,
            "grid_template_rows": null,
            "height": null,
            "justify_content": null,
            "justify_items": null,
            "left": null,
            "margin": null,
            "max_height": null,
            "max_width": null,
            "min_height": null,
            "min_width": null,
            "object_fit": null,
            "object_position": null,
            "order": null,
            "overflow": null,
            "overflow_x": null,
            "overflow_y": null,
            "padding": null,
            "right": null,
            "top": null,
            "visibility": null,
            "width": null
          }
        },
        "182ffce4c3c748ccacad6f0278a61f96": {
          "model_module": "@jupyter-widgets/controls",
          "model_name": "DescriptionStyleModel",
          "model_module_version": "1.5.0",
          "state": {
            "_model_module": "@jupyter-widgets/controls",
            "_model_module_version": "1.5.0",
            "_model_name": "DescriptionStyleModel",
            "_view_count": null,
            "_view_module": "@jupyter-widgets/base",
            "_view_module_version": "1.2.0",
            "_view_name": "StyleView",
            "description_width": ""
          }
        },
        "73d78c72ab214b62bb59705b24447453": {
          "model_module": "@jupyter-widgets/base",
          "model_name": "LayoutModel",
          "model_module_version": "1.2.0",
          "state": {
            "_model_module": "@jupyter-widgets/base",
            "_model_module_version": "1.2.0",
            "_model_name": "LayoutModel",
            "_view_count": null,
            "_view_module": "@jupyter-widgets/base",
            "_view_module_version": "1.2.0",
            "_view_name": "LayoutView",
            "align_content": null,
            "align_items": null,
            "align_self": null,
            "border": null,
            "bottom": null,
            "display": null,
            "flex": null,
            "flex_flow": null,
            "grid_area": null,
            "grid_auto_columns": null,
            "grid_auto_flow": null,
            "grid_auto_rows": null,
            "grid_column": null,
            "grid_gap": null,
            "grid_row": null,
            "grid_template_areas": null,
            "grid_template_columns": null,
            "grid_template_rows": null,
            "height": null,
            "justify_content": null,
            "justify_items": null,
            "left": null,
            "margin": null,
            "max_height": null,
            "max_width": null,
            "min_height": null,
            "min_width": null,
            "object_fit": null,
            "object_position": null,
            "order": null,
            "overflow": null,
            "overflow_x": null,
            "overflow_y": null,
            "padding": null,
            "right": null,
            "top": null,
            "visibility": null,
            "width": null
          }
        },
        "093ad217d8e94636b7baf447955fd305": {
          "model_module": "@jupyter-widgets/controls",
          "model_name": "ProgressStyleModel",
          "model_module_version": "1.5.0",
          "state": {
            "_model_module": "@jupyter-widgets/controls",
            "_model_module_version": "1.5.0",
            "_model_name": "ProgressStyleModel",
            "_view_count": null,
            "_view_module": "@jupyter-widgets/base",
            "_view_module_version": "1.2.0",
            "_view_name": "StyleView",
            "bar_color": null,
            "description_width": ""
          }
        },
        "86ab36955f344822ad2a1c6651f6b786": {
          "model_module": "@jupyter-widgets/base",
          "model_name": "LayoutModel",
          "model_module_version": "1.2.0",
          "state": {
            "_model_module": "@jupyter-widgets/base",
            "_model_module_version": "1.2.0",
            "_model_name": "LayoutModel",
            "_view_count": null,
            "_view_module": "@jupyter-widgets/base",
            "_view_module_version": "1.2.0",
            "_view_name": "LayoutView",
            "align_content": null,
            "align_items": null,
            "align_self": null,
            "border": null,
            "bottom": null,
            "display": null,
            "flex": null,
            "flex_flow": null,
            "grid_area": null,
            "grid_auto_columns": null,
            "grid_auto_flow": null,
            "grid_auto_rows": null,
            "grid_column": null,
            "grid_gap": null,
            "grid_row": null,
            "grid_template_areas": null,
            "grid_template_columns": null,
            "grid_template_rows": null,
            "height": null,
            "justify_content": null,
            "justify_items": null,
            "left": null,
            "margin": null,
            "max_height": null,
            "max_width": null,
            "min_height": null,
            "min_width": null,
            "object_fit": null,
            "object_position": null,
            "order": null,
            "overflow": null,
            "overflow_x": null,
            "overflow_y": null,
            "padding": null,
            "right": null,
            "top": null,
            "visibility": null,
            "width": null
          }
        },
        "e049614439ab4abd9e3930574e620895": {
          "model_module": "@jupyter-widgets/controls",
          "model_name": "DescriptionStyleModel",
          "model_module_version": "1.5.0",
          "state": {
            "_model_module": "@jupyter-widgets/controls",
            "_model_module_version": "1.5.0",
            "_model_name": "DescriptionStyleModel",
            "_view_count": null,
            "_view_module": "@jupyter-widgets/base",
            "_view_module_version": "1.2.0",
            "_view_name": "StyleView",
            "description_width": ""
          }
        },
        "89319ccbdd694de0a8ca2a7a5ed5086d": {
          "model_module": "@jupyter-widgets/controls",
          "model_name": "HBoxModel",
          "model_module_version": "1.5.0",
          "state": {
            "_dom_classes": [],
            "_model_module": "@jupyter-widgets/controls",
            "_model_module_version": "1.5.0",
            "_model_name": "HBoxModel",
            "_view_count": null,
            "_view_module": "@jupyter-widgets/controls",
            "_view_module_version": "1.5.0",
            "_view_name": "HBoxView",
            "box_style": "",
            "children": [
              "IPY_MODEL_5e3a7f1b96194472b1ab32c77816a530",
              "IPY_MODEL_6e31e5e2cb124d7ea9424f34e633b523",
              "IPY_MODEL_91da674f928a40ef87f900d79dbdfbc5"
            ],
            "layout": "IPY_MODEL_7c6e4de89a294746b37aa44009081004"
          }
        },
        "5e3a7f1b96194472b1ab32c77816a530": {
          "model_module": "@jupyter-widgets/controls",
          "model_name": "HTMLModel",
          "model_module_version": "1.5.0",
          "state": {
            "_dom_classes": [],
            "_model_module": "@jupyter-widgets/controls",
            "_model_module_version": "1.5.0",
            "_model_name": "HTMLModel",
            "_view_count": null,
            "_view_module": "@jupyter-widgets/controls",
            "_view_module_version": "1.5.0",
            "_view_name": "HTMLView",
            "description": "",
            "description_tooltip": null,
            "layout": "IPY_MODEL_824c81c776b442a48730796ae31c12a9",
            "placeholder": "​",
            "style": "IPY_MODEL_85d0427e95ac4ba0bd11f29213f3a798",
            "value": "Downloading readme: 100%"
          }
        },
        "6e31e5e2cb124d7ea9424f34e633b523": {
          "model_module": "@jupyter-widgets/controls",
          "model_name": "FloatProgressModel",
          "model_module_version": "1.5.0",
          "state": {
            "_dom_classes": [],
            "_model_module": "@jupyter-widgets/controls",
            "_model_module_version": "1.5.0",
            "_model_name": "FloatProgressModel",
            "_view_count": null,
            "_view_module": "@jupyter-widgets/controls",
            "_view_module_version": "1.5.0",
            "_view_name": "ProgressView",
            "bar_style": "success",
            "description": "",
            "description_tooltip": null,
            "layout": "IPY_MODEL_3bd148a9eebb479494b74ab7c943cc96",
            "max": 5337,
            "min": 0,
            "orientation": "horizontal",
            "style": "IPY_MODEL_8ffa262a9eb349b9b68fc3c29302da7f",
            "value": 5337
          }
        },
        "91da674f928a40ef87f900d79dbdfbc5": {
          "model_module": "@jupyter-widgets/controls",
          "model_name": "HTMLModel",
          "model_module_version": "1.5.0",
          "state": {
            "_dom_classes": [],
            "_model_module": "@jupyter-widgets/controls",
            "_model_module_version": "1.5.0",
            "_model_name": "HTMLModel",
            "_view_count": null,
            "_view_module": "@jupyter-widgets/controls",
            "_view_module_version": "1.5.0",
            "_view_name": "HTMLView",
            "description": "",
            "description_tooltip": null,
            "layout": "IPY_MODEL_7860771934524fd1aad6676e371657a8",
            "placeholder": "​",
            "style": "IPY_MODEL_cff5af20f75a429b9a9f426d2210596a",
            "value": " 5.34k/5.34k [00:00&lt;00:00, 320kB/s]"
          }
        },
        "7c6e4de89a294746b37aa44009081004": {
          "model_module": "@jupyter-widgets/base",
          "model_name": "LayoutModel",
          "model_module_version": "1.2.0",
          "state": {
            "_model_module": "@jupyter-widgets/base",
            "_model_module_version": "1.2.0",
            "_model_name": "LayoutModel",
            "_view_count": null,
            "_view_module": "@jupyter-widgets/base",
            "_view_module_version": "1.2.0",
            "_view_name": "LayoutView",
            "align_content": null,
            "align_items": null,
            "align_self": null,
            "border": null,
            "bottom": null,
            "display": null,
            "flex": null,
            "flex_flow": null,
            "grid_area": null,
            "grid_auto_columns": null,
            "grid_auto_flow": null,
            "grid_auto_rows": null,
            "grid_column": null,
            "grid_gap": null,
            "grid_row": null,
            "grid_template_areas": null,
            "grid_template_columns": null,
            "grid_template_rows": null,
            "height": null,
            "justify_content": null,
            "justify_items": null,
            "left": null,
            "margin": null,
            "max_height": null,
            "max_width": null,
            "min_height": null,
            "min_width": null,
            "object_fit": null,
            "object_position": null,
            "order": null,
            "overflow": null,
            "overflow_x": null,
            "overflow_y": null,
            "padding": null,
            "right": null,
            "top": null,
            "visibility": null,
            "width": null
          }
        },
        "824c81c776b442a48730796ae31c12a9": {
          "model_module": "@jupyter-widgets/base",
          "model_name": "LayoutModel",
          "model_module_version": "1.2.0",
          "state": {
            "_model_module": "@jupyter-widgets/base",
            "_model_module_version": "1.2.0",
            "_model_name": "LayoutModel",
            "_view_count": null,
            "_view_module": "@jupyter-widgets/base",
            "_view_module_version": "1.2.0",
            "_view_name": "LayoutView",
            "align_content": null,
            "align_items": null,
            "align_self": null,
            "border": null,
            "bottom": null,
            "display": null,
            "flex": null,
            "flex_flow": null,
            "grid_area": null,
            "grid_auto_columns": null,
            "grid_auto_flow": null,
            "grid_auto_rows": null,
            "grid_column": null,
            "grid_gap": null,
            "grid_row": null,
            "grid_template_areas": null,
            "grid_template_columns": null,
            "grid_template_rows": null,
            "height": null,
            "justify_content": null,
            "justify_items": null,
            "left": null,
            "margin": null,
            "max_height": null,
            "max_width": null,
            "min_height": null,
            "min_width": null,
            "object_fit": null,
            "object_position": null,
            "order": null,
            "overflow": null,
            "overflow_x": null,
            "overflow_y": null,
            "padding": null,
            "right": null,
            "top": null,
            "visibility": null,
            "width": null
          }
        },
        "85d0427e95ac4ba0bd11f29213f3a798": {
          "model_module": "@jupyter-widgets/controls",
          "model_name": "DescriptionStyleModel",
          "model_module_version": "1.5.0",
          "state": {
            "_model_module": "@jupyter-widgets/controls",
            "_model_module_version": "1.5.0",
            "_model_name": "DescriptionStyleModel",
            "_view_count": null,
            "_view_module": "@jupyter-widgets/base",
            "_view_module_version": "1.2.0",
            "_view_name": "StyleView",
            "description_width": ""
          }
        },
        "3bd148a9eebb479494b74ab7c943cc96": {
          "model_module": "@jupyter-widgets/base",
          "model_name": "LayoutModel",
          "model_module_version": "1.2.0",
          "state": {
            "_model_module": "@jupyter-widgets/base",
            "_model_module_version": "1.2.0",
            "_model_name": "LayoutModel",
            "_view_count": null,
            "_view_module": "@jupyter-widgets/base",
            "_view_module_version": "1.2.0",
            "_view_name": "LayoutView",
            "align_content": null,
            "align_items": null,
            "align_self": null,
            "border": null,
            "bottom": null,
            "display": null,
            "flex": null,
            "flex_flow": null,
            "grid_area": null,
            "grid_auto_columns": null,
            "grid_auto_flow": null,
            "grid_auto_rows": null,
            "grid_column": null,
            "grid_gap": null,
            "grid_row": null,
            "grid_template_areas": null,
            "grid_template_columns": null,
            "grid_template_rows": null,
            "height": null,
            "justify_content": null,
            "justify_items": null,
            "left": null,
            "margin": null,
            "max_height": null,
            "max_width": null,
            "min_height": null,
            "min_width": null,
            "object_fit": null,
            "object_position": null,
            "order": null,
            "overflow": null,
            "overflow_x": null,
            "overflow_y": null,
            "padding": null,
            "right": null,
            "top": null,
            "visibility": null,
            "width": null
          }
        },
        "8ffa262a9eb349b9b68fc3c29302da7f": {
          "model_module": "@jupyter-widgets/controls",
          "model_name": "ProgressStyleModel",
          "model_module_version": "1.5.0",
          "state": {
            "_model_module": "@jupyter-widgets/controls",
            "_model_module_version": "1.5.0",
            "_model_name": "ProgressStyleModel",
            "_view_count": null,
            "_view_module": "@jupyter-widgets/base",
            "_view_module_version": "1.2.0",
            "_view_name": "StyleView",
            "bar_color": null,
            "description_width": ""
          }
        },
        "7860771934524fd1aad6676e371657a8": {
          "model_module": "@jupyter-widgets/base",
          "model_name": "LayoutModel",
          "model_module_version": "1.2.0",
          "state": {
            "_model_module": "@jupyter-widgets/base",
            "_model_module_version": "1.2.0",
            "_model_name": "LayoutModel",
            "_view_count": null,
            "_view_module": "@jupyter-widgets/base",
            "_view_module_version": "1.2.0",
            "_view_name": "LayoutView",
            "align_content": null,
            "align_items": null,
            "align_self": null,
            "border": null,
            "bottom": null,
            "display": null,
            "flex": null,
            "flex_flow": null,
            "grid_area": null,
            "grid_auto_columns": null,
            "grid_auto_flow": null,
            "grid_auto_rows": null,
            "grid_column": null,
            "grid_gap": null,
            "grid_row": null,
            "grid_template_areas": null,
            "grid_template_columns": null,
            "grid_template_rows": null,
            "height": null,
            "justify_content": null,
            "justify_items": null,
            "left": null,
            "margin": null,
            "max_height": null,
            "max_width": null,
            "min_height": null,
            "min_width": null,
            "object_fit": null,
            "object_position": null,
            "order": null,
            "overflow": null,
            "overflow_x": null,
            "overflow_y": null,
            "padding": null,
            "right": null,
            "top": null,
            "visibility": null,
            "width": null
          }
        },
        "cff5af20f75a429b9a9f426d2210596a": {
          "model_module": "@jupyter-widgets/controls",
          "model_name": "DescriptionStyleModel",
          "model_module_version": "1.5.0",
          "state": {
            "_model_module": "@jupyter-widgets/controls",
            "_model_module_version": "1.5.0",
            "_model_name": "DescriptionStyleModel",
            "_view_count": null,
            "_view_module": "@jupyter-widgets/base",
            "_view_module_version": "1.2.0",
            "_view_name": "StyleView",
            "description_width": ""
          }
        },
        "5e5cb262f5284027890ccc38b2de7c54": {
          "model_module": "@jupyter-widgets/controls",
          "model_name": "HBoxModel",
          "model_module_version": "1.5.0",
          "state": {
            "_dom_classes": [],
            "_model_module": "@jupyter-widgets/controls",
            "_model_module_version": "1.5.0",
            "_model_name": "HBoxModel",
            "_view_count": null,
            "_view_module": "@jupyter-widgets/controls",
            "_view_module_version": "1.5.0",
            "_view_name": "HBoxView",
            "box_style": "",
            "children": [
              "IPY_MODEL_7f0f3e167d834da6b29281b08b1ff800",
              "IPY_MODEL_cb47f1116ccd41dbba44ea171606be9b",
              "IPY_MODEL_db373189849846f08988c9d1188645ca"
            ],
            "layout": "IPY_MODEL_a346db5f6859452a84d44ec47d9b99c7"
          }
        },
        "7f0f3e167d834da6b29281b08b1ff800": {
          "model_module": "@jupyter-widgets/controls",
          "model_name": "HTMLModel",
          "model_module_version": "1.5.0",
          "state": {
            "_dom_classes": [],
            "_model_module": "@jupyter-widgets/controls",
            "_model_module_version": "1.5.0",
            "_model_name": "HTMLModel",
            "_view_count": null,
            "_view_module": "@jupyter-widgets/controls",
            "_view_module_version": "1.5.0",
            "_view_name": "HTMLView",
            "description": "",
            "description_tooltip": null,
            "layout": "IPY_MODEL_3a437401726646c5a7b6967bdb89ad6a",
            "placeholder": "​",
            "style": "IPY_MODEL_ccb4b1fe83624791a50c1c3c7b6d04ff",
            "value": "Downloading data: 100%"
          }
        },
        "cb47f1116ccd41dbba44ea171606be9b": {
          "model_module": "@jupyter-widgets/controls",
          "model_name": "FloatProgressModel",
          "model_module_version": "1.5.0",
          "state": {
            "_dom_classes": [],
            "_model_module": "@jupyter-widgets/controls",
            "_model_module_version": "1.5.0",
            "_model_name": "FloatProgressModel",
            "_view_count": null,
            "_view_module": "@jupyter-widgets/controls",
            "_view_module_version": "1.5.0",
            "_view_name": "ProgressView",
            "bar_style": "success",
            "description": "",
            "description_tooltip": null,
            "layout": "IPY_MODEL_000d534f540e414084a7cb8260a32c0e",
            "max": 15565850,
            "min": 0,
            "orientation": "horizontal",
            "style": "IPY_MODEL_da48e6231abe42c1add026ae96435632",
            "value": 15565850
          }
        },
        "db373189849846f08988c9d1188645ca": {
          "model_module": "@jupyter-widgets/controls",
          "model_name": "HTMLModel",
          "model_module_version": "1.5.0",
          "state": {
            "_dom_classes": [],
            "_model_module": "@jupyter-widgets/controls",
            "_model_module_version": "1.5.0",
            "_model_name": "HTMLModel",
            "_view_count": null,
            "_view_module": "@jupyter-widgets/controls",
            "_view_module_version": "1.5.0",
            "_view_name": "HTMLView",
            "description": "",
            "description_tooltip": null,
            "layout": "IPY_MODEL_b6e09bcf7772461ea7d054a7f3f78eed",
            "placeholder": "​",
            "style": "IPY_MODEL_0339932ffcc944498c41ca1a96963ed7",
            "value": " 15.6M/15.6M [00:00&lt;00:00, 36.2MB/s]"
          }
        },
        "a346db5f6859452a84d44ec47d9b99c7": {
          "model_module": "@jupyter-widgets/base",
          "model_name": "LayoutModel",
          "model_module_version": "1.2.0",
          "state": {
            "_model_module": "@jupyter-widgets/base",
            "_model_module_version": "1.2.0",
            "_model_name": "LayoutModel",
            "_view_count": null,
            "_view_module": "@jupyter-widgets/base",
            "_view_module_version": "1.2.0",
            "_view_name": "LayoutView",
            "align_content": null,
            "align_items": null,
            "align_self": null,
            "border": null,
            "bottom": null,
            "display": null,
            "flex": null,
            "flex_flow": null,
            "grid_area": null,
            "grid_auto_columns": null,
            "grid_auto_flow": null,
            "grid_auto_rows": null,
            "grid_column": null,
            "grid_gap": null,
            "grid_row": null,
            "grid_template_areas": null,
            "grid_template_columns": null,
            "grid_template_rows": null,
            "height": null,
            "justify_content": null,
            "justify_items": null,
            "left": null,
            "margin": null,
            "max_height": null,
            "max_width": null,
            "min_height": null,
            "min_width": null,
            "object_fit": null,
            "object_position": null,
            "order": null,
            "overflow": null,
            "overflow_x": null,
            "overflow_y": null,
            "padding": null,
            "right": null,
            "top": null,
            "visibility": null,
            "width": null
          }
        },
        "3a437401726646c5a7b6967bdb89ad6a": {
          "model_module": "@jupyter-widgets/base",
          "model_name": "LayoutModel",
          "model_module_version": "1.2.0",
          "state": {
            "_model_module": "@jupyter-widgets/base",
            "_model_module_version": "1.2.0",
            "_model_name": "LayoutModel",
            "_view_count": null,
            "_view_module": "@jupyter-widgets/base",
            "_view_module_version": "1.2.0",
            "_view_name": "LayoutView",
            "align_content": null,
            "align_items": null,
            "align_self": null,
            "border": null,
            "bottom": null,
            "display": null,
            "flex": null,
            "flex_flow": null,
            "grid_area": null,
            "grid_auto_columns": null,
            "grid_auto_flow": null,
            "grid_auto_rows": null,
            "grid_column": null,
            "grid_gap": null,
            "grid_row": null,
            "grid_template_areas": null,
            "grid_template_columns": null,
            "grid_template_rows": null,
            "height": null,
            "justify_content": null,
            "justify_items": null,
            "left": null,
            "margin": null,
            "max_height": null,
            "max_width": null,
            "min_height": null,
            "min_width": null,
            "object_fit": null,
            "object_position": null,
            "order": null,
            "overflow": null,
            "overflow_x": null,
            "overflow_y": null,
            "padding": null,
            "right": null,
            "top": null,
            "visibility": null,
            "width": null
          }
        },
        "ccb4b1fe83624791a50c1c3c7b6d04ff": {
          "model_module": "@jupyter-widgets/controls",
          "model_name": "DescriptionStyleModel",
          "model_module_version": "1.5.0",
          "state": {
            "_model_module": "@jupyter-widgets/controls",
            "_model_module_version": "1.5.0",
            "_model_name": "DescriptionStyleModel",
            "_view_count": null,
            "_view_module": "@jupyter-widgets/base",
            "_view_module_version": "1.2.0",
            "_view_name": "StyleView",
            "description_width": ""
          }
        },
        "000d534f540e414084a7cb8260a32c0e": {
          "model_module": "@jupyter-widgets/base",
          "model_name": "LayoutModel",
          "model_module_version": "1.2.0",
          "state": {
            "_model_module": "@jupyter-widgets/base",
            "_model_module_version": "1.2.0",
            "_model_name": "LayoutModel",
            "_view_count": null,
            "_view_module": "@jupyter-widgets/base",
            "_view_module_version": "1.2.0",
            "_view_name": "LayoutView",
            "align_content": null,
            "align_items": null,
            "align_self": null,
            "border": null,
            "bottom": null,
            "display": null,
            "flex": null,
            "flex_flow": null,
            "grid_area": null,
            "grid_auto_columns": null,
            "grid_auto_flow": null,
            "grid_auto_rows": null,
            "grid_column": null,
            "grid_gap": null,
            "grid_row": null,
            "grid_template_areas": null,
            "grid_template_columns": null,
            "grid_template_rows": null,
            "height": null,
            "justify_content": null,
            "justify_items": null,
            "left": null,
            "margin": null,
            "max_height": null,
            "max_width": null,
            "min_height": null,
            "min_width": null,
            "object_fit": null,
            "object_position": null,
            "order": null,
            "overflow": null,
            "overflow_x": null,
            "overflow_y": null,
            "padding": null,
            "right": null,
            "top": null,
            "visibility": null,
            "width": null
          }
        },
        "da48e6231abe42c1add026ae96435632": {
          "model_module": "@jupyter-widgets/controls",
          "model_name": "ProgressStyleModel",
          "model_module_version": "1.5.0",
          "state": {
            "_model_module": "@jupyter-widgets/controls",
            "_model_module_version": "1.5.0",
            "_model_name": "ProgressStyleModel",
            "_view_count": null,
            "_view_module": "@jupyter-widgets/base",
            "_view_module_version": "1.2.0",
            "_view_name": "StyleView",
            "bar_color": null,
            "description_width": ""
          }
        },
        "b6e09bcf7772461ea7d054a7f3f78eed": {
          "model_module": "@jupyter-widgets/base",
          "model_name": "LayoutModel",
          "model_module_version": "1.2.0",
          "state": {
            "_model_module": "@jupyter-widgets/base",
            "_model_module_version": "1.2.0",
            "_model_name": "LayoutModel",
            "_view_count": null,
            "_view_module": "@jupyter-widgets/base",
            "_view_module_version": "1.2.0",
            "_view_name": "LayoutView",
            "align_content": null,
            "align_items": null,
            "align_self": null,
            "border": null,
            "bottom": null,
            "display": null,
            "flex": null,
            "flex_flow": null,
            "grid_area": null,
            "grid_auto_columns": null,
            "grid_auto_flow": null,
            "grid_auto_rows": null,
            "grid_column": null,
            "grid_gap": null,
            "grid_row": null,
            "grid_template_areas": null,
            "grid_template_columns": null,
            "grid_template_rows": null,
            "height": null,
            "justify_content": null,
            "justify_items": null,
            "left": null,
            "margin": null,
            "max_height": null,
            "max_width": null,
            "min_height": null,
            "min_width": null,
            "object_fit": null,
            "object_position": null,
            "order": null,
            "overflow": null,
            "overflow_x": null,
            "overflow_y": null,
            "padding": null,
            "right": null,
            "top": null,
            "visibility": null,
            "width": null
          }
        },
        "0339932ffcc944498c41ca1a96963ed7": {
          "model_module": "@jupyter-widgets/controls",
          "model_name": "DescriptionStyleModel",
          "model_module_version": "1.5.0",
          "state": {
            "_model_module": "@jupyter-widgets/controls",
            "_model_module_version": "1.5.0",
            "_model_name": "DescriptionStyleModel",
            "_view_count": null,
            "_view_module": "@jupyter-widgets/base",
            "_view_module_version": "1.2.0",
            "_view_name": "StyleView",
            "description_width": ""
          }
        },
        "065945e905bd460ab62fab6ee12c96d5": {
          "model_module": "@jupyter-widgets/controls",
          "model_name": "HBoxModel",
          "model_module_version": "1.5.0",
          "state": {
            "_dom_classes": [],
            "_model_module": "@jupyter-widgets/controls",
            "_model_module_version": "1.5.0",
            "_model_name": "HBoxModel",
            "_view_count": null,
            "_view_module": "@jupyter-widgets/controls",
            "_view_module_version": "1.5.0",
            "_view_name": "HBoxView",
            "box_style": "",
            "children": [
              "IPY_MODEL_2758d0887bdb4462a5387ef21b1f3a98",
              "IPY_MODEL_bae8a60d9e1b46739e3b6d29e30193d6",
              "IPY_MODEL_b21a8e10ba9a4e4e9650ec3aa5efeb6c"
            ],
            "layout": "IPY_MODEL_b54851da26984caeb5ffd241e6b68cec"
          }
        },
        "2758d0887bdb4462a5387ef21b1f3a98": {
          "model_module": "@jupyter-widgets/controls",
          "model_name": "HTMLModel",
          "model_module_version": "1.5.0",
          "state": {
            "_dom_classes": [],
            "_model_module": "@jupyter-widgets/controls",
            "_model_module_version": "1.5.0",
            "_model_name": "HTMLModel",
            "_view_count": null,
            "_view_module": "@jupyter-widgets/controls",
            "_view_module_version": "1.5.0",
            "_view_name": "HTMLView",
            "description": "",
            "description_tooltip": null,
            "layout": "IPY_MODEL_16360362d6174272bfcfb378f228589b",
            "placeholder": "​",
            "style": "IPY_MODEL_fc187b23c4ba4b3494e401ff0cc8ad97",
            "value": "Generating train split: 100%"
          }
        },
        "bae8a60d9e1b46739e3b6d29e30193d6": {
          "model_module": "@jupyter-widgets/controls",
          "model_name": "FloatProgressModel",
          "model_module_version": "1.5.0",
          "state": {
            "_dom_classes": [],
            "_model_module": "@jupyter-widgets/controls",
            "_model_module_version": "1.5.0",
            "_model_name": "FloatProgressModel",
            "_view_count": null,
            "_view_module": "@jupyter-widgets/controls",
            "_view_module_version": "1.5.0",
            "_view_name": "ProgressView",
            "bar_style": "success",
            "description": "",
            "description_tooltip": null,
            "layout": "IPY_MODEL_f7c180f2348a4186bd2b4e829c3df4b6",
            "max": 24926,
            "min": 0,
            "orientation": "horizontal",
            "style": "IPY_MODEL_c28c099dd9e64d6c8845189aaf1340f3",
            "value": 24926
          }
        },
        "b21a8e10ba9a4e4e9650ec3aa5efeb6c": {
          "model_module": "@jupyter-widgets/controls",
          "model_name": "HTMLModel",
          "model_module_version": "1.5.0",
          "state": {
            "_dom_classes": [],
            "_model_module": "@jupyter-widgets/controls",
            "_model_module_version": "1.5.0",
            "_model_name": "HTMLModel",
            "_view_count": null,
            "_view_module": "@jupyter-widgets/controls",
            "_view_module_version": "1.5.0",
            "_view_name": "HTMLView",
            "description": "",
            "description_tooltip": null,
            "layout": "IPY_MODEL_509df381a14340b181c70000737d0a41",
            "placeholder": "​",
            "style": "IPY_MODEL_eb7652683f99433ebe2916a7f48097e2",
            "value": " 24926/24926 [00:00&lt;00:00, 144995.05 examples/s]"
          }
        },
        "b54851da26984caeb5ffd241e6b68cec": {
          "model_module": "@jupyter-widgets/base",
          "model_name": "LayoutModel",
          "model_module_version": "1.2.0",
          "state": {
            "_model_module": "@jupyter-widgets/base",
            "_model_module_version": "1.2.0",
            "_model_name": "LayoutModel",
            "_view_count": null,
            "_view_module": "@jupyter-widgets/base",
            "_view_module_version": "1.2.0",
            "_view_name": "LayoutView",
            "align_content": null,
            "align_items": null,
            "align_self": null,
            "border": null,
            "bottom": null,
            "display": null,
            "flex": null,
            "flex_flow": null,
            "grid_area": null,
            "grid_auto_columns": null,
            "grid_auto_flow": null,
            "grid_auto_rows": null,
            "grid_column": null,
            "grid_gap": null,
            "grid_row": null,
            "grid_template_areas": null,
            "grid_template_columns": null,
            "grid_template_rows": null,
            "height": null,
            "justify_content": null,
            "justify_items": null,
            "left": null,
            "margin": null,
            "max_height": null,
            "max_width": null,
            "min_height": null,
            "min_width": null,
            "object_fit": null,
            "object_position": null,
            "order": null,
            "overflow": null,
            "overflow_x": null,
            "overflow_y": null,
            "padding": null,
            "right": null,
            "top": null,
            "visibility": null,
            "width": null
          }
        },
        "16360362d6174272bfcfb378f228589b": {
          "model_module": "@jupyter-widgets/base",
          "model_name": "LayoutModel",
          "model_module_version": "1.2.0",
          "state": {
            "_model_module": "@jupyter-widgets/base",
            "_model_module_version": "1.2.0",
            "_model_name": "LayoutModel",
            "_view_count": null,
            "_view_module": "@jupyter-widgets/base",
            "_view_module_version": "1.2.0",
            "_view_name": "LayoutView",
            "align_content": null,
            "align_items": null,
            "align_self": null,
            "border": null,
            "bottom": null,
            "display": null,
            "flex": null,
            "flex_flow": null,
            "grid_area": null,
            "grid_auto_columns": null,
            "grid_auto_flow": null,
            "grid_auto_rows": null,
            "grid_column": null,
            "grid_gap": null,
            "grid_row": null,
            "grid_template_areas": null,
            "grid_template_columns": null,
            "grid_template_rows": null,
            "height": null,
            "justify_content": null,
            "justify_items": null,
            "left": null,
            "margin": null,
            "max_height": null,
            "max_width": null,
            "min_height": null,
            "min_width": null,
            "object_fit": null,
            "object_position": null,
            "order": null,
            "overflow": null,
            "overflow_x": null,
            "overflow_y": null,
            "padding": null,
            "right": null,
            "top": null,
            "visibility": null,
            "width": null
          }
        },
        "fc187b23c4ba4b3494e401ff0cc8ad97": {
          "model_module": "@jupyter-widgets/controls",
          "model_name": "DescriptionStyleModel",
          "model_module_version": "1.5.0",
          "state": {
            "_model_module": "@jupyter-widgets/controls",
            "_model_module_version": "1.5.0",
            "_model_name": "DescriptionStyleModel",
            "_view_count": null,
            "_view_module": "@jupyter-widgets/base",
            "_view_module_version": "1.2.0",
            "_view_name": "StyleView",
            "description_width": ""
          }
        },
        "f7c180f2348a4186bd2b4e829c3df4b6": {
          "model_module": "@jupyter-widgets/base",
          "model_name": "LayoutModel",
          "model_module_version": "1.2.0",
          "state": {
            "_model_module": "@jupyter-widgets/base",
            "_model_module_version": "1.2.0",
            "_model_name": "LayoutModel",
            "_view_count": null,
            "_view_module": "@jupyter-widgets/base",
            "_view_module_version": "1.2.0",
            "_view_name": "LayoutView",
            "align_content": null,
            "align_items": null,
            "align_self": null,
            "border": null,
            "bottom": null,
            "display": null,
            "flex": null,
            "flex_flow": null,
            "grid_area": null,
            "grid_auto_columns": null,
            "grid_auto_flow": null,
            "grid_auto_rows": null,
            "grid_column": null,
            "grid_gap": null,
            "grid_row": null,
            "grid_template_areas": null,
            "grid_template_columns": null,
            "grid_template_rows": null,
            "height": null,
            "justify_content": null,
            "justify_items": null,
            "left": null,
            "margin": null,
            "max_height": null,
            "max_width": null,
            "min_height": null,
            "min_width": null,
            "object_fit": null,
            "object_position": null,
            "order": null,
            "overflow": null,
            "overflow_x": null,
            "overflow_y": null,
            "padding": null,
            "right": null,
            "top": null,
            "visibility": null,
            "width": null
          }
        },
        "c28c099dd9e64d6c8845189aaf1340f3": {
          "model_module": "@jupyter-widgets/controls",
          "model_name": "ProgressStyleModel",
          "model_module_version": "1.5.0",
          "state": {
            "_model_module": "@jupyter-widgets/controls",
            "_model_module_version": "1.5.0",
            "_model_name": "ProgressStyleModel",
            "_view_count": null,
            "_view_module": "@jupyter-widgets/base",
            "_view_module_version": "1.2.0",
            "_view_name": "StyleView",
            "bar_color": null,
            "description_width": ""
          }
        },
        "509df381a14340b181c70000737d0a41": {
          "model_module": "@jupyter-widgets/base",
          "model_name": "LayoutModel",
          "model_module_version": "1.2.0",
          "state": {
            "_model_module": "@jupyter-widgets/base",
            "_model_module_version": "1.2.0",
            "_model_name": "LayoutModel",
            "_view_count": null,
            "_view_module": "@jupyter-widgets/base",
            "_view_module_version": "1.2.0",
            "_view_name": "LayoutView",
            "align_content": null,
            "align_items": null,
            "align_self": null,
            "border": null,
            "bottom": null,
            "display": null,
            "flex": null,
            "flex_flow": null,
            "grid_area": null,
            "grid_auto_columns": null,
            "grid_auto_flow": null,
            "grid_auto_rows": null,
            "grid_column": null,
            "grid_gap": null,
            "grid_row": null,
            "grid_template_areas": null,
            "grid_template_columns": null,
            "grid_template_rows": null,
            "height": null,
            "justify_content": null,
            "justify_items": null,
            "left": null,
            "margin": null,
            "max_height": null,
            "max_width": null,
            "min_height": null,
            "min_width": null,
            "object_fit": null,
            "object_position": null,
            "order": null,
            "overflow": null,
            "overflow_x": null,
            "overflow_y": null,
            "padding": null,
            "right": null,
            "top": null,
            "visibility": null,
            "width": null
          }
        },
        "eb7652683f99433ebe2916a7f48097e2": {
          "model_module": "@jupyter-widgets/controls",
          "model_name": "DescriptionStyleModel",
          "model_module_version": "1.5.0",
          "state": {
            "_model_module": "@jupyter-widgets/controls",
            "_model_module_version": "1.5.0",
            "_model_name": "DescriptionStyleModel",
            "_view_count": null,
            "_view_module": "@jupyter-widgets/base",
            "_view_module_version": "1.2.0",
            "_view_name": "StyleView",
            "description_width": ""
          }
        }
      }
    }
  },
  "cells": [
    {
      "cell_type": "code",
      "execution_count": 1,
      "metadata": {
        "colab": {
          "base_uri": "https://localhost:8080/"
        },
        "id": "gY290rYm-ujl",
        "outputId": "153edc58-cc72-4a05-cb7b-f141153b0a72"
      },
      "outputs": [
        {
          "output_type": "stream",
          "name": "stdout",
          "text": [
            "\u001b[2K     \u001b[90m━━━━━━━━━━━━━━━━━━━━━━━━━━━━━━━━━━━━━━━━\u001b[0m \u001b[32m235.5/235.5 kB\u001b[0m \u001b[31m4.0 MB/s\u001b[0m eta \u001b[36m0:00:00\u001b[0m\n",
            "\u001b[2K     \u001b[90m━━━━━━━━━━━━━━━━━━━━━━━━━━━━━━━━━━━━━━━━\u001b[0m \u001b[32m232.6/232.6 kB\u001b[0m \u001b[31m8.0 MB/s\u001b[0m eta \u001b[36m0:00:00\u001b[0m\n",
            "\u001b[2K     \u001b[90m━━━━━━━━━━━━━━━━━━━━━━━━━━━━━━━━━━━━━━━━\u001b[0m \u001b[32m774.1/774.1 kB\u001b[0m \u001b[31m7.9 MB/s\u001b[0m eta \u001b[36m0:00:00\u001b[0m\n",
            "\u001b[2K     \u001b[90m━━━━━━━━━━━━━━━━━━━━━━━━━━━━━━━━━━━━━━━━\u001b[0m \u001b[32m542.0/542.0 kB\u001b[0m \u001b[31m14.1 MB/s\u001b[0m eta \u001b[36m0:00:00\u001b[0m\n",
            "\u001b[2K     \u001b[90m━━━━━━━━━━━━━━━━━━━━━━━━━━━━━━━━━━━━━━━━\u001b[0m \u001b[32m116.3/116.3 kB\u001b[0m \u001b[31m8.3 MB/s\u001b[0m eta \u001b[36m0:00:00\u001b[0m\n",
            "\u001b[2K     \u001b[90m━━━━━━━━━━━━━━━━━━━━━━━━━━━━━━━━━━━━━━━━\u001b[0m \u001b[32m194.1/194.1 kB\u001b[0m \u001b[31m8.3 MB/s\u001b[0m eta \u001b[36m0:00:00\u001b[0m\n",
            "\u001b[2K     \u001b[90m━━━━━━━━━━━━━━━━━━━━━━━━━━━━━━━━━━━━━━━━\u001b[0m \u001b[32m134.8/134.8 kB\u001b[0m \u001b[31m11.7 MB/s\u001b[0m eta \u001b[36m0:00:00\u001b[0m\n",
            "\u001b[2K     \u001b[90m━━━━━━━━━━━━━━━━━━━━━━━━━━━━━━━━━━━━━━━━\u001b[0m \u001b[32m401.2/401.2 kB\u001b[0m \u001b[31m11.3 MB/s\u001b[0m eta \u001b[36m0:00:00\u001b[0m\n",
            "\u001b[?25h"
          ]
        }
      ],
      "source": [
        "! pip install -q -U unidecode PyPDF2 beautifulsoup4 regex datasets"
      ]
    },
    {
      "cell_type": "markdown",
      "source": [],
      "metadata": {
        "id": "viC3vOpl_CW2"
      }
    },
    {
      "cell_type": "code",
      "source": [
        "import unidecode, random, string, time, pickle, requests, json, csv\n",
        "from bs4 import BeautifulSoup\n",
        "from tqdm.auto import tqdm\n",
        "from collections import OrderedDict\n",
        "from PyPDF2 import PdfReader\n",
        "import regex as re\n",
        "import torch\n",
        "from datasets import load_dataset\n",
        "device = torch.device('cuda' if torch.cuda.is_available() else 'cpu')"
      ],
      "metadata": {
        "id": "CooOF7NC-6OM"
      },
      "execution_count": 2,
      "outputs": []
    },
    {
      "cell_type": "code",
      "source": [
        "from google.colab import drive\n",
        "drive.mount('/content/drive/')"
      ],
      "metadata": {
        "colab": {
          "base_uri": "https://localhost:8080/"
        },
        "id": "e0DbA5-JTPm6",
        "outputId": "f553b007-6ddc-46d4-c720-01a5fed650bd"
      },
      "execution_count": 3,
      "outputs": [
        {
          "output_type": "stream",
          "name": "stdout",
          "text": [
            "Mounted at /content/drive/\n"
          ]
        }
      ]
    },
    {
      "cell_type": "markdown",
      "source": [
        "## 1.Gather Text"
      ],
      "metadata": {
        "id": "Qn47PCNDAeWy"
      }
    },
    {
      "cell_type": "code",
      "source": [
        "# dataset = load_dataset(\"JeanKaddour/minipile\",split='train',trust_remote_code=True)"
      ],
      "metadata": {
        "id": "ss22Hz61gH2E"
      },
      "execution_count": 4,
      "outputs": []
    },
    {
      "cell_type": "code",
      "source": [
        "dataset2 = load_dataset('dvilasuero/distillama3-prompts10k', split='train')\n",
        "dataset3 = load_dataset(\"tatsu-lab/alpaca\", split = \"train\")\n",
        "dataset4 = load_dataset(\"garage-bAInd/Open-Platypus\", split = \"train\")"
      ],
      "metadata": {
        "colab": {
          "base_uri": "https://localhost:8080/",
          "height": 429,
          "referenced_widgets": [
            "8fe5ff0283a241fa9e6b41e291e0778e",
            "c39ffbc27485489c87d7405f32302ee5",
            "6c0c99d7b66c4312b7d62ac653a28449",
            "ee06762bd0664682b0567c231c235981",
            "446bd0c774364b939fd385829287a298",
            "c70d66b45ddb46a2b677b7d44ab9377a",
            "e0b5a3693f524706a9da83ea806f4ee0",
            "148702ece2ff4cd8a1348ac46ad7f5a6",
            "363d40c2fc694117ad7c5f87d7069b2d",
            "d0d6f7b710ff429c85f3262103021eb1",
            "89790d72bb3e4cfdb5d7c5c3416d15ff",
            "34c848a6f3a348558a0bb92a98cd319f",
            "96f2b514484940aea23879b44ecb36a9",
            "577bc130223b44999fe466a541ce03e4",
            "67fdab3dfbe4462dbe605ed58f9cdc65",
            "7a27506c1189403e88ba4814d8d46aff",
            "5419145880b94e76a0733bef20ccab40",
            "24bb6ef2f4ab4524974fc88e7a9aa65c",
            "6070c457371340e3b2806fa6e90745ab",
            "91f6d33c62e34b4b996deb468d9e0839",
            "85e8b4f4179d42588013a38646b57416",
            "cf1133b9b14a4fb1abcbdc4e7a71f4dd",
            "08d2f5b5a355443ca1e680aa99d0405a",
            "81fb79ae293540d79cf35c154f864769",
            "29567e3049e34b8ba01750a510e7ad11",
            "c951cacd61ae42e787b591a60a96a901",
            "bfec654512df42a0b37946362faa9fc8",
            "9506be72c7e0481cb7a950a55d04e8ca",
            "a6da4e5b8bdb4c63ada597fcb5092f48",
            "ed7839cd948b4f01862bb0d76c6a4c37",
            "2ef87e53aef5428c8bc6dfc9ecbb01d2",
            "f5c533859ca148368e288f2d69ba6e5e",
            "c08dcdf6006243848d37709d2c8e94c9",
            "15e74e9a892f45db8221a53c16a00c0a",
            "d953942371684e1f8e906d16c4db91b2",
            "11142a9d72f04d15847dac777a9edae6",
            "8061edd65e2a405ab16fd58c6d4ccc52",
            "3f1a45ac6f2944ad90d2550bc3473449",
            "67fad1dbaf9544eda939626ac7fca846",
            "484ca989ef3246e199bb94036dc8e690",
            "d4809f0c20cb49a09fea5f5632a44308",
            "4bbcb5941f3242ea9f341d92c11feab6",
            "aa9cf7f03a574b55a0a0893264922550",
            "5447cce423254fbb9d5b2c2b90779cad",
            "8fb5264b5961404bacafd10b9081dc2d",
            "bc6fcd6365a94ac9ab99f575f0cb46dc",
            "ae3e8ccfb9bd4cf7ba140027a0d0f74a",
            "fae083f1be1b49d990773b582031f001",
            "937cacc8240f441ea143d7624c33307d",
            "db28f01d43ed4f06927fc0494ef1bdf4",
            "db1f9ed3752e446a8254463c9f45a72c",
            "79e166046cf34d89a1690ab0eb315d5c",
            "30c03e9c89b948c7950339e7a4f6e53e",
            "d3140096c8c24891a6a66553ae575bf4",
            "5fc10af6c930497ebb51a64e25f9013c",
            "57993eb7ecd74c7fb5a55f4b82c9a87c",
            "54bf0909d46f40e28d1cb3d6c417b6d0",
            "5839fe29e6414487933fb2d33a623b1e",
            "cd1e9891843f4c21b44f660d8ef559e4",
            "dc61be2a4f384a129908792e272294bc",
            "aa9524a5e289463995529583177a4500",
            "182ffce4c3c748ccacad6f0278a61f96",
            "73d78c72ab214b62bb59705b24447453",
            "093ad217d8e94636b7baf447955fd305",
            "86ab36955f344822ad2a1c6651f6b786",
            "e049614439ab4abd9e3930574e620895",
            "89319ccbdd694de0a8ca2a7a5ed5086d",
            "5e3a7f1b96194472b1ab32c77816a530",
            "6e31e5e2cb124d7ea9424f34e633b523",
            "91da674f928a40ef87f900d79dbdfbc5",
            "7c6e4de89a294746b37aa44009081004",
            "824c81c776b442a48730796ae31c12a9",
            "85d0427e95ac4ba0bd11f29213f3a798",
            "3bd148a9eebb479494b74ab7c943cc96",
            "8ffa262a9eb349b9b68fc3c29302da7f",
            "7860771934524fd1aad6676e371657a8",
            "cff5af20f75a429b9a9f426d2210596a",
            "5e5cb262f5284027890ccc38b2de7c54",
            "7f0f3e167d834da6b29281b08b1ff800",
            "cb47f1116ccd41dbba44ea171606be9b",
            "db373189849846f08988c9d1188645ca",
            "a346db5f6859452a84d44ec47d9b99c7",
            "3a437401726646c5a7b6967bdb89ad6a",
            "ccb4b1fe83624791a50c1c3c7b6d04ff",
            "000d534f540e414084a7cb8260a32c0e",
            "da48e6231abe42c1add026ae96435632",
            "b6e09bcf7772461ea7d054a7f3f78eed",
            "0339932ffcc944498c41ca1a96963ed7",
            "065945e905bd460ab62fab6ee12c96d5",
            "2758d0887bdb4462a5387ef21b1f3a98",
            "bae8a60d9e1b46739e3b6d29e30193d6",
            "b21a8e10ba9a4e4e9650ec3aa5efeb6c",
            "b54851da26984caeb5ffd241e6b68cec",
            "16360362d6174272bfcfb378f228589b",
            "fc187b23c4ba4b3494e401ff0cc8ad97",
            "f7c180f2348a4186bd2b4e829c3df4b6",
            "c28c099dd9e64d6c8845189aaf1340f3",
            "509df381a14340b181c70000737d0a41",
            "eb7652683f99433ebe2916a7f48097e2"
          ]
        },
        "id": "8LV1c6vxkr4O",
        "outputId": "31bb3be0-e53a-49d4-f556-1860f9d14406"
      },
      "execution_count": 5,
      "outputs": [
        {
          "output_type": "stream",
          "name": "stderr",
          "text": [
            "/usr/local/lib/python3.10/dist-packages/huggingface_hub/utils/_token.py:89: UserWarning: \n",
            "The secret `HF_TOKEN` does not exist in your Colab secrets.\n",
            "To authenticate with the Hugging Face Hub, create a token in your settings tab (https://huggingface.co/settings/tokens), set it as secret in your Google Colab and restart your session.\n",
            "You will be able to reuse this secret in all of your notebooks.\n",
            "Please note that authentication is recommended but still optional to access public models or datasets.\n",
            "  warnings.warn(\n"
          ]
        },
        {
          "output_type": "display_data",
          "data": {
            "text/plain": [
              "Downloading readme:   0%|          | 0.00/17.0k [00:00<?, ?B/s]"
            ],
            "application/vnd.jupyter.widget-view+json": {
              "version_major": 2,
              "version_minor": 0,
              "model_id": "8fe5ff0283a241fa9e6b41e291e0778e"
            }
          },
          "metadata": {}
        },
        {
          "output_type": "display_data",
          "data": {
            "text/plain": [
              "Downloading data:   0%|          | 0.00/1.41M [00:00<?, ?B/s]"
            ],
            "application/vnd.jupyter.widget-view+json": {
              "version_major": 2,
              "version_minor": 0,
              "model_id": "34c848a6f3a348558a0bb92a98cd319f"
            }
          },
          "metadata": {}
        },
        {
          "output_type": "display_data",
          "data": {
            "text/plain": [
              "Generating train split:   0%|          | 0/500 [00:00<?, ? examples/s]"
            ],
            "application/vnd.jupyter.widget-view+json": {
              "version_major": 2,
              "version_minor": 0,
              "model_id": "08d2f5b5a355443ca1e680aa99d0405a"
            }
          },
          "metadata": {}
        },
        {
          "output_type": "display_data",
          "data": {
            "text/plain": [
              "Downloading readme:   0%|          | 0.00/7.47k [00:00<?, ?B/s]"
            ],
            "application/vnd.jupyter.widget-view+json": {
              "version_major": 2,
              "version_minor": 0,
              "model_id": "15e74e9a892f45db8221a53c16a00c0a"
            }
          },
          "metadata": {}
        },
        {
          "output_type": "display_data",
          "data": {
            "text/plain": [
              "Downloading data:   0%|          | 0.00/24.2M [00:00<?, ?B/s]"
            ],
            "application/vnd.jupyter.widget-view+json": {
              "version_major": 2,
              "version_minor": 0,
              "model_id": "8fb5264b5961404bacafd10b9081dc2d"
            }
          },
          "metadata": {}
        },
        {
          "output_type": "display_data",
          "data": {
            "text/plain": [
              "Generating train split:   0%|          | 0/52002 [00:00<?, ? examples/s]"
            ],
            "application/vnd.jupyter.widget-view+json": {
              "version_major": 2,
              "version_minor": 0,
              "model_id": "57993eb7ecd74c7fb5a55f4b82c9a87c"
            }
          },
          "metadata": {}
        },
        {
          "output_type": "display_data",
          "data": {
            "text/plain": [
              "Downloading readme:   0%|          | 0.00/5.34k [00:00<?, ?B/s]"
            ],
            "application/vnd.jupyter.widget-view+json": {
              "version_major": 2,
              "version_minor": 0,
              "model_id": "89319ccbdd694de0a8ca2a7a5ed5086d"
            }
          },
          "metadata": {}
        },
        {
          "output_type": "display_data",
          "data": {
            "text/plain": [
              "Downloading data:   0%|          | 0.00/15.6M [00:00<?, ?B/s]"
            ],
            "application/vnd.jupyter.widget-view+json": {
              "version_major": 2,
              "version_minor": 0,
              "model_id": "5e5cb262f5284027890ccc38b2de7c54"
            }
          },
          "metadata": {}
        },
        {
          "output_type": "display_data",
          "data": {
            "text/plain": [
              "Generating train split:   0%|          | 0/24926 [00:00<?, ? examples/s]"
            ],
            "application/vnd.jupyter.widget-view+json": {
              "version_major": 2,
              "version_minor": 0,
              "model_id": "065945e905bd460ab62fab6ee12c96d5"
            }
          },
          "metadata": {}
        }
      ]
    },
    {
      "cell_type": "code",
      "source": [
        "# dataset5 = load_dataset(\"tatsu-lab/alpaca\", split = \"train\")\n",
        "# dataset6 = load_dataset(\"THUDM/webglm-qa\", split = \"train\")"
      ],
      "metadata": {
        "id": "LJJsYRxqq5Vg"
      },
      "execution_count": 6,
      "outputs": []
    },
    {
      "cell_type": "code",
      "source": [
        "len(dataset2),len(dataset3),len(dataset4)"
      ],
      "metadata": {
        "colab": {
          "base_uri": "https://localhost:8080/"
        },
        "id": "BUpXBQ30JM1Y",
        "outputId": "78389de5-0c97-480a-e467-4fd6440bb92a"
      },
      "execution_count": 7,
      "outputs": [
        {
          "output_type": "execute_result",
          "data": {
            "text/plain": [
              "(500, 52002, 24926)"
            ]
          },
          "metadata": {},
          "execution_count": 7
        }
      ]
    },
    {
      "cell_type": "code",
      "source": [
        "def load_dataset_(dataset):\n",
        "    idx = random.randint(0,len(dataset)-1)\n",
        "    text = f\"Instruction:\\n {dataset['instruction']} \\nInput:\\n{dataset['input']} \\nOutput:\\n{dataset['instruction']}\"\n",
        "    return text"
      ],
      "metadata": {
        "id": "vlpNif1GKsxr"
      },
      "execution_count": 8,
      "outputs": []
    },
    {
      "cell_type": "code",
      "source": [
        "text = load_dataset_(dataset3)"
      ],
      "metadata": {
        "id": "ETLHQDHKKusU"
      },
      "execution_count": 9,
      "outputs": []
    },
    {
      "cell_type": "markdown",
      "source": [
        "## 2.Training Tokenizer"
      ],
      "metadata": {
        "id": "geteU4Ri_t5I"
      }
    },
    {
      "cell_type": "code",
      "source": [
        "def load_vocab(path):\n",
        "    f =  open(path)\n",
        "    vocab = json.load(f)\n",
        "    f.close()\n",
        "    vocab = [i.encode('utf-8') for i in vocab]\n",
        "    return vocab\n",
        "\n",
        "def load_merges(path):\n",
        "    with open(path,'rb') as f:\n",
        "        merges = pickle.load(f)\n",
        "    return merges\n",
        "\n",
        "vocab = load_vocab(r'/content/drive/MyDrive/Pretrained_Models/vocab.json')\n",
        "merges = load_merges(r'/content/drive/MyDrive/Pretrained_Models/merges.pkl')"
      ],
      "metadata": {
        "id": "nV_xlXiegJ1y"
      },
      "execution_count": 10,
      "outputs": []
    },
    {
      "cell_type": "markdown",
      "source": [
        "### 2.1 Byte pair Encoding"
      ],
      "metadata": {
        "id": "0MJQ_bYjvET4"
      }
    },
    {
      "cell_type": "markdown",
      "source": [
        "Resource: https://github.com/karpathy/minbpe"
      ],
      "metadata": {
        "id": "c2v3HKg7wbNp"
      }
    },
    {
      "cell_type": "code",
      "source": [
        "class BasicTokenizer():\n",
        "    def __init__(self, vocab=None, merges=None) -> None:\n",
        "        self.pattern = r\"\"\"'(?:[sdmt]|ll|ve|re)| ?\\p{L}+| ?\\p{N}+| ?[^\\s\\p{L}\\p{N}]+|\\s+(?!\\S)|\\s+\"\"\"\n",
        "        self.compiled_pattern = re.compile(self.pattern)\n",
        "        self.vocab = vocab if vocab is not None else {}\n",
        "        self.merges = merges if merges is not None else {}\n",
        "\n",
        "    def get_stats(self, ids, counts=None):\n",
        "        counts = {} if counts is None else counts\n",
        "        for pair in zip(ids, ids[1:]): # iterate consecutive elements\n",
        "            counts[pair] = counts.get(pair, 0) + 1\n",
        "        return counts\n",
        "\n",
        "    def merge(self, ids, pair, idx):\n",
        "        newids = []\n",
        "        i = 0\n",
        "        while i < len(ids):\n",
        "            if ids[i] == pair[0] and i < len(ids) - 1 and ids[i+1] == pair[1]:\n",
        "                newids.append(idx)\n",
        "                i += 2\n",
        "            else:\n",
        "                newids.append(ids[i])\n",
        "                i += 1\n",
        "        return newids\n",
        "\n",
        "    def train(self, text, vocab_size, verbose, merges_dir,  vocab_dir):\n",
        "        text = re.sub(r'[^\\w\\p{P}\\p{M}\\p{Z}}\"]+',' ',text)\n",
        "        num_merges = vocab_size - 256\n",
        "        text_chunks = re.findall(self.compiled_pattern, text)\n",
        "        ids = [list(ch.encode(\"utf-8\")) for ch in text_chunks]\n",
        "        self.vocab = {idx: bytes([idx]) for idx in range(256)}\n",
        "        for i in tqdm(range(num_merges),desc='Token merges'):\n",
        "            stats = {}\n",
        "            for chunk_ids in ids:\n",
        "                stats = self.get_stats(chunk_ids, stats)\n",
        "            if len(stats) > 0:\n",
        "                pair = max(stats, key=lambda x: stats[x])\n",
        "                idx = 256 + i\n",
        "                ids = [self.merge(chunk_ids, pair, idx) for chunk_ids in ids]\n",
        "                self.merges[pair] = idx\n",
        "                self.vocab[idx] = self.vocab[pair[0]] + self.vocab[pair[1]]\n",
        "                if verbose:\n",
        "                    print(f\"merge {i+1}/{num_merges}: {pair} -> {idx} ({self.vocab[idx]}) had {stats[pair]} occurrences\")\n",
        "            else:\n",
        "                pass\n",
        "        self.save_merges(merges_dir)\n",
        "        self.save_vocab(vocab_dir)\n",
        "        return self.merges, self.vocab\n",
        "\n",
        "    def encode_chunk(self,text_bytes):\n",
        "            # return the token ids\n",
        "            # let's begin. first, convert all bytes to integers in range 0..255\n",
        "            # text_bytes = bytes(text.encode('utf-8'))\n",
        "            ids = list(text_bytes)\n",
        "            while len(ids) >= 2:\n",
        "                # find the pair with the lowest merge index\n",
        "                stats = self.get_stats(ids)\n",
        "                pair = min(stats, key=lambda p: self.merges.get(p, float(\"inf\")))\n",
        "                # subtle: if there are no more merges available, the key will\n",
        "                # result in an inf for every single pair, and the min will be\n",
        "                # just the first pair in the list, arbitrarily\n",
        "                # we can detect this terminating case by a membership check\n",
        "                if pair not in self.merges:\n",
        "                    break # nothing else can be merged anymore\n",
        "                # otherwise let's merge the best pair (lowest merge index)\n",
        "                idx = self.merges[pair]\n",
        "                ids = self.merge(ids, pair, idx)\n",
        "            return ids\n",
        "\n",
        "    def decode(self, ids):\n",
        "        text_bytes = b\"\".join([self.vocab[i] for i in ids])\n",
        "        text = text_bytes.decode(\"utf-8\", errors=\"replace\")\n",
        "        return text\n",
        "\n",
        "    def encode_ordinary(self, text):\n",
        "        \"\"\"Encoding that ignores any special tokens.\"\"\"\n",
        "        # split text into chunks of text by categories defined in regex pattern\n",
        "        text_chunks = re.findall(self.compiled_pattern, text)\n",
        "        # all chunks of text are encoded separately, then results are joined\n",
        "        ids = []\n",
        "        for chunk in text_chunks:\n",
        "            chunk_bytes = chunk.encode(\"utf-8\") # raw bytes\n",
        "            chunk_ids = self.encode_chunk(chunk_bytes)\n",
        "            ids.extend(chunk_ids)\n",
        "        return ids\n",
        "\n",
        "    def save_vocab(self, save_path):\n",
        "        data = [i.decode('utf-8',errors='replace') for i in list(self.vocab.values())]\n",
        "        with open(save_path,'w') as file:\n",
        "            json.dump(data,file,indent=4)\n",
        "\n",
        "    def save_merges(self, save_path):\n",
        "        with open(save_path,'wb') as f:\n",
        "            pickle.dump(self.merges,f)\n",
        "\n",
        "def load_vocab(path):\n",
        "    f =  open(path)\n",
        "    vocab = json.load(f)\n",
        "    f.close()\n",
        "    vocab = [i.encode('utf-8') for i in vocab]\n",
        "    return vocab\n",
        "\n",
        "def load_merges(path):\n",
        "    with open(path,'rb') as f:\n",
        "        merges = pickle.load(f)\n",
        "    return merges\n"
      ],
      "metadata": {
        "id": "dCNZ1GJh-TyH"
      },
      "execution_count": 11,
      "outputs": []
    },
    {
      "cell_type": "code",
      "source": [
        "#tokenizer = BasicTokenizer(vocab,merges)"
      ],
      "metadata": {
        "id": "NLl5yXrs-YmZ"
      },
      "execution_count": 12,
      "outputs": []
    },
    {
      "cell_type": "code",
      "source": [
        "# tokenizer.train(text3, 900, False)"
      ],
      "metadata": {
        "id": "-w6gqh0H105j"
      },
      "execution_count": 13,
      "outputs": []
    },
    {
      "cell_type": "markdown",
      "source": [
        "`Note`: Byte Pair encoding is not used to fit the training within the T4's memory. Use as small as vocabulary as possible. For this notebook we use single character printable in python as vocabulary. (As you might see later this is also hard to fit)"
      ],
      "metadata": {
        "id": "cwjWKEY4tZuX"
      }
    },
    {
      "cell_type": "code",
      "source": [
        "vocab = list(string.printable)\n",
        "print(len(vocab))"
      ],
      "metadata": {
        "colab": {
          "base_uri": "https://localhost:8080/"
        },
        "id": "0hs-BtHAzbfL",
        "outputId": "18eb6e9c-a8d7-48dc-8e22-823a767a1b92"
      },
      "execution_count": 14,
      "outputs": [
        {
          "output_type": "stream",
          "name": "stdout",
          "text": [
            "100\n"
          ]
        }
      ]
    },
    {
      "cell_type": "markdown",
      "source": [
        "### 2.2 Character Level Tokenizer"
      ],
      "metadata": {
        "id": "Zfcl9wozvKQp"
      }
    },
    {
      "cell_type": "code",
      "source": [
        "class CharacterTokenizer:\n",
        "    def __init__(self, vocab = None) -> None:\n",
        "        self.vocab = vocab if vocab is not None else list(string.printable)\n",
        "        self.vocab = list(string.printable)\n",
        "        self.stoi = {s:i for i,s in enumerate(self.vocab)}\n",
        "        self.itos = {i:s for i,s in enumerate(self.vocab)}\n",
        "\n",
        "    def encode_text(self,text):\n",
        "        encoded = [self.stoi[words] for words in text]\n",
        "        return encoded\n",
        "\n",
        "    def decode_ids(self,ids):\n",
        "        decoded = ''.join([self.itos[idx] for idx in ids])\n",
        "        return decoded"
      ],
      "metadata": {
        "id": "2wKtTLjAvAEc"
      },
      "execution_count": 15,
      "outputs": []
    },
    {
      "cell_type": "markdown",
      "source": [
        "## 3.Getting Dataloaders"
      ],
      "metadata": {
        "id": "mGk9W7lYt8to"
      }
    },
    {
      "cell_type": "code",
      "source": [
        "from torch.utils.data import TensorDataset, DataLoader, random_split"
      ],
      "metadata": {
        "id": "f4pnkza4t8Yv"
      },
      "execution_count": 16,
      "outputs": []
    },
    {
      "cell_type": "code",
      "source": [
        "class Sampler:\n",
        "    def __init__(self,tokenizer=None):\n",
        "        self.tokenizer = tokenizer if tokenizer is not None else CharacterTokenizer\n",
        "\n",
        "    def random_portion(self, text, chunk_size):\n",
        "        start_idx = random.randint(0,len(text) - chunk_size)\n",
        "        end_idx = start_idx + chunk_size + 1\n",
        "        text = text[start_idx: end_idx]\n",
        "        return text\n",
        "\n",
        "    def read_pdf(self,path):\n",
        "        text = \"\"\n",
        "        pdf_reader = PdfReader(path)\n",
        "        index = random.randint(0,len(pdf_reader.pages)-1)\n",
        "        for page in pdf_reader.pages[index:index+1]:\n",
        "            text += page.extract_text()\n",
        "        text = unidecode.unidecode(text)\n",
        "        return text\n",
        "\n",
        "    def preprocess(self,text):\n",
        "        text = unidecode.unidecode(text)\n",
        "        text = re.sub(r'[^\\p{L}\\p{N}\\p{M}\\p{Z}]+',' ',text)\n",
        "        return text\n",
        "\n",
        "    def generate_context_target_words(self, ids,seq_len):\n",
        "        context, targets = [], []\n",
        "        for i in range(seq_len,len(ids)-seq_len):\n",
        "            context.append(ids[i-seq_len:i])\n",
        "            targets.append(ids[i-seq_len+1:i+1])\n",
        "        return context, targets\n",
        "\n",
        "    def get_dataloaders(self,context,targets,batch_size,device):\n",
        "        X = torch.tensor(context,device=device)\n",
        "        y = torch.tensor(targets,device=device)\n",
        "        dataset = TensorDataset(X,y)\n",
        "        train_size = int(0.8 * len(dataset))\n",
        "        test_size = len(dataset) - train_size\n",
        "        train_dataset, valid_dataset = random_split(dataset, [train_size, test_size])\n",
        "\n",
        "        train_loader = DataLoader(dataset=train_dataset,shuffle=True,batch_size=batch_size)\n",
        "        valid_loader = DataLoader(dataset=valid_dataset,shuffle=True,batch_size=batch_size)\n",
        "        return train_loader, valid_loader\n",
        "\n",
        "\n",
        "    def __call__(self, seq_len, batch_size, device,  text=None, pdf_path=None, chunk_size=1000):\n",
        "        if pdf_path is not None:\n",
        "            text = self.read_pdf(pdf_path)\n",
        "        else:\n",
        "            pass\n",
        "        text = self.random_portion(text, chunk_size)\n",
        "        text = self.preprocess(text)\n",
        "        ids = self.tokenizer.encode_text(text)\n",
        "        context, targets = self.generate_context_target_words(ids, seq_len)\n",
        "        train_loader, valid_loader = self.get_dataloaders(context, targets, batch_size, device)\n",
        "        return train_loader, valid_loader"
      ],
      "metadata": {
        "id": "6i8Z_7JX_W4p"
      },
      "execution_count": 17,
      "outputs": []
    },
    {
      "cell_type": "markdown",
      "source": [
        "## 4.Loading Model"
      ],
      "metadata": {
        "id": "DtZJrJf-iq2o"
      }
    },
    {
      "cell_type": "code",
      "source": [
        "import torch.nn as nn\n",
        "import torch.nn.functional as F\n",
        "from torch.profiler import profile, record_function, ProfilerActivity\n",
        "from dataclasses import dataclass"
      ],
      "metadata": {
        "id": "EXZJlFVgi4E4"
      },
      "execution_count": 18,
      "outputs": []
    },
    {
      "cell_type": "code",
      "source": [
        "tokenizer = CharacterTokenizer(vocab)\n",
        "sampler = Sampler(tokenizer)"
      ],
      "metadata": {
        "id": "PkEo2034qDPX"
      },
      "execution_count": 19,
      "outputs": []
    },
    {
      "cell_type": "markdown",
      "source": [
        "### 4.1 Model Configuration"
      ],
      "metadata": {
        "id": "-gVzPhnx0EcD"
      }
    },
    {
      "cell_type": "code",
      "source": [
        "@dataclass\n",
        "class ModelArgs:\n",
        "    in_ = len(vocab)\n",
        "    batch = 128\n",
        "    seq_len = 128\n",
        "    dim = 128\n",
        "    q_heads = 8\n",
        "    kv_heads = 2\n",
        "    hdim = dim // q_heads\n",
        "    blocks = 4\n",
        "    dropout = 0.2"
      ],
      "metadata": {
        "id": "mzHkD7xMWtZH"
      },
      "execution_count": 20,
      "outputs": []
    },
    {
      "cell_type": "markdown",
      "source": [
        "### 4.2 Root Mean Square Normalisation"
      ],
      "metadata": {
        "id": "jIVOJxnyvuWU"
      }
    },
    {
      "cell_type": "code",
      "source": [
        "class RMSNorm(nn.Module):\n",
        "    def __init__(self, n_dim, eps=1e-8):\n",
        "        super().__init__()\n",
        "        self.eps = eps\n",
        "        self.scale = nn.Parameter(torch.ones(n_dim))\n",
        "\n",
        "    def forward(self, x):\n",
        "        x_normed = (\n",
        "            x.float() * torch.rsqrt(x.float().pow(2).mean(-1, keepdim=True) + self.eps)\n",
        "        ).type_as(x)\n",
        "        return x_normed * self.scale"
      ],
      "metadata": {
        "id": "pKezoUkuiXLL"
      },
      "execution_count": 21,
      "outputs": []
    },
    {
      "cell_type": "markdown",
      "source": [
        "### 4.3 SwiGLU (Activation Function)"
      ],
      "metadata": {
        "id": "FTImd7lRvzdM"
      }
    },
    {
      "cell_type": "code",
      "source": [
        "class SwiGLU(nn.Module):\n",
        "    # SwiGLU(x,W,V,b,c) = x.sigmoid(BxW + b) * (xV+c), *-> element wise product\n",
        "    def __init__(self,n_dim):\n",
        "        super().__init__()\n",
        "        self.linear_gate= nn.Linear(n_dim, n_dim)\n",
        "        self.linear = nn.Linear(n_dim,n_dim)\n",
        "        self.beta = nn.Parameter(torch.ones(1))\n",
        "        self.register_parameter('beta', self.beta)\n",
        "\n",
        "    def forward(self,x):\n",
        "        swish_gate = x * torch.sigmoid(self.beta * self.linear_gate(x))\n",
        "        out = swish_gate * self.linear(x)\n",
        "        return out"
      ],
      "metadata": {
        "id": "eTxgEjgfi6eg"
      },
      "execution_count": 22,
      "outputs": []
    },
    {
      "cell_type": "markdown",
      "source": [
        "### 4.4 Rotary Positional Embeddings"
      ],
      "metadata": {
        "id": "sFQwGjrQv52r"
      }
    },
    {
      "cell_type": "code",
      "source": [
        "def get_rotary_matrix(seq_len, n_dim, base=10000):\n",
        "    R = torch.zeros((seq_len, n_dim, n_dim),requires_grad=False)\n",
        "    for p in range(seq_len):\n",
        "        for i in range(n_dim // 2):\n",
        "            theta = base ** (-2. * (i-1)/n_dim)\n",
        "            m_theta = torch.tensor(p * theta)\n",
        "            R[p, 2*i, 2*i] = torch.cos(m_theta)\n",
        "            R[p, 2*i, 2*i+1] = -torch.sin(m_theta)\n",
        "            R[p, 2*i+1, 2*i] = torch.sin(m_theta)\n",
        "            R[p, 2*i+1, 2*i+1] = torch.cos(m_theta)\n",
        "    return R"
      ],
      "metadata": {
        "id": "10wJ27sbi6WR"
      },
      "execution_count": 23,
      "outputs": []
    },
    {
      "cell_type": "markdown",
      "source": [
        "### 4.5 RoPE Self Attention"
      ],
      "metadata": {
        "id": "OWiky930wDdK"
      }
    },
    {
      "cell_type": "code",
      "source": [
        "class RoPEMaskedAttentionHead(nn.Module):\n",
        "    def __init__(self, args:ModelArgs):\n",
        "        super().__init__()\n",
        "        self.wq = nn.Linear(args.dim,args.dim, bias=False)\n",
        "        self.wk = nn.Linear(args.dim,args.dim, bias=False)\n",
        "        self.wv = nn.Linear(args.dim,args.dim, bias=False)\n",
        "        self.R = get_rotary_matrix(args.seq_len,args.dim)\n",
        "        self.drop = args.dropout\n",
        "\n",
        "    def forward(self, x):\n",
        "        q = self.wq(x)\n",
        "        k = self.wk(x)\n",
        "        v = self.wv(x)\n",
        "        self.R = self.R.to(x.device)\n",
        "        q_rotated = (torch.bmm(q.transpose(0, 1), self.R[:x.shape[1]])).transpose(0, 1)\n",
        "        k_rotated = (torch.bmm(k.transpose(0, 1), self.R[:x.shape[1]])).transpose(0, 1)\n",
        "        activations = F.scaled_dot_product_attention(q_rotated,k_rotated,v,dropout_p=self.drop,is_causal=True)\n",
        "        return activations"
      ],
      "metadata": {
        "id": "Nryk9-nOjJQm"
      },
      "execution_count": 24,
      "outputs": []
    },
    {
      "cell_type": "markdown",
      "source": [
        "### 4.6 RoPE Multi-Head Attention"
      ],
      "metadata": {
        "id": "67EboalkwHzi"
      }
    },
    {
      "cell_type": "code",
      "source": [
        "class RoPEMaskedMultiheadAttention(nn.Module):\n",
        "    def __init__(self, args:ModelArgs):\n",
        "        super().__init__()\n",
        "        self.heads = nn.ModuleList([\n",
        "            RoPEMaskedAttentionHead(args) for _ in range(args.q_heads)\n",
        "        ])\n",
        "        self.linear = nn.Linear(args.q_heads*args.dim, args.dim)\n",
        "        self.dropout = nn.Dropout(args.dropout)\n",
        "\n",
        "    def forward(self, x):\n",
        "        heads = [h(x) for h in self.heads]\n",
        "        x = torch.cat(heads, dim=-1)\n",
        "        x = self.linear(x)\n",
        "        x = self.dropout(x)\n",
        "        return x"
      ],
      "metadata": {
        "id": "BRP46BepjKQP"
      },
      "execution_count": 25,
      "outputs": []
    },
    {
      "cell_type": "markdown",
      "source": [
        "### 4.7 Decoder Model Block"
      ],
      "metadata": {
        "id": "RCz89tBlwNet"
      }
    },
    {
      "cell_type": "code",
      "source": [
        "class ModelBlock(nn.Module):\n",
        "    def __init__(self, args:ModelArgs):\n",
        "        super().__init__()\n",
        "        self.rms = RMSNorm(args.dim)\n",
        "        self.rope_attention = RoPEMaskedMultiheadAttention(args)\n",
        "        self.linear = nn.Sequential(\n",
        "            nn.Linear(args.dim, args.dim),\n",
        "            SwiGLU(args.dim)\n",
        "        )\n",
        "\n",
        "    def forward(self, x):\n",
        "        x = self.rms(x)\n",
        "        x = x + self.rope_attention(x)\n",
        "        x = self.rms(x)\n",
        "        x = x + self.linear(x)\n",
        "        return x"
      ],
      "metadata": {
        "id": "U9D_LYWLjPFr"
      },
      "execution_count": 26,
      "outputs": []
    },
    {
      "cell_type": "markdown",
      "source": [
        "### 4.8 Complete Model"
      ],
      "metadata": {
        "id": "R9GIahp8wTUt"
      }
    },
    {
      "cell_type": "code",
      "source": [
        "class Model(nn.Module):\n",
        "    def __init__(self, args:ModelArgs):\n",
        "        super().__init__()\n",
        "        self.embeddings = nn.Embedding(args.in_,args.dim)\n",
        "        self.model_blocks = nn.Sequential(\n",
        "            OrderedDict([(f\"block_{i}\", ModelBlock(args)) for i in range(args.blocks)])\n",
        "        )\n",
        "        self.ffn = nn.Sequential(\n",
        "            nn.Linear(args.dim,args.dim),\n",
        "            SwiGLU(args.dim),\n",
        "            nn.Linear(args.dim,args.in_)\n",
        "        )\n",
        "    def forward(self, idx):\n",
        "        x = self.embeddings(idx)\n",
        "        x = self.model_blocks(x)\n",
        "        logits = self.ffn(x)\n",
        "        return logits"
      ],
      "metadata": {
        "id": "QK8dDEEdjShH"
      },
      "execution_count": 27,
      "outputs": []
    },
    {
      "cell_type": "markdown",
      "source": [
        "## 5.Setup Model"
      ],
      "metadata": {
        "id": "vV0jMi4TldmJ"
      }
    },
    {
      "cell_type": "markdown",
      "source": [
        "### 5.1 Training Configuration"
      ],
      "metadata": {
        "id": "cu5ogC7D0K-u"
      }
    },
    {
      "cell_type": "code",
      "source": [
        "@dataclass\n",
        "class TrainingArgs:\n",
        "    epochs = 1e3\n",
        "    lr = 1e-3\n",
        "    scheduler_gamma = 0.9999\n",
        "    use_mixed_precision = True\n",
        "    model_save_dir = r'/content/drive/MyDrive/Pretrained_Models/model_checkpoint_4.pt'\n",
        "    model_load_dir = model_save_dir\n",
        "    loss_dir = r'/content/drive/MyDrive/Pretrained_Models/loss.csv'"
      ],
      "metadata": {
        "id": "Tzho9e8gO62D"
      },
      "execution_count": 28,
      "outputs": []
    },
    {
      "cell_type": "code",
      "source": [
        "def save_checkpoint(model, optimizer, save_path:str, epoch:int, scaler):\n",
        "    torch.save({\n",
        "        'model_state_dict': model.state_dict(),\n",
        "        'optimizer_state_dict': optimizer.state_dict(),\n",
        "        'scaler':scaler.state_dict(),\n",
        "        'epoch': epoch,\n",
        "    }, save_path)\n",
        "\n",
        "def load_checkpoint(model, optimizer, scaler, load_path:str,device):\n",
        "    checkpoint = torch.load(load_path, map_location=device)\n",
        "    model.load_state_dict(checkpoint['model_state_dict'])\n",
        "    optimizer.load_state_dict(checkpoint['optimizer_state_dict'])\n",
        "    scaler.load_state_dict(checkpoint['scaler'])\n",
        "    epoch = checkpoint['epoch']\n",
        "    return model, optimizer, scaler, epoch"
      ],
      "metadata": {
        "id": "sRjzY2L8jpAa"
      },
      "execution_count": 29,
      "outputs": []
    },
    {
      "cell_type": "code",
      "source": [
        "def save_loss(loss_data,save_dir):\n",
        "    with open(save_dir, 'w') as f:\n",
        "        csvwriter = csv.writer(f)\n",
        "        csvwriter.writerows(loss_data)"
      ],
      "metadata": {
        "id": "FYQqJRH5PKml"
      },
      "execution_count": 30,
      "outputs": []
    },
    {
      "cell_type": "code",
      "source": [
        "def train(model, args:ModelArgs, text, train_args:TrainingArgs, dataloader, optimizer, scheduler, device, checkpointing=False, save_loss=False):\n",
        "    # Gradient scaling helps prevent gradients with small magnitudes from flushing to zero (“underflowing”) when training with mixed precision.\n",
        "    scaler = torch.cuda.amp.GradScaler()\n",
        "    loss_logs = []\n",
        "    if checkpointing is True:\n",
        "        model, optimizer, scaler, epoch = load_checkpoint(model,optimizer,scaler, train_args.model_load_dir, device)\n",
        "    try:\n",
        "        model.train()\n",
        "        start = time.time()\n",
        "        for epoch in tqdm(range(int(train_args.epochs)),desc='Epochs',total=train_args.epochs,maxinterval=train_args.epochs//10):\n",
        "            train_dataloader, validation_dataloader = dataloader(args.seq_len, args.batch, device, text)\n",
        "            for x_batch, y_batch in train_dataloader:\n",
        "                with torch.autocast(device_type='cuda', dtype=torch.float16, enabled=train_args.use_mixed_precision):\n",
        "                    y_pred = model(x_batch)\n",
        "                    train_loss = F.cross_entropy(y_pred.view(-1,y_pred.shape[2]),y_batch.view(-1))\n",
        "                scaler.scale(train_loss).backward()\n",
        "                # nn.utils.clip_grad_norm_(model.parameters(),1.0)\n",
        "                scaler.step(optimizer)\n",
        "                scaler.update()\n",
        "                optimizer.zero_grad(set_to_none=True)\n",
        "\n",
        "            model.eval()\n",
        "            with torch.inference_mode():\n",
        "                for x_batch, y_batch in validation_dataloader:\n",
        "                    y_pred = model(x_batch)\n",
        "                    validation_loss = F.cross_entropy(y_pred.view(-1,y_pred.shape[2]),y_batch.view(-1))\n",
        "\n",
        "            if epoch %  (train_args.epochs/10) == 0:\n",
        "                batch_time = time.time() - start\n",
        "                model.eval()\n",
        "                gpu_usage = round(torch.cuda.memory_reserved(0)/1024**3,1)\n",
        "                print(f'\\nEpoch: {epoch} | Train Loss : {train_loss.detach().item():.4f} | Eval Loss : {validation_loss.detach().item():.4f} | Time : {batch_time:.2f} s | Learning Rate: {scheduler.get_last_lr()[0]:.2e} | Gpu Usage: {gpu_usage}\\n')\n",
        "                model.train()\n",
        "            scheduler.step()\n",
        "            loss_logs.append((train_loss.detach().item(), validation_loss.detach().item()))\n",
        "    except KeyboardInterrupt:\n",
        "        save_checkpoint(model,optimizer,train_args.model_save_dir,epoch, scaler)\n",
        "\n",
        "    if TrainingArgs.model_save_dir is not None:\n",
        "        save_checkpoint(model,optimizer,train_args.model_save_dir,epoch, scaler)\n",
        "\n",
        "    if save_loss is True:\n",
        "        save_loss(loss_logs,TrainingArgs.loss_dir)"
      ],
      "metadata": {
        "id": "oDSTT5MYjSNI"
      },
      "execution_count": 31,
      "outputs": []
    },
    {
      "cell_type": "code",
      "source": [
        "def diagnose_model(model, args:ModelArgs, device=None):\n",
        "    x = torch.randint(0,100,(args.batch,args.seq_len),device=device)\n",
        "    with profile(activities=[\n",
        "            ProfilerActivity.CPU, ProfilerActivity.CUDA], record_shapes=True) as prof:\n",
        "        with record_function(\"model_inference\"):\n",
        "            model(x)\n",
        "\n",
        "    print(prof.key_averages().table(sort_by=\"cuda_time_total\", row_limit=10))\n",
        "    print('Number of Parameters in the Model:',sum(param.numel() for param in model.parameters()))"
      ],
      "metadata": {
        "id": "h-bJD9jZj-F1"
      },
      "execution_count": 32,
      "outputs": []
    },
    {
      "cell_type": "code",
      "source": [
        "model = Model(ModelArgs)\n",
        "model.to(device)"
      ],
      "metadata": {
        "colab": {
          "base_uri": "https://localhost:8080/"
        },
        "id": "0fEpuWkgNy2e",
        "outputId": "81045dd2-e07f-47de-9326-65c699b67ed1"
      },
      "execution_count": 33,
      "outputs": [
        {
          "output_type": "execute_result",
          "data": {
            "text/plain": [
              "Model(\n",
              "  (embeddings): Embedding(100, 128)\n",
              "  (model_blocks): Sequential(\n",
              "    (block_0): ModelBlock(\n",
              "      (rms): RMSNorm()\n",
              "      (rope_attention): RoPEMaskedMultiheadAttention(\n",
              "        (heads): ModuleList(\n",
              "          (0-7): 8 x RoPEMaskedAttentionHead(\n",
              "            (wq): Linear(in_features=128, out_features=128, bias=False)\n",
              "            (wk): Linear(in_features=128, out_features=128, bias=False)\n",
              "            (wv): Linear(in_features=128, out_features=128, bias=False)\n",
              "          )\n",
              "        )\n",
              "        (linear): Linear(in_features=1024, out_features=128, bias=True)\n",
              "        (dropout): Dropout(p=0.2, inplace=False)\n",
              "      )\n",
              "      (linear): Sequential(\n",
              "        (0): Linear(in_features=128, out_features=128, bias=True)\n",
              "        (1): SwiGLU(\n",
              "          (linear_gate): Linear(in_features=128, out_features=128, bias=True)\n",
              "          (linear): Linear(in_features=128, out_features=128, bias=True)\n",
              "        )\n",
              "      )\n",
              "    )\n",
              "    (block_1): ModelBlock(\n",
              "      (rms): RMSNorm()\n",
              "      (rope_attention): RoPEMaskedMultiheadAttention(\n",
              "        (heads): ModuleList(\n",
              "          (0-7): 8 x RoPEMaskedAttentionHead(\n",
              "            (wq): Linear(in_features=128, out_features=128, bias=False)\n",
              "            (wk): Linear(in_features=128, out_features=128, bias=False)\n",
              "            (wv): Linear(in_features=128, out_features=128, bias=False)\n",
              "          )\n",
              "        )\n",
              "        (linear): Linear(in_features=1024, out_features=128, bias=True)\n",
              "        (dropout): Dropout(p=0.2, inplace=False)\n",
              "      )\n",
              "      (linear): Sequential(\n",
              "        (0): Linear(in_features=128, out_features=128, bias=True)\n",
              "        (1): SwiGLU(\n",
              "          (linear_gate): Linear(in_features=128, out_features=128, bias=True)\n",
              "          (linear): Linear(in_features=128, out_features=128, bias=True)\n",
              "        )\n",
              "      )\n",
              "    )\n",
              "    (block_2): ModelBlock(\n",
              "      (rms): RMSNorm()\n",
              "      (rope_attention): RoPEMaskedMultiheadAttention(\n",
              "        (heads): ModuleList(\n",
              "          (0-7): 8 x RoPEMaskedAttentionHead(\n",
              "            (wq): Linear(in_features=128, out_features=128, bias=False)\n",
              "            (wk): Linear(in_features=128, out_features=128, bias=False)\n",
              "            (wv): Linear(in_features=128, out_features=128, bias=False)\n",
              "          )\n",
              "        )\n",
              "        (linear): Linear(in_features=1024, out_features=128, bias=True)\n",
              "        (dropout): Dropout(p=0.2, inplace=False)\n",
              "      )\n",
              "      (linear): Sequential(\n",
              "        (0): Linear(in_features=128, out_features=128, bias=True)\n",
              "        (1): SwiGLU(\n",
              "          (linear_gate): Linear(in_features=128, out_features=128, bias=True)\n",
              "          (linear): Linear(in_features=128, out_features=128, bias=True)\n",
              "        )\n",
              "      )\n",
              "    )\n",
              "    (block_3): ModelBlock(\n",
              "      (rms): RMSNorm()\n",
              "      (rope_attention): RoPEMaskedMultiheadAttention(\n",
              "        (heads): ModuleList(\n",
              "          (0-7): 8 x RoPEMaskedAttentionHead(\n",
              "            (wq): Linear(in_features=128, out_features=128, bias=False)\n",
              "            (wk): Linear(in_features=128, out_features=128, bias=False)\n",
              "            (wv): Linear(in_features=128, out_features=128, bias=False)\n",
              "          )\n",
              "        )\n",
              "        (linear): Linear(in_features=1024, out_features=128, bias=True)\n",
              "        (dropout): Dropout(p=0.2, inplace=False)\n",
              "      )\n",
              "      (linear): Sequential(\n",
              "        (0): Linear(in_features=128, out_features=128, bias=True)\n",
              "        (1): SwiGLU(\n",
              "          (linear_gate): Linear(in_features=128, out_features=128, bias=True)\n",
              "          (linear): Linear(in_features=128, out_features=128, bias=True)\n",
              "        )\n",
              "      )\n",
              "    )\n",
              "  )\n",
              "  (ffn): Sequential(\n",
              "    (0): Linear(in_features=128, out_features=128, bias=True)\n",
              "    (1): SwiGLU(\n",
              "      (linear_gate): Linear(in_features=128, out_features=128, bias=True)\n",
              "      (linear): Linear(in_features=128, out_features=128, bias=True)\n",
              "    )\n",
              "    (2): Linear(in_features=128, out_features=100, bias=True)\n",
              "  )\n",
              ")"
            ]
          },
          "metadata": {},
          "execution_count": 33
        }
      ]
    },
    {
      "cell_type": "code",
      "source": [
        "optimizer = torch.optim.AdamW(model.parameters(),TrainingArgs.lr)\n",
        "scheduler = torch.optim.lr_scheduler.ExponentialLR(optimizer, gamma=0.9999)"
      ],
      "metadata": {
        "id": "kj_XBQ52k9Yl"
      },
      "execution_count": 34,
      "outputs": []
    },
    {
      "cell_type": "markdown",
      "source": [
        "## 6.Run Diagnostics"
      ],
      "metadata": {
        "id": "IMLNmFALlom6"
      }
    },
    {
      "cell_type": "code",
      "source": [
        "diagnose_model(model,ModelArgs,device)"
      ],
      "metadata": {
        "id": "rrE_BdIRlZyr"
      },
      "execution_count": null,
      "outputs": []
    },
    {
      "cell_type": "markdown",
      "source": [
        "## 7.Train Model"
      ],
      "metadata": {
        "id": "PYcMEhAol8bV"
      }
    },
    {
      "cell_type": "code",
      "source": [
        "train(\n",
        "    model=model,\n",
        "    args=ModelArgs,\n",
        "    text=text,\n",
        "    train_args=TrainingArgs,\n",
        "    dataloader=sampler,\n",
        "    optimizer=optimizer,\n",
        "    scheduler=scheduler,\n",
        "    device=device,\n",
        "    checkpointing=True, # False on first Run\n",
        "    save_loss=True,\n",
        "    )"
      ],
      "metadata": {
        "id": "9A3lI-JUl7Or"
      },
      "execution_count": null,
      "outputs": []
    },
    {
      "cell_type": "markdown",
      "source": [
        "## 8.Inference"
      ],
      "metadata": {
        "id": "w-DNWjDFEbMQ"
      }
    },
    {
      "cell_type": "markdown",
      "source": [
        "### 8.1 Greedy Decoding"
      ],
      "metadata": {
        "id": "5an-3__Evf-C"
      }
    },
    {
      "cell_type": "code",
      "source": [
        "def model_generate_greedy(model, input_ids, seq_len, gen_len, temperature):\n",
        "    model.eval()\n",
        "    with torch.inference_mode():\n",
        "        for _ in range(gen_len):\n",
        "            X_trunc = input_ids[:,-seq_len:] # truncate all besides last context length terms\n",
        "            logits = model(X_trunc)\n",
        "            logits = logits / temperature # Scales the logits. Lower temperature makes higher logits peaky leading to higher confidence\n",
        "            logits = logits[:,-1,:] # use only last token for next token generation\n",
        "            probs = F.softmax(logits,dim=-1)\n",
        "            next_tok = torch.multinomial(probs,num_samples=1)\n",
        "            input_ids = torch.cat((input_ids,next_tok),dim=1)\n",
        "    #gen = tokenizer.decode_ids(x[0].tolist())\n",
        "    return input_ids"
      ],
      "metadata": {
        "id": "eV46zNtlFN8E"
      },
      "execution_count": null,
      "outputs": []
    },
    {
      "cell_type": "markdown",
      "source": [
        "### 8.2 Top-k Sampling"
      ],
      "metadata": {
        "id": "foVjnT6rviyb"
      }
    },
    {
      "cell_type": "code",
      "source": [
        "def top_k_sampling(input_ids, model, max_tokens=100, top_k=50, temperature=1.0):\n",
        "    for _ in range(max_tokens):\n",
        "        # Temporarily disables gradient calculation to improve performance and reduce memory usage\n",
        "        with torch.inference_mode():\n",
        "            logits = model(input_ids)\n",
        "            logits = logits[:, -1, :]\n",
        "            # Select the top K tokens from the probability distribution\n",
        "            top_k_logits, top_k_indices = torch.topk(logits, top_k)\n",
        "\n",
        "            # Apply softmax to convert logits to probabilities, with optional temperature scaling\n",
        "            top_k_probs = F.softmax(top_k_logits / temperature, dim=-1)\n",
        "\n",
        "            # Sample from the top K tokens to determine the next token\n",
        "            next_token_index = torch.multinomial(top_k_probs, num_samples=1)\n",
        "\n",
        "            # Map the sampled token back to its original index in the logits tensor\n",
        "            next_token = top_k_indices.gather(-1, next_token_index)\n",
        "\n",
        "            # Concatenate the new token to the sequence of input IDs\n",
        "            input_ids = torch.cat([input_ids, next_token], dim=-1)\n",
        "    return input_ids[0].tolist()"
      ],
      "metadata": {
        "id": "ta4GzlJJivSJ"
      },
      "execution_count": null,
      "outputs": []
    },
    {
      "cell_type": "markdown",
      "source": [
        "### 8.3 Top-p Sampling"
      ],
      "metadata": {
        "id": "obK6ncxBvmsY"
      }
    },
    {
      "cell_type": "code",
      "source": [
        "def top_p_sampling(input_ids: list[int], model, temperature: float=1, max_tokens :int=100, top_p: float=0.95):\n",
        "    with torch.inference_mode():\n",
        "        for _ in range(max_tokens):\n",
        "            logits = model(input_ids)\n",
        "            logits = logits[:, -1, :]\n",
        "\n",
        "            # Sort the logits in descending order and apply softmax to get probabilities\n",
        "            sorted_logits, sorted_indices = torch.sort(logits, descending=True)\n",
        "            sorted_probabilities = F.softmax(sorted_logits / temperature, dim=-1) # Apply temperature\n",
        "\n",
        "            # Calculate cumulative probabilities\n",
        "            cumulative_probs = torch.cumsum(sorted_probabilities, dim=-1)\n",
        "\n",
        "            # Identify and remove tokens with cumulative probability above the threshold (top_p)\n",
        "            # Ensuring the first token is always selected by setting the first position to False\n",
        "            sorted_indices_to_remove = cumulative_probs > top_p\n",
        "            sorted_indices_to_remove[..., 0] = False  # Keep the most probable token\n",
        "\n",
        "            # Get the actual indices to remove from the original logits tensor\n",
        "            indices_to_remove = sorted_indices[sorted_indices_to_remove]\n",
        "\n",
        "            # Set the logits of removed tokens to -infinity to exclude them from sampling\n",
        "            logits.scatter_(-1, indices_to_remove[None, :], float('-inf'))\n",
        "\n",
        "            # Re-calculate probabilities after filtering and sample from this distribution\n",
        "            probs = F.softmax(logits, dim=-1)\n",
        "            next_token = torch.multinomial(probs, num_samples=1)\n",
        "\n",
        "            # Append the sampled token to the input IDs for the next iteration\n",
        "            input_ids = torch.cat([input_ids, next_token], dim=-1)\n",
        "\n",
        "    return input_ids[0].tolist()"
      ],
      "metadata": {
        "id": "MiXJptlWVGAF"
      },
      "execution_count": null,
      "outputs": []
    },
    {
      "cell_type": "code",
      "source": [
        "scaler = torch.cuda.amp.GradScaler()\n",
        "model, _, _, _ =load_checkpoint(model,optimizer,scaler,TrainingArgs.model_load_dir,device)"
      ],
      "metadata": {
        "id": "JgbvSECExr8q"
      },
      "execution_count": null,
      "outputs": []
    },
    {
      "cell_type": "code",
      "source": [
        "prompt = 'What'\n",
        "input_ids = torch.tensor(tokenizer.encode_text(prompt),device=device).view(1,-1)\n",
        "decoded_ids = top_p_sampling(input_ids, model)\n",
        "print(tokenizer.decode_ids(decoded_ids))"
      ],
      "metadata": {
        "id": "QG6XaMlTFvrL"
      },
      "execution_count": null,
      "outputs": []
    },
    {
      "cell_type": "markdown",
      "source": [
        "## 9. Plots"
      ],
      "metadata": {
        "id": "i11nVDXS1hgk"
      }
    },
    {
      "cell_type": "code",
      "source": [
        "import matplotlib.pyplot as plt\n",
        "import pandas as pd\n",
        "plt.style.use('ggplot')"
      ],
      "metadata": {
        "id": "aRpfLONN1wTM"
      },
      "execution_count": null,
      "outputs": []
    },
    {
      "cell_type": "code",
      "source": [
        "def plot_(path):\n",
        "    df = pd.read_csv(path).dropna()\n",
        "    train = df['train'].tolist()\n",
        "    val = df['validation'].tolist()\n",
        "    plt.plot(range(len(train)),train)\n",
        "    plt.plot(range(len(val)),val)\n",
        "    plt.xlabel('epochs')\n",
        "    plt.ylabel('cross-entropy')\n",
        "    plt.title('Loss Curves')\n",
        "    plt.legend(['train_loss','validation_loss'])\n",
        "    plt.show()"
      ],
      "metadata": {
        "id": "Y51VuKLx1oZm"
      },
      "execution_count": null,
      "outputs": []
    }
  ]
}